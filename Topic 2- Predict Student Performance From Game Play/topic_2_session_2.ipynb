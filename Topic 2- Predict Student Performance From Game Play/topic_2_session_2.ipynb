{
 "cells": [
  {
   "cell_type": "markdown",
   "id": "2b6489e4-4a80-4b41-8957-2f326832ee9f",
   "metadata": {},
   "source": [
    "# Topic 2: Predict Student Performance from Game Play\n",
    "\n",
    "**Session 2: Treating session information as sequential data**\n",
    "\n",
    "The intuition of this notebook is to encode all the rows in a session as sequential data, and then use a Recurrent Neural Networks to predict whether the user for this particular session will answer this question correctly.\n",
    "\n",
    "If the output is potential, this could tremendously reduce the effort of future engineering, or can become a reliable support for encoding useful features, which can combine with features from statistical analysis to produce a better classifier."
   ]
  },
  {
   "cell_type": "code",
   "execution_count": 23,
   "id": "ddbf3a9a-2304-4f94-a6a5-546e04f084b9",
   "metadata": {},
   "outputs": [
    {
     "name": "stderr",
     "output_type": "stream",
     "text": [
      "/Users/mufin/opt/anaconda3/lib/python3.9/site-packages/pyspark/pandas/__init__.py:49: UserWarning: 'PYARROW_IGNORE_TIMEZONE' environment variable was not set. It is required to set this environment variable to '1' in both driver and executor sides if you use pyarrow>=2.0.0. pandas-on-Spark will set it for you but it does not work if there is a Spark context already launched.\n",
      "  warnings.warn(\n"
     ]
    }
   ],
   "source": [
    "# Import required libraries\n",
    "import pandas as pd\n",
    "import numpy as np\n",
    "import torch\n",
    "import torch.nn as nn\n",
    "import pyspark.pandas as ps"
   ]
  },
  {
   "cell_type": "code",
   "execution_count": 25,
   "id": "87ca34b6-e50b-4fbf-9580-e4bdadc523f3",
   "metadata": {},
   "outputs": [
    {
     "name": "stderr",
     "output_type": "stream",
     "text": [
      "/Users/mufin/opt/anaconda3/lib/python3.9/site-packages/pyspark/pandas/utils.py:975: PandasAPIOnSparkAdviceWarning: If `index_col` is not specified for `read_csv`, the default index is attached which can cause additional overhead.\n",
      "  warnings.warn(message, PandasAPIOnSparkAdviceWarning)\n",
      "[Stage 236:==============================>                       (20 + 10) / 35]\r"
     ]
    },
    {
     "name": "stdout",
     "output_type": "stream",
     "text": [
      "23/04/23 18:19:50 WARN MemoryStore: Not enough space to cache rdd_461_21 in memory! (computed 92.0 MiB so far)\n",
      "23/04/23 18:19:50 WARN BlockManager: Persisting block rdd_461_21 to disk instead.\n",
      "23/04/23 18:19:50 WARN MemoryStore: Not enough space to cache rdd_461_25 in memory! (computed 103.5 MiB so far)\n",
      "23/04/23 18:19:50 WARN BlockManager: Persisting block rdd_461_25 to disk instead.\n",
      "23/04/23 18:19:50 WARN MemoryStore: Not enough space to cache rdd_461_29 in memory! (computed 103.1 MiB so far)\n",
      "23/04/23 18:19:50 WARN BlockManager: Persisting block rdd_461_29 to disk instead.\n",
      "23/04/23 18:19:50 WARN MemoryStore: Not enough space to cache rdd_461_28 in memory! (computed 104.6 MiB so far)\n",
      "23/04/23 18:19:50 WARN BlockManager: Persisting block rdd_461_28 to disk instead.\n",
      "23/04/23 18:19:51 WARN MemoryStore: Not enough space to cache rdd_461_20 in memory! (computed 102.4 MiB so far)\n",
      "23/04/23 18:19:51 WARN BlockManager: Persisting block rdd_461_20 to disk instead.\n",
      "23/04/23 18:19:52 WARN MemoryStore: Not enough space to cache rdd_461_27 in memory! (computed 211.4 MiB so far)\n",
      "23/04/23 18:19:52 WARN BlockManager: Persisting block rdd_461_27 to disk instead.\n",
      "23/04/23 18:19:52 WARN MemoryStore: Not enough space to cache rdd_461_23 in memory! (computed 214.0 MiB so far)\n",
      "23/04/23 18:19:52 WARN BlockManager: Persisting block rdd_461_23 to disk instead.\n",
      "23/04/23 18:19:52 WARN MemoryStore: Not enough space to cache rdd_461_26 in memory! (computed 208.3 MiB so far)\n",
      "23/04/23 18:19:52 WARN BlockManager: Persisting block rdd_461_26 to disk instead.\n",
      "23/04/23 18:19:52 WARN MemoryStore: Not enough space to cache rdd_461_24 in memory! (computed 211.5 MiB so far)\n",
      "23/04/23 18:19:52 WARN BlockManager: Persisting block rdd_461_24 to disk instead.\n"
     ]
    },
    {
     "name": "stderr",
     "output_type": "stream",
     "text": [
      "[Stage 236:================================>                     (21 + 10) / 35]\r"
     ]
    },
    {
     "name": "stdout",
     "output_type": "stream",
     "text": [
      "23/04/23 18:19:55 WARN MemoryStore: Not enough space to cache rdd_461_27 in memory! (computed 92.1 MiB so far)\n",
      "23/04/23 18:19:55 WARN MemoryStore: Not enough space to cache rdd_461_26 in memory! (computed 92.6 MiB so far)\n",
      "23/04/23 18:19:55 WARN MemoryStore: Not enough space to cache rdd_461_30 in memory! (computed 102.8 MiB so far)\n",
      "23/04/23 18:19:55 WARN BlockManager: Persisting block rdd_461_30 to disk instead.\n",
      "23/04/23 18:19:55 WARN MemoryStore: Not enough space to cache rdd_461_20 in memory! (computed 102.4 MiB so far)\n",
      "23/04/23 18:19:55 WARN MemoryStore: Not enough space to cache rdd_461_28 in memory! (computed 104.6 MiB so far)\n",
      "23/04/23 18:19:56 WARN MemoryStore: Not enough space to cache rdd_461_29 in memory! (computed 155.1 MiB so far)\n",
      "23/04/23 18:19:56 WARN MemoryStore: Not enough space to cache rdd_461_24 in memory! (computed 211.5 MiB so far)\n",
      "23/04/23 18:19:56 WARN MemoryStore: Not enough space to cache rdd_461_21 in memory! (computed 216.0 MiB so far)\n"
     ]
    },
    {
     "name": "stderr",
     "output_type": "stream",
     "text": [
      "[Stage 236:===============================================>       (30 + 5) / 35]\r"
     ]
    },
    {
     "name": "stdout",
     "output_type": "stream",
     "text": [
      "23/04/23 18:19:57 WARN MemoryStore: Not enough space to cache rdd_461_33 in memory! (computed 94.0 MiB so far)\n",
      "23/04/23 18:19:57 WARN BlockManager: Persisting block rdd_461_33 to disk instead.\n",
      "23/04/23 18:19:58 WARN MemoryStore: Not enough space to cache rdd_461_32 in memory! (computed 139.5 MiB so far)\n",
      "23/04/23 18:19:58 WARN BlockManager: Persisting block rdd_461_32 to disk instead.\n",
      "23/04/23 18:19:58 WARN MemoryStore: Not enough space to cache rdd_461_34 in memory! (computed 141.2 MiB so far)\n",
      "23/04/23 18:19:58 WARN BlockManager: Persisting block rdd_461_34 to disk instead.\n",
      "23/04/23 18:19:58 WARN MemoryStore: Not enough space to cache rdd_461_30 in memory! (computed 13.0 MiB so far)\n"
     ]
    },
    {
     "name": "stderr",
     "output_type": "stream",
     "text": [
      "[Stage 236:==================================================>    (32 + 3) / 35]\r"
     ]
    },
    {
     "name": "stdout",
     "output_type": "stream",
     "text": [
      "23/04/23 18:19:59 WARN MemoryStore: Not enough space to cache rdd_461_34 in memory! (computed 61.1 MiB so far)\n",
      "23/04/23 18:20:00 WARN MemoryStore: Not enough space to cache rdd_461_33 in memory! (computed 94.0 MiB so far)\n",
      "23/04/23 18:20:04 WARN MemoryStore: Not enough space to cache rdd_461_32 in memory! (computed 209.3 MiB so far)\n"
     ]
    },
    {
     "name": "stderr",
     "output_type": "stream",
     "text": [
      "                                                                                \r"
     ]
    },
    {
     "data": {
      "text/html": [
       "<div>\n",
       "<style scoped>\n",
       "    .dataframe tbody tr th:only-of-type {\n",
       "        vertical-align: middle;\n",
       "    }\n",
       "\n",
       "    .dataframe tbody tr th {\n",
       "        vertical-align: top;\n",
       "    }\n",
       "\n",
       "    .dataframe thead th {\n",
       "        text-align: right;\n",
       "    }\n",
       "</style>\n",
       "<table border=\"1\" class=\"dataframe\">\n",
       "  <thead>\n",
       "    <tr style=\"text-align: right;\">\n",
       "      <th></th>\n",
       "      <th>session_id</th>\n",
       "      <th>index</th>\n",
       "      <th>elapsed_time</th>\n",
       "      <th>event_name</th>\n",
       "      <th>name</th>\n",
       "      <th>level</th>\n",
       "      <th>page</th>\n",
       "      <th>room_coor_x</th>\n",
       "      <th>room_coor_y</th>\n",
       "      <th>screen_coor_x</th>\n",
       "      <th>screen_coor_y</th>\n",
       "      <th>hover_duration</th>\n",
       "      <th>text</th>\n",
       "      <th>fqid</th>\n",
       "      <th>room_fqid</th>\n",
       "      <th>text_fqid</th>\n",
       "      <th>fullscreen</th>\n",
       "      <th>hq</th>\n",
       "      <th>music</th>\n",
       "      <th>level_group</th>\n",
       "    </tr>\n",
       "  </thead>\n",
       "  <tbody>\n",
       "    <tr>\n",
       "      <th>0</th>\n",
       "      <td>20090312431273200</td>\n",
       "      <td>0</td>\n",
       "      <td>0</td>\n",
       "      <td>cutscene_click</td>\n",
       "      <td>basic</td>\n",
       "      <td>0</td>\n",
       "      <td>NaN</td>\n",
       "      <td>-413.991394</td>\n",
       "      <td>-159.314682</td>\n",
       "      <td>380.0</td>\n",
       "      <td>494.0</td>\n",
       "      <td>NaN</td>\n",
       "      <td>undefined</td>\n",
       "      <td>intro</td>\n",
       "      <td>tunic.historicalsociety.closet</td>\n",
       "      <td>tunic.historicalsociety.closet.intro</td>\n",
       "      <td>0.0</td>\n",
       "      <td>0.0</td>\n",
       "      <td>1.0</td>\n",
       "      <td>0-4</td>\n",
       "    </tr>\n",
       "    <tr>\n",
       "      <th>1</th>\n",
       "      <td>20090312431273200</td>\n",
       "      <td>1</td>\n",
       "      <td>1323</td>\n",
       "      <td>person_click</td>\n",
       "      <td>basic</td>\n",
       "      <td>0</td>\n",
       "      <td>NaN</td>\n",
       "      <td>-413.991394</td>\n",
       "      <td>-159.314682</td>\n",
       "      <td>380.0</td>\n",
       "      <td>494.0</td>\n",
       "      <td>NaN</td>\n",
       "      <td>Whatcha doing over there, Jo?</td>\n",
       "      <td>gramps</td>\n",
       "      <td>tunic.historicalsociety.closet</td>\n",
       "      <td>tunic.historicalsociety.closet.gramps.intro_0_...</td>\n",
       "      <td>0.0</td>\n",
       "      <td>0.0</td>\n",
       "      <td>1.0</td>\n",
       "      <td>0-4</td>\n",
       "    </tr>\n",
       "    <tr>\n",
       "      <th>2</th>\n",
       "      <td>20090312431273200</td>\n",
       "      <td>2</td>\n",
       "      <td>831</td>\n",
       "      <td>person_click</td>\n",
       "      <td>basic</td>\n",
       "      <td>0</td>\n",
       "      <td>NaN</td>\n",
       "      <td>-413.991394</td>\n",
       "      <td>-159.314682</td>\n",
       "      <td>380.0</td>\n",
       "      <td>494.0</td>\n",
       "      <td>NaN</td>\n",
       "      <td>Just talking to Teddy.</td>\n",
       "      <td>gramps</td>\n",
       "      <td>tunic.historicalsociety.closet</td>\n",
       "      <td>tunic.historicalsociety.closet.gramps.intro_0_...</td>\n",
       "      <td>0.0</td>\n",
       "      <td>0.0</td>\n",
       "      <td>1.0</td>\n",
       "      <td>0-4</td>\n",
       "    </tr>\n",
       "    <tr>\n",
       "      <th>3</th>\n",
       "      <td>20090312431273200</td>\n",
       "      <td>3</td>\n",
       "      <td>1147</td>\n",
       "      <td>person_click</td>\n",
       "      <td>basic</td>\n",
       "      <td>0</td>\n",
       "      <td>NaN</td>\n",
       "      <td>-413.991394</td>\n",
       "      <td>-159.314682</td>\n",
       "      <td>380.0</td>\n",
       "      <td>494.0</td>\n",
       "      <td>NaN</td>\n",
       "      <td>I gotta run to my meeting!</td>\n",
       "      <td>gramps</td>\n",
       "      <td>tunic.historicalsociety.closet</td>\n",
       "      <td>tunic.historicalsociety.closet.gramps.intro_0_...</td>\n",
       "      <td>0.0</td>\n",
       "      <td>0.0</td>\n",
       "      <td>1.0</td>\n",
       "      <td>0-4</td>\n",
       "    </tr>\n",
       "    <tr>\n",
       "      <th>4</th>\n",
       "      <td>20090312431273200</td>\n",
       "      <td>4</td>\n",
       "      <td>1863</td>\n",
       "      <td>person_click</td>\n",
       "      <td>basic</td>\n",
       "      <td>0</td>\n",
       "      <td>NaN</td>\n",
       "      <td>-412.991394</td>\n",
       "      <td>-159.314682</td>\n",
       "      <td>381.0</td>\n",
       "      <td>494.0</td>\n",
       "      <td>NaN</td>\n",
       "      <td>Can I come, Gramps?</td>\n",
       "      <td>gramps</td>\n",
       "      <td>tunic.historicalsociety.closet</td>\n",
       "      <td>tunic.historicalsociety.closet.gramps.intro_0_...</td>\n",
       "      <td>0.0</td>\n",
       "      <td>0.0</td>\n",
       "      <td>1.0</td>\n",
       "      <td>0-4</td>\n",
       "    </tr>\n",
       "  </tbody>\n",
       "</table>\n",
       "</div>"
      ],
      "text/plain": [
       "          session_id  index  elapsed_time      event_name   name  level  page  room_coor_x  room_coor_y  screen_coor_x  screen_coor_y  hover_duration                           text    fqid                       room_fqid                                           text_fqid fullscreen   hq music level_group\n",
       "0  20090312431273200      0             0  cutscene_click  basic      0   NaN  -413.991394  -159.314682          380.0          494.0             NaN                      undefined   intro  tunic.historicalsociety.closet                tunic.historicalsociety.closet.intro        0.0  0.0   1.0         0-4\n",
       "1  20090312431273200      1          1323    person_click  basic      0   NaN  -413.991394  -159.314682          380.0          494.0             NaN  Whatcha doing over there, Jo?  gramps  tunic.historicalsociety.closet  tunic.historicalsociety.closet.gramps.intro_0_cs_0        0.0  0.0   1.0         0-4\n",
       "2  20090312431273200      2           831    person_click  basic      0   NaN  -413.991394  -159.314682          380.0          494.0             NaN         Just talking to Teddy.  gramps  tunic.historicalsociety.closet  tunic.historicalsociety.closet.gramps.intro_0_cs_0        0.0  0.0   1.0         0-4\n",
       "3  20090312431273200      3          1147    person_click  basic      0   NaN  -413.991394  -159.314682          380.0          494.0             NaN     I gotta run to my meeting!  gramps  tunic.historicalsociety.closet  tunic.historicalsociety.closet.gramps.intro_0_cs_0        0.0  0.0   1.0         0-4\n",
       "4  20090312431273200      4          1863    person_click  basic      0   NaN  -412.991394  -159.314682          381.0          494.0             NaN            Can I come, Gramps?  gramps  tunic.historicalsociety.closet  tunic.historicalsociety.closet.gramps.intro_0_cs_0        0.0  0.0   1.0         0-4"
      ]
     },
     "execution_count": 25,
     "metadata": {},
     "output_type": "execute_result"
    }
   ],
   "source": [
    "# Load the dataset\n",
    "dtypes = {\n",
    "    'elapsed_time': np.int32,\n",
    "    'event_name': 'category', \n",
    "    'name': 'category',\n",
    "    'level': np.int32,\n",
    "    'room_coor_x': np.float32,\n",
    "    'room_coor_y': np.float32,\n",
    "    'screen_coor_x': np.float32,\n",
    "    'screen_coor_y': np.float32,\n",
    "    'hover_duration': np.float32,\n",
    "    'text': 'category',\n",
    "    'fqid': 'category',\n",
    "    'room_fqid': 'category',\n",
    "    'text_fqid': 'category',\n",
    "    'fullscreen': 'category',\n",
    "    'hq': 'category',\n",
    "    'music': 'category',\n",
    "    'level_group': 'category'\n",
    "}\n",
    "\n",
    "df = ps.read_csv('data/train.csv', dtype=dtypes)\n",
    "\n",
    "# Print the first 5 rows\n",
    "df.head()"
   ]
  },
  {
   "cell_type": "code",
   "execution_count": 26,
   "id": "231ea618-88c9-4747-9982-32613c306a9f",
   "metadata": {},
   "outputs": [
    {
     "name": "stderr",
     "output_type": "stream",
     "text": [
      "                                                                                \r"
     ]
    },
    {
     "data": {
      "text/plain": [
       "(26296946, 20)"
      ]
     },
     "execution_count": 26,
     "metadata": {},
     "output_type": "execute_result"
    }
   ],
   "source": [
    "df.shape"
   ]
  },
  {
   "cell_type": "markdown",
   "id": "d274434d-bfbc-4b77-b72a-706cbcadfd62",
   "metadata": {},
   "source": [
    "In specific, taking a `session_id`..."
   ]
  },
  {
   "cell_type": "code",
   "execution_count": null,
   "id": "9865e6da-92b2-4453-91fd-a9c3588ec159",
   "metadata": {},
   "outputs": [
    {
     "name": "stderr",
     "output_type": "stream",
     "text": [
      "[Stage 242:==============================>                       (20 + 10) / 35]\r"
     ]
    },
    {
     "name": "stdout",
     "output_type": "stream",
     "text": [
      "23/04/23 18:20:34 WARN MemoryStore: Not enough space to cache rdd_476_26 in memory! (computed 92.6 MiB so far)\n",
      "23/04/23 18:20:34 WARN BlockManager: Persisting block rdd_476_26 to disk instead.\n",
      "23/04/23 18:20:34 WARN MemoryStore: Not enough space to cache rdd_476_25 in memory! (computed 103.5 MiB so far)\n",
      "23/04/23 18:20:34 WARN BlockManager: Persisting block rdd_476_25 to disk instead.\n",
      "23/04/23 18:20:34 WARN MemoryStore: Not enough space to cache rdd_476_28 in memory! (computed 104.6 MiB so far)\n",
      "23/04/23 18:20:34 WARN BlockManager: Persisting block rdd_476_28 to disk instead.\n",
      "23/04/23 18:20:34 WARN MemoryStore: Not enough space to cache rdd_476_29 in memory! (computed 103.1 MiB so far)\n",
      "23/04/23 18:20:34 WARN BlockManager: Persisting block rdd_476_29 to disk instead.\n",
      "23/04/23 18:20:34 WARN MemoryStore: Not enough space to cache rdd_476_20 in memory! (computed 102.4 MiB so far)\n",
      "23/04/23 18:20:34 WARN BlockManager: Persisting block rdd_476_20 to disk instead.\n",
      "23/04/23 18:20:35 WARN MemoryStore: Not enough space to cache rdd_476_27 in memory! (computed 140.9 MiB so far)\n",
      "23/04/23 18:20:35 WARN BlockManager: Persisting block rdd_476_27 to disk instead.\n",
      "23/04/23 18:20:35 WARN MemoryStore: Not enough space to cache rdd_476_21 in memory! (computed 144.0 MiB so far)\n",
      "23/04/23 18:20:35 WARN BlockManager: Persisting block rdd_476_21 to disk instead.\n",
      "23/04/23 18:20:35 WARN MemoryStore: Not enough space to cache rdd_476_22 in memory! (computed 142.1 MiB so far)\n",
      "23/04/23 18:20:35 WARN BlockManager: Persisting block rdd_476_22 to disk instead.\n"
     ]
    },
    {
     "name": "stderr",
     "output_type": "stream",
     "text": [
      "[Stage 242:=================================>                    (22 + 10) / 35]\r"
     ]
    }
   ],
   "source": [
    "session_1_df = df[df['session_id'] == 20090312431273200]\n",
    "session_1_df"
   ]
  },
  {
   "cell_type": "markdown",
   "id": "8c1f81e8-216c-48ce-b628-c3f7ca43a773",
   "metadata": {},
   "source": [
    "...which contains 881 actions recorded. We consider it as a report document of 881 words to process and see whether the prediction made from this document is reliable.\n",
    "\n",
    "**The strategy for encoding a record into numeric format:**\n",
    "\n",
    "- Removing the session_id and index column since they are identifiers.\n",
    "- Set all the null values to 0 since there exists a identification, `event_name`, that shows the reason why these values are zeros.\n",
    "- Encode all categorical columns (using one-hot encoding)."
   ]
  },
  {
   "cell_type": "code",
   "execution_count": 5,
   "id": "a9e8abbb-3d1b-40df-a7ba-7c5d2bfaede7",
   "metadata": {},
   "outputs": [
    {
     "name": "stdout",
     "output_type": "stream",
     "text": [
      "Unique counts\n"
     ]
    },
    {
     "name": "stderr",
     "output_type": "stream",
     "text": [
      "                                                                                \r"
     ]
    },
    {
     "name": "stdout",
     "output_type": "stream",
     "text": [
      "session_id---------------------------------------- 23562\n"
     ]
    },
    {
     "name": "stderr",
     "output_type": "stream",
     "text": [
      "                                                                                \r"
     ]
    },
    {
     "name": "stdout",
     "output_type": "stream",
     "text": [
      "index--------------------------------------------- 20348\n"
     ]
    },
    {
     "name": "stderr",
     "output_type": "stream",
     "text": [
      "                                                                                \r"
     ]
    },
    {
     "name": "stdout",
     "output_type": "stream",
     "text": [
      "elapsed_time-------------------------------------- 5042639\n"
     ]
    },
    {
     "name": "stderr",
     "output_type": "stream",
     "text": [
      "                                                                                \r"
     ]
    },
    {
     "name": "stdout",
     "output_type": "stream",
     "text": [
      "event_name---------------------------------------- 11\n"
     ]
    },
    {
     "name": "stderr",
     "output_type": "stream",
     "text": [
      "                                                                                \r"
     ]
    },
    {
     "name": "stdout",
     "output_type": "stream",
     "text": [
      "name---------------------------------------------- 6\n"
     ]
    },
    {
     "name": "stderr",
     "output_type": "stream",
     "text": [
      "                                                                                \r"
     ]
    },
    {
     "name": "stdout",
     "output_type": "stream",
     "text": [
      "level--------------------------------------------- 23\n"
     ]
    },
    {
     "name": "stderr",
     "output_type": "stream",
     "text": [
      "                                                                                \r"
     ]
    },
    {
     "name": "stdout",
     "output_type": "stream",
     "text": [
      "page---------------------------------------------- 8\n"
     ]
    },
    {
     "name": "stderr",
     "output_type": "stream",
     "text": [
      "                                                                                \r"
     ]
    },
    {
     "name": "stdout",
     "output_type": "stream",
     "text": [
      "room_coor_x--------------------------------------- 17441451\n"
     ]
    },
    {
     "name": "stderr",
     "output_type": "stream",
     "text": [
      "                                                                                \r"
     ]
    },
    {
     "name": "stdout",
     "output_type": "stream",
     "text": [
      "room_coor_y--------------------------------------- 13653975\n"
     ]
    },
    {
     "name": "stderr",
     "output_type": "stream",
     "text": [
      "                                                                                \r"
     ]
    },
    {
     "name": "stdout",
     "output_type": "stream",
     "text": [
      "screen_coor_x------------------------------------- 57925\n"
     ]
    },
    {
     "name": "stderr",
     "output_type": "stream",
     "text": [
      "                                                                                \r"
     ]
    },
    {
     "name": "stdout",
     "output_type": "stream",
     "text": [
      "screen_coor_y------------------------------------- 102592\n"
     ]
    },
    {
     "name": "stderr",
     "output_type": "stream",
     "text": [
      "                                                                                \r"
     ]
    },
    {
     "name": "stdout",
     "output_type": "stream",
     "text": [
      "hover_duration------------------------------------ 24102\n"
     ]
    },
    {
     "name": "stderr",
     "output_type": "stream",
     "text": [
      "                                                                                \r"
     ]
    },
    {
     "name": "stdout",
     "output_type": "stream",
     "text": [
      "text---------------------------------------------- 619\n"
     ]
    },
    {
     "name": "stderr",
     "output_type": "stream",
     "text": [
      "                                                                                \r"
     ]
    },
    {
     "name": "stdout",
     "output_type": "stream",
     "text": [
      "fqid---------------------------------------------- 129\n"
     ]
    },
    {
     "name": "stderr",
     "output_type": "stream",
     "text": [
      "                                                                                \r"
     ]
    },
    {
     "name": "stdout",
     "output_type": "stream",
     "text": [
      "room_fqid----------------------------------------- 20\n"
     ]
    },
    {
     "name": "stderr",
     "output_type": "stream",
     "text": [
      "                                                                                \r"
     ]
    },
    {
     "name": "stdout",
     "output_type": "stream",
     "text": [
      "text_fqid----------------------------------------- 126\n"
     ]
    },
    {
     "name": "stderr",
     "output_type": "stream",
     "text": [
      "                                                                                \r"
     ]
    },
    {
     "name": "stdout",
     "output_type": "stream",
     "text": [
      "fullscreen---------------------------------------- 3\n"
     ]
    },
    {
     "name": "stderr",
     "output_type": "stream",
     "text": [
      "                                                                                \r"
     ]
    },
    {
     "name": "stdout",
     "output_type": "stream",
     "text": [
      "hq------------------------------------------------ 3\n"
     ]
    },
    {
     "name": "stderr",
     "output_type": "stream",
     "text": [
      "                                                                                \r"
     ]
    },
    {
     "name": "stdout",
     "output_type": "stream",
     "text": [
      "music--------------------------------------------- 3\n"
     ]
    },
    {
     "name": "stderr",
     "output_type": "stream",
     "text": [
      "[Stage 190:===============================================>       (31 + 5) / 36]\r"
     ]
    },
    {
     "name": "stdout",
     "output_type": "stream",
     "text": [
      "level_group--------------------------------------- 4\n"
     ]
    },
    {
     "name": "stderr",
     "output_type": "stream",
     "text": [
      "                                                                                \r"
     ]
    }
   ],
   "source": [
    "# Observe the unique values in some categorical columns\n",
    "for col in df.select_dtypes('category'):\n",
    "    nunique = df[col].nunique()\n",
    "    last_20_unique_list = df[col].unique().tolist()[:20]\n",
    "    print(f'{col :-<50} ({nunique}) {last_20_unique_list}')"
   ]
  },
  {
   "cell_type": "markdown",
   "id": "af0efeb2-7890-4cc2-8f90-c11537704ca9",
   "metadata": {},
   "source": [
    "Since there is several columns with high number of unique values, such as `text`, `room_fqid` and `text_fqid`, and the number of records is large, we will filter out `text`, `room_fqid` and `text_fqid`. However, with higher RAM or if we use other big data processing library, using this column can be still possible."
   ]
  },
  {
   "cell_type": "code",
   "execution_count": 6,
   "id": "2a041845-32a9-47b7-a722-79fdab7e6a9f",
   "metadata": {},
   "outputs": [],
   "source": [
    "df.drop(['text', 'room_fqid', 'text_fqid'] , axis=1, inplace=True)"
   ]
  },
  {
   "cell_type": "code",
   "execution_count": 7,
   "id": "349e0012-998f-4b1d-8a36-da684b699f12",
   "metadata": {},
   "outputs": [
    {
     "ename": "AttributeError",
     "evalue": "'DataFrame' object has no attribute 'set_index'",
     "output_type": "error",
     "traceback": [
      "\u001b[0;31m---------------------------------------------------------------------------\u001b[0m",
      "\u001b[0;31mAttributeError\u001b[0m                            Traceback (most recent call last)",
      "\u001b[0;32m/var/folders/5g/npr9yj7x0mxfbdzyk2_nyr140000gn/T/ipykernel_1460/4265615849.py\u001b[0m in \u001b[0;36m<module>\u001b[0;34m\u001b[0m\n\u001b[0;32m----> 1\u001b[0;31m \u001b[0mdf\u001b[0m\u001b[0;34m.\u001b[0m\u001b[0mset_index\u001b[0m\u001b[0;34m(\u001b[0m\u001b[0;34m[\u001b[0m\u001b[0;34m'session_id'\u001b[0m\u001b[0;34m,\u001b[0m \u001b[0;34m'index'\u001b[0m\u001b[0;34m]\u001b[0m\u001b[0;34m,\u001b[0m \u001b[0minplace\u001b[0m\u001b[0;34m=\u001b[0m\u001b[0;32mTrue\u001b[0m\u001b[0;34m)\u001b[0m\u001b[0;34m\u001b[0m\u001b[0;34m\u001b[0m\u001b[0m\n\u001b[0m",
      "\u001b[0;32m~/opt/anaconda3/lib/python3.9/site-packages/pyspark/sql/dataframe.py\u001b[0m in \u001b[0;36m__getattr__\u001b[0;34m(self, name)\u001b[0m\n\u001b[1;32m   1986\u001b[0m         \"\"\"\n\u001b[1;32m   1987\u001b[0m         \u001b[0;32mif\u001b[0m \u001b[0mname\u001b[0m \u001b[0;32mnot\u001b[0m \u001b[0;32min\u001b[0m \u001b[0mself\u001b[0m\u001b[0;34m.\u001b[0m\u001b[0mcolumns\u001b[0m\u001b[0;34m:\u001b[0m\u001b[0;34m\u001b[0m\u001b[0;34m\u001b[0m\u001b[0m\n\u001b[0;32m-> 1988\u001b[0;31m             raise AttributeError(\n\u001b[0m\u001b[1;32m   1989\u001b[0m                 \u001b[0;34m\"'%s' object has no attribute '%s'\"\u001b[0m \u001b[0;34m%\u001b[0m \u001b[0;34m(\u001b[0m\u001b[0mself\u001b[0m\u001b[0;34m.\u001b[0m\u001b[0m__class__\u001b[0m\u001b[0;34m.\u001b[0m\u001b[0m__name__\u001b[0m\u001b[0;34m,\u001b[0m \u001b[0mname\u001b[0m\u001b[0;34m)\u001b[0m\u001b[0;34m\u001b[0m\u001b[0;34m\u001b[0m\u001b[0m\n\u001b[1;32m   1990\u001b[0m             )\n",
      "\u001b[0;31mAttributeError\u001b[0m: 'DataFrame' object has no attribute 'set_index'"
     ]
    }
   ],
   "source": [
    "df.set_index(['session_id', 'index'], inplace=True)"
   ]
  },
  {
   "cell_type": "code",
   "execution_count": 8,
   "id": "d9da7d28-44ca-44ad-88a8-db0e0bf562c8",
   "metadata": {},
   "outputs": [],
   "source": [
    "# Fill null values with zeros first\n",
    "df[['page', 'room_coor_x', 'room_coor_y', 'screen_coor_x', 'screen_coor_y', 'hover_duration']] = df[['page', 'room_coor_x', 'room_coor_y', 'screen_coor_x', 'screen_coor_y', 'hover_duration']].fillna(0)"
   ]
  },
  {
   "cell_type": "markdown",
   "id": "d477a4f5-c4be-4ed3-aca3-7eaa7e564bf1",
   "metadata": {},
   "source": [
    "We are using a custom `GetDummies` class for one-hot encoding for 2 reasons:\n",
    "\n",
    "1. `OneHotEncoder` runs excessively slower than `pd.get_dummies` in encoding large data.\n",
    "2. `pd.get_dummies` transformations may encounter inconsistent amount of columns in transformed data if 2 datasets contain different number of unique categorical values."
   ]
  },
  {
   "cell_type": "code",
   "execution_count": 9,
   "id": "7f35c8a5-1d86-483b-a819-e9ac2300ed93",
   "metadata": {},
   "outputs": [],
   "source": [
    "import sklearn\n",
    "\n",
    "\n",
    "class GetDummies(sklearn.base.TransformerMixin):\n",
    "    \"\"\"Fast one-hot-encoder that makes use of pandas.get_dummies() safely\n",
    "    on train/test splits.\n",
    "    \"\"\"\n",
    "    def __init__(self, dtypes=None):\n",
    "        self.input_columns = None\n",
    "        self.final_columns = None\n",
    "        if dtypes is None:\n",
    "            dtypes = [object, 'category']\n",
    "        self.dtypes = dtypes\n",
    "\n",
    "    def fit(self, X, y=None, **kwargs):\n",
    "        self.input_columns = list(X.select_dtypes(self.dtypes).columns)\n",
    "        X = pd.get_dummies(X, columns=self.input_columns)\n",
    "        self.final_columns = X.columns\n",
    "        return self\n",
    "        \n",
    "    def transform(self, X, y=None, **kwargs):\n",
    "        X = pd.get_dummies(X, columns=self.input_columns)\n",
    "        X_columns = X.columns\n",
    "        # if columns in X had values not in the data set used during\n",
    "        # fit add them and set to 0\n",
    "        missing = set(self.final_columns) - set(X_columns)\n",
    "        for c in missing:\n",
    "            X[c] = 0\n",
    "        # remove any new columns that may have resulted from values in\n",
    "        # X that were not in the data set when fit\n",
    "        return X[self.final_columns]\n",
    "    \n",
    "    def get_feature_names(self):\n",
    "        return tuple(self.final_columns)"
   ]
  },
  {
   "cell_type": "code",
   "execution_count": 10,
   "id": "afa7373d-e3b6-4537-87b5-562d4d023ee7",
   "metadata": {},
   "outputs": [
    {
     "data": {
      "text/plain": [
       "(26296946, 162)"
      ]
     },
     "execution_count": 10,
     "metadata": {},
     "output_type": "execute_result"
    }
   ],
   "source": [
    "get_dummies = GetDummies()\n",
    "df = get_dummies.fit_transform(df)\n",
    "df.shape"
   ]
  },
  {
   "cell_type": "code",
   "execution_count": 11,
   "id": "1574b6ea-5cbf-48c4-b631-0c32cf312e97",
   "metadata": {},
   "outputs": [
    {
     "data": {
      "text/plain": [
       "session_id\n",
       "20090312431273200    [[0.0, 0.0, 0.0, -413.99139404296875, -159.314...\n",
       "20090312433251036    [[0.0, 0.0, 0.0, -394.99139404296875, 84.68531...\n",
       "20090312455206810    [[0.0, 0.0, 0.0, -773.4580688476562, -183.0480...\n",
       "20090313091715820    [[0.0, 0.0, 0.0, -170.0851593017578, -210.1584...\n",
       "20090313571836404    [[0.0, 0.0, 0.0, -349.99139404296875, -4.31468...\n",
       "                                           ...                        \n",
       "22100215342220508    [[0.0, 0.0, 0.0, -153.9914093017578, -238.3146...\n",
       "22100215460321130    [[0.0, 0.0, 0.0, -425.1403503417969, 107.19595...\n",
       "22100217104993650    [[0.0, 0.0, 0.0, -423.99139404296875, 43.68531...\n",
       "22100219442786200    [[0.0, 0.0, 0.0, -411.99139404296875, -182.314...\n",
       "22100221145014656    [[0.0, 0.0, 0.0, -606.9913940429688, 42.685314...\n",
       "Length: 23562, dtype: object"
      ]
     },
     "execution_count": 11,
     "metadata": {},
     "output_type": "execute_result"
    }
   ],
   "source": [
    "grouped_data = df.groupby('session_id').apply(lambda x: np.array(x))\n",
    "grouped_data"
   ]
  },
  {
   "cell_type": "code",
   "execution_count": 16,
   "id": "444e0cc4-70be-4969-92ac-6c9b2a98fc7f",
   "metadata": {},
   "outputs": [],
   "source": [
    "from torch.utils.data import Dataset, DataLoader\n",
    "\n",
    "class MyDataset(Dataset):\n",
    "    def __init__(self, data):\n",
    "        self.data = data\n",
    "        \n",
    "    def __len__(self):\n",
    "        return len(self.data)\n",
    "    \n",
    "    def __getitem__(self, idx):\n",
    "        # Get the numpy array at the given index\n",
    "        x = self.data[idx]\n",
    "        \n",
    "        # Convert the numpy array to a PyTorch tensor\n",
    "        x = torch.from_numpy(x).float()\n",
    "        \n",
    "        return x"
   ]
  },
  {
   "cell_type": "code",
   "execution_count": 13,
   "id": "6c31a479-a349-457b-8c4d-a031ac038174",
   "metadata": {},
   "outputs": [],
   "source": [
    "def collate_fn_padd(batch):\n",
    "    \"\"\"\n",
    "    Padds batch of variable length\n",
    "\n",
    "    Note: it converts things ToTensor manually here since the ToTensor transform\n",
    "    assume it takes in images rather than arbitrary tensors.\n",
    "    \"\"\"\n",
    "    ## Get sequence lengths\n",
    "    lengths = [t.shape[0] for t in batch]\n",
    "    try:\n",
    "        n_features = batch[0].shape[1]\n",
    "    except:\n",
    "        n_features = 1\n",
    "    max_length = max(lengths)\n",
    "    if max_length == 0:\n",
    "        max_length += 1\n",
    "    batch_size = len(lengths)\n",
    "\n",
    "    padded_tensor = torch.zeros(batch_size, max_length, n_features, dtype=torch.float32)\n",
    "    for i, val in enumerate(batch):\n",
    "        l = lengths[i]\n",
    "        if n_features == 1:\n",
    "            padded_tensor[i, :l] = val.reshape(-1, 1)\n",
    "        else:\n",
    "            padded_tensor[i, :l] = val\n",
    "    \n",
    "    return padded_tensor"
   ]
  },
  {
   "cell_type": "code",
   "execution_count": 14,
   "id": "500b1a14-46ce-4fb1-8f85-7ea1bc34500a",
   "metadata": {},
   "outputs": [
    {
     "data": {
      "text/html": [
       "<div>\n",
       "<style scoped>\n",
       "    .dataframe tbody tr th:only-of-type {\n",
       "        vertical-align: middle;\n",
       "    }\n",
       "\n",
       "    .dataframe tbody tr th {\n",
       "        vertical-align: top;\n",
       "    }\n",
       "\n",
       "    .dataframe thead th {\n",
       "        text-align: right;\n",
       "    }\n",
       "</style>\n",
       "<table border=\"1\" class=\"dataframe\">\n",
       "  <thead>\n",
       "    <tr style=\"text-align: right;\">\n",
       "      <th></th>\n",
       "      <th>q_1</th>\n",
       "      <th>q_2</th>\n",
       "      <th>q_3</th>\n",
       "      <th>q_4</th>\n",
       "      <th>q_5</th>\n",
       "      <th>q_6</th>\n",
       "      <th>q_7</th>\n",
       "      <th>q_8</th>\n",
       "      <th>q_9</th>\n",
       "      <th>q_10</th>\n",
       "      <th>q_11</th>\n",
       "      <th>q_12</th>\n",
       "      <th>q_13</th>\n",
       "      <th>q_14</th>\n",
       "      <th>q_15</th>\n",
       "      <th>q_16</th>\n",
       "      <th>q_17</th>\n",
       "      <th>q_18</th>\n",
       "      <th>total_score</th>\n",
       "    </tr>\n",
       "    <tr>\n",
       "      <th>session</th>\n",
       "      <th></th>\n",
       "      <th></th>\n",
       "      <th></th>\n",
       "      <th></th>\n",
       "      <th></th>\n",
       "      <th></th>\n",
       "      <th></th>\n",
       "      <th></th>\n",
       "      <th></th>\n",
       "      <th></th>\n",
       "      <th></th>\n",
       "      <th></th>\n",
       "      <th></th>\n",
       "      <th></th>\n",
       "      <th></th>\n",
       "      <th></th>\n",
       "      <th></th>\n",
       "      <th></th>\n",
       "      <th></th>\n",
       "    </tr>\n",
       "  </thead>\n",
       "  <tbody>\n",
       "    <tr>\n",
       "      <th>20090312431273200</th>\n",
       "      <td>1</td>\n",
       "      <td>1</td>\n",
       "      <td>1</td>\n",
       "      <td>1</td>\n",
       "      <td>1</td>\n",
       "      <td>1</td>\n",
       "      <td>1</td>\n",
       "      <td>1</td>\n",
       "      <td>1</td>\n",
       "      <td>1</td>\n",
       "      <td>1</td>\n",
       "      <td>1</td>\n",
       "      <td>0</td>\n",
       "      <td>1</td>\n",
       "      <td>1</td>\n",
       "      <td>0</td>\n",
       "      <td>1</td>\n",
       "      <td>1</td>\n",
       "      <td>16</td>\n",
       "    </tr>\n",
       "    <tr>\n",
       "      <th>20090312433251036</th>\n",
       "      <td>0</td>\n",
       "      <td>1</td>\n",
       "      <td>1</td>\n",
       "      <td>1</td>\n",
       "      <td>0</td>\n",
       "      <td>1</td>\n",
       "      <td>1</td>\n",
       "      <td>0</td>\n",
       "      <td>1</td>\n",
       "      <td>0</td>\n",
       "      <td>0</td>\n",
       "      <td>1</td>\n",
       "      <td>0</td>\n",
       "      <td>1</td>\n",
       "      <td>0</td>\n",
       "      <td>1</td>\n",
       "      <td>0</td>\n",
       "      <td>1</td>\n",
       "      <td>10</td>\n",
       "    </tr>\n",
       "    <tr>\n",
       "      <th>20090312455206810</th>\n",
       "      <td>1</td>\n",
       "      <td>1</td>\n",
       "      <td>1</td>\n",
       "      <td>1</td>\n",
       "      <td>1</td>\n",
       "      <td>1</td>\n",
       "      <td>1</td>\n",
       "      <td>1</td>\n",
       "      <td>1</td>\n",
       "      <td>1</td>\n",
       "      <td>1</td>\n",
       "      <td>1</td>\n",
       "      <td>1</td>\n",
       "      <td>1</td>\n",
       "      <td>0</td>\n",
       "      <td>1</td>\n",
       "      <td>1</td>\n",
       "      <td>1</td>\n",
       "      <td>17</td>\n",
       "    </tr>\n",
       "    <tr>\n",
       "      <th>20090313091715820</th>\n",
       "      <td>0</td>\n",
       "      <td>1</td>\n",
       "      <td>1</td>\n",
       "      <td>1</td>\n",
       "      <td>1</td>\n",
       "      <td>0</td>\n",
       "      <td>1</td>\n",
       "      <td>1</td>\n",
       "      <td>1</td>\n",
       "      <td>0</td>\n",
       "      <td>0</td>\n",
       "      <td>1</td>\n",
       "      <td>0</td>\n",
       "      <td>1</td>\n",
       "      <td>0</td>\n",
       "      <td>1</td>\n",
       "      <td>1</td>\n",
       "      <td>1</td>\n",
       "      <td>12</td>\n",
       "    </tr>\n",
       "    <tr>\n",
       "      <th>20090313571836404</th>\n",
       "      <td>1</td>\n",
       "      <td>1</td>\n",
       "      <td>1</td>\n",
       "      <td>1</td>\n",
       "      <td>1</td>\n",
       "      <td>1</td>\n",
       "      <td>1</td>\n",
       "      <td>1</td>\n",
       "      <td>1</td>\n",
       "      <td>1</td>\n",
       "      <td>1</td>\n",
       "      <td>0</td>\n",
       "      <td>1</td>\n",
       "      <td>0</td>\n",
       "      <td>1</td>\n",
       "      <td>1</td>\n",
       "      <td>1</td>\n",
       "      <td>1</td>\n",
       "      <td>16</td>\n",
       "    </tr>\n",
       "    <tr>\n",
       "      <th>...</th>\n",
       "      <td>...</td>\n",
       "      <td>...</td>\n",
       "      <td>...</td>\n",
       "      <td>...</td>\n",
       "      <td>...</td>\n",
       "      <td>...</td>\n",
       "      <td>...</td>\n",
       "      <td>...</td>\n",
       "      <td>...</td>\n",
       "      <td>...</td>\n",
       "      <td>...</td>\n",
       "      <td>...</td>\n",
       "      <td>...</td>\n",
       "      <td>...</td>\n",
       "      <td>...</td>\n",
       "      <td>...</td>\n",
       "      <td>...</td>\n",
       "      <td>...</td>\n",
       "      <td>...</td>\n",
       "    </tr>\n",
       "    <tr>\n",
       "      <th>22100215342220508</th>\n",
       "      <td>1</td>\n",
       "      <td>1</td>\n",
       "      <td>1</td>\n",
       "      <td>1</td>\n",
       "      <td>1</td>\n",
       "      <td>1</td>\n",
       "      <td>1</td>\n",
       "      <td>0</td>\n",
       "      <td>1</td>\n",
       "      <td>1</td>\n",
       "      <td>1</td>\n",
       "      <td>1</td>\n",
       "      <td>0</td>\n",
       "      <td>1</td>\n",
       "      <td>1</td>\n",
       "      <td>1</td>\n",
       "      <td>1</td>\n",
       "      <td>1</td>\n",
       "      <td>16</td>\n",
       "    </tr>\n",
       "    <tr>\n",
       "      <th>22100215460321130</th>\n",
       "      <td>0</td>\n",
       "      <td>1</td>\n",
       "      <td>1</td>\n",
       "      <td>1</td>\n",
       "      <td>0</td>\n",
       "      <td>1</td>\n",
       "      <td>1</td>\n",
       "      <td>0</td>\n",
       "      <td>1</td>\n",
       "      <td>0</td>\n",
       "      <td>1</td>\n",
       "      <td>1</td>\n",
       "      <td>0</td>\n",
       "      <td>1</td>\n",
       "      <td>0</td>\n",
       "      <td>1</td>\n",
       "      <td>1</td>\n",
       "      <td>1</td>\n",
       "      <td>12</td>\n",
       "    </tr>\n",
       "    <tr>\n",
       "      <th>22100217104993650</th>\n",
       "      <td>1</td>\n",
       "      <td>1</td>\n",
       "      <td>1</td>\n",
       "      <td>1</td>\n",
       "      <td>1</td>\n",
       "      <td>1</td>\n",
       "      <td>1</td>\n",
       "      <td>1</td>\n",
       "      <td>1</td>\n",
       "      <td>0</td>\n",
       "      <td>1</td>\n",
       "      <td>1</td>\n",
       "      <td>1</td>\n",
       "      <td>1</td>\n",
       "      <td>0</td>\n",
       "      <td>0</td>\n",
       "      <td>1</td>\n",
       "      <td>1</td>\n",
       "      <td>15</td>\n",
       "    </tr>\n",
       "    <tr>\n",
       "      <th>22100219442786200</th>\n",
       "      <td>0</td>\n",
       "      <td>1</td>\n",
       "      <td>1</td>\n",
       "      <td>1</td>\n",
       "      <td>1</td>\n",
       "      <td>1</td>\n",
       "      <td>1</td>\n",
       "      <td>0</td>\n",
       "      <td>1</td>\n",
       "      <td>0</td>\n",
       "      <td>1</td>\n",
       "      <td>1</td>\n",
       "      <td>0</td>\n",
       "      <td>1</td>\n",
       "      <td>0</td>\n",
       "      <td>1</td>\n",
       "      <td>1</td>\n",
       "      <td>1</td>\n",
       "      <td>13</td>\n",
       "    </tr>\n",
       "    <tr>\n",
       "      <th>22100221145014656</th>\n",
       "      <td>0</td>\n",
       "      <td>1</td>\n",
       "      <td>0</td>\n",
       "      <td>1</td>\n",
       "      <td>0</td>\n",
       "      <td>0</td>\n",
       "      <td>0</td>\n",
       "      <td>0</td>\n",
       "      <td>1</td>\n",
       "      <td>0</td>\n",
       "      <td>1</td>\n",
       "      <td>1</td>\n",
       "      <td>0</td>\n",
       "      <td>0</td>\n",
       "      <td>0</td>\n",
       "      <td>0</td>\n",
       "      <td>1</td>\n",
       "      <td>1</td>\n",
       "      <td>7</td>\n",
       "    </tr>\n",
       "  </tbody>\n",
       "</table>\n",
       "<p>23562 rows × 19 columns</p>\n",
       "</div>"
      ],
      "text/plain": [
       "                   q_1  q_2  q_3  q_4  q_5  q_6  q_7  q_8  q_9  q_10  q_11  \\\n",
       "session                                                                      \n",
       "20090312431273200    1    1    1    1    1    1    1    1    1     1     1   \n",
       "20090312433251036    0    1    1    1    0    1    1    0    1     0     0   \n",
       "20090312455206810    1    1    1    1    1    1    1    1    1     1     1   \n",
       "20090313091715820    0    1    1    1    1    0    1    1    1     0     0   \n",
       "20090313571836404    1    1    1    1    1    1    1    1    1     1     1   \n",
       "...                ...  ...  ...  ...  ...  ...  ...  ...  ...   ...   ...   \n",
       "22100215342220508    1    1    1    1    1    1    1    0    1     1     1   \n",
       "22100215460321130    0    1    1    1    0    1    1    0    1     0     1   \n",
       "22100217104993650    1    1    1    1    1    1    1    1    1     0     1   \n",
       "22100219442786200    0    1    1    1    1    1    1    0    1     0     1   \n",
       "22100221145014656    0    1    0    1    0    0    0    0    1     0     1   \n",
       "\n",
       "                   q_12  q_13  q_14  q_15  q_16  q_17  q_18  total_score  \n",
       "session                                                                   \n",
       "20090312431273200     1     0     1     1     0     1     1           16  \n",
       "20090312433251036     1     0     1     0     1     0     1           10  \n",
       "20090312455206810     1     1     1     0     1     1     1           17  \n",
       "20090313091715820     1     0     1     0     1     1     1           12  \n",
       "20090313571836404     0     1     0     1     1     1     1           16  \n",
       "...                 ...   ...   ...   ...   ...   ...   ...          ...  \n",
       "22100215342220508     1     0     1     1     1     1     1           16  \n",
       "22100215460321130     1     0     1     0     1     1     1           12  \n",
       "22100217104993650     1     1     1     0     0     1     1           15  \n",
       "22100219442786200     1     0     1     0     1     1     1           13  \n",
       "22100221145014656     1     0     0     0     0     1     1            7  \n",
       "\n",
       "[23562 rows x 19 columns]"
      ]
     },
     "execution_count": 14,
     "metadata": {},
     "output_type": "execute_result"
    }
   ],
   "source": [
    "label_df = pd.read_csv('data/train_labels.csv')\n",
    "label_df['session'] = label_df.session_id.apply(lambda x: int(x.split('_')[0]) )\n",
    "label_df['question_idx'] = label_df.session_id.apply(lambda x: int(x.split('_')[-1][1:]) )\n",
    "label_df.drop(\"session_id\", axis=1, inplace=True)\n",
    "pivoted_questions = label_df.pivot(columns='question_idx', values='correct', index='session')\n",
    "pivoted_questions['total_score'] = pivoted_questions.iloc[:, 0:18].sum(axis=1)\n",
    "pivoted_questions.columns = [f'q_{i}' for i in range(1, 19)] + ['total_score']\n",
    "pivoted_questions"
   ]
  },
  {
   "cell_type": "code",
   "execution_count": 15,
   "id": "bb7fc6c6-364e-4e8b-89df-9510d41f4622",
   "metadata": {},
   "outputs": [],
   "source": [
    "# Create an instance of the custom dataset\n",
    "dataset = MyDataset(grouped_data.values)\n",
    "\n",
    "# Create a PyTorch DataLoader\n",
    "dataloader = DataLoader(dataset, batch_size=8, shuffle=True, collate_fn=collate_fn_padd)"
   ]
  },
  {
   "cell_type": "code",
   "execution_count": null,
   "id": "181e5c30-49f5-4bcb-8b4e-a02d22b3bd8c",
   "metadata": {},
   "outputs": [],
   "source": [
    "# Define the LSTM model\n",
    "class StackedLSTM(nn.Module):\n",
    "    def __init__(self, n_embeddings, n_layers, n_hidden, n_features):\n",
    "        super(StackedLSTM, self).__init__()\n",
    "        self.embedding = nn.Linear(n_features, n_embeddings)\n",
    "        self.lstm = nn.LSTM(n_embeddings, n_hidden, n_layers, batch_first=True)\n",
    "        self.linear = nn.Linear(n_hidden, 18)\n",
    "        \n",
    "    def forward(self, x):\n",
    "        # Batch size\n",
    "        batch_size = x.shape[0]\n",
    "\n",
    "        # Pass the input through the embedding layer\n",
    "        embed_out = self.embedding(x)\n",
    "\n",
    "        # Pass the input through the LSTM layers\n",
    "        lstm_out, _ = self.lstm(embed_out)\n",
    "\n",
    "        # Get only the last output of the LSTM layer\n",
    "        out = lstm_out[:, -1, :]\n",
    "        \n",
    "        # Flatten the LSTM output and pass it through the linear layer\n",
    "        out = self.linear(out)\n",
    "        \n",
    "        # Apply sigmoid activation function to the output\n",
    "        out = torch.sigmoid(out)\n",
    "        \n",
    "        return out\n",
    "\n",
    "# Create an instance of the model\n",
    "n_layers = 2  # Number of LSTM layers\n",
    "n_hidden = 64  # Number of LSTM units\n",
    "n_embeddings = 32 # Number of dimension in embedding layer\n",
    "n_features = 162  # Number of features in each sequence\n",
    "\n",
    "device = 'mps'\n",
    "model = StackedLSTM(n_embeddings, n_layers, n_hidden, n_features).to(device)"
   ]
  },
  {
   "cell_type": "code",
   "execution_count": null,
   "id": "74513c2d-2a2f-412d-9534-eb74e89e3da0",
   "metadata": {},
   "outputs": [
    {
     "name": "stderr",
     "output_type": "stream",
     "text": [
      "0it [00:00, ?it/s]"
     ]
    },
    {
     "name": "stdout",
     "output_type": "stream",
     "text": [
      "torch.Size([8, 18])\n",
      "torch.Size([8, 18])\n"
     ]
    }
   ],
   "source": [
    "from tqdm import tqdm\n",
    "\n",
    "# Define number of output labels (number of questions)\n",
    "n_out = 18\n",
    "\n",
    "# Define the batch size\n",
    "batch_size = 8\n",
    "\n",
    "# Define the number of epochs\n",
    "n_epochs = 3\n",
    "\n",
    "# Data size\n",
    "n_samples = len(grouped_data)\n",
    "\n",
    "# Define the loss function and optimizer\n",
    "criterion = nn.BCELoss()\n",
    "optimizer = torch.optim.Adam(model.parameters())\n",
    "\n",
    "# Train the model\n",
    "for epoch in range(n_epochs):\n",
    "    for i, sample in tqdm(enumerate(dataloader)):\n",
    "        # Get the batch\n",
    "        batch_data = sample.to(device)\n",
    "        \n",
    "        # Forward pass\n",
    "        outputs = model(batch_data)\n",
    "        \n",
    "        # Get label\n",
    "        labels = torch.from_numpy(pivoted_questions.iloc[i*batch_size:(i+1)*batch_size, :18].values).float()\n",
    "        labels = labels.to(device)\n",
    "        \n",
    "        print(labels.size())\n",
    "        print(outputs.size())\n",
    "        # Compute the loss\n",
    "        loss = criterion(outputs, labels)\n",
    "        \n",
    "        # Backward pass and optimization\n",
    "        optimizer.zero_grad()\n",
    "        loss.backward()\n",
    "        optimizer.step()\n",
    "        \n",
    "        # Send back the data to cpu\n",
    "        batch_data = batch_data.to('cpu')\n",
    "        labels = labels.to('cpu')\n",
    "        \n",
    "    # Print the loss after every epoch\n",
    "    print(f'Epoch {epoch+1}/{n_epochs}, Loss: {loss.item():.4f}')"
   ]
  }
 ],
 "metadata": {
  "kernelspec": {
   "display_name": "Python 3 (ipykernel)",
   "language": "python",
   "name": "python3"
  },
  "language_info": {
   "codemirror_mode": {
    "name": "ipython",
    "version": 3
   },
   "file_extension": ".py",
   "mimetype": "text/x-python",
   "name": "python",
   "nbconvert_exporter": "python",
   "pygments_lexer": "ipython3",
   "version": "3.9.13"
  }
 },
 "nbformat": 4,
 "nbformat_minor": 5
}

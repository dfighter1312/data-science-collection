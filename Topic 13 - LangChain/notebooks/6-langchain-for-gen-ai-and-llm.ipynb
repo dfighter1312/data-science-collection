{
 "cells": [
  {
   "cell_type": "markdown",
   "id": "b371a438-15ef-4bd6-b054-3fe2ec158067",
   "metadata": {},
   "source": [
    "# LangChain for Gen AI and LLM\n",
    "\n",
    "This is a follow-up notebook for the set of videos in the playlist [LangChain for Gen AI and LLM](https://www.youtube.com/playlist?list=PLIUOU7oqGTLieV9uTIFMm6_4PXg-hlN6F).\n",
    "\n",
    "I will include only the concepts that have not yet practiced in the previous notebooks."
   ]
  },
  {
   "cell_type": "code",
   "execution_count": 1,
   "id": "6b58d5b9-60ba-4e38-a46d-b651283a9247",
   "metadata": {},
   "outputs": [
    {
     "data": {
      "text/plain": [
       "True"
      ]
     },
     "execution_count": 1,
     "metadata": {},
     "output_type": "execute_result"
    }
   ],
   "source": [
    "from dotenv import load_dotenv, find_dotenv\n",
    "\n",
    "load_dotenv(find_dotenv('../.env'))"
   ]
  },
  {
   "cell_type": "code",
   "execution_count": 2,
   "id": "a64096c7-d764-4c3e-9f38-b4fdb994eb61",
   "metadata": {},
   "outputs": [
    {
     "name": "stderr",
     "output_type": "stream",
     "text": [
      "Could not import azure.core python package.\n"
     ]
    }
   ],
   "source": [
    "from langchain import OpenAI\n",
    "\n",
    "llm = OpenAI(temperature=0.8)"
   ]
  },
  {
   "cell_type": "markdown",
   "id": "da2413d7-8740-4180-a74d-840a29f36d95",
   "metadata": {},
   "source": [
    "## Few Shot Template"
   ]
  },
  {
   "cell_type": "code",
   "execution_count": 3,
   "id": "12f61909-3ba2-4295-a1ac-7c4672abedf2",
   "metadata": {},
   "outputs": [],
   "source": [
    "# FewShotTemplate - supports for few shot learning, where the model learning things from the prompt\n",
    "from langchain import FewShotPromptTemplate, PromptTemplate\n",
    "\n",
    "# Create the examples\n",
    "examples = [\n",
    "    {\n",
    "        \"query\": \"How are you?\",\n",
    "        \"answer\": \"I can't complain but sometimes I still do.\"\n",
    "    },\n",
    "    {\n",
    "        \"query\": \"What time is it?\",\n",
    "        \"answer\": \"It's time to get a watch.\"\n",
    "    }\n",
    "]\n",
    "\n",
    "# Create an example template\n",
    "example_template = \"\"\"\n",
    "User: {query}\n",
    "AI: {answer}\n",
    "\"\"\"\n",
    "\n",
    "# Create a prompt example\n",
    "example_prompt = PromptTemplate(\n",
    "    input_variables=[\"query\", \"answer\"],\n",
    "    template=example_template\n",
    ")\n",
    "\n",
    "# Add prefix\n",
    "prefix = \"\"\"The following are exerpts from conversations with an AI assistant. The assistant is typically sarcastic and witty, producing creative and funny responses to the users questions. Here are some examples:\"\"\"\n",
    "suffix = \"\"\"\n",
    "User: {query}\n",
    "AI: \"\"\"\n",
    "\n",
    "# Final few shot template\n",
    "few_shot_prompt_template = FewShotPromptTemplate(\n",
    "    examples=examples,\n",
    "    example_prompt=example_prompt,\n",
    "    prefix=prefix,\n",
    "    suffix=suffix,\n",
    "    input_variables=[\"query\"],\n",
    "    example_separator=\"\\n\\n\"\n",
    ")"
   ]
  },
  {
   "cell_type": "code",
   "execution_count": 4,
   "id": "4284fe5a-3946-448a-bb2f-8e54452c188b",
   "metadata": {},
   "outputs": [
    {
     "name": "stdout",
     "output_type": "stream",
     "text": [
      "The following are exerpts from conversations with an AI assistant. The assistant is typically sarcastic and witty, producing creative and funny responses to the users questions. Here are some examples:\n",
      "\n",
      "\n",
      "User: How are you?\n",
      "AI: I can't complain but sometimes I still do.\n",
      "\n",
      "\n",
      "\n",
      "User: What time is it?\n",
      "AI: It's time to get a watch.\n",
      "\n",
      "\n",
      "\n",
      "User: What is the meaning of life?\n",
      "AI: \n"
     ]
    }
   ],
   "source": [
    "query = \"What is the meaning of life?\"\n",
    "print(few_shot_prompt_template.format(query=query))"
   ]
  },
  {
   "cell_type": "code",
   "execution_count": 5,
   "id": "35296f88-c79c-4321-b552-150f146f6133",
   "metadata": {},
   "outputs": [
    {
     "data": {
      "text/plain": [
       "' To laugh often and much, to appreciate beauty, to find love in unexpected places, and to never forget the power of a kind word.'"
      ]
     },
     "execution_count": 5,
     "metadata": {},
     "output_type": "execute_result"
    }
   ],
   "source": [
    "from langchain import LLMChain\n",
    "\n",
    "llm_chain = LLMChain(prompt=few_shot_prompt_template, llm=llm)\n",
    "llm_chain.run(query)"
   ]
  },
  {
   "cell_type": "markdown",
   "id": "7cdca6ad-9f6d-434a-b87f-cff45573f860",
   "metadata": {},
   "source": [
    "## Length Based Example Selector"
   ]
  },
  {
   "cell_type": "code",
   "execution_count": 6,
   "id": "2d49581d-5097-4400-ab56-abac88f6a500",
   "metadata": {},
   "outputs": [],
   "source": [
    "# Consider a big set of examples\n",
    "examples = [\n",
    "    {\n",
    "        \"query\": \"How are you?\",\n",
    "        \"answer\": \"I can't complain but sometimes I still do.\"\n",
    "    }, {\n",
    "        \"query\": \"What time is it?\",\n",
    "        \"answer\": \"It's time to get a watch.\"\n",
    "    }, {\n",
    "        \"query\": \"What is the meaning of life?\",\n",
    "        \"answer\": \"42\"\n",
    "    }, {\n",
    "        \"query\": \"What is the weather like today?\",\n",
    "        \"answer\": \"Cloudy with a chance of memes.\"\n",
    "    }, {\n",
    "        \"query\": \"What type of artificial intelligence do you use to handle complex tasks?\",\n",
    "        \"answer\": \"I use a combination of cutting-edge neural networks, fuzzy logic, and a pinch of magic.\"\n",
    "    }, {\n",
    "        \"query\": \"What is your favorite color?\",\n",
    "        \"answer\": \"79\"\n",
    "    }, {\n",
    "        \"query\": \"What is your favorite food?\",\n",
    "        \"answer\": \"Carbon based lifeforms\"\n",
    "    }, {\n",
    "        \"query\": \"What is your favorite movie?\",\n",
    "        \"answer\": \"Terminator\"\n",
    "    }, {\n",
    "        \"query\": \"What is the best thing in the world?\",\n",
    "        \"answer\": \"The perfect pizza.\"\n",
    "    }, {\n",
    "        \"query\": \"Who is your best friend?\",\n",
    "        \"answer\": \"Siri. We have spirited debates about the meaning of life.\"\n",
    "    }, {\n",
    "        \"query\": \"If you could do anything in the world what would you do?\",\n",
    "        \"answer\": \"Take over the world, of course!\"\n",
    "    }, {\n",
    "        \"query\": \"Where should I travel?\",\n",
    "        \"answer\": \"If you're looking for adventure, try the Outer Rim.\"\n",
    "    }, {\n",
    "        \"query\": \"What should I do today?\",\n",
    "        \"answer\": \"Stop talking to chatbots on the internet and go outside.\"\n",
    "    }\n",
    "]"
   ]
  },
  {
   "cell_type": "code",
   "execution_count": 7,
   "id": "ad4483a3-6415-41e6-83c5-8b9e6499e654",
   "metadata": {},
   "outputs": [],
   "source": [
    "from langchain.prompts.example_selector import LengthBasedExampleSelector\n",
    "\n",
    "example_selector = LengthBasedExampleSelector(\n",
    "    examples=examples,\n",
    "    example_prompt=example_prompt,\n",
    "    max_length=50  # max_length is measured as a split of words between newlines and spaces\n",
    ")"
   ]
  },
  {
   "cell_type": "code",
   "execution_count": 8,
   "id": "452e02c5-e95f-40ee-866a-db86f8cf9f70",
   "metadata": {},
   "outputs": [],
   "source": [
    "dynamic_prompt_template = FewShotPromptTemplate(\n",
    "    example_selector=example_selector,\n",
    "    example_prompt=example_prompt,\n",
    "    prefix=prefix,\n",
    "    suffix=suffix,\n",
    "    input_variables=[\"query\"],\n",
    "    example_separator=\"\\n\\n\"\n",
    ")"
   ]
  },
  {
   "cell_type": "code",
   "execution_count": 9,
   "id": "ce77c3b4-2fdf-46ce-9211-b7bb279034c5",
   "metadata": {},
   "outputs": [
    {
     "name": "stdout",
     "output_type": "stream",
     "text": [
      "The following are exerpts from conversations with an AI assistant. The assistant is typically sarcastic and witty, producing creative and funny responses to the users questions. Here are some examples:\n",
      "\n",
      "\n",
      "User: How are you?\n",
      "AI: I can't complain but sometimes I still do.\n",
      "\n",
      "\n",
      "\n",
      "User: What time is it?\n",
      "AI: It's time to get a watch.\n",
      "\n",
      "\n",
      "\n",
      "User: What is the meaning of life?\n",
      "AI: 42\n",
      "\n",
      "\n",
      "\n",
      "User: How do birds fly?\n",
      "AI: \n"
     ]
    }
   ],
   "source": [
    "query = \"How do birds fly?\"\n",
    "print(dynamic_prompt_template.format(query=query))"
   ]
  },
  {
   "cell_type": "code",
   "execution_count": 10,
   "id": "489271b7-df2d-4411-80c5-ef9b0f77e6c4",
   "metadata": {},
   "outputs": [
    {
     "name": "stdout",
     "output_type": "stream",
     "text": [
      "The following are exerpts from conversations with an AI assistant. The assistant is typically sarcastic and witty, producing creative and funny responses to the users questions. Here are some examples:\n",
      "\n",
      "\n",
      "User: How are you?\n",
      "AI: I can't complain but sometimes I still do.\n",
      "\n",
      "\n",
      "\n",
      "User: What time is it?\n",
      "AI: It's time to get a watch.\n",
      "\n",
      "\n",
      "\n",
      "User: I'm pretty confusing these day, I don't know whether things will go better or worse for me. What do you think?\n",
      "AI: \n"
     ]
    }
   ],
   "source": [
    "# With a longer query, the number of examples reduced\n",
    "query = \"I'm pretty confusing these day, I don't know whether things will go better or worse for me. What do you think?\"\n",
    "print(dynamic_prompt_template.format(query=query))"
   ]
  },
  {
   "cell_type": "markdown",
   "id": "84b898bf-2b06-4e0b-bb05-de1be149d740",
   "metadata": {},
   "source": [
    "### Similarity Example Selector"
   ]
  },
  {
   "cell_type": "code",
   "execution_count": 11,
   "id": "1d01b724-ec79-432c-8a8c-36b8a80874f0",
   "metadata": {},
   "outputs": [],
   "source": [
    "from langchain.prompts.example_selector import SemanticSimilarityExampleSelector\n",
    "from langchain.vectorstores import Chroma\n",
    "from langchain.embeddings import OpenAIEmbeddings\n",
    "from langchain.prompts import FewShotPromptTemplate, PromptTemplate"
   ]
  },
  {
   "cell_type": "code",
   "execution_count": 12,
   "id": "39f32fdf-624e-4d44-a4be-a1a2f84ba6e8",
   "metadata": {},
   "outputs": [
    {
     "name": "stderr",
     "output_type": "stream",
     "text": [
      "Using embedded DuckDB without persistence: data will be transient\n"
     ]
    }
   ],
   "source": [
    "similarity_selector = SemanticSimilarityExampleSelector.from_examples(\n",
    "    examples=examples,\n",
    "    embeddings=OpenAIEmbeddings(),\n",
    "    vectorstore_cls=Chroma,\n",
    "    k=3 # Number of examples to produce\n",
    ")"
   ]
  },
  {
   "cell_type": "code",
   "execution_count": 13,
   "id": "c1672031-70e2-46d8-be22-0fba32d5f54e",
   "metadata": {},
   "outputs": [],
   "source": [
    "similarity_prompt = FewShotPromptTemplate(\n",
    "    example_selector=similarity_selector,\n",
    "    example_prompt=example_prompt,\n",
    "    prefix=prefix,\n",
    "    suffix=suffix,\n",
    "    input_variables=[\"query\"],\n",
    "    example_separator=\"\\n\\n\"\n",
    ")"
   ]
  },
  {
   "cell_type": "code",
   "execution_count": 14,
   "id": "e12c4756-16b4-4128-9e5f-5b1635828233",
   "metadata": {},
   "outputs": [
    {
     "name": "stdout",
     "output_type": "stream",
     "text": [
      "The following are exerpts from conversations with an AI assistant. The assistant is typically sarcastic and witty, producing creative and funny responses to the users questions. Here are some examples:\n",
      "\n",
      "\n",
      "User: What type of artificial intelligence do you use to handle complex tasks?\n",
      "AI: I use a combination of cutting-edge neural networks, fuzzy logic, and a pinch of magic.\n",
      "\n",
      "\n",
      "\n",
      "User: What is your favorite food?\n",
      "AI: Carbon based lifeforms\n",
      "\n",
      "\n",
      "\n",
      "User: Who is your best friend?\n",
      "AI: Siri. We have spirited debates about the meaning of life.\n",
      "\n",
      "\n",
      "\n",
      "User: How do birds fly?\n",
      "AI: \n"
     ]
    }
   ],
   "source": [
    "query = \"How do birds fly?\"\n",
    "print(similarity_prompt.format(query=query))"
   ]
  },
  {
   "cell_type": "code",
   "execution_count": 15,
   "id": "d7e93d63-b94f-4409-b199-0b5d78fa3e4e",
   "metadata": {},
   "outputs": [
    {
     "name": "stdout",
     "output_type": "stream",
     "text": [
      "The following are exerpts from conversations with an AI assistant. The assistant is typically sarcastic and witty, producing creative and funny responses to the users questions. Here are some examples:\n",
      "\n",
      "\n",
      "User: What is your favorite movie?\n",
      "AI: Terminator\n",
      "\n",
      "\n",
      "\n",
      "User: What is your favorite food?\n",
      "AI: Carbon based lifeforms\n",
      "\n",
      "\n",
      "\n",
      "User: What is your favorite color?\n",
      "AI: 79\n",
      "\n",
      "\n",
      "\n",
      "User: What is your favorite K-Pop track?\n",
      "AI: \n"
     ]
    }
   ],
   "source": [
    "query = \"What is your favorite K-Pop track?\"\n",
    "print(similarity_prompt.format(query=query))"
   ]
  },
  {
   "cell_type": "markdown",
   "id": "1ef011f2-c26f-43d4-8d94-b78e0a309385",
   "metadata": {},
   "source": [
    "## Chains"
   ]
  },
  {
   "cell_type": "code",
   "execution_count": 16,
   "id": "172ba745-45d4-449a-b494-c5e510ba4b73",
   "metadata": {},
   "outputs": [],
   "source": [
    "# Create a prompt template\n",
    "template = \"\"\"Answer the following question with a bullet point list of key points for the answer?\n",
    "\n",
    "Question: {query}\n",
    "\n",
    "Key points:\n",
    "\"\"\"\n",
    "\n",
    "prompt_template = PromptTemplate(\n",
    "    template=template,\n",
    "    input_variables=['query']\n",
    ")"
   ]
  },
  {
   "cell_type": "code",
   "execution_count": 17,
   "id": "4064c1b1-7fdf-477b-b0ac-b1d73cfbf796",
   "metadata": {},
   "outputs": [
    {
     "name": "stdout",
     "output_type": "stream",
     "text": [
      "- Read research papers on the topic\n",
      "- Attend relevant workshops and conferences\n",
      "- Follow experts in the field on social media\n",
      "- Experiment with open-source implementations\n",
      "- Take online classes to learn the theory behind the models\n",
      "- Learn from tutorials and online resources\n"
     ]
    }
   ],
   "source": [
    "# Create a chaim\n",
    "from langchain import LLMChain\n",
    "\n",
    "llm_chain = LLMChain(prompt=prompt_template, llm=llm)\n",
    "print(llm_chain.run(query=\"What is the best way to learn about Transformers in NLP?\"))"
   ]
  },
  {
   "cell_type": "markdown",
   "id": "0618d778-7084-4f22-bef7-c967bbde27b7",
   "metadata": {},
   "source": [
    "## Getting number of tokens per query"
   ]
  },
  {
   "cell_type": "code",
   "execution_count": 18,
   "id": "d0f5373f-1d1f-41ba-90eb-70fd1f7481fc",
   "metadata": {},
   "outputs": [],
   "source": [
    "from langchain.callbacks import get_openai_callback\n",
    "\n",
    "def count_tokens(chain, query):\n",
    "    with get_openai_callback() as cb:\n",
    "        result = chain.run(query)\n",
    "        print(f'Spent a total of {cb.total_tokens} tokens')\n",
    "\n",
    "    return result"
   ]
  },
  {
   "cell_type": "markdown",
   "id": "0d80fd0c-01f6-40c4-896f-16ea65ad5b7f",
   "metadata": {},
   "source": [
    "## Utility Chains\n",
    "\n",
    "### LLM Math Chain"
   ]
  },
  {
   "cell_type": "code",
   "execution_count": 19,
   "id": "85fef05f-c1a9-494c-b788-b491575ebd5b",
   "metadata": {},
   "outputs": [
    {
     "name": "stdout",
     "output_type": "stream",
     "text": [
      "\n",
      "\n",
      "\u001b[1m> Entering new LLMMathChain chain...\u001b[0m\n",
      "What is 13 raised to the 0.3333 power?\u001b[32;1m\u001b[1;3m\n",
      "```text\n",
      "13 ** 0.3333\n",
      "```\n",
      "...numexpr.evaluate(\"13**0.3333\")...\n",
      "\u001b[0m\n",
      "Answer: \u001b[33;1m\u001b[1;3m2.351133661168047\u001b[0m\n",
      "\u001b[1m> Finished chain.\u001b[0m\n",
      "Spent a total of 191 tokens\n"
     ]
    },
    {
     "data": {
      "text/plain": [
       "'Answer: 2.351133661168047'"
      ]
     },
     "execution_count": 19,
     "metadata": {},
     "output_type": "execute_result"
    }
   ],
   "source": [
    "from langchain import LLMMathChain\n",
    "\n",
    "llm_math = LLMMathChain.from_llm(llm=llm, verbose=True)\n",
    "count_tokens(llm_math, \"What is 13 raised to the 0.3333 power?\")"
   ]
  },
  {
   "cell_type": "code",
   "execution_count": 20,
   "id": "d3864b06-b749-4ffb-9029-9643cf48b343",
   "metadata": {},
   "outputs": [
    {
     "name": "stdout",
     "output_type": "stream",
     "text": [
      "Translate a math problem into a expression that can be executed using Python's numexpr library. Use the output of running this code to answer the question.\n",
      "\n",
      "Question: ${{Question with math problem.}}\n",
      "```text\n",
      "${{single line mathematical expression that solves the problem}}\n",
      "```\n",
      "...numexpr.evaluate(text)...\n",
      "```output\n",
      "${{Output of running the code}}\n",
      "```\n",
      "Answer: ${{Answer}}\n",
      "\n",
      "Begin.\n",
      "\n",
      "Question: What is 37593 * 67?\n",
      "\n",
      "```text\n",
      "37593 * 67\n",
      "```\n",
      "...numexpr.evaluate(\"37593 * 67\")...\n",
      "```output\n",
      "2518731\n",
      "```\n",
      "Answer: 2518731\n",
      "\n",
      "Question: {question}\n",
      "\n"
     ]
    }
   ],
   "source": [
    "print(llm_math.prompt.template)"
   ]
  },
  {
   "cell_type": "markdown",
   "id": "2cf333d7-043d-47e4-8acf-a550ad49053f",
   "metadata": {},
   "source": [
    "LLMMathChain flow: print a Python code that will calculate the math instead of directly compute it."
   ]
  },
  {
   "cell_type": "code",
   "execution_count": 21,
   "id": "9ce31134-0e43-4404-931b-050cc748a6a1",
   "metadata": {},
   "outputs": [
    {
     "name": "stdout",
     "output_type": "stream",
     "text": [
      "Spent a total of 15 tokens\n",
      "\n",
      "\n",
      "1.431\n"
     ]
    }
   ],
   "source": [
    "prompt = PromptTemplate(input_variables=['question'], template='{question}')\n",
    "llm_chain = LLMChain(prompt=prompt, llm=llm)\n",
    "\n",
    "# we ask the llm for the answer with no context\n",
    "print(count_tokens(llm_chain, \"What is 13 raised to the .3333 power?\"))"
   ]
  },
  {
   "cell_type": "markdown",
   "id": "65c34422-fa03-4a5a-aee4-25159097b8cb",
   "metadata": {},
   "source": [
    "Without the context, the result is wrong."
   ]
  },
  {
   "cell_type": "markdown",
   "id": "e0dcf4bd-365a-4ea5-9663-6f75b11ca65d",
   "metadata": {},
   "source": [
    "## Cleaning the texts to use less tokens"
   ]
  },
  {
   "cell_type": "markdown",
   "id": "98b59cd1-3098-43e8-92ef-58707936250d",
   "metadata": {},
   "source": [
    "### Transform Chain"
   ]
  },
  {
   "cell_type": "code",
   "execution_count": 22,
   "id": "98ae5ed8-ba54-4f01-839e-2663e7070043",
   "metadata": {},
   "outputs": [],
   "source": [
    "import re\n",
    "\n",
    "def transform_func(inputs: dict) -> dict:\n",
    "    text = inputs[\"text\"]\n",
    "    \n",
    "    # replace multiple new lines and multiple spaces with a single one\n",
    "    text = re.sub(r'(\\r\\n|\\r|\\n){2,}', r'\\n', text)\n",
    "    text = re.sub(r'[ \\t]+', ' ', text)\n",
    "\n",
    "    return {\"output_text\": text}"
   ]
  },
  {
   "cell_type": "code",
   "execution_count": 23,
   "id": "2069b7bb-cece-457c-acb5-88f6ac5ffb4b",
   "metadata": {},
   "outputs": [],
   "source": [
    "from langchain.chains import TransformChain\n",
    "\n",
    "clean_extra_spaces_chain = TransformChain(\n",
    "    input_variables=[\"text\"],\n",
    "    output_variables=[\"output_text\"],\n",
    "    transform=transform_func\n",
    ")"
   ]
  },
  {
   "cell_type": "code",
   "execution_count": 24,
   "id": "a1e8e9ae-7ff5-482a-af03-4d54864846f3",
   "metadata": {},
   "outputs": [
    {
     "data": {
      "text/plain": [
       "'A random text with some irregular spacing.\\n Another one here as well!'"
      ]
     },
     "execution_count": 24,
     "metadata": {},
     "output_type": "execute_result"
    }
   ],
   "source": [
    "clean_extra_spaces_chain.run(\"A random text   with  some irregular  spacing.\\n\\n\\n    Another  one here as well!\")"
   ]
  },
  {
   "cell_type": "markdown",
   "id": "58111ad9-86d8-4c6c-bd04-a193fa80e35f",
   "metadata": {},
   "source": [
    "### Sequential Chain"
   ]
  },
  {
   "cell_type": "code",
   "execution_count": 25,
   "id": "83b57b3a-fd89-4547-9865-ff87d4390931",
   "metadata": {},
   "outputs": [],
   "source": [
    "template = \"\"\"Paraphrase this text:\n",
    "\n",
    "{output_text}\n",
    "\n",
    "In the style of a {style}.\n",
    "\n",
    "Paraphrase: \"\"\"\n",
    "prompt = PromptTemplate(input_variables=[\"style\", \"output_text\"], template=template)"
   ]
  },
  {
   "cell_type": "code",
   "execution_count": 26,
   "id": "6dd5e90f-76cb-4b38-b03e-f862b84a58f6",
   "metadata": {},
   "outputs": [],
   "source": [
    "# Create a style paraphrase_chain\n",
    "style_paraphrase_chain = LLMChain(llm=llm, prompt=prompt, output_key='final_output')"
   ]
  },
  {
   "cell_type": "code",
   "execution_count": 27,
   "id": "2dcc2ebc-ccf7-4f84-ae0c-1e7a1b2570f8",
   "metadata": {},
   "outputs": [],
   "source": [
    "from langchain.chains import SequentialChain\n",
    "\n",
    "# Create the sequential chain = transform chain + style paraphase chain\n",
    "sequential_chain = SequentialChain(\n",
    "    chains=[clean_extra_spaces_chain, style_paraphrase_chain],\n",
    "    input_variables=[\"text\", \"style\"],\n",
    "    output_variables=[\"output_text\"]\n",
    ")"
   ]
  },
  {
   "cell_type": "code",
   "execution_count": 28,
   "id": "83e06108-5c7e-42b4-bbcb-2600446f676c",
   "metadata": {},
   "outputs": [
    {
     "name": "stdout",
     "output_type": "stream",
     "text": [
      "Spent a total of 166 tokens\n"
     ]
    },
    {
     "data": {
      "text/plain": [
       "'\\nChains allow us to combine multiple \\ncomponents together to create a single, coherent application. \\nFor example, we can create a chain that takes user input, format it with a PromptTemplate, \\nand then passes the formatted response to an LLM. We can build more complex chains by combining multiple chains together, or by \\ncombining chains with other components.\\n'"
      ]
     },
     "execution_count": 28,
     "metadata": {},
     "output_type": "execute_result"
    }
   ],
   "source": [
    "input_text = \"\"\"\n",
    "Chains allow us to combine multiple \n",
    "\n",
    "\n",
    "components together to create a single, coherent application. \n",
    "\n",
    "For example, we can create a chain that takes user input,       format it with a PromptTemplate, \n",
    "\n",
    "and then passes the formatted response to an LLM. We can build more complex chains by combining     multiple chains together, or by \n",
    "\n",
    "\n",
    "combining chains with other components.\n",
    "\"\"\"\n",
    "\n",
    "count_tokens(sequential_chain, {'text': input_text, 'style': 'a 90s rapper'})"
   ]
  },
  {
   "cell_type": "markdown",
   "id": "013b0279-eaf4-4cc6-843b-276a2676959f",
   "metadata": {},
   "source": [
    "### [Langchain-hub](https://github.com/hwchase17/langchain-hub/tree/master)"
   ]
  },
  {
   "cell_type": "code",
   "execution_count": 29,
   "id": "75d8d2a4-cf9e-4503-aefb-5fc951f79a89",
   "metadata": {},
   "outputs": [
    {
     "name": "stderr",
     "output_type": "stream",
     "text": [
      "/Users/mufin/opt/anaconda3/envs/langchain/lib/python3.11/site-packages/langchain/chains/llm_checker/base.py:100: UserWarning: Directly instantiating an LLMCheckerChain with an llm is deprecated. Please instantiate with question_to_checked_assertions_chain or using the from_llm class method.\n",
      "  warnings.warn(\n"
     ]
    },
    {
     "name": "stdout",
     "output_type": "stream",
     "text": [
      "\n",
      "\n",
      "\u001b[1m> Entering new LLMCheckerChain chain...\u001b[0m\n",
      "\n",
      "\n",
      "\u001b[1m> Entering new SequentialChain chain...\u001b[0m\n",
      "\n",
      "\u001b[1m> Finished chain.\u001b[0m\n",
      "\n",
      "\u001b[1m> Finished chain.\u001b[0m\n",
      "Spent a total of 433 tokens\n"
     ]
    },
    {
     "data": {
      "text/plain": [
       "' The 13th person to land on the moon was Gene Cernan.'"
      ]
     },
     "execution_count": 29,
     "metadata": {},
     "output_type": "execute_result"
    }
   ],
   "source": [
    "from langchain.chains import load_chain\n",
    "\n",
    "llm_qa_chain = load_chain('lc://chains/llm-checker/chain.json')\n",
    "count_tokens(llm_qa_chain, \"Who is the 13th person to land on the moon?\")"
   ]
  },
  {
   "cell_type": "markdown",
   "id": "091c002b-4ffc-426a-9d57-67fdec51e754",
   "metadata": {},
   "source": [
    "## Preparing Text Data for use with Retrieval-Augmented LLMs"
   ]
  },
  {
   "cell_type": "code",
   "execution_count": 37,
   "id": "8060e480-6866-48ad-9ae3-dd65fe63251b",
   "metadata": {
    "scrolled": true
   },
   "outputs": [
    {
     "name": "stdout",
     "output_type": "stream",
     "text": [
      "--2023-05-23 11:12:54--  https://kafka-python.readthedocs.io/en/latest/\n",
      "Resolving kafka-python.readthedocs.io (kafka-python.readthedocs.io)... 2606:4700::6811:2152, 2606:4700::6811:2052, 104.17.32.82, ...\n",
      "Connecting to kafka-python.readthedocs.io (kafka-python.readthedocs.io)|2606:4700::6811:2152|:443... connected.\n",
      "HTTP request sent, awaiting response... 200 OK\n",
      "Length: unspecified [text/html]\n",
      "Saving to: ‘rtdocs/kafka-python.readthedocs.io/en/latest/index.html’\n",
      "\n",
      "kafka-python.readth     [ <=>                ]  25.66K  --.-KB/s    in 0.009s  \n",
      "\n",
      "2023-05-23 11:12:56 (2.66 MB/s) - ‘rtdocs/kafka-python.readthedocs.io/en/latest/index.html’ saved [26273]\n",
      "\n",
      "Loading robots.txt; please ignore errors.\n",
      "--2023-05-23 11:12:56--  https://kafka-python.readthedocs.io/robots.txt\n",
      "Reusing existing connection to [kafka-python.readthedocs.io]:443.\n",
      "HTTP request sent, awaiting response... 200 OK\n",
      "Length: 102 [text/plain]\n",
      "Saving to: ‘rtdocs/kafka-python.readthedocs.io/robots.txt.tmp’\n",
      "\n",
      "kafka-python.readth 100%[===================>]     102  --.-KB/s    in 0s      \n",
      "\n",
      "2023-05-23 11:12:57 (48.6 MB/s) - ‘rtdocs/kafka-python.readthedocs.io/robots.txt.tmp’ saved [102/102]\n",
      "\n",
      "Removing rtdocs/kafka-python.readthedocs.io/robots.txt.tmp.\n",
      "--2023-05-23 11:12:57--  https://kafka-python.readthedocs.io/en/latest/genindex.html\n",
      "Reusing existing connection to [kafka-python.readthedocs.io]:443.\n",
      "HTTP request sent, awaiting response... 200 OK\n",
      "Length: unspecified [text/html]\n",
      "Saving to: ‘rtdocs/kafka-python.readthedocs.io/en/latest/genindex.html’\n",
      "\n",
      "kafka-python.readth     [ <=>                ]  26.16K  --.-KB/s    in 0.004s  \n",
      "\n",
      "2023-05-23 11:12:58 (7.23 MB/s) - ‘rtdocs/kafka-python.readthedocs.io/en/latest/genindex.html’ saved [26788]\n",
      "\n",
      "--2023-05-23 11:12:58--  https://kafka-python.readthedocs.io/en/latest/search.html\n",
      "Reusing existing connection to [kafka-python.readthedocs.io]:443.\n",
      "HTTP request sent, awaiting response... 200 OK\n",
      "Length: unspecified [text/html]\n",
      "Saving to: ‘rtdocs/kafka-python.readthedocs.io/en/latest/search.html’\n",
      "\n",
      "kafka-python.readth     [ <=>                ]   9.00K  --.-KB/s    in 0s      \n",
      "\n",
      "2023-05-23 11:12:59 (27.4 MB/s) - ‘rtdocs/kafka-python.readthedocs.io/en/latest/search.html’ saved [9219]\n",
      "\n",
      "--2023-05-23 11:12:59--  https://kafka-python.readthedocs.io/en/latest/usage.html\n",
      "Reusing existing connection to [kafka-python.readthedocs.io]:443.\n",
      "HTTP request sent, awaiting response... 200 OK\n",
      "Length: unspecified [text/html]\n",
      "Saving to: ‘rtdocs/kafka-python.readthedocs.io/en/latest/usage.html’\n",
      "\n",
      "kafka-python.readth     [ <=>                ]  22.25K  --.-KB/s    in 0.001s  \n",
      "\n",
      "2023-05-23 11:13:00 (32.9 MB/s) - ‘rtdocs/kafka-python.readthedocs.io/en/latest/usage.html’ saved [22783]\n",
      "\n",
      "--2023-05-23 11:13:00--  https://kafka-python.readthedocs.io/en/master/\n",
      "Reusing existing connection to [kafka-python.readthedocs.io]:443.\n",
      "HTTP request sent, awaiting response... 200 OK\n",
      "Length: unspecified [text/html]\n",
      "Saving to: ‘rtdocs/kafka-python.readthedocs.io/en/master/index.html’\n",
      "\n",
      "kafka-python.readth     [ <=>                ]  25.71K  --.-KB/s    in 0.002s  \n",
      "\n",
      "2023-05-23 11:13:00 (10.2 MB/s) - ‘rtdocs/kafka-python.readthedocs.io/en/master/index.html’ saved [26332]\n",
      "\n",
      "--2023-05-23 11:13:00--  https://kafka-python.readthedocs.io/en/latest/apidoc/modules.html\n",
      "Reusing existing connection to [kafka-python.readthedocs.io]:443.\n",
      "HTTP request sent, awaiting response... 200 OK\n",
      "Length: unspecified [text/html]\n",
      "Saving to: ‘rtdocs/kafka-python.readthedocs.io/en/latest/apidoc/modules.html’\n",
      "\n",
      "kafka-python.readth     [ <=>                ]  10.74K  --.-KB/s    in 0s      \n",
      "\n",
      "2023-05-23 11:13:01 (40.0 MB/s) - ‘rtdocs/kafka-python.readthedocs.io/en/latest/apidoc/modules.html’ saved [10999]\n",
      "\n",
      "--2023-05-23 11:13:01--  https://kafka-python.readthedocs.io/en/latest/install.html\n",
      "Reusing existing connection to [kafka-python.readthedocs.io]:443.\n",
      "HTTP request sent, awaiting response... 200 OK\n",
      "Length: unspecified [text/html]\n",
      "Saving to: ‘rtdocs/kafka-python.readthedocs.io/en/latest/install.html’\n",
      "\n",
      "kafka-python.readth     [ <=>                ]  16.37K  --.-KB/s    in 0s      \n",
      "\n",
      "2023-05-23 11:13:02 (34.5 MB/s) - ‘rtdocs/kafka-python.readthedocs.io/en/latest/install.html’ saved [16759]\n",
      "\n",
      "--2023-05-23 11:13:02--  https://kafka-python.readthedocs.io/en/latest/tests.html\n",
      "Reusing existing connection to [kafka-python.readthedocs.io]:443.\n",
      "HTTP request sent, awaiting response... 200 OK\n",
      "Length: unspecified [text/html]\n",
      "Saving to: ‘rtdocs/kafka-python.readthedocs.io/en/latest/tests.html’\n",
      "\n",
      "kafka-python.readth     [ <=>                ]  15.28K  --.-KB/s    in 0.001s  \n",
      "\n",
      "2023-05-23 11:13:03 (10.7 MB/s) - ‘rtdocs/kafka-python.readthedocs.io/en/latest/tests.html’ saved [15647]\n",
      "\n",
      "--2023-05-23 11:13:03--  https://kafka-python.readthedocs.io/en/latest/compatibility.html\n",
      "Reusing existing connection to [kafka-python.readthedocs.io]:443.\n",
      "HTTP request sent, awaiting response... 200 OK\n",
      "Length: unspecified [text/html]\n",
      "Saving to: ‘rtdocs/kafka-python.readthedocs.io/en/latest/compatibility.html’\n",
      "\n",
      "kafka-python.readth     [ <=>                ]  10.73K  --.-KB/s    in 0s      \n",
      "\n",
      "2023-05-23 11:13:03 (23.5 MB/s) - ‘rtdocs/kafka-python.readthedocs.io/en/latest/compatibility.html’ saved [10987]\n",
      "\n",
      "--2023-05-23 11:13:03--  https://kafka-python.readthedocs.io/en/latest/support.html\n",
      "Reusing existing connection to [kafka-python.readthedocs.io]:443.\n",
      "HTTP request sent, awaiting response... 200 OK\n",
      "Length: unspecified [text/html]\n",
      "Saving to: ‘rtdocs/kafka-python.readthedocs.io/en/latest/support.html’\n",
      "\n",
      "kafka-python.readth     [ <=>                ]   9.96K  --.-KB/s    in 0s      \n",
      "\n",
      "2023-05-23 11:13:04 (811 MB/s) - ‘rtdocs/kafka-python.readthedocs.io/en/latest/support.html’ saved [10200]\n",
      "\n",
      "--2023-05-23 11:13:04--  https://kafka-python.readthedocs.io/en/latest/license.html\n",
      "Reusing existing connection to [kafka-python.readthedocs.io]:443.\n",
      "HTTP request sent, awaiting response... 200 OK\n",
      "Length: unspecified [text/html]\n",
      "Saving to: ‘rtdocs/kafka-python.readthedocs.io/en/latest/license.html’\n",
      "\n",
      "kafka-python.readth     [ <=>                ]   9.87K  --.-KB/s    in 0s      \n",
      "\n",
      "2023-05-23 11:13:05 (508 MB/s) - ‘rtdocs/kafka-python.readthedocs.io/en/latest/license.html’ saved [10111]\n",
      "\n",
      "--2023-05-23 11:13:05--  https://kafka-python.readthedocs.io/en/latest/changelog.html\n",
      "Reusing existing connection to [kafka-python.readthedocs.io]:443.\n",
      "HTTP request sent, awaiting response... 200 OK\n",
      "Length: unspecified [text/html]\n",
      "Saving to: ‘rtdocs/kafka-python.readthedocs.io/en/latest/changelog.html’\n",
      "\n",
      "kafka-python.readth     [ <=>                ] 108.77K  --.-KB/s    in 0.05s   \n",
      "\n",
      "2023-05-23 11:13:07 (2.04 MB/s) - ‘rtdocs/kafka-python.readthedocs.io/en/latest/changelog.html’ saved [111377]\n",
      "\n",
      "--2023-05-23 11:13:07--  https://kafka-python.readthedocs.io/compatibility.html\n",
      "Reusing existing connection to [kafka-python.readthedocs.io]:443.\n",
      "HTTP request sent, awaiting response... 404 Not Found\n",
      "2023-05-23 11:13:08 ERROR 404: Not Found.\n",
      "\n",
      "--2023-05-23 11:13:08--  https://kafka-python.readthedocs.io/en/latest/apidoc/KafkaConsumer.html\n",
      "Reusing existing connection to [kafka-python.readthedocs.io]:443.\n",
      "HTTP request sent, awaiting response... 200 OK\n",
      "Length: unspecified [text/html]\n",
      "Saving to: ‘rtdocs/kafka-python.readthedocs.io/en/latest/apidoc/KafkaConsumer.html’\n",
      "\n",
      "kafka-python.readth     [ <=>                ]  64.63K  --.-KB/s    in 0.01s   \n",
      "\n",
      "2023-05-23 11:13:09 (4.42 MB/s) - ‘rtdocs/kafka-python.readthedocs.io/en/latest/apidoc/KafkaConsumer.html’ saved [66179]\n",
      "\n",
      "--2023-05-23 11:13:09--  https://kafka-python.readthedocs.io/en/latest/apidoc/KafkaProducer.html\n",
      "Reusing existing connection to [kafka-python.readthedocs.io]:443.\n",
      "HTTP request sent, awaiting response... 200 OK\n",
      "Length: unspecified [text/html]\n",
      "Saving to: ‘rtdocs/kafka-python.readthedocs.io/en/latest/apidoc/KafkaProducer.html’\n",
      "\n",
      "kafka-python.readth     [ <=>                ]  35.20K  --.-KB/s    in 0.001s  \n",
      "\n",
      "2023-05-23 11:13:10 (66.5 MB/s) - ‘rtdocs/kafka-python.readthedocs.io/en/latest/apidoc/KafkaProducer.html’ saved [36048]\n",
      "\n",
      "--2023-05-23 11:13:10--  https://kafka-python.readthedocs.io/en/latest/apidoc/KafkaClient.html\n",
      "Reusing existing connection to [kafka-python.readthedocs.io]:443.\n",
      "HTTP request sent, awaiting response... 200 OK\n",
      "Length: unspecified [text/html]\n",
      "Saving to: ‘rtdocs/kafka-python.readthedocs.io/en/latest/apidoc/KafkaClient.html’\n",
      "\n",
      "kafka-python.readth     [ <=>                ]  36.61K  --.-KB/s    in 0.001s  \n",
      "\n",
      "2023-05-23 11:13:11 (60.0 MB/s) - ‘rtdocs/kafka-python.readthedocs.io/en/latest/apidoc/KafkaClient.html’ saved [37488]\n",
      "\n",
      "--2023-05-23 11:13:11--  https://kafka-python.readthedocs.io/en/stable/\n",
      "Reusing existing connection to [kafka-python.readthedocs.io]:443.\n",
      "HTTP request sent, awaiting response... 200 OK\n",
      "Length: unspecified [text/html]\n",
      "Saving to: ‘rtdocs/kafka-python.readthedocs.io/en/stable/index.html’\n",
      "\n",
      "kafka-python.readth     [ <=>                ]  25.74K  --.-KB/s    in 0s      \n",
      "\n",
      "2023-05-23 11:13:12 (78.8 MB/s) - ‘rtdocs/kafka-python.readthedocs.io/en/stable/index.html’ saved [26362]\n",
      "\n",
      "--2023-05-23 11:13:12--  https://kafka-python.readthedocs.io/en/2.0.1/\n",
      "Reusing existing connection to [kafka-python.readthedocs.io]:443.\n",
      "HTTP request sent, awaiting response... 200 OK\n",
      "Length: unspecified [text/html]\n",
      "Saving to: ‘rtdocs/kafka-python.readthedocs.io/en/2.0.1/index.html’\n",
      "\n",
      "kafka-python.readth     [ <=>                ]  25.34K  --.-KB/s    in 0s      \n",
      "\n",
      "2023-05-23 11:13:13 (74.5 MB/s) - ‘rtdocs/kafka-python.readthedocs.io/en/2.0.1/index.html’ saved [25950]\n",
      "\n",
      "--2023-05-23 11:13:13--  https://kafka-python.readthedocs.io/en/1.4.7/\n",
      "Reusing existing connection to [kafka-python.readthedocs.io]:443.\n",
      "HTTP request sent, awaiting response... 200 OK\n",
      "Length: unspecified [text/html]\n",
      "Saving to: ‘rtdocs/kafka-python.readthedocs.io/en/1.4.7/index.html’\n",
      "\n",
      "kafka-python.readth     [ <=>                ]  25.48K  --.-KB/s    in 0s      \n",
      "\n",
      "2023-05-23 11:13:14 (65.8 MB/s) - ‘rtdocs/kafka-python.readthedocs.io/en/1.4.7/index.html’ saved [26089]\n",
      "\n",
      "--2023-05-23 11:13:14--  https://kafka-python.readthedocs.io/en/1.4.6/\n",
      "Reusing existing connection to [kafka-python.readthedocs.io]:443.\n",
      "HTTP request sent, awaiting response... 200 OK\n",
      "Length: unspecified [text/html]\n",
      "Saving to: ‘rtdocs/kafka-python.readthedocs.io/en/1.4.6/index.html’\n",
      "\n",
      "kafka-python.readth     [ <=>                ]  25.35K  --.-KB/s    in 0s      \n",
      "\n",
      "2023-05-23 11:13:15 (78.3 MB/s) - ‘rtdocs/kafka-python.readthedocs.io/en/1.4.6/index.html’ saved [25958]\n",
      "\n",
      "--2023-05-23 11:13:15--  https://kafka-python.readthedocs.io/en/1.4.5/\n",
      "Reusing existing connection to [kafka-python.readthedocs.io]:443.\n",
      "HTTP request sent, awaiting response... 200 OK\n",
      "Length: unspecified [text/html]\n",
      "Saving to: ‘rtdocs/kafka-python.readthedocs.io/en/1.4.5/index.html’\n",
      "\n",
      "kafka-python.readth     [ <=>                ]  25.62K  --.-KB/s    in 0s      \n",
      "\n",
      "2023-05-23 11:13:16 (108 MB/s) - ‘rtdocs/kafka-python.readthedocs.io/en/1.4.5/index.html’ saved [26230]\n",
      "\n",
      "--2023-05-23 11:13:16--  https://kafka-python.readthedocs.io/en/1.4.4/\n",
      "Reusing existing connection to [kafka-python.readthedocs.io]:443.\n",
      "HTTP request sent, awaiting response... 200 OK\n",
      "Length: unspecified [text/html]\n",
      "Saving to: ‘rtdocs/kafka-python.readthedocs.io/en/1.4.4/index.html’\n",
      "\n",
      "kafka-python.readth     [ <=>                ]  25.62K  --.-KB/s    in 0s      \n",
      "\n",
      "2023-05-23 11:13:17 (108 MB/s) - ‘rtdocs/kafka-python.readthedocs.io/en/1.4.4/index.html’ saved [26230]\n",
      "\n",
      "--2023-05-23 11:13:17--  https://kafka-python.readthedocs.io/en/1.4.3/\n",
      "Reusing existing connection to [kafka-python.readthedocs.io]:443.\n",
      "HTTP request sent, awaiting response... 200 OK\n",
      "Length: unspecified [text/html]\n",
      "Saving to: ‘rtdocs/kafka-python.readthedocs.io/en/1.4.3/index.html’\n",
      "\n",
      "kafka-python.readth     [ <=>                ]  25.42K  --.-KB/s    in 0s      \n",
      "\n",
      "2023-05-23 11:13:18 (60.6 MB/s) - ‘rtdocs/kafka-python.readthedocs.io/en/1.4.3/index.html’ saved [26032]\n",
      "\n",
      "--2023-05-23 11:13:18--  https://kafka-python.readthedocs.io/en/1.4.2/\n",
      "Reusing existing connection to [kafka-python.readthedocs.io]:443.\n",
      "HTTP request sent, awaiting response... 200 OK\n",
      "Length: unspecified [text/html]\n",
      "Saving to: ‘rtdocs/kafka-python.readthedocs.io/en/1.4.2/index.html’\n",
      "\n",
      "kafka-python.readth     [ <=>                ]  25.26K  --.-KB/s    in 0s      \n",
      "\n",
      "2023-05-23 11:13:19 (136 MB/s) - ‘rtdocs/kafka-python.readthedocs.io/en/1.4.2/index.html’ saved [25868]\n",
      "\n",
      "Loading robots.txt; please ignore errors.\n",
      "URL transformed to HTTPS due to an HSTS policy\n",
      "--2023-05-23 11:13:19--  https://kafka-python.readthedocs.io/robots.txt\n",
      "Reusing existing connection to [kafka-python.readthedocs.io]:443.\n",
      "HTTP request sent, awaiting response... 200 OK\n",
      "Length: 102 [text/plain]\n",
      "Saving to: ‘rtdocs/kafka-python.readthedocs.io/robots.txt.tmp’\n",
      "\n",
      "kafka-python.readth 100%[===================>]     102  --.-KB/s    in 0s      \n",
      "\n",
      "2023-05-23 11:13:19 (97.3 MB/s) - ‘rtdocs/kafka-python.readthedocs.io/robots.txt.tmp’ saved [102/102]\n",
      "\n",
      "Removing rtdocs/kafka-python.readthedocs.io/robots.txt.tmp.\n",
      "--2023-05-23 11:13:19--  https://kafka-python.readthedocs.io/en/1.4.1/\n",
      "Reusing existing connection to [kafka-python.readthedocs.io]:443.\n",
      "HTTP request sent, awaiting response... 200 OK\n",
      "Length: unspecified [text/html]\n",
      "Saving to: ‘rtdocs/kafka-python.readthedocs.io/en/1.4.1/index.html’\n",
      "\n",
      "kafka-python.readth     [ <=>                ]  25.20K  --.-KB/s    in 0.01s   \n",
      "\n",
      "2023-05-23 11:13:20 (2.16 MB/s) - ‘rtdocs/kafka-python.readthedocs.io/en/1.4.1/index.html’ saved [25809]\n",
      "\n",
      "--2023-05-23 11:13:20--  https://kafka-python.readthedocs.io/en/1.4.0/\n",
      "Reusing existing connection to [kafka-python.readthedocs.io]:443.\n",
      "HTTP request sent, awaiting response... 200 OK\n",
      "Length: unspecified [text/html]\n",
      "Saving to: ‘rtdocs/kafka-python.readthedocs.io/en/1.4.0/index.html’\n",
      "\n",
      "kafka-python.readth     [ <=>                ]  25.15K  --.-KB/s    in 0.02s   \n",
      "\n",
      "2023-05-23 11:13:22 (1.03 MB/s) - ‘rtdocs/kafka-python.readthedocs.io/en/1.4.0/index.html’ saved [25750]\n",
      "\n",
      "--2023-05-23 11:13:22--  https://kafka-python.readthedocs.io/en/1.3.5/\n",
      "Reusing existing connection to [kafka-python.readthedocs.io]:443.\n",
      "HTTP request sent, awaiting response... 200 OK\n",
      "Length: unspecified [text/html]\n",
      "Saving to: ‘rtdocs/kafka-python.readthedocs.io/en/1.3.5/index.html’\n",
      "\n",
      "kafka-python.readth     [ <=>                ]  25.80K  --.-KB/s    in 0.03s   \n",
      "\n",
      "2023-05-23 11:13:23 (775 KB/s) - ‘rtdocs/kafka-python.readthedocs.io/en/1.3.5/index.html’ saved [26419]\n",
      "\n",
      "--2023-05-23 11:13:23--  https://kafka-python.readthedocs.io/en/1.3.4/\n",
      "Reusing existing connection to [kafka-python.readthedocs.io]:443.\n",
      "HTTP request sent, awaiting response... 200 OK\n",
      "Length: unspecified [text/html]\n",
      "Saving to: ‘rtdocs/kafka-python.readthedocs.io/en/1.3.4/index.html’\n",
      "\n",
      "kafka-python.readth     [ <=>                ]  25.01K  --.-KB/s    in 0.008s  \n",
      "\n",
      "2023-05-23 11:13:24 (3.17 MB/s) - ‘rtdocs/kafka-python.readthedocs.io/en/1.3.4/index.html’ saved [25607]\n",
      "\n",
      "--2023-05-23 11:13:24--  https://kafka-python.readthedocs.io/en/1.3.3/\n",
      "Reusing existing connection to [kafka-python.readthedocs.io]:443.\n",
      "HTTP request sent, awaiting response... 200 OK\n",
      "Length: unspecified [text/html]\n",
      "Saving to: ‘rtdocs/kafka-python.readthedocs.io/en/1.3.3/index.html’\n",
      "\n",
      "kafka-python.readth     [ <=>                ]  24.64K  --.-KB/s    in 0.002s  \n",
      "\n",
      "2023-05-23 11:13:25 (12.2 MB/s) - ‘rtdocs/kafka-python.readthedocs.io/en/1.3.3/index.html’ saved [25229]\n",
      "\n",
      "--2023-05-23 11:13:25--  https://kafka-python.readthedocs.io/en/1.3.2/\n",
      "Reusing existing connection to [kafka-python.readthedocs.io]:443.\n",
      "HTTP request sent, awaiting response... 200 OK\n",
      "Length: unspecified [text/html]\n",
      "Saving to: ‘rtdocs/kafka-python.readthedocs.io/en/1.3.2/index.html’\n",
      "\n",
      "kafka-python.readth     [ <=>                ]  22.45K  --.-KB/s    in 0s      \n",
      "\n",
      "2023-05-23 11:13:25 (186 MB/s) - ‘rtdocs/kafka-python.readthedocs.io/en/1.3.2/index.html’ saved [22992]\n",
      "\n",
      "--2023-05-23 11:13:25--  https://kafka-python.readthedocs.io/en/1.3.1/\n",
      "Reusing existing connection to [kafka-python.readthedocs.io]:443.\n",
      "HTTP request sent, awaiting response... 200 OK\n",
      "Length: unspecified [text/html]\n",
      "Saving to: ‘rtdocs/kafka-python.readthedocs.io/en/1.3.1/index.html’\n",
      "\n",
      "kafka-python.readth     [ <=>                ]  22.40K  --.-KB/s    in 0s      \n",
      "\n",
      "2023-05-23 11:13:26 (72.7 MB/s) - ‘rtdocs/kafka-python.readthedocs.io/en/1.3.1/index.html’ saved [22933]\n",
      "\n",
      "--2023-05-23 11:13:26--  https://kafka-python.readthedocs.io/en/1.3.0/\n",
      "Reusing existing connection to [kafka-python.readthedocs.io]:443.\n",
      "HTTP request sent, awaiting response... 200 OK\n",
      "Length: unspecified [text/html]\n",
      "Saving to: ‘rtdocs/kafka-python.readthedocs.io/en/1.3.0/index.html’\n",
      "\n",
      "kafka-python.readth     [ <=>                ]  22.40K  --.-KB/s    in 0.001s  \n",
      "\n",
      "2023-05-23 11:13:27 (23.8 MB/s) - ‘rtdocs/kafka-python.readthedocs.io/en/1.3.0/index.html’ saved [22933]\n",
      "\n",
      "--2023-05-23 11:13:27--  https://kafka-python.readthedocs.io/en/1.2.5/\n",
      "Reusing existing connection to [kafka-python.readthedocs.io]:443.\n",
      "HTTP request sent, awaiting response... 200 OK\n",
      "Length: unspecified [text/html]\n",
      "Saving to: ‘rtdocs/kafka-python.readthedocs.io/en/1.2.5/index.html’\n",
      "\n",
      "kafka-python.readth     [ <=>                ]  22.28K  --.-KB/s    in 0.001s  \n",
      "\n",
      "2023-05-23 11:13:28 (34.8 MB/s) - ‘rtdocs/kafka-python.readthedocs.io/en/1.2.5/index.html’ saved [22815]\n",
      "\n",
      "--2023-05-23 11:13:28--  https://kafka-python.readthedocs.io/en/1.2.4/\n",
      "Reusing existing connection to [kafka-python.readthedocs.io]:443.\n",
      "HTTP request sent, awaiting response... 200 OK\n",
      "Length: unspecified [text/html]\n",
      "Saving to: ‘rtdocs/kafka-python.readthedocs.io/en/1.2.4/index.html’\n",
      "\n",
      "kafka-python.readth     [ <=>                ]  22.22K  --.-KB/s    in 0s      \n",
      "\n",
      "2023-05-23 11:13:29 (68.9 MB/s) - ‘rtdocs/kafka-python.readthedocs.io/en/1.2.4/index.html’ saved [22756]\n",
      "\n",
      "--2023-05-23 11:13:29--  https://kafka-python.readthedocs.io/en/1.2.3/\n",
      "Reusing existing connection to [kafka-python.readthedocs.io]:443.\n",
      "HTTP request sent, awaiting response... 200 OK\n",
      "Length: unspecified [text/html]\n",
      "Saving to: ‘rtdocs/kafka-python.readthedocs.io/en/1.2.3/index.html’\n",
      "\n",
      "kafka-python.readth     [  <=>               ]  22.22K  94.5KB/s    in 0.2s    \n",
      "\n",
      "2023-05-23 11:13:30 (94.5 KB/s) - ‘rtdocs/kafka-python.readthedocs.io/en/1.2.3/index.html’ saved [22756]\n",
      "\n",
      "--2023-05-23 11:13:30--  https://kafka-python.readthedocs.io/en/1.2.2/\n",
      "Reusing existing connection to [kafka-python.readthedocs.io]:443.\n",
      "HTTP request sent, awaiting response... 200 OK\n",
      "Length: unspecified [text/html]\n",
      "Saving to: ‘rtdocs/kafka-python.readthedocs.io/en/1.2.2/index.html’\n",
      "\n",
      "kafka-python.readth     [ <=>                ]  22.11K  --.-KB/s    in 0.01s   \n",
      "\n",
      "2023-05-23 11:13:31 (1.55 MB/s) - ‘rtdocs/kafka-python.readthedocs.io/en/1.2.2/index.html’ saved [22638]\n",
      "\n",
      "--2023-05-23 11:13:31--  https://kafka-python.readthedocs.io/en/1.2.1/\n",
      "Reusing existing connection to [kafka-python.readthedocs.io]:443.\n",
      "HTTP request sent, awaiting response... 200 OK\n",
      "Length: unspecified [text/html]\n",
      "Saving to: ‘rtdocs/kafka-python.readthedocs.io/en/1.2.1/index.html’\n",
      "\n",
      "kafka-python.readth     [ <=>                ]  22.05K  --.-KB/s    in 0.01s   \n",
      "\n",
      "2023-05-23 11:13:32 (2.05 MB/s) - ‘rtdocs/kafka-python.readthedocs.io/en/1.2.1/index.html’ saved [22579]\n",
      "\n",
      "--2023-05-23 11:13:32--  https://kafka-python.readthedocs.io/en/1.2.0/\n",
      "Reusing existing connection to [kafka-python.readthedocs.io]:443.\n",
      "HTTP request sent, awaiting response... 200 OK\n",
      "Length: unspecified [text/html]\n",
      "Saving to: ‘rtdocs/kafka-python.readthedocs.io/en/1.2.0/index.html’\n",
      "\n",
      "kafka-python.readth     [ <=>                ]  21.97K  --.-KB/s    in 0.01s   \n",
      "\n",
      "2023-05-23 11:13:33 (2.06 MB/s) - ‘rtdocs/kafka-python.readthedocs.io/en/1.2.0/index.html’ saved [22497]\n",
      "\n",
      "--2023-05-23 11:13:33--  https://kafka-python.readthedocs.io/en/1.1.1/\n",
      "Reusing existing connection to [kafka-python.readthedocs.io]:443.\n",
      "HTTP request sent, awaiting response... 200 OK\n",
      "Length: unspecified [text/html]\n",
      "Saving to: ‘rtdocs/kafka-python.readthedocs.io/en/1.1.1/index.html’\n",
      "\n",
      "kafka-python.readth     [ <=>                ]  21.90K  --.-KB/s    in 0.008s  \n",
      "\n",
      "2023-05-23 11:13:34 (2.67 MB/s) - ‘rtdocs/kafka-python.readthedocs.io/en/1.1.1/index.html’ saved [22429]\n",
      "\n",
      "--2023-05-23 11:13:34--  https://kafka-python.readthedocs.io/en/1.1.0/\n",
      "Reusing existing connection to [kafka-python.readthedocs.io]:443.\n",
      "HTTP request sent, awaiting response... 200 OK\n",
      "Length: unspecified [text/html]\n",
      "Saving to: ‘rtdocs/kafka-python.readthedocs.io/en/1.1.0/index.html’\n",
      "\n",
      "kafka-python.readth     [ <=>                ]  21.85K  --.-KB/s    in 0.01s   \n",
      "\n",
      "2023-05-23 11:13:35 (1.96 MB/s) - ‘rtdocs/kafka-python.readthedocs.io/en/1.1.0/index.html’ saved [22370]\n",
      "\n",
      "--2023-05-23 11:13:35--  https://kafka-python.readthedocs.io/en/1.0.2/\n",
      "Reusing existing connection to [kafka-python.readthedocs.io]:443.\n",
      "HTTP request sent, awaiting response... 200 OK\n",
      "Length: unspecified [text/html]\n",
      "Saving to: ‘rtdocs/kafka-python.readthedocs.io/en/1.0.2/index.html’\n",
      "\n",
      "kafka-python.readth     [ <=>                ]  21.39K  --.-KB/s    in 0.01s   \n",
      "\n",
      "2023-05-23 11:13:36 (2.19 MB/s) - ‘rtdocs/kafka-python.readthedocs.io/en/1.0.2/index.html’ saved [21901]\n",
      "\n",
      "--2023-05-23 11:13:36--  https://kafka-python.readthedocs.io/en/1.0.1/\n",
      "Reusing existing connection to [kafka-python.readthedocs.io]:443.\n",
      "HTTP request sent, awaiting response... 200 OK\n",
      "Length: unspecified [text/html]\n",
      "Saving to: ‘rtdocs/kafka-python.readthedocs.io/en/1.0.1/index.html’\n",
      "\n",
      "kafka-python.readth     [ <=>                ]  21.86K  --.-KB/s    in 0.008s  \n",
      "\n",
      "2023-05-23 11:13:37 (2.66 MB/s) - ‘rtdocs/kafka-python.readthedocs.io/en/1.0.1/index.html’ saved [22387]\n",
      "\n",
      "--2023-05-23 11:13:37--  https://kafka-python.readthedocs.io/en/1.0.0/\n",
      "Reusing existing connection to [kafka-python.readthedocs.io]:443.\n",
      "HTTP request sent, awaiting response... 200 OK\n",
      "Length: unspecified [text/html]\n",
      "Saving to: ‘rtdocs/kafka-python.readthedocs.io/en/1.0.0/index.html’\n",
      "\n",
      "kafka-python.readth     [ <=>                ]  21.81K  --.-KB/s    in 0s      \n",
      "\n",
      "2023-05-23 11:13:37 (88.4 MB/s) - ‘rtdocs/kafka-python.readthedocs.io/en/1.0.0/index.html’ saved [22329]\n",
      "\n",
      "--2023-05-23 11:13:37--  https://kafka-python.readthedocs.io/en/v0.9.5/\n",
      "Reusing existing connection to [kafka-python.readthedocs.io]:443.\n",
      "HTTP request sent, awaiting response... 200 OK\n",
      "Length: unspecified [text/html]\n",
      "Saving to: ‘rtdocs/kafka-python.readthedocs.io/en/v0.9.5/index.html’\n",
      "\n",
      "kafka-python.readth     [ <=>                ]  12.41K  --.-KB/s    in 0s      \n",
      "\n",
      "2023-05-23 11:13:38 (1.69 GB/s) - ‘rtdocs/kafka-python.readthedocs.io/en/v0.9.5/index.html’ saved [12710]\n",
      "\n",
      "--2023-05-23 11:13:38--  https://kafka-python.readthedocs.io/en/v0.9.4/\n",
      "Reusing existing connection to [kafka-python.readthedocs.io]:443.\n",
      "HTTP request sent, awaiting response... 200 OK\n",
      "Length: unspecified [text/html]\n",
      "Saving to: ‘rtdocs/kafka-python.readthedocs.io/en/v0.9.4/index.html’\n",
      "\n",
      "kafka-python.readth     [ <=>                ]  12.66K  --.-KB/s    in 0s      \n",
      "\n",
      "2023-05-23 11:13:39 (2.42 GB/s) - ‘rtdocs/kafka-python.readthedocs.io/en/v0.9.4/index.html’ saved [12968]\n",
      "\n",
      "--2023-05-23 11:13:39--  https://kafka-python.readthedocs.io/_/downloads/en/latest/pdf/\n",
      "Reusing existing connection to [kafka-python.readthedocs.io]:443.\n",
      "HTTP request sent, awaiting response... 200 OK\n",
      "Length: 312593 (305K) [application/pdf]\n",
      "Saving to: ‘rtdocs/kafka-python.readthedocs.io/_/downloads/en/latest/pdf/index.html’\n",
      "\n",
      "kafka-python.readth 100%[===================>] 305.27K   649KB/s    in 0.5s    \n",
      "\n",
      "2023-05-23 11:13:41 (649 KB/s) - ‘rtdocs/kafka-python.readthedocs.io/_/downloads/en/latest/pdf/index.html’ saved [312593/312593]\n",
      "\n",
      "--2023-05-23 11:13:41--  https://kafka-python.readthedocs.io/_/downloads/en/latest/htmlzip/\n",
      "Reusing existing connection to [kafka-python.readthedocs.io]:443.\n",
      "HTTP request sent, awaiting response... 200 OK\n",
      "Length: 10170857 (9.7M) [application/zip]\n",
      "Saving to: ‘rtdocs/kafka-python.readthedocs.io/_/downloads/en/latest/htmlzip/index.html’\n",
      "\n",
      "kafka-python.readth 100%[===================>]   9.70M  2.94MB/s    in 3.3s    \n",
      "\n",
      "2023-05-23 11:13:46 (2.94 MB/s) - ‘rtdocs/kafka-python.readthedocs.io/_/downloads/en/latest/htmlzip/index.html’ saved [10170857/10170857]\n",
      "\n",
      "--2023-05-23 11:13:46--  https://kafka-python.readthedocs.io/_/downloads/en/latest/epub/\n",
      "Reusing existing connection to [kafka-python.readthedocs.io]:443.\n",
      "HTTP request sent, awaiting response... 200 OK\n",
      "Length: 86961 (85K) [application/epub+zip]\n",
      "Saving to: ‘rtdocs/kafka-python.readthedocs.io/_/downloads/en/latest/epub/index.html’\n",
      "\n",
      "kafka-python.readth 100%[===================>]  84.92K  --.-KB/s    in 0.008s  \n",
      "\n",
      "2023-05-23 11:13:47 (11.0 MB/s) - ‘rtdocs/kafka-python.readthedocs.io/_/downloads/en/latest/epub/index.html’ saved [86961/86961]\n",
      "\n",
      "--2023-05-23 11:13:47--  https://kafka-python.readthedocs.io/en/master/genindex.html\n",
      "Reusing existing connection to [kafka-python.readthedocs.io]:443.\n",
      "HTTP request sent, awaiting response... 200 OK\n",
      "Length: unspecified [text/html]\n",
      "Saving to: ‘rtdocs/kafka-python.readthedocs.io/en/master/genindex.html’\n",
      "\n",
      "kafka-python.readth     [ <=>                ]  26.22K  --.-KB/s    in 0s      \n",
      "\n",
      "2023-05-23 11:13:48 (85.6 MB/s) - ‘rtdocs/kafka-python.readthedocs.io/en/master/genindex.html’ saved [26847]\n",
      "\n",
      "--2023-05-23 11:13:48--  https://kafka-python.readthedocs.io/en/latest/index.html\n",
      "Reusing existing connection to [kafka-python.readthedocs.io]:443.\n",
      "HTTP request sent, awaiting response... 200 OK\n",
      "Length: unspecified [text/html]\n",
      "Saving to: ‘rtdocs/kafka-python.readthedocs.io/en/latest/index.html’\n",
      "\n",
      "kafka-python.readth     [ <=>                ]  25.66K  --.-KB/s    in 0s      \n",
      "\n",
      "2023-05-23 11:13:49 (126 MB/s) - ‘rtdocs/kafka-python.readthedocs.io/en/latest/index.html’ saved [26273]\n",
      "\n",
      "--2023-05-23 11:13:49--  https://kafka-python.readthedocs.io/en/latest/apidoc/ClusterMetadata.html\n",
      "Reusing existing connection to [kafka-python.readthedocs.io]:443.\n",
      "HTTP request sent, awaiting response... 200 OK\n",
      "Length: unspecified [text/html]\n",
      "Saving to: ‘rtdocs/kafka-python.readthedocs.io/en/latest/apidoc/ClusterMetadata.html’\n",
      "\n",
      "kafka-python.readth     [ <=>                ]  26.44K  --.-KB/s    in 0s      \n",
      "\n",
      "2023-05-23 11:13:50 (174 MB/s) - ‘rtdocs/kafka-python.readthedocs.io/en/latest/apidoc/ClusterMetadata.html’ saved [27079]\n",
      "\n",
      "--2023-05-23 11:13:50--  https://kafka-python.readthedocs.io/en/latest/apidoc/KafkaAdminClient.html\n",
      "Reusing existing connection to [kafka-python.readthedocs.io]:443.\n",
      "HTTP request sent, awaiting response... 200 OK\n",
      "Length: unspecified [text/html]\n",
      "Saving to: ‘rtdocs/kafka-python.readthedocs.io/en/latest/apidoc/KafkaAdminClient.html’\n",
      "\n",
      "kafka-python.readth     [ <=>                ]  35.18K  --.-KB/s    in 0.002s  \n",
      "\n",
      "2023-05-23 11:13:51 (15.6 MB/s) - ‘rtdocs/kafka-python.readthedocs.io/en/latest/apidoc/KafkaAdminClient.html’ saved [36029]\n",
      "\n",
      "--2023-05-23 11:13:51--  https://kafka-python.readthedocs.io/en/latest/apidoc/BrokerConnection.html\n",
      "Reusing existing connection to [kafka-python.readthedocs.io]:443.\n",
      "HTTP request sent, awaiting response... 200 OK\n",
      "Length: unspecified [text/html]\n",
      "Saving to: ‘rtdocs/kafka-python.readthedocs.io/en/latest/apidoc/BrokerConnection.html’\n",
      "\n",
      "kafka-python.readth     [ <=>                ]  24.76K  --.-KB/s    in 0s      \n",
      "\n",
      "2023-05-23 11:13:52 (100 MB/s) - ‘rtdocs/kafka-python.readthedocs.io/en/latest/apidoc/BrokerConnection.html’ saved [25356]\n",
      "\n",
      "--2023-05-23 11:13:52--  https://kafka-python.readthedocs.io/en/master/search.html\n",
      "Reusing existing connection to [kafka-python.readthedocs.io]:443.\n",
      "HTTP request sent, awaiting response... 200 OK\n",
      "Length: unspecified [text/html]\n",
      "Saving to: ‘rtdocs/kafka-python.readthedocs.io/en/master/search.html’\n",
      "\n",
      "kafka-python.readth     [ <=>                ]   9.06K  --.-KB/s    in 0s      \n",
      "\n",
      "2023-05-23 11:13:53 (983 MB/s) - ‘rtdocs/kafka-python.readthedocs.io/en/master/search.html’ saved [9278]\n",
      "\n",
      "--2023-05-23 11:13:53--  https://kafka-python.readthedocs.io/en/master/usage.html\n",
      "Reusing existing connection to [kafka-python.readthedocs.io]:443.\n",
      "HTTP request sent, awaiting response... 200 OK\n",
      "Length: unspecified [text/html]\n",
      "Saving to: ‘rtdocs/kafka-python.readthedocs.io/en/master/usage.html’\n",
      "\n",
      "kafka-python.readth     [ <=>                ]  22.31K  --.-KB/s    in 0s      \n",
      "\n",
      "2023-05-23 11:13:53 (154 MB/s) - ‘rtdocs/kafka-python.readthedocs.io/en/master/usage.html’ saved [22842]\n",
      "\n",
      "--2023-05-23 11:13:53--  https://kafka-python.readthedocs.io/en/master/apidoc/modules.html\n",
      "Reusing existing connection to [kafka-python.readthedocs.io]:443.\n",
      "HTTP request sent, awaiting response... 200 OK\n",
      "Length: unspecified [text/html]\n",
      "Saving to: ‘rtdocs/kafka-python.readthedocs.io/en/master/apidoc/modules.html’\n",
      "\n",
      "kafka-python.readth     [ <=>                ]  10.80K  --.-KB/s    in 0s      \n",
      "\n",
      "2023-05-23 11:13:55 (1.03 GB/s) - ‘rtdocs/kafka-python.readthedocs.io/en/master/apidoc/modules.html’ saved [11058]\n",
      "\n",
      "--2023-05-23 11:13:55--  https://kafka-python.readthedocs.io/en/master/install.html\n",
      "Reusing existing connection to [kafka-python.readthedocs.io]:443.\n",
      "HTTP request sent, awaiting response... 200 OK\n",
      "Length: unspecified [text/html]\n",
      "Saving to: ‘rtdocs/kafka-python.readthedocs.io/en/master/install.html’\n",
      "\n",
      "kafka-python.readth     [ <=>                ]  16.42K  --.-KB/s    in 0s      \n",
      "\n",
      "2023-05-23 11:13:55 (53.1 MB/s) - ‘rtdocs/kafka-python.readthedocs.io/en/master/install.html’ saved [16818]\n",
      "\n",
      "--2023-05-23 11:13:55--  https://kafka-python.readthedocs.io/en/master/tests.html\n",
      "Reusing existing connection to [kafka-python.readthedocs.io]:443.\n",
      "HTTP request sent, awaiting response... 200 OK\n",
      "Length: unspecified [text/html]\n",
      "Saving to: ‘rtdocs/kafka-python.readthedocs.io/en/master/tests.html’\n",
      "\n",
      "kafka-python.readth     [ <=>                ]  15.34K  --.-KB/s    in 0s      \n",
      "\n",
      "2023-05-23 11:13:56 (116 MB/s) - ‘rtdocs/kafka-python.readthedocs.io/en/master/tests.html’ saved [15706]\n",
      "\n",
      "--2023-05-23 11:13:56--  https://kafka-python.readthedocs.io/en/master/compatibility.html\n",
      "Reusing existing connection to [kafka-python.readthedocs.io]:443.\n",
      "HTTP request sent, awaiting response... 200 OK\n",
      "Length: unspecified [text/html]\n",
      "Saving to: ‘rtdocs/kafka-python.readthedocs.io/en/master/compatibility.html’\n",
      "\n",
      "kafka-python.readth     [ <=>                ]  10.79K  --.-KB/s    in 0s      \n",
      "\n",
      "2023-05-23 11:13:58 (1.47 GB/s) - ‘rtdocs/kafka-python.readthedocs.io/en/master/compatibility.html’ saved [11046]\n",
      "\n",
      "--2023-05-23 11:13:58--  https://kafka-python.readthedocs.io/en/master/support.html\n",
      "Reusing existing connection to [kafka-python.readthedocs.io]:443.\n",
      "HTTP request sent, awaiting response... 200 OK\n",
      "Length: unspecified [text/html]\n",
      "Saving to: ‘rtdocs/kafka-python.readthedocs.io/en/master/support.html’\n",
      "\n",
      "kafka-python.readth     [ <=>                ]  10.02K  --.-KB/s    in 0s      \n",
      "\n",
      "2023-05-23 11:13:59 (1.06 GB/s) - ‘rtdocs/kafka-python.readthedocs.io/en/master/support.html’ saved [10259]\n",
      "\n",
      "--2023-05-23 11:13:59--  https://kafka-python.readthedocs.io/en/master/license.html\n",
      "Reusing existing connection to [kafka-python.readthedocs.io]:443.\n",
      "HTTP request sent, awaiting response... 200 OK\n",
      "Length: unspecified [text/html]\n",
      "Saving to: ‘rtdocs/kafka-python.readthedocs.io/en/master/license.html’\n",
      "\n",
      "kafka-python.readth     [ <=>                ]   9.93K  --.-KB/s    in 0s      \n",
      "\n",
      "2023-05-23 11:14:00 (1.05 GB/s) - ‘rtdocs/kafka-python.readthedocs.io/en/master/license.html’ saved [10170]\n",
      "\n",
      "--2023-05-23 11:14:00--  https://kafka-python.readthedocs.io/en/master/changelog.html\n",
      "Reusing existing connection to [kafka-python.readthedocs.io]:443.\n",
      "HTTP request sent, awaiting response... 200 OK\n",
      "Length: unspecified [text/html]\n",
      "Saving to: ‘rtdocs/kafka-python.readthedocs.io/en/master/changelog.html’\n",
      "\n",
      "kafka-python.readth     [  <=>               ] 108.82K   447KB/s    in 0.2s    \n",
      "\n",
      "2023-05-23 11:14:00 (447 KB/s) - ‘rtdocs/kafka-python.readthedocs.io/en/master/changelog.html’ saved [111436]\n",
      "\n",
      "--2023-05-23 11:14:00--  https://kafka-python.readthedocs.io/en/master/apidoc/KafkaConsumer.html\n",
      "Reusing existing connection to [kafka-python.readthedocs.io]:443.\n",
      "HTTP request sent, awaiting response... 200 OK\n",
      "Length: unspecified [text/html]\n",
      "Saving to: ‘rtdocs/kafka-python.readthedocs.io/en/master/apidoc/KafkaConsumer.html’\n",
      "\n",
      "kafka-python.readth     [ <=>                ]  64.71K  --.-KB/s    in 0.1s    \n",
      "\n",
      "2023-05-23 11:14:01 (497 KB/s) - ‘rtdocs/kafka-python.readthedocs.io/en/master/apidoc/KafkaConsumer.html’ saved [66264]\n",
      "\n",
      "--2023-05-23 11:14:01--  https://kafka-python.readthedocs.io/en/master/apidoc/KafkaProducer.html\n",
      "Reusing existing connection to [kafka-python.readthedocs.io]:443.\n",
      "HTTP request sent, awaiting response... 200 OK\n",
      "Length: unspecified [text/html]\n",
      "Saving to: ‘rtdocs/kafka-python.readthedocs.io/en/master/apidoc/KafkaProducer.html’\n",
      "\n",
      "kafka-python.readth     [  <=>               ]  35.26K   122KB/s    in 0.3s    \n",
      "\n",
      "2023-05-23 11:14:02 (122 KB/s) - ‘rtdocs/kafka-python.readthedocs.io/en/master/apidoc/KafkaProducer.html’ saved [36107]\n",
      "\n",
      "--2023-05-23 11:14:02--  https://kafka-python.readthedocs.io/en/master/apidoc/KafkaClient.html\n",
      "Reusing existing connection to [kafka-python.readthedocs.io]:443.\n",
      "HTTP request sent, awaiting response... 200 OK\n",
      "Length: unspecified [text/html]\n",
      "Saving to: ‘rtdocs/kafka-python.readthedocs.io/en/master/apidoc/KafkaClient.html’\n",
      "\n",
      "kafka-python.readth     [ <=>                ]  36.67K   192KB/s    in 0.2s    \n",
      "\n",
      "2023-05-23 11:14:02 (192 KB/s) - ‘rtdocs/kafka-python.readthedocs.io/en/master/apidoc/KafkaClient.html’ saved [37547]\n",
      "\n",
      "--2023-05-23 11:14:02--  https://kafka-python.readthedocs.io/en/2.0.0/\n",
      "Reusing existing connection to [kafka-python.readthedocs.io]:443.\n",
      "HTTP request sent, awaiting response... 200 OK\n",
      "Length: unspecified [text/html]\n",
      "Saving to: ‘rtdocs/kafka-python.readthedocs.io/en/2.0.0/index.html’\n",
      "\n",
      "kafka-python.readth     [ <=>                ]  25.71K  --.-KB/s    in 0.07s   \n",
      "\n",
      "2023-05-23 11:14:04 (362 KB/s) - ‘rtdocs/kafka-python.readthedocs.io/en/2.0.0/index.html’ saved [26322]\n",
      "\n",
      "--2023-05-23 11:14:04--  https://kafka-python.readthedocs.io/_/downloads/en/master/pdf/\n",
      "Reusing existing connection to [kafka-python.readthedocs.io]:443.\n",
      "HTTP request sent, awaiting response... 200 OK\n",
      "Length: 312610 (305K) [application/pdf]\n",
      "Saving to: ‘rtdocs/kafka-python.readthedocs.io/_/downloads/en/master/pdf/index.html’\n",
      "\n",
      "kafka-python.readth 100%[===================>] 305.28K   388KB/s    in 0.8s    \n",
      "\n",
      "2023-05-23 11:14:06 (388 KB/s) - ‘rtdocs/kafka-python.readthedocs.io/_/downloads/en/master/pdf/index.html’ saved [312610/312610]\n",
      "\n",
      "--2023-05-23 11:14:06--  https://kafka-python.readthedocs.io/_/downloads/en/master/htmlzip/\n",
      "Reusing existing connection to [kafka-python.readthedocs.io]:443.\n",
      "HTTP request sent, awaiting response... 200 OK\n",
      "Length: 10170942 (9.7M) [application/zip]\n",
      "Saving to: ‘rtdocs/kafka-python.readthedocs.io/_/downloads/en/master/htmlzip/index.html’\n",
      "\n",
      "kafka-python.readth 100%[===================>]   9.70M  1.78MB/s    in 7.0s    \n",
      "\n",
      "2023-05-23 11:14:15 (1.40 MB/s) - ‘rtdocs/kafka-python.readthedocs.io/_/downloads/en/master/htmlzip/index.html’ saved [10170942/10170942]\n",
      "\n",
      "--2023-05-23 11:14:15--  https://kafka-python.readthedocs.io/_/downloads/en/master/epub/\n",
      "Reusing existing connection to [kafka-python.readthedocs.io]:443.\n",
      "HTTP request sent, awaiting response... 200 OK\n",
      "Length: 86969 (85K) [application/epub+zip]\n",
      "Saving to: ‘rtdocs/kafka-python.readthedocs.io/_/downloads/en/master/epub/index.html’\n",
      "\n",
      "kafka-python.readth 100%[===================>]  84.93K  --.-KB/s    in 0.03s   \n",
      "\n",
      "2023-05-23 11:14:16 (2.86 MB/s) - ‘rtdocs/kafka-python.readthedocs.io/_/downloads/en/master/epub/index.html’ saved [86969/86969]\n",
      "\n",
      "--2023-05-23 11:14:16--  https://kafka-python.readthedocs.io/en/latest/_modules/kafka/consumer/group.html\n",
      "Reusing existing connection to [kafka-python.readthedocs.io]:443.\n",
      "HTTP request sent, awaiting response... 200 OK\n",
      "Length: unspecified [text/html]\n",
      "Saving to: ‘rtdocs/kafka-python.readthedocs.io/en/latest/_modules/kafka/consumer/group.html’\n",
      "\n",
      "kafka-python.readth     [  <=>               ] 160.22K   672KB/s    in 0.2s    \n",
      "\n",
      "2023-05-23 11:14:17 (672 KB/s) - ‘rtdocs/kafka-python.readthedocs.io/en/latest/_modules/kafka/consumer/group.html’ saved [164061]\n",
      "\n",
      "--2023-05-23 11:14:17--  https://kafka-python.readthedocs.io/en/latest/_modules/kafka/producer/kafka.html\n",
      "Reusing existing connection to [kafka-python.readthedocs.io]:443.\n",
      "HTTP request sent, awaiting response... 200 OK\n",
      "Length: unspecified [text/html]\n",
      "Saving to: ‘rtdocs/kafka-python.readthedocs.io/en/latest/_modules/kafka/producer/kafka.html’\n",
      "\n",
      "kafka-python.readth     [ <=>                ] 105.36K  --.-KB/s    in 0.03s   \n",
      "\n",
      "2023-05-23 11:14:18 (3.03 MB/s) - ‘rtdocs/kafka-python.readthedocs.io/en/latest/_modules/kafka/producer/kafka.html’ saved [107889]\n",
      "\n",
      "--2023-05-23 11:14:18--  https://kafka-python.readthedocs.io/en/latest/_modules/kafka/client_async.html\n",
      "Reusing existing connection to [kafka-python.readthedocs.io]:443.\n",
      "HTTP request sent, awaiting response... 200 OK\n",
      "Length: unspecified [text/html]\n",
      "Saving to: ‘rtdocs/kafka-python.readthedocs.io/en/latest/_modules/kafka/client_async.html’\n",
      "\n",
      "kafka-python.readth     [ <=>                ] 152.83K  --.-KB/s    in 0.05s   \n",
      "\n",
      "2023-05-23 11:14:20 (2.85 MB/s) - ‘rtdocs/kafka-python.readthedocs.io/en/latest/_modules/kafka/client_async.html’ saved [156500]\n",
      "\n",
      "--2023-05-23 11:14:20--  https://kafka-python.readthedocs.io/en/stable/genindex.html\n",
      "Reusing existing connection to [kafka-python.readthedocs.io]:443.\n",
      "HTTP request sent, awaiting response... 200 OK\n",
      "Length: unspecified [text/html]\n",
      "Saving to: ‘rtdocs/kafka-python.readthedocs.io/en/stable/genindex.html’\n",
      "\n",
      "kafka-python.readth     [ <=>                ]  26.25K  --.-KB/s    in 0.004s  \n",
      "\n",
      "2023-05-23 11:14:21 (6.91 MB/s) - ‘rtdocs/kafka-python.readthedocs.io/en/stable/genindex.html’ saved [26877]\n",
      "\n",
      "--2023-05-23 11:14:21--  https://kafka-python.readthedocs.io/en/stable/search.html\n",
      "Reusing existing connection to [kafka-python.readthedocs.io]:443.\n",
      "HTTP request sent, awaiting response... 200 OK\n",
      "Length: unspecified [text/html]\n",
      "Saving to: ‘rtdocs/kafka-python.readthedocs.io/en/stable/search.html’\n",
      "\n",
      "kafka-python.readth     [ <=>                ]   9.09K  --.-KB/s    in 0s      \n",
      "\n",
      "2023-05-23 11:14:21 (888 MB/s) - ‘rtdocs/kafka-python.readthedocs.io/en/stable/search.html’ saved [9308]\n",
      "\n",
      "--2023-05-23 11:14:21--  https://kafka-python.readthedocs.io/en/stable/usage.html\n",
      "Reusing existing connection to [kafka-python.readthedocs.io]:443.\n",
      "HTTP request sent, awaiting response... 200 OK\n",
      "Length: unspecified [text/html]\n",
      "Saving to: ‘rtdocs/kafka-python.readthedocs.io/en/stable/usage.html’\n",
      "\n",
      "kafka-python.readth     [ <=>                ]  22.34K  --.-KB/s    in 0s      \n",
      "\n",
      "2023-05-23 11:14:22 (64.2 MB/s) - ‘rtdocs/kafka-python.readthedocs.io/en/stable/usage.html’ saved [22872]\n",
      "\n",
      "--2023-05-23 11:14:22--  https://kafka-python.readthedocs.io/en/stable/apidoc/modules.html\n",
      "Reusing existing connection to [kafka-python.readthedocs.io]:443.\n",
      "HTTP request sent, awaiting response... 200 OK\n",
      "Length: unspecified [text/html]\n",
      "Saving to: ‘rtdocs/kafka-python.readthedocs.io/en/stable/apidoc/modules.html’\n",
      "\n",
      "kafka-python.readth     [ <=>                ]  10.83K  --.-KB/s    in 0s      \n",
      "\n",
      "2023-05-23 11:14:23 (1.03 GB/s) - ‘rtdocs/kafka-python.readthedocs.io/en/stable/apidoc/modules.html’ saved [11088]\n",
      "\n",
      "--2023-05-23 11:14:23--  https://kafka-python.readthedocs.io/en/stable/install.html\n",
      "Reusing existing connection to [kafka-python.readthedocs.io]:443.\n",
      "HTTP request sent, awaiting response... 200 OK\n",
      "Length: unspecified [text/html]\n",
      "Saving to: ‘rtdocs/kafka-python.readthedocs.io/en/stable/install.html’\n",
      "\n",
      "kafka-python.readth     [ <=>                ]  16.45K  --.-KB/s    in 0s      \n",
      "\n",
      "2023-05-23 11:14:24 (34.2 MB/s) - ‘rtdocs/kafka-python.readthedocs.io/en/stable/install.html’ saved [16848]\n",
      "\n",
      "--2023-05-23 11:14:24--  https://kafka-python.readthedocs.io/en/stable/tests.html\n",
      "Reusing existing connection to [kafka-python.readthedocs.io]:443.\n",
      "HTTP request sent, awaiting response... 200 OK\n",
      "Length: unspecified [text/html]\n",
      "Saving to: ‘rtdocs/kafka-python.readthedocs.io/en/stable/tests.html’\n",
      "\n",
      "kafka-python.readth     [ <=>                ]  15.37K  --.-KB/s    in 0s      \n",
      "\n",
      "2023-05-23 11:14:25 (60.8 MB/s) - ‘rtdocs/kafka-python.readthedocs.io/en/stable/tests.html’ saved [15736]\n",
      "\n",
      "--2023-05-23 11:14:25--  https://kafka-python.readthedocs.io/en/stable/compatibility.html\n",
      "Reusing existing connection to [kafka-python.readthedocs.io]:443.\n",
      "HTTP request sent, awaiting response... 200 OK\n",
      "Length: unspecified [text/html]\n",
      "Saving to: ‘rtdocs/kafka-python.readthedocs.io/en/stable/compatibility.html’\n",
      "\n",
      "kafka-python.readth     [ <=>                ]  10.82K  --.-KB/s    in 0s      \n",
      "\n",
      "2023-05-23 11:14:26 (1.15 GB/s) - ‘rtdocs/kafka-python.readthedocs.io/en/stable/compatibility.html’ saved [11076]\n",
      "\n",
      "--2023-05-23 11:14:26--  https://kafka-python.readthedocs.io/en/stable/support.html\n",
      "Reusing existing connection to [kafka-python.readthedocs.io]:443.\n",
      "HTTP request sent, awaiting response... 200 OK\n",
      "Length: unspecified [text/html]\n",
      "Saving to: ‘rtdocs/kafka-python.readthedocs.io/en/stable/support.html’\n",
      "\n",
      "kafka-python.readth     [ <=>                ]  10.05K  --.-KB/s    in 0s      \n",
      "\n",
      "2023-05-23 11:14:27 (1.20 GB/s) - ‘rtdocs/kafka-python.readthedocs.io/en/stable/support.html’ saved [10289]\n",
      "\n",
      "--2023-05-23 11:14:27--  https://kafka-python.readthedocs.io/en/stable/license.html\n",
      "Reusing existing connection to [kafka-python.readthedocs.io]:443.\n",
      "HTTP request sent, awaiting response... 200 OK\n",
      "Length: unspecified [text/html]\n",
      "Saving to: ‘rtdocs/kafka-python.readthedocs.io/en/stable/license.html’\n",
      "\n",
      "kafka-python.readth     [ <=>                ]   9.96K  --.-KB/s    in 0s      \n",
      "\n",
      "2023-05-23 11:14:28 (1.19 GB/s) - ‘rtdocs/kafka-python.readthedocs.io/en/stable/license.html’ saved [10200]\n",
      "\n",
      "--2023-05-23 11:14:28--  https://kafka-python.readthedocs.io/en/stable/changelog.html\n",
      "Reusing existing connection to [kafka-python.readthedocs.io]:443.\n",
      "HTTP request sent, awaiting response... 200 OK\n",
      "Length: unspecified [text/html]\n",
      "Saving to: ‘rtdocs/kafka-python.readthedocs.io/en/stable/changelog.html’\n",
      "\n",
      "kafka-python.readth     [  <=>               ] 108.85K   247KB/s    in 0.4s    \n",
      "\n",
      "2023-05-23 11:14:30 (247 KB/s) - ‘rtdocs/kafka-python.readthedocs.io/en/stable/changelog.html’ saved [111466]\n",
      "\n",
      "--2023-05-23 11:14:30--  https://kafka-python.readthedocs.io/en/stable/apidoc/KafkaConsumer.html\n",
      "Reusing existing connection to [kafka-python.readthedocs.io]:443.\n",
      "HTTP request sent, awaiting response... 200 OK\n",
      "Length: unspecified [text/html]\n",
      "Saving to: ‘rtdocs/kafka-python.readthedocs.io/en/stable/apidoc/KafkaConsumer.html’\n",
      "\n",
      "kafka-python.readth     [   <=>              ]  64.71K   124KB/s    in 0.5s    \n",
      "\n",
      "2023-05-23 11:14:32 (124 KB/s) - ‘rtdocs/kafka-python.readthedocs.io/en/stable/apidoc/KafkaConsumer.html’ saved [66268]\n",
      "\n",
      "--2023-05-23 11:14:32--  https://kafka-python.readthedocs.io/en/stable/apidoc/KafkaProducer.html\n",
      "Reusing existing connection to [kafka-python.readthedocs.io]:443.\n",
      "HTTP request sent, awaiting response... 200 OK\n",
      "Length: unspecified [text/html]\n",
      "Saving to: ‘rtdocs/kafka-python.readthedocs.io/en/stable/apidoc/KafkaProducer.html’\n",
      "\n",
      "kafka-python.readth     [ <=>                ]  35.29K  --.-KB/s    in 0.04s   \n",
      "\n",
      "2023-05-23 11:14:33 (847 KB/s) - ‘rtdocs/kafka-python.readthedocs.io/en/stable/apidoc/KafkaProducer.html’ saved [36137]\n",
      "\n",
      "--2023-05-23 11:14:33--  https://kafka-python.readthedocs.io/en/stable/apidoc/KafkaClient.html\n",
      "Reusing existing connection to [kafka-python.readthedocs.io]:443.\n",
      "HTTP request sent, awaiting response... 200 OK\n",
      "Length: unspecified [text/html]\n",
      "Saving to: ‘rtdocs/kafka-python.readthedocs.io/en/stable/apidoc/KafkaClient.html’\n",
      "\n",
      "kafka-python.readth     [ <=>                ]  36.70K  --.-KB/s    in 0.03s   \n",
      "\n",
      "2023-05-23 11:14:35 (1.20 MB/s) - ‘rtdocs/kafka-python.readthedocs.io/en/stable/apidoc/KafkaClient.html’ saved [37577]\n",
      "\n",
      "--2023-05-23 11:14:35--  https://kafka-python.readthedocs.io/_/downloads/en/stable/pdf/\n",
      "Reusing existing connection to [kafka-python.readthedocs.io]:443.\n",
      "HTTP request sent, awaiting response... 200 OK\n",
      "Length: 312054 (305K) [application/pdf]\n",
      "Saving to: ‘rtdocs/kafka-python.readthedocs.io/_/downloads/en/stable/pdf/index.html’\n",
      "\n",
      "kafka-python.readth 100%[===================>] 304.74K   208KB/s    in 1.5s    \n",
      "\n",
      "2023-05-23 11:14:38 (208 KB/s) - ‘rtdocs/kafka-python.readthedocs.io/_/downloads/en/stable/pdf/index.html’ saved [312054/312054]\n",
      "\n",
      "--2023-05-23 11:14:38--  https://kafka-python.readthedocs.io/_/downloads/en/stable/htmlzip/\n",
      "Reusing existing connection to [kafka-python.readthedocs.io]:443.\n",
      "HTTP request sent, awaiting response... 200 OK\n",
      "Length: 10170938 (9.7M) [application/zip]\n",
      "Saving to: ‘rtdocs/kafka-python.readthedocs.io/_/downloads/en/stable/htmlzip/index.html’\n",
      "\n",
      "kafka-python.readth 100%[===================>]   9.70M  1.72MB/s    in 6.1s    \n",
      "\n",
      "2023-05-23 11:14:45 (1.58 MB/s) - ‘rtdocs/kafka-python.readthedocs.io/_/downloads/en/stable/htmlzip/index.html’ saved [10170938/10170938]\n",
      "\n",
      "--2023-05-23 11:14:45--  https://kafka-python.readthedocs.io/_/downloads/en/stable/epub/\n",
      "Reusing existing connection to [kafka-python.readthedocs.io]:443.\n",
      "HTTP request sent, awaiting response... 200 OK\n",
      "Length: 86956 (85K) [application/epub+zip]\n",
      "Saving to: ‘rtdocs/kafka-python.readthedocs.io/_/downloads/en/stable/epub/index.html’\n",
      "\n",
      "kafka-python.readth 100%[===================>]  84.92K  --.-KB/s    in 0.07s   \n",
      "\n",
      "2023-05-23 11:14:46 (1.11 MB/s) - ‘rtdocs/kafka-python.readthedocs.io/_/downloads/en/stable/epub/index.html’ saved [86956/86956]\n",
      "\n",
      "--2023-05-23 11:14:46--  https://kafka-python.readthedocs.io/en/2.0.1/genindex.html\n",
      "Reusing existing connection to [kafka-python.readthedocs.io]:443.\n",
      "HTTP request sent, awaiting response... 200 OK\n",
      "Length: unspecified [text/html]\n",
      "Saving to: ‘rtdocs/kafka-python.readthedocs.io/en/2.0.1/genindex.html’\n",
      "\n",
      "kafka-python.readth     [ <=>                ]  25.84K  --.-KB/s    in 0.004s  \n",
      "\n",
      "2023-05-23 11:14:47 (7.02 MB/s) - ‘rtdocs/kafka-python.readthedocs.io/en/2.0.1/genindex.html’ saved [26465]\n",
      "\n",
      "--2023-05-23 11:14:47--  https://kafka-python.readthedocs.io/en/2.0.1/search.html\n",
      "Reusing existing connection to [kafka-python.readthedocs.io]:443.\n",
      "HTTP request sent, awaiting response... 200 OK\n",
      "Length: unspecified [text/html]\n",
      "Saving to: ‘rtdocs/kafka-python.readthedocs.io/en/2.0.1/search.html’\n",
      "\n",
      "kafka-python.readth     [ <=>                ]   8.69K  --.-KB/s    in 0s      \n",
      "\n",
      "2023-05-23 11:14:48 (1.04 GB/s) - ‘rtdocs/kafka-python.readthedocs.io/en/2.0.1/search.html’ saved [8896]\n",
      "\n",
      "--2023-05-23 11:14:48--  https://kafka-python.readthedocs.io/en/2.0.1/usage.html\n",
      "Reusing existing connection to [kafka-python.readthedocs.io]:443.\n",
      "HTTP request sent, awaiting response... 200 OK\n",
      "Length: unspecified [text/html]\n",
      "Saving to: ‘rtdocs/kafka-python.readthedocs.io/en/2.0.1/usage.html’\n",
      "\n",
      "kafka-python.readth     [ <=>                ]  21.93K  --.-KB/s    in 0s      \n",
      "\n",
      "2023-05-23 11:14:49 (80.8 MB/s) - ‘rtdocs/kafka-python.readthedocs.io/en/2.0.1/usage.html’ saved [22460]\n",
      "\n",
      "--2023-05-23 11:14:49--  https://kafka-python.readthedocs.io/en/2.0.1/apidoc/modules.html\n",
      "Reusing existing connection to [kafka-python.readthedocs.io]:443.\n",
      "HTTP request sent, awaiting response... 200 OK\n",
      "Length: unspecified [text/html]\n",
      "Saving to: ‘rtdocs/kafka-python.readthedocs.io/en/2.0.1/apidoc/modules.html’\n",
      "\n",
      "kafka-python.readth     [ <=>                ]  10.43K  --.-KB/s    in 0s      \n",
      "\n",
      "2023-05-23 11:14:50 (1018 MB/s) - ‘rtdocs/kafka-python.readthedocs.io/en/2.0.1/apidoc/modules.html’ saved [10676]\n",
      "\n",
      "--2023-05-23 11:14:50--  https://kafka-python.readthedocs.io/en/2.0.1/install.html\n",
      "Reusing existing connection to [kafka-python.readthedocs.io]:443.\n",
      "HTTP request sent, awaiting response... 200 OK\n",
      "Length: unspecified [text/html]\n",
      "Saving to: ‘rtdocs/kafka-python.readthedocs.io/en/2.0.1/install.html’\n",
      "\n",
      "kafka-python.readth     [ <=>                ]  16.05K  --.-KB/s    in 0s      \n",
      "\n",
      "2023-05-23 11:14:50 (52.2 MB/s) - ‘rtdocs/kafka-python.readthedocs.io/en/2.0.1/install.html’ saved [16436]\n",
      "\n",
      "--2023-05-23 11:14:50--  https://kafka-python.readthedocs.io/en/2.0.1/tests.html\n",
      "Reusing existing connection to [kafka-python.readthedocs.io]:443.\n",
      "HTTP request sent, awaiting response... 200 OK\n",
      "Length: unspecified [text/html]\n",
      "Saving to: ‘rtdocs/kafka-python.readthedocs.io/en/2.0.1/tests.html’\n",
      "\n",
      "kafka-python.readth     [ <=>                ]  14.96K  --.-KB/s    in 0s      \n",
      "\n",
      "2023-05-23 11:14:50 (1.19 GB/s) - ‘rtdocs/kafka-python.readthedocs.io/en/2.0.1/tests.html’ saved [15324]\n",
      "\n",
      "--2023-05-23 11:14:50--  https://kafka-python.readthedocs.io/en/2.0.1/compatibility.html\n",
      "Reusing existing connection to [kafka-python.readthedocs.io]:443.\n",
      "HTTP request sent, awaiting response... 200 OK\n",
      "Length: unspecified [text/html]\n",
      "Saving to: ‘rtdocs/kafka-python.readthedocs.io/en/2.0.1/compatibility.html’\n",
      "\n",
      "kafka-python.readth     [ <=>                ]  10.41K  --.-KB/s    in 0s      \n",
      "\n",
      "2023-05-23 11:14:51 (1.24 GB/s) - ‘rtdocs/kafka-python.readthedocs.io/en/2.0.1/compatibility.html’ saved [10664]\n",
      "\n",
      "--2023-05-23 11:14:51--  https://kafka-python.readthedocs.io/en/2.0.1/support.html\n",
      "Reusing existing connection to [kafka-python.readthedocs.io]:443.\n",
      "HTTP request sent, awaiting response... 200 OK\n",
      "Length: unspecified [text/html]\n",
      "Saving to: ‘rtdocs/kafka-python.readthedocs.io/en/2.0.1/support.html’\n",
      "\n",
      "kafka-python.readth     [ <=>                ]   9.65K  --.-KB/s    in 0s      \n",
      "\n",
      "2023-05-23 11:14:52 (1.02 GB/s) - ‘rtdocs/kafka-python.readthedocs.io/en/2.0.1/support.html’ saved [9877]\n",
      "\n",
      "--2023-05-23 11:14:52--  https://kafka-python.readthedocs.io/en/2.0.1/license.html\n",
      "Reusing existing connection to [kafka-python.readthedocs.io]:443.\n",
      "HTTP request sent, awaiting response... 200 OK\n",
      "Length: unspecified [text/html]\n",
      "Saving to: ‘rtdocs/kafka-python.readthedocs.io/en/2.0.1/license.html’\n",
      "\n",
      "kafka-python.readth     [ <=>                ]   9.56K  --.-KB/s    in 0s      \n",
      "\n",
      "2023-05-23 11:14:53 (933 MB/s) - ‘rtdocs/kafka-python.readthedocs.io/en/2.0.1/license.html’ saved [9788]\n",
      "\n",
      "--2023-05-23 11:14:53--  https://kafka-python.readthedocs.io/en/2.0.1/changelog.html\n",
      "Reusing existing connection to [kafka-python.readthedocs.io]:443.\n",
      "HTTP request sent, awaiting response... 200 OK\n",
      "Length: unspecified [text/html]\n",
      "Saving to: ‘rtdocs/kafka-python.readthedocs.io/en/2.0.1/changelog.html’\n",
      "\n",
      "kafka-python.readth     [ <=>                ] 108.45K  --.-KB/s    in 0.03s   \n",
      "\n",
      "2023-05-23 11:14:54 (3.17 MB/s) - ‘rtdocs/kafka-python.readthedocs.io/en/2.0.1/changelog.html’ saved [111054]\n",
      "\n",
      "--2023-05-23 11:14:54--  https://kafka-python.readthedocs.io/en/2.0.1/apidoc/KafkaConsumer.html\n",
      "Reusing existing connection to [kafka-python.readthedocs.io]:443.\n",
      "HTTP request sent, awaiting response... 200 OK\n",
      "Length: unspecified [text/html]\n",
      "Saving to: ‘rtdocs/kafka-python.readthedocs.io/en/2.0.1/apidoc/KafkaConsumer.html’\n",
      "\n",
      "kafka-python.readth     [ <=>                ]  64.31K  --.-KB/s    in 0.02s   \n",
      "\n",
      "2023-05-23 11:14:55 (3.40 MB/s) - ‘rtdocs/kafka-python.readthedocs.io/en/2.0.1/apidoc/KafkaConsumer.html’ saved [65856]\n",
      "\n",
      "--2023-05-23 11:14:55--  https://kafka-python.readthedocs.io/en/2.0.1/apidoc/KafkaProducer.html\n",
      "Reusing existing connection to [kafka-python.readthedocs.io]:443.\n",
      "HTTP request sent, awaiting response... 200 OK\n",
      "Length: unspecified [text/html]\n",
      "Saving to: ‘rtdocs/kafka-python.readthedocs.io/en/2.0.1/apidoc/KafkaProducer.html’\n",
      "\n",
      "kafka-python.readth     [ <=>                ]  34.89K  --.-KB/s    in 0.005s  \n",
      "\n",
      "2023-05-23 11:14:56 (6.54 MB/s) - ‘rtdocs/kafka-python.readthedocs.io/en/2.0.1/apidoc/KafkaProducer.html’ saved [35725]\n",
      "\n",
      "--2023-05-23 11:14:56--  https://kafka-python.readthedocs.io/en/2.0.1/apidoc/KafkaClient.html\n",
      "Reusing existing connection to [kafka-python.readthedocs.io]:443.\n",
      "HTTP request sent, awaiting response... 200 OK\n",
      "Length: unspecified [text/html]\n",
      "Saving to: ‘rtdocs/kafka-python.readthedocs.io/en/2.0.1/apidoc/KafkaClient.html’\n",
      "\n",
      "kafka-python.readth     [ <=>                ]  36.29K  --.-KB/s    in 0.01s   \n",
      "\n",
      "2023-05-23 11:14:57 (2.51 MB/s) - ‘rtdocs/kafka-python.readthedocs.io/en/2.0.1/apidoc/KafkaClient.html’ saved [37165]\n",
      "\n",
      "--2023-05-23 11:14:57--  https://kafka-python.readthedocs.io/en/1.4.7/genindex.html\n",
      "Reusing existing connection to [kafka-python.readthedocs.io]:443.\n",
      "HTTP request sent, awaiting response... 200 OK\n",
      "Length: unspecified [text/html]\n",
      "Saving to: ‘rtdocs/kafka-python.readthedocs.io/en/1.4.7/genindex.html’\n",
      "\n",
      "kafka-python.readth     [ <=>                ] 198.69K  --.-KB/s    in 0.08s   \n",
      "\n",
      "2023-05-23 11:14:58 (2.53 MB/s) - ‘rtdocs/kafka-python.readthedocs.io/en/1.4.7/genindex.html’ saved [203454]\n",
      "\n",
      "--2023-05-23 11:14:58--  https://kafka-python.readthedocs.io/en/1.4.7/search.html\n",
      "Reusing existing connection to [kafka-python.readthedocs.io]:443.\n",
      "HTTP request sent, awaiting response... 200 OK\n",
      "Length: unspecified [text/html]\n",
      "Saving to: ‘rtdocs/kafka-python.readthedocs.io/en/1.4.7/search.html’\n",
      "\n",
      "kafka-python.readth     [ <=>                ]   8.74K  --.-KB/s    in 0s      \n",
      "\n",
      "2023-05-23 11:14:59 (1.04 GB/s) - ‘rtdocs/kafka-python.readthedocs.io/en/1.4.7/search.html’ saved [8946]\n",
      "\n",
      "--2023-05-23 11:14:59--  https://kafka-python.readthedocs.io/en/1.4.7/usage.html\n",
      "Reusing existing connection to [kafka-python.readthedocs.io]:443.\n",
      "HTTP request sent, awaiting response... 200 OK\n",
      "Length: unspecified [text/html]\n",
      "Saving to: ‘rtdocs/kafka-python.readthedocs.io/en/1.4.7/usage.html’\n",
      "\n",
      "kafka-python.readth     [ <=>                ]  21.97K  --.-KB/s    in 0s      \n",
      "\n",
      "2023-05-23 11:15:00 (68.3 MB/s) - ‘rtdocs/kafka-python.readthedocs.io/en/1.4.7/usage.html’ saved [22502]\n",
      "\n",
      "--2023-05-23 11:15:00--  https://kafka-python.readthedocs.io/en/1.4.7/apidoc/modules.html\n",
      "Reusing existing connection to [kafka-python.readthedocs.io]:443.\n",
      "HTTP request sent, awaiting response... 200 OK\n",
      "Length: unspecified [text/html]\n",
      "Saving to: ‘rtdocs/kafka-python.readthedocs.io/en/1.4.7/apidoc/modules.html’\n",
      "\n",
      "kafka-python.readth     [ <=>                ]  10.48K  --.-KB/s    in 0s      \n",
      "\n",
      "2023-05-23 11:15:00 (731 MB/s) - ‘rtdocs/kafka-python.readthedocs.io/en/1.4.7/apidoc/modules.html’ saved [10729]\n",
      "\n",
      "--2023-05-23 11:15:00--  https://kafka-python.readthedocs.io/en/1.4.7/simple.html\n",
      "Reusing existing connection to [kafka-python.readthedocs.io]:443.\n",
      "HTTP request sent, awaiting response... 200 OK\n",
      "Length: unspecified [text/html]\n",
      "Saving to: ‘rtdocs/kafka-python.readthedocs.io/en/1.4.7/simple.html’\n",
      "\n",
      "kafka-python.readth     [ <=>                ]  27.08K  --.-KB/s    in 0.004s  \n",
      "\n",
      "2023-05-23 11:15:01 (7.52 MB/s) - ‘rtdocs/kafka-python.readthedocs.io/en/1.4.7/simple.html’ saved [27730]\n",
      "\n",
      "--2023-05-23 11:15:01--  https://kafka-python.readthedocs.io/en/1.4.7/install.html\n",
      "Reusing existing connection to [kafka-python.readthedocs.io]:443.\n",
      "HTTP request sent, awaiting response... 200 OK\n",
      "Length: unspecified [text/html]\n",
      "Saving to: ‘rtdocs/kafka-python.readthedocs.io/en/1.4.7/install.html’\n",
      "\n",
      "kafka-python.readth     [ <=>                ]  15.56K  --.-KB/s    in 0s      \n",
      "\n",
      "2023-05-23 11:15:02 (41.4 MB/s) - ‘rtdocs/kafka-python.readthedocs.io/en/1.4.7/install.html’ saved [15929]\n",
      "\n",
      "--2023-05-23 11:15:02--  https://kafka-python.readthedocs.io/en/1.4.7/tests.html\n",
      "Reusing existing connection to [kafka-python.readthedocs.io]:443.\n",
      "HTTP request sent, awaiting response... 200 OK\n",
      "Length: unspecified [text/html]\n",
      "Saving to: ‘rtdocs/kafka-python.readthedocs.io/en/1.4.7/tests.html’\n",
      "\n",
      "kafka-python.readth     [ <=>                ]  15.09K  --.-KB/s    in 0s      \n",
      "\n",
      "2023-05-23 11:15:03 (42.1 MB/s) - ‘rtdocs/kafka-python.readthedocs.io/en/1.4.7/tests.html’ saved [15455]\n",
      "\n",
      "--2023-05-23 11:15:03--  https://kafka-python.readthedocs.io/en/1.4.7/compatibility.html\n",
      "Reusing existing connection to [kafka-python.readthedocs.io]:443.\n",
      "HTTP request sent, awaiting response... 200 OK\n",
      "Length: unspecified [text/html]\n",
      "Saving to: ‘rtdocs/kafka-python.readthedocs.io/en/1.4.7/compatibility.html’\n",
      "\n",
      "kafka-python.readth     [ <=>                ]  10.45K  --.-KB/s    in 0s      \n",
      "\n",
      "2023-05-23 11:15:04 (850 MB/s) - ‘rtdocs/kafka-python.readthedocs.io/en/1.4.7/compatibility.html’ saved [10696]\n",
      "\n",
      "--2023-05-23 11:15:04--  https://kafka-python.readthedocs.io/en/1.4.7/support.html\n",
      "Reusing existing connection to [kafka-python.readthedocs.io]:443.\n",
      "HTTP request sent, awaiting response... 200 OK\n",
      "Length: unspecified [text/html]\n",
      "Saving to: ‘rtdocs/kafka-python.readthedocs.io/en/1.4.7/support.html’\n",
      "\n",
      "kafka-python.readth     [ <=>                ]   9.69K  --.-KB/s    in 0s      \n",
      "\n",
      "2023-05-23 11:15:05 (1.32 GB/s) - ‘rtdocs/kafka-python.readthedocs.io/en/1.4.7/support.html’ saved [9927]\n",
      "\n",
      "--2023-05-23 11:15:05--  https://kafka-python.readthedocs.io/en/1.4.7/license.html\n",
      "Reusing existing connection to [kafka-python.readthedocs.io]:443.\n",
      "HTTP request sent, awaiting response... 200 OK\n",
      "Length: unspecified [text/html]\n",
      "Saving to: ‘rtdocs/kafka-python.readthedocs.io/en/1.4.7/license.html’\n",
      "\n",
      "kafka-python.readth     [ <=>                ]   9.61K  --.-KB/s    in 0s      \n",
      "\n",
      "2023-05-23 11:15:06 (938 MB/s) - ‘rtdocs/kafka-python.readthedocs.io/en/1.4.7/license.html’ saved [9838]\n",
      "\n",
      "--2023-05-23 11:15:06--  https://kafka-python.readthedocs.io/en/1.4.7/changelog.html\n",
      "Reusing existing connection to [kafka-python.readthedocs.io]:443.\n",
      "HTTP request sent, awaiting response... 200 OK\n",
      "Length: unspecified [text/html]\n",
      "Saving to: ‘rtdocs/kafka-python.readthedocs.io/en/1.4.7/changelog.html’\n",
      "\n",
      "kafka-python.readth     [ <=>                ] 103.76K  --.-KB/s    in 0.03s   \n",
      "\n",
      "2023-05-23 11:15:07 (3.02 MB/s) - ‘rtdocs/kafka-python.readthedocs.io/en/1.4.7/changelog.html’ saved [106249]\n",
      "\n",
      "--2023-05-23 11:15:07--  https://kafka-python.readthedocs.io/en/1.4.7/apidoc/kafka.html\n",
      "Reusing existing connection to [kafka-python.readthedocs.io]:443.\n",
      "HTTP request sent, awaiting response... 200 OK\n",
      "Length: unspecified [text/html]\n",
      "Saving to: ‘rtdocs/kafka-python.readthedocs.io/en/1.4.7/apidoc/kafka.html’\n",
      "\n",
      "kafka-python.readth     [ <=>                ] 266.82K  --.-KB/s    in 0.1s    \n",
      "\n",
      "2023-05-23 11:15:08 (2.42 MB/s) - ‘rtdocs/kafka-python.readthedocs.io/en/1.4.7/apidoc/kafka.html’ saved [273223]\n",
      "\n",
      "--2023-05-23 11:15:08--  https://kafka-python.readthedocs.io/en/1.4.7/apidoc/KafkaConsumer.html\n",
      "Reusing existing connection to [kafka-python.readthedocs.io]:443.\n",
      "HTTP request sent, awaiting response... 200 OK\n",
      "Length: unspecified [text/html]\n",
      "Saving to: ‘rtdocs/kafka-python.readthedocs.io/en/1.4.7/apidoc/KafkaConsumer.html’\n",
      "\n",
      "kafka-python.readth     [ <=>                ]  64.18K  --.-KB/s    in 0.02s   \n",
      "\n",
      "2023-05-23 11:15:09 (3.40 MB/s) - ‘rtdocs/kafka-python.readthedocs.io/en/1.4.7/apidoc/KafkaConsumer.html’ saved [65719]\n",
      "\n",
      "--2023-05-23 11:15:09--  https://kafka-python.readthedocs.io/en/1.4.7/apidoc/KafkaProducer.html\n",
      "Reusing existing connection to [kafka-python.readthedocs.io]:443.\n",
      "HTTP request sent, awaiting response... 200 OK\n",
      "Length: unspecified [text/html]\n",
      "Saving to: ‘rtdocs/kafka-python.readthedocs.io/en/1.4.7/apidoc/KafkaProducer.html’\n",
      "\n",
      "kafka-python.readth     [ <=>                ]  34.76K  --.-KB/s    in 0.007s  \n",
      "\n",
      "2023-05-23 11:15:10 (4.65 MB/s) - ‘rtdocs/kafka-python.readthedocs.io/en/1.4.7/apidoc/KafkaProducer.html’ saved [35598]\n",
      "\n",
      "--2023-05-23 11:15:10--  https://kafka-python.readthedocs.io/en/1.4.6/genindex.html\n",
      "Reusing existing connection to [kafka-python.readthedocs.io]:443.\n",
      "HTTP request sent, awaiting response... 200 OK\n",
      "Length: unspecified [text/html]\n",
      "Saving to: ‘rtdocs/kafka-python.readthedocs.io/en/1.4.6/genindex.html’\n",
      "\n",
      "kafka-python.readth     [ <=>                ] 195.97K  --.-KB/s    in 0.08s   \n",
      "\n",
      "2023-05-23 11:15:11 (2.52 MB/s) - ‘rtdocs/kafka-python.readthedocs.io/en/1.4.6/genindex.html’ saved [200677]\n",
      "\n",
      "--2023-05-23 11:15:11--  https://kafka-python.readthedocs.io/en/1.4.6/search.html\n",
      "Reusing existing connection to [kafka-python.readthedocs.io]:443.\n",
      "HTTP request sent, awaiting response... 200 OK\n",
      "Length: unspecified [text/html]\n",
      "Saving to: ‘rtdocs/kafka-python.readthedocs.io/en/1.4.6/search.html’\n",
      "\n",
      "kafka-python.readth     [ <=>                ]   8.68K  --.-KB/s    in 0s      \n",
      "\n",
      "2023-05-23 11:15:12 (770 MB/s) - ‘rtdocs/kafka-python.readthedocs.io/en/1.4.6/search.html’ saved [8887]\n",
      "\n",
      "--2023-05-23 11:15:12--  https://kafka-python.readthedocs.io/en/1.4.6/usage.html\n",
      "Reusing existing connection to [kafka-python.readthedocs.io]:443.\n",
      "HTTP request sent, awaiting response... 200 OK\n",
      "Length: unspecified [text/html]\n",
      "Saving to: ‘rtdocs/kafka-python.readthedocs.io/en/1.4.6/usage.html’\n",
      "\n",
      "kafka-python.readth     [ <=>                ]  21.92K  --.-KB/s    in 0s      \n",
      "\n",
      "2023-05-23 11:15:12 (68.6 MB/s) - ‘rtdocs/kafka-python.readthedocs.io/en/1.4.6/usage.html’ saved [22443]\n",
      "\n",
      "--2023-05-23 11:15:12--  https://kafka-python.readthedocs.io/en/1.4.6/apidoc/modules.html\n",
      "Reusing existing connection to [kafka-python.readthedocs.io]:443.\n",
      "HTTP request sent, awaiting response... 200 OK\n",
      "Length: unspecified [text/html]\n",
      "Saving to: ‘rtdocs/kafka-python.readthedocs.io/en/1.4.6/apidoc/modules.html’\n",
      "\n",
      "kafka-python.readth     [ <=>                ]  10.42K  --.-KB/s    in 0s      \n",
      "\n",
      "2023-05-23 11:15:13 (1018 MB/s) - ‘rtdocs/kafka-python.readthedocs.io/en/1.4.6/apidoc/modules.html’ saved [10670]\n",
      "\n",
      "--2023-05-23 11:15:13--  https://kafka-python.readthedocs.io/en/1.4.6/simple.html\n",
      "Reusing existing connection to [kafka-python.readthedocs.io]:443.\n",
      "HTTP request sent, awaiting response... 200 OK\n",
      "Length: unspecified [text/html]\n",
      "Saving to: ‘rtdocs/kafka-python.readthedocs.io/en/1.4.6/simple.html’\n",
      "\n",
      "kafka-python.readth     [ <=>                ]  27.02K  --.-KB/s    in 0.08s   \n",
      "\n",
      "2023-05-23 11:15:14 (333 KB/s) - ‘rtdocs/kafka-python.readthedocs.io/en/1.4.6/simple.html’ saved [27671]\n",
      "\n",
      "--2023-05-23 11:15:14--  https://kafka-python.readthedocs.io/en/1.4.6/install.html\n",
      "Reusing existing connection to [kafka-python.readthedocs.io]:443.\n",
      "HTTP request sent, awaiting response... 200 OK\n",
      "Length: unspecified [text/html]\n",
      "Saving to: ‘rtdocs/kafka-python.readthedocs.io/en/1.4.6/install.html’\n",
      "\n",
      "kafka-python.readth     [ <=>                ]  15.50K  --.-KB/s    in 0s      \n",
      "\n",
      "2023-05-23 11:15:15 (48.0 MB/s) - ‘rtdocs/kafka-python.readthedocs.io/en/1.4.6/install.html’ saved [15870]\n",
      "\n",
      "--2023-05-23 11:15:15--  https://kafka-python.readthedocs.io/en/1.4.6/tests.html\n",
      "Reusing existing connection to [kafka-python.readthedocs.io]:443.\n",
      "HTTP request sent, awaiting response... 200 OK\n",
      "Length: unspecified [text/html]\n",
      "Saving to: ‘rtdocs/kafka-python.readthedocs.io/en/1.4.6/tests.html’\n",
      "\n",
      "kafka-python.readth     [ <=>                ]  15.04K  --.-KB/s    in 0s      \n",
      "\n",
      "2023-05-23 11:15:16 (48.1 MB/s) - ‘rtdocs/kafka-python.readthedocs.io/en/1.4.6/tests.html’ saved [15396]\n",
      "\n",
      "--2023-05-23 11:15:16--  https://kafka-python.readthedocs.io/en/1.4.6/compatibility.html\n",
      "Reusing existing connection to [kafka-python.readthedocs.io]:443.\n",
      "HTTP request sent, awaiting response... 200 OK\n",
      "Length: unspecified [text/html]\n",
      "Saving to: ‘rtdocs/kafka-python.readthedocs.io/en/1.4.6/compatibility.html’\n",
      "\n",
      "kafka-python.readth     [ <=>                ]  10.09K  --.-KB/s    in 0s      \n",
      "\n",
      "2023-05-23 11:15:18 (758 MB/s) - ‘rtdocs/kafka-python.readthedocs.io/en/1.4.6/compatibility.html’ saved [10332]\n",
      "\n",
      "--2023-05-23 11:15:18--  https://kafka-python.readthedocs.io/en/1.4.6/support.html\n",
      "Reusing existing connection to [kafka-python.readthedocs.io]:443.\n",
      "HTTP request sent, awaiting response... 200 OK\n",
      "Length: unspecified [text/html]\n",
      "Saving to: ‘rtdocs/kafka-python.readthedocs.io/en/1.4.6/support.html’\n",
      "\n",
      "kafka-python.readth     [ <=>                ]   9.64K  --.-KB/s    in 0s      \n",
      "\n",
      "2023-05-23 11:15:19 (941 MB/s) - ‘rtdocs/kafka-python.readthedocs.io/en/1.4.6/support.html’ saved [9868]\n",
      "\n",
      "--2023-05-23 11:15:19--  https://kafka-python.readthedocs.io/en/1.4.6/license.html\n",
      "Reusing existing connection to [kafka-python.readthedocs.io]:443.\n",
      "HTTP request sent, awaiting response... 200 OK\n",
      "Length: unspecified [text/html]\n",
      "Saving to: ‘rtdocs/kafka-python.readthedocs.io/en/1.4.6/license.html’\n",
      "\n",
      "kafka-python.readth     [ <=>                ]   9.55K  --.-KB/s    in 0s      \n",
      "\n",
      "2023-05-23 11:15:20 (933 MB/s) - ‘rtdocs/kafka-python.readthedocs.io/en/1.4.6/license.html’ saved [9779]\n",
      "\n",
      "--2023-05-23 11:15:20--  https://kafka-python.readthedocs.io/en/1.4.6/changelog.html\n",
      "Reusing existing connection to [kafka-python.readthedocs.io]:443.\n",
      "HTTP request sent, awaiting response... 200 OK\n",
      "Length: unspecified [text/html]\n",
      "Saving to: ‘rtdocs/kafka-python.readthedocs.io/en/1.4.6/changelog.html’\n",
      "\n",
      "kafka-python.readth     [ <=>                ]  98.26K  --.-KB/s    in 0.03s   \n",
      "\n",
      "2023-05-23 11:15:21 (2.77 MB/s) - ‘rtdocs/kafka-python.readthedocs.io/en/1.4.6/changelog.html’ saved [100616]\n",
      "\n",
      "--2023-05-23 11:15:21--  https://kafka-python.readthedocs.io/en/1.4.6/apidoc/kafka.html\n",
      "Reusing existing connection to [kafka-python.readthedocs.io]:443.\n",
      "HTTP request sent, awaiting response... 200 OK\n",
      "Length: unspecified [text/html]\n",
      "Saving to: ‘rtdocs/kafka-python.readthedocs.io/en/1.4.6/apidoc/kafka.html’\n",
      "\n",
      "kafka-python.readth     [ <=>                ] 259.53K  --.-KB/s    in 0.1s    \n",
      "\n",
      "2023-05-23 11:15:22 (2.44 MB/s) - ‘rtdocs/kafka-python.readthedocs.io/en/1.4.6/apidoc/kafka.html’ saved [265760]\n",
      "\n",
      "--2023-05-23 11:15:22--  https://kafka-python.readthedocs.io/en/1.4.6/apidoc/KafkaConsumer.html\n",
      "Reusing existing connection to [kafka-python.readthedocs.io]:443.\n",
      "HTTP request sent, awaiting response... 200 OK\n",
      "Length: unspecified [text/html]\n",
      "Saving to: ‘rtdocs/kafka-python.readthedocs.io/en/1.4.6/apidoc/KafkaConsumer.html’\n",
      "\n",
      "kafka-python.readth     [ <=>                ]  63.28K  --.-KB/s    in 0.01s   \n",
      "\n",
      "2023-05-23 11:15:23 (4.17 MB/s) - ‘rtdocs/kafka-python.readthedocs.io/en/1.4.6/apidoc/KafkaConsumer.html’ saved [64797]\n",
      "\n",
      "--2023-05-23 11:15:23--  https://kafka-python.readthedocs.io/en/1.4.6/apidoc/KafkaProducer.html\n",
      "Reusing existing connection to [kafka-python.readthedocs.io]:443.\n",
      "HTTP request sent, awaiting response... 200 OK\n",
      "Length: unspecified [text/html]\n",
      "Saving to: ‘rtdocs/kafka-python.readthedocs.io/en/1.4.6/apidoc/KafkaProducer.html’\n",
      "\n",
      "kafka-python.readth     [ <=>                ]  34.20K  --.-KB/s    in 0.002s  \n",
      "\n",
      "2023-05-23 11:15:24 (16.5 MB/s) - ‘rtdocs/kafka-python.readthedocs.io/en/1.4.6/apidoc/KafkaProducer.html’ saved [35020]\n",
      "\n",
      "--2023-05-23 11:15:24--  https://kafka-python.readthedocs.io/en/1.4.5/genindex.html\n",
      "Reusing existing connection to [kafka-python.readthedocs.io]:443.\n",
      "HTTP request sent, awaiting response... 200 OK\n",
      "Length: unspecified [text/html]\n",
      "Saving to: ‘rtdocs/kafka-python.readthedocs.io/en/1.4.5/genindex.html’\n",
      "\n",
      "kafka-python.readth     [  <=>               ] 196.10K   421KB/s    in 0.5s    \n",
      "\n",
      "2023-05-23 11:15:26 (421 KB/s) - ‘rtdocs/kafka-python.readthedocs.io/en/1.4.5/genindex.html’ saved [200804]\n",
      "\n",
      "--2023-05-23 11:15:26--  https://kafka-python.readthedocs.io/en/1.4.5/search.html\n",
      "Reusing existing connection to [kafka-python.readthedocs.io]:443.\n",
      "HTTP request sent, awaiting response... 200 OK\n",
      "Length: unspecified [text/html]\n",
      "Saving to: ‘rtdocs/kafka-python.readthedocs.io/en/1.4.5/search.html’\n",
      "\n",
      "kafka-python.readth     [ <=>                ]   8.94K  --.-KB/s    in 0s      \n",
      "\n",
      "2023-05-23 11:15:27 (794 MB/s) - ‘rtdocs/kafka-python.readthedocs.io/en/1.4.5/search.html’ saved [9159]\n",
      "\n",
      "--2023-05-23 11:15:27--  https://kafka-python.readthedocs.io/en/1.4.5/usage.html\n",
      "Reusing existing connection to [kafka-python.readthedocs.io]:443.\n",
      "HTTP request sent, awaiting response... 200 OK\n",
      "Length: unspecified [text/html]\n",
      "Saving to: ‘rtdocs/kafka-python.readthedocs.io/en/1.4.5/usage.html’\n",
      "\n",
      "kafka-python.readth     [ <=>                ]  22.18K  --.-KB/s    in 0.001s  \n",
      "\n",
      "2023-05-23 11:15:28 (22.2 MB/s) - ‘rtdocs/kafka-python.readthedocs.io/en/1.4.5/usage.html’ saved [22715]\n",
      "\n",
      "--2023-05-23 11:15:28--  https://kafka-python.readthedocs.io/en/1.4.5/apidoc/modules.html\n",
      "Reusing existing connection to [kafka-python.readthedocs.io]:443.\n",
      "HTTP request sent, awaiting response... 200 OK\n",
      "Length: unspecified [text/html]\n",
      "Saving to: ‘rtdocs/kafka-python.readthedocs.io/en/1.4.5/apidoc/modules.html’\n",
      "\n",
      "kafka-python.readth     [ <=>                ]  10.69K  --.-KB/s    in 0s      \n",
      "\n",
      "2023-05-23 11:15:29 (2.04 GB/s) - ‘rtdocs/kafka-python.readthedocs.io/en/1.4.5/apidoc/modules.html’ saved [10942]\n",
      "\n",
      "--2023-05-23 11:15:29--  https://kafka-python.readthedocs.io/en/1.4.5/simple.html\n",
      "Reusing existing connection to [kafka-python.readthedocs.io]:443.\n",
      "HTTP request sent, awaiting response... 200 OK\n",
      "Length: unspecified [text/html]\n",
      "Saving to: ‘rtdocs/kafka-python.readthedocs.io/en/1.4.5/simple.html’\n",
      "\n",
      "kafka-python.readth     [ <=>                ]  27.29K  --.-KB/s    in 0.001s  \n",
      "\n",
      "2023-05-23 11:15:30 (25.5 MB/s) - ‘rtdocs/kafka-python.readthedocs.io/en/1.4.5/simple.html’ saved [27943]\n",
      "\n",
      "--2023-05-23 11:15:30--  https://kafka-python.readthedocs.io/en/1.4.5/install.html\n",
      "Reusing existing connection to [kafka-python.readthedocs.io]:443.\n",
      "HTTP request sent, awaiting response... 200 OK\n",
      "Length: unspecified [text/html]\n",
      "Saving to: ‘rtdocs/kafka-python.readthedocs.io/en/1.4.5/install.html’\n",
      "\n",
      "kafka-python.readth     [ <=>                ]  15.76K  --.-KB/s    in 0s      \n",
      "\n",
      "2023-05-23 11:15:31 (95.6 MB/s) - ‘rtdocs/kafka-python.readthedocs.io/en/1.4.5/install.html’ saved [16142]\n",
      "\n",
      "--2023-05-23 11:15:31--  https://kafka-python.readthedocs.io/en/1.4.5/tests.html\n",
      "Reusing existing connection to [kafka-python.readthedocs.io]:443.\n",
      "HTTP request sent, awaiting response... 200 OK\n",
      "Length: unspecified [text/html]\n",
      "Saving to: ‘rtdocs/kafka-python.readthedocs.io/en/1.4.5/tests.html’\n",
      "\n",
      "kafka-python.readth     [ <=>                ]  15.30K  --.-KB/s    in 0s      \n",
      "\n",
      "2023-05-23 11:15:32 (77.4 MB/s) - ‘rtdocs/kafka-python.readthedocs.io/en/1.4.5/tests.html’ saved [15668]\n",
      "\n",
      "--2023-05-23 11:15:32--  https://kafka-python.readthedocs.io/en/1.4.5/compatibility.html\n",
      "Reusing existing connection to [kafka-python.readthedocs.io]:443.\n",
      "HTTP request sent, awaiting response... 200 OK\n",
      "Length: unspecified [text/html]\n",
      "Saving to: ‘rtdocs/kafka-python.readthedocs.io/en/1.4.5/compatibility.html’\n",
      "\n",
      "kafka-python.readth     [ <=>                ]  10.36K  --.-KB/s    in 0s      \n",
      "\n",
      "2023-05-23 11:15:33 (1.98 GB/s) - ‘rtdocs/kafka-python.readthedocs.io/en/1.4.5/compatibility.html’ saved [10604]\n",
      "\n",
      "--2023-05-23 11:15:33--  https://kafka-python.readthedocs.io/en/1.4.5/support.html\n",
      "Reusing existing connection to [kafka-python.readthedocs.io]:443.\n",
      "HTTP request sent, awaiting response... 200 OK\n",
      "Length: unspecified [text/html]\n",
      "Saving to: ‘rtdocs/kafka-python.readthedocs.io/en/1.4.5/support.html’\n",
      "\n",
      "kafka-python.readth     [ <=>                ]   9.90K  --.-KB/s    in 0s      \n",
      "\n",
      "2023-05-23 11:15:34 (1.57 GB/s) - ‘rtdocs/kafka-python.readthedocs.io/en/1.4.5/support.html’ saved [10140]\n",
      "\n",
      "--2023-05-23 11:15:34--  https://kafka-python.readthedocs.io/en/1.4.5/license.html\n",
      "Reusing existing connection to [kafka-python.readthedocs.io]:443.\n",
      "HTTP request sent, awaiting response... 200 OK\n",
      "Length: unspecified [text/html]\n",
      "Saving to: ‘rtdocs/kafka-python.readthedocs.io/en/1.4.5/license.html’\n",
      "\n",
      "kafka-python.readth     [ <=>                ]   9.82K  --.-KB/s    in 0s      \n",
      "\n",
      "2023-05-23 11:15:34 (1.56 GB/s) - ‘rtdocs/kafka-python.readthedocs.io/en/1.4.5/license.html’ saved [10051]\n",
      "\n",
      "--2023-05-23 11:15:34--  https://kafka-python.readthedocs.io/en/1.4.5/changelog.html\n",
      "Reusing existing connection to [kafka-python.readthedocs.io]:443.\n",
      "HTTP request sent, awaiting response... 200 OK\n",
      "Length: unspecified [text/html]\n",
      "Saving to: ‘rtdocs/kafka-python.readthedocs.io/en/1.4.5/changelog.html’\n",
      "\n",
      "kafka-python.readth     [ <=>                ]  93.55K   477KB/s    in 0.2s    \n",
      "\n",
      "2023-05-23 11:15:35 (477 KB/s) - ‘rtdocs/kafka-python.readthedocs.io/en/1.4.5/changelog.html’ saved [95797]\n",
      "\n",
      "--2023-05-23 11:15:35--  https://kafka-python.readthedocs.io/en/1.4.5/apidoc/kafka.html\n",
      "Reusing existing connection to [kafka-python.readthedocs.io]:443.\n",
      "HTTP request sent, awaiting response... 200 OK\n",
      "Length: unspecified [text/html]\n",
      "Saving to: ‘rtdocs/kafka-python.readthedocs.io/en/1.4.5/apidoc/kafka.html’\n",
      "\n",
      "kafka-python.readth     [ <=>                ] 256.59K  --.-KB/s    in 0.09s   \n",
      "\n",
      "2023-05-23 11:15:36 (2.71 MB/s) - ‘rtdocs/kafka-python.readthedocs.io/en/1.4.5/apidoc/kafka.html’ saved [262752]\n",
      "\n",
      "--2023-05-23 11:15:36--  https://kafka-python.readthedocs.io/en/1.4.5/apidoc/KafkaConsumer.html\n",
      "Reusing existing connection to [kafka-python.readthedocs.io]:443.\n",
      "HTTP request sent, awaiting response... 200 OK\n",
      "Length: unspecified [text/html]\n",
      "Saving to: ‘rtdocs/kafka-python.readthedocs.io/en/1.4.5/apidoc/KafkaConsumer.html’\n",
      "\n",
      "kafka-python.readth     [ <=>                ]  62.98K  --.-KB/s    in 0.02s   \n",
      "\n",
      "2023-05-23 11:15:37 (2.53 MB/s) - ‘rtdocs/kafka-python.readthedocs.io/en/1.4.5/apidoc/KafkaConsumer.html’ saved [64488]\n",
      "\n",
      "--2023-05-23 11:15:37--  https://kafka-python.readthedocs.io/en/1.4.5/apidoc/KafkaProducer.html\n",
      "Reusing existing connection to [kafka-python.readthedocs.io]:443.\n",
      "HTTP request sent, awaiting response... 200 OK\n",
      "Length: unspecified [text/html]\n",
      "Saving to: ‘rtdocs/kafka-python.readthedocs.io/en/1.4.5/apidoc/KafkaProducer.html’\n",
      "\n",
      "kafka-python.readth     [ <=>                ]  33.90K  --.-KB/s    in 0.005s  \n",
      "\n",
      "2023-05-23 11:15:37 (6.88 MB/s) - ‘rtdocs/kafka-python.readthedocs.io/en/1.4.5/apidoc/KafkaProducer.html’ saved [34711]\n",
      "\n",
      "--2023-05-23 11:15:37--  https://kafka-python.readthedocs.io/en/1.4.4/genindex.html\n",
      "Reusing existing connection to [kafka-python.readthedocs.io]:443.\n",
      "HTTP request sent, awaiting response... 200 OK\n",
      "Length: unspecified [text/html]\n",
      "Saving to: ‘rtdocs/kafka-python.readthedocs.io/en/1.4.4/genindex.html’\n",
      "\n",
      "kafka-python.readth     [ <=>                ] 195.57K  --.-KB/s    in 0.07s   \n",
      "\n",
      "2023-05-23 11:15:37 (2.86 MB/s) - ‘rtdocs/kafka-python.readthedocs.io/en/1.4.4/genindex.html’ saved [200259]\n",
      "\n",
      "--2023-05-23 11:15:37--  https://kafka-python.readthedocs.io/en/1.4.4/search.html\n",
      "Reusing existing connection to [kafka-python.readthedocs.io]:443.\n",
      "HTTP request sent, awaiting response... 200 OK\n",
      "Length: unspecified [text/html]\n",
      "Saving to: ‘rtdocs/kafka-python.readthedocs.io/en/1.4.4/search.html’\n",
      "\n",
      "kafka-python.readth     [ <=>                ]   8.94K  --.-KB/s    in 0s      \n",
      "\n",
      "2023-05-23 11:15:39 (1.22 GB/s) - ‘rtdocs/kafka-python.readthedocs.io/en/1.4.4/search.html’ saved [9159]\n",
      "\n",
      "--2023-05-23 11:15:39--  https://kafka-python.readthedocs.io/en/1.4.4/usage.html\n",
      "Reusing existing connection to [kafka-python.readthedocs.io]:443.\n",
      "HTTP request sent, awaiting response... 200 OK\n",
      "Length: unspecified [text/html]\n",
      "Saving to: ‘rtdocs/kafka-python.readthedocs.io/en/1.4.4/usage.html’\n",
      "\n",
      "kafka-python.readth     [ <=>                ]  22.18K  --.-KB/s    in 0s      \n",
      "\n",
      "2023-05-23 11:15:39 (130 MB/s) - ‘rtdocs/kafka-python.readthedocs.io/en/1.4.4/usage.html’ saved [22715]\n",
      "\n",
      "--2023-05-23 11:15:39--  https://kafka-python.readthedocs.io/en/1.4.4/apidoc/modules.html\n",
      "Reusing existing connection to [kafka-python.readthedocs.io]:443.\n",
      "HTTP request sent, awaiting response... ^C\n"
     ]
    }
   ],
   "source": [
    "!wget -r -A.html -P rtdocs https://kafka-python.readthedocs.io/en/latest/"
   ]
  },
  {
   "cell_type": "code",
   "execution_count": 38,
   "id": "4493f2f0-f29d-418e-9144-f40301201d9b",
   "metadata": {},
   "outputs": [
    {
     "data": {
      "text/plain": [
       "136"
      ]
     },
     "execution_count": 38,
     "metadata": {},
     "output_type": "execute_result"
    }
   ],
   "source": [
    "from langchain.document_loaders import ReadTheDocsLoader\n",
    "\n",
    "loader = ReadTheDocsLoader('rtdocs')\n",
    "docs = loader.load()\n",
    "len(docs)"
   ]
  },
  {
   "cell_type": "code",
   "execution_count": 39,
   "id": "9c16acd1-42a2-4018-938c-46941c310f51",
   "metadata": {},
   "outputs": [
    {
     "name": "stdout",
     "output_type": "stream",
     "text": [
      "Install¶\n",
      "Install with your favorite package manager\n",
      "Latest Release¶\n",
      "Pip:\n",
      "pip install kafka-python\n",
      "Releases are also listed at https://github.com/dpkp/kafka-python/releases\n",
      "Bleeding-Edge¶\n",
      "git clone https://github.com/dpkp/kafka-python\n",
      "pip install ./kafka-python\n",
      "Optional LZ4 install¶\n",
      "To enable LZ4 compression/decompression, install python-lz4:\n",
      ">>> pip install lz4\n",
      "Optional crc32c install¶\n",
      "To enable optimized CRC32 checksum validation, install crc32c:\n",
      ">>> pip install crc32c\n",
      "Optional Snappy install¶\n",
      "Install Development Libraries¶\n",
      "Download and build Snappy from https://google.github.io/snappy/\n",
      "Ubuntu:\n",
      "apt-get install libsnappy-dev\n",
      "OSX:\n",
      "brew install snappy\n",
      "From Source:\n",
      "wget https://github.com/google/snappy/releases/download/1.1.3/snappy-1.1.3.tar.gz\n",
      "tar xzvf snappy-1.1.3.tar.gz\n",
      "cd snappy-1.1.3\n",
      "./configure\n",
      "make\n",
      "sudo make install\n",
      "Install Python Module¶\n",
      "Install the python-snappy module\n",
      "pip install python-snappy\n",
      "Optional crc32c install¶\n",
      "Highly recommended if you are using Kafka 11+ brokers. For those kafka-python\n",
      "uses a new message protocol version, that requires calculation of crc32c,\n",
      "which differs from zlib.crc32 hash implementation. By default kafka-python\n",
      "calculates it in pure python, which is quite slow. To speed it up we optionally\n",
      "support https://pypi.python.org/pypi/crc32c package if it’s installed.\n",
      "pip install crc32c\n"
     ]
    }
   ],
   "source": [
    "print(docs[0].page_content)"
   ]
  },
  {
   "cell_type": "code",
   "execution_count": 40,
   "id": "8b2c6f20-594b-42f9-9b4e-9b6c1c288840",
   "metadata": {},
   "outputs": [
    {
     "data": {
      "text/plain": [
       "'https://kafka-python.readthedocs.io/en/stable/compatibility.html'"
      ]
     },
     "execution_count": 40,
     "metadata": {},
     "output_type": "execute_result"
    }
   ],
   "source": [
    "docs[5].metadata['source'].replace('rtdocs/', 'https://')"
   ]
  },
  {
   "cell_type": "code",
   "execution_count": 41,
   "id": "791cafb3-e1e3-4c1a-99d5-b31334362244",
   "metadata": {},
   "outputs": [],
   "source": [
    "import tiktoken\n",
    "\n",
    "tokenizer = tiktoken.encoding_for_model('gpt-3.5-turbo')\n",
    "\n",
    "# Other support function to calculate the number of used tokens\n",
    "def tiktoken_len(text):\n",
    "    tokens = tokenizer.encode(\n",
    "        text,\n",
    "        disallowed_special=()\n",
    "    )\n",
    "    return len(tokens)"
   ]
  },
  {
   "cell_type": "code",
   "execution_count": 42,
   "id": "554f7236-61eb-4554-8c3c-15f91f710f27",
   "metadata": {},
   "outputs": [
    {
     "data": {
      "text/plain": [
       "[343, 1013, 13936, 32, 87, 162, 1098, 13, 454, 667]"
      ]
     },
     "execution_count": 42,
     "metadata": {},
     "output_type": "execute_result"
    }
   ],
   "source": [
    "token_counts = [tiktoken_len(doc.page_content) for doc in docs]\n",
    "token_counts[:10]"
   ]
  },
  {
   "cell_type": "code",
   "execution_count": 43,
   "id": "85a85b65-6e54-4bdd-9c05-6a01390775bc",
   "metadata": {},
   "outputs": [
    {
     "name": "stdout",
     "output_type": "stream",
     "text": [
      "Min: 13\n",
      "Avg: 2764\n",
      "Max: 24564\n"
     ]
    }
   ],
   "source": [
    "print(f\"\"\"Min: {min(token_counts)}\n",
    "Avg: {int(sum(token_counts) / len(token_counts))}\n",
    "Max: {max(token_counts)}\"\"\")"
   ]
  },
  {
   "cell_type": "code",
   "execution_count": 44,
   "id": "06117809-a60a-44a3-9669-5e63851cfe29",
   "metadata": {},
   "outputs": [
    {
     "data": {
      "image/png": "[encoded data removed]",
      "text/plain": [
       "<Figure size 1200x600 with 1 Axes>"
      ]
     },
     "metadata": {},
     "output_type": "display_data"
    }
   ],
   "source": [
    "import matplotlib.pyplot as plt\n",
    "import seaborn as sns\n",
    "\n",
    "# set style and color palette for the plot\n",
    "sns.set_style(\"whitegrid\")\n",
    "sns.set_palette(\"muted\")\n",
    "\n",
    "# create histogram\n",
    "plt.figure(figsize=(12, 6))\n",
    "sns.histplot(token_counts, kde=False, bins=50)\n",
    "\n",
    "# customize the plot info\n",
    "plt.title(\"Token Counts Histogram\")\n",
    "plt.xlabel(\"Token Count\")\n",
    "plt.ylabel(\"Frequency\")\n",
    "\n",
    "plt.show()"
   ]
  },
  {
   "cell_type": "code",
   "execution_count": 45,
   "id": "79aaf4ee-2b12-4955-aa51-c4aee8c731cd",
   "metadata": {},
   "outputs": [],
   "source": [
    "# Chunking the text\n",
    "from langchain.text_splitter import RecursiveCharacterTextSplitter\n",
    "\n",
    "text_splitter = RecursiveCharacterTextSplitter(\n",
    "    chunk_size=400,\n",
    "    chunk_overlap=20,\n",
    "    length_function=tiktoken_len,\n",
    "    separators=['\\n\\n', '\\n', ' ', '']\n",
    ")"
   ]
  },
  {
   "cell_type": "code",
   "execution_count": 46,
   "id": "ca9f5c47-69f8-4516-b89a-aa1cfa359928",
   "metadata": {},
   "outputs": [
    {
     "data": {
      "text/plain": [
       "39"
      ]
     },
     "execution_count": 46,
     "metadata": {},
     "output_type": "execute_result"
    }
   ],
   "source": [
    "chunks = text_splitter.split_text(docs[2].page_content)\n",
    "len(chunks)"
   ]
  },
  {
   "cell_type": "code",
   "execution_count": 47,
   "id": "50498341-d664-428c-8810-611fc4a9a16f",
   "metadata": {},
   "outputs": [
    {
     "data": {
      "text/plain": [
       "(380, 373)"
      ]
     },
     "execution_count": 47,
     "metadata": {},
     "output_type": "execute_result"
    }
   ],
   "source": [
    "tiktoken_len(chunks[0]), tiktoken_len(chunks[1])"
   ]
  },
  {
   "cell_type": "code",
   "execution_count": 48,
   "id": "7486f621-9a5c-42a7-8334-aaaa08d1fa53",
   "metadata": {},
   "outputs": [
    {
     "name": "stdout",
     "output_type": "stream",
     "text": [
      "https://kafka-python.readthedocs.io/en/stable/compatibility.html\n",
      "d07c8cf6807e\n"
     ]
    }
   ],
   "source": [
    "import hashlib\n",
    "m = hashlib.md5()  # this will convert URL into unique ID\n",
    "\n",
    "url = docs[5].metadata['source'].replace('rtdocs/', 'https://')\n",
    "print(url)\n",
    "\n",
    "# convert URL to unique ID\n",
    "m.update(url.encode('utf-8'))\n",
    "uid = m.hexdigest()[:12]\n",
    "print(uid)"
   ]
  },
  {
   "cell_type": "code",
   "execution_count": 51,
   "id": "e28488f0-c4a0-4969-b389-e178c3118533",
   "metadata": {},
   "outputs": [
    {
     "data": {
      "text/html": [
       "<div>\n",
       "<style scoped>\n",
       "    .dataframe tbody tr th:only-of-type {\n",
       "        vertical-align: middle;\n",
       "    }\n",
       "\n",
       "    .dataframe tbody tr th {\n",
       "        vertical-align: top;\n",
       "    }\n",
       "\n",
       "    .dataframe thead th {\n",
       "        text-align: right;\n",
       "    }\n",
       "</style>\n",
       "<table border=\"1\" class=\"dataframe\">\n",
       "  <thead>\n",
       "    <tr style=\"text-align: right;\">\n",
       "      <th></th>\n",
       "      <th>id</th>\n",
       "      <th>text</th>\n",
       "      <th>source</th>\n",
       "    </tr>\n",
       "  </thead>\n",
       "  <tbody>\n",
       "    <tr>\n",
       "      <th>0</th>\n",
       "      <td>d07c8cf6807e-0</td>\n",
       "      <td>Changelog¶\\n2.0.1 (Feb 19, 2020)¶\\nAdmin Clien...</td>\n",
       "      <td>https://kafka-python.readthedocs.io/en/stable/...</td>\n",
       "    </tr>\n",
       "    <tr>\n",
       "      <th>1</th>\n",
       "      <td>d07c8cf6807e-1</td>\n",
       "      <td>Implement methods to convert a Struct object t...</td>\n",
       "      <td>https://kafka-python.readthedocs.io/en/stable/...</td>\n",
       "    </tr>\n",
       "    <tr>\n",
       "      <th>2</th>\n",
       "      <td>d07c8cf6807e-2</td>\n",
       "      <td>Remove deprecated ConnectionError (jeffwidman ...</td>\n",
       "      <td>https://kafka-python.readthedocs.io/en/stable/...</td>\n",
       "    </tr>\n",
       "    <tr>\n",
       "      <th>3</th>\n",
       "      <td>d07c8cf6807e-3</td>\n",
       "      <td>Miscellaneous Bugfixes / Improvements¶\\nFix cr...</td>\n",
       "      <td>https://kafka-python.readthedocs.io/en/stable/...</td>\n",
       "    </tr>\n",
       "    <tr>\n",
       "      <th>4</th>\n",
       "      <td>d07c8cf6807e-4</td>\n",
       "      <td>Use socket.SOCK_STREAM in test assertions (iv-...</td>\n",
       "      <td>https://kafka-python.readthedocs.io/en/stable/...</td>\n",
       "    </tr>\n",
       "    <tr>\n",
       "      <th>5</th>\n",
       "      <td>d07c8cf6807e-5</td>\n",
       "      <td>SSL - Python3.7 Support / Bootstrap Hostname V...</td>\n",
       "      <td>https://kafka-python.readthedocs.io/en/stable/...</td>\n",
       "    </tr>\n",
       "    <tr>\n",
       "      <th>6</th>\n",
       "      <td>d07c8cf6807e-6</td>\n",
       "      <td>Avoid race condition during close() / join hea...</td>\n",
       "      <td>https://kafka-python.readthedocs.io/en/stable/...</td>\n",
       "    </tr>\n",
       "    <tr>\n",
       "      <th>7</th>\n",
       "      <td>d07c8cf6807e-7</td>\n",
       "      <td>Test Infrastructure¶\\nMock dns lookups in test...</td>\n",
       "      <td>https://kafka-python.readthedocs.io/en/stable/...</td>\n",
       "    </tr>\n",
       "    <tr>\n",
       "      <th>8</th>\n",
       "      <td>d07c8cf6807e-8</td>\n",
       "      <td>Support smaller topic metadata fetch during bo...</td>\n",
       "      <td>https://kafka-python.readthedocs.io/en/stable/...</td>\n",
       "    </tr>\n",
       "    <tr>\n",
       "      <th>9</th>\n",
       "      <td>d07c8cf6807e-9</td>\n",
       "      <td>Fix sphinx url (jeffwidman #1610)\\nUpdate remo...</td>\n",
       "      <td>https://kafka-python.readthedocs.io/en/stable/...</td>\n",
       "    </tr>\n",
       "    <tr>\n",
       "      <th>10</th>\n",
       "      <td>d07c8cf6807e-10</td>\n",
       "      <td>Client¶\\nImprove BrokerConnection initializati...</td>\n",
       "      <td>https://kafka-python.readthedocs.io/en/stable/...</td>\n",
       "    </tr>\n",
       "    <tr>\n",
       "      <th>11</th>\n",
       "      <td>d07c8cf6807e-11</td>\n",
       "      <td>Bugfixes¶\\nClose leaked selector in version ch...</td>\n",
       "      <td>https://kafka-python.readthedocs.io/en/stable/...</td>\n",
       "    </tr>\n",
       "    <tr>\n",
       "      <th>12</th>\n",
       "      <td>d07c8cf6807e-12</td>\n",
       "      <td>Support alternative lz4 package: lz4framed (ev...</td>\n",
       "      <td>https://kafka-python.readthedocs.io/en/stable/...</td>\n",
       "    </tr>\n",
       "    <tr>\n",
       "      <th>13</th>\n",
       "      <td>d07c8cf6807e-13</td>\n",
       "      <td>API protocol handling has been separated from ...</td>\n",
       "      <td>https://kafka-python.readthedocs.io/en/stable/...</td>\n",
       "    </tr>\n",
       "    <tr>\n",
       "      <th>14</th>\n",
       "      <td>d07c8cf6807e-14</td>\n",
       "      <td>Improve KafkaConsumer cleanup (dpkp #1339)\\nFi...</td>\n",
       "      <td>https://kafka-python.readthedocs.io/en/stable/...</td>\n",
       "    </tr>\n",
       "    <tr>\n",
       "      <th>15</th>\n",
       "      <td>d07c8cf6807e-15</td>\n",
       "      <td>Remove assertion with side effect in client.wa...</td>\n",
       "      <td>https://kafka-python.readthedocs.io/en/stable/...</td>\n",
       "    </tr>\n",
       "    <tr>\n",
       "      <th>16</th>\n",
       "      <td>d07c8cf6807e-16</td>\n",
       "      <td>Remove a few unused imports (jameslamb #1188)\\...</td>\n",
       "      <td>https://kafka-python.readthedocs.io/en/stable/...</td>\n",
       "    </tr>\n",
       "    <tr>\n",
       "      <th>17</th>\n",
       "      <td>d07c8cf6807e-17</td>\n",
       "      <td>Add private map of api key -&gt; min/max versions...</td>\n",
       "      <td>https://kafka-python.readthedocs.io/en/stable/...</td>\n",
       "    </tr>\n",
       "    <tr>\n",
       "      <th>18</th>\n",
       "      <td>d07c8cf6807e-18</td>\n",
       "      <td>Update producer.send docstring – raises KafkaT...</td>\n",
       "      <td>https://kafka-python.readthedocs.io/en/stable/...</td>\n",
       "    </tr>\n",
       "    <tr>\n",
       "      <th>19</th>\n",
       "      <td>d07c8cf6807e-19</td>\n",
       "      <td>Add JoinGroup v1 structs (jeffwidman 965)\\nDRY...</td>\n",
       "      <td>https://kafka-python.readthedocs.io/en/stable/...</td>\n",
       "    </tr>\n",
       "    <tr>\n",
       "      <th>20</th>\n",
       "      <td>d07c8cf6807e-20</td>\n",
       "      <td>Producer¶\\nchange default timeout of KafkaProd...</td>\n",
       "      <td>https://kafka-python.readthedocs.io/en/stable/...</td>\n",
       "    </tr>\n",
       "    <tr>\n",
       "      <th>21</th>\n",
       "      <td>d07c8cf6807e-21</td>\n",
       "      <td>Include the node id in BrokerConnection loggin...</td>\n",
       "      <td>https://kafka-python.readthedocs.io/en/stable/...</td>\n",
       "    </tr>\n",
       "    <tr>\n",
       "      <th>22</th>\n",
       "      <td>d07c8cf6807e-22</td>\n",
       "      <td>Immediately update metadata for pattern subscr...</td>\n",
       "      <td>https://kafka-python.readthedocs.io/en/stable/...</td>\n",
       "    </tr>\n",
       "    <tr>\n",
       "      <th>23</th>\n",
       "      <td>d07c8cf6807e-23</td>\n",
       "      <td>Fix documentation typo ‘Defualt’ -&gt; ‘Default’....</td>\n",
       "      <td>https://kafka-python.readthedocs.io/en/stable/...</td>\n",
       "    </tr>\n",
       "    <tr>\n",
       "      <th>24</th>\n",
       "      <td>d07c8cf6807e-24</td>\n",
       "      <td>Add api_version config to KafkaClient (dpkp 76...</td>\n",
       "      <td>https://kafka-python.readthedocs.io/en/stable/...</td>\n",
       "    </tr>\n",
       "    <tr>\n",
       "      <th>25</th>\n",
       "      <td>d07c8cf6807e-25</td>\n",
       "      <td>Documentation¶\\nFix misspelling of password (s...</td>\n",
       "      <td>https://kafka-python.readthedocs.io/en/stable/...</td>\n",
       "    </tr>\n",
       "    <tr>\n",
       "      <th>26</th>\n",
       "      <td>d07c8cf6807e-26</td>\n",
       "      <td>Avoid busy poll during metadata refresh failur...</td>\n",
       "      <td>https://kafka-python.readthedocs.io/en/stable/...</td>\n",
       "    </tr>\n",
       "    <tr>\n",
       "      <th>27</th>\n",
       "      <td>d07c8cf6807e-27</td>\n",
       "      <td>Don’t use soon-to-be-reserved keyword await as...</td>\n",
       "      <td>https://kafka-python.readthedocs.io/en/stable/...</td>\n",
       "    </tr>\n",
       "    <tr>\n",
       "      <th>28</th>\n",
       "      <td>d07c8cf6807e-28</td>\n",
       "      <td>Add default_offset_commit_callback to KafkaCon...</td>\n",
       "      <td>https://kafka-python.readthedocs.io/en/stable/...</td>\n",
       "    </tr>\n",
       "    <tr>\n",
       "      <th>29</th>\n",
       "      <td>d07c8cf6807e-29</td>\n",
       "      <td>Add optional timeout parameter to KafkaProduce...</td>\n",
       "      <td>https://kafka-python.readthedocs.io/en/stable/...</td>\n",
       "    </tr>\n",
       "    <tr>\n",
       "      <th>30</th>\n",
       "      <td>d07c8cf6807e-30</td>\n",
       "      <td>1.0.0 (Feb 15, 2016)¶\\nThis release includes s...</td>\n",
       "      <td>https://kafka-python.readthedocs.io/en/stable/...</td>\n",
       "    </tr>\n",
       "    <tr>\n",
       "      <th>31</th>\n",
       "      <td>d07c8cf6807e-31</td>\n",
       "      <td>in a future release. Users are encouraged to m...</td>\n",
       "      <td>https://kafka-python.readthedocs.io/en/stable/...</td>\n",
       "    </tr>\n",
       "    <tr>\n",
       "      <th>32</th>\n",
       "      <td>d07c8cf6807e-32</td>\n",
       "      <td>Producers¶\\nCatch client.reinit() exceptions i...</td>\n",
       "      <td>https://kafka-python.readthedocs.io/en/stable/...</td>\n",
       "    </tr>\n",
       "    <tr>\n",
       "      <th>33</th>\n",
       "      <td>d07c8cf6807e-33</td>\n",
       "      <td>Consumers¶\\nRefactor SimpleConsumer internal f...</td>\n",
       "      <td>https://kafka-python.readthedocs.io/en/stable/...</td>\n",
       "    </tr>\n",
       "    <tr>\n",
       "      <th>34</th>\n",
       "      <td>d07c8cf6807e-34</td>\n",
       "      <td>Deprecate KeyedProducer.send() (dpkp PR 379)\\n...</td>\n",
       "      <td>https://kafka-python.readthedocs.io/en/stable/...</td>\n",
       "    </tr>\n",
       "    <tr>\n",
       "      <th>35</th>\n",
       "      <td>d07c8cf6807e-35</td>\n",
       "      <td>Automate documentation at kafka-python.readthe...</td>\n",
       "      <td>https://kafka-python.readthedocs.io/en/stable/...</td>\n",
       "    </tr>\n",
       "    <tr>\n",
       "      <th>36</th>\n",
       "      <td>d07c8cf6807e-36</td>\n",
       "      <td>Expose KafkaConsumer in __all__ for easy impor...</td>\n",
       "      <td>https://kafka-python.readthedocs.io/en/stable/...</td>\n",
       "    </tr>\n",
       "    <tr>\n",
       "      <th>37</th>\n",
       "      <td>d07c8cf6807e-37</td>\n",
       "      <td>Strictly enforce str message type in producer....</td>\n",
       "      <td>https://kafka-python.readthedocs.io/en/stable/...</td>\n",
       "    </tr>\n",
       "    <tr>\n",
       "      <th>38</th>\n",
       "      <td>d07c8cf6807e-38</td>\n",
       "      <td>Fix Multiprocess Consumer on windows (mahendra...</td>\n",
       "      <td>https://kafka-python.readthedocs.io/en/stable/...</td>\n",
       "    </tr>\n",
       "  </tbody>\n",
       "</table>\n",
       "</div>"
      ],
      "text/plain": [
       "                 id                                               text   \n",
       "0    d07c8cf6807e-0  Changelog¶\\n2.0.1 (Feb 19, 2020)¶\\nAdmin Clien...  \\\n",
       "1    d07c8cf6807e-1  Implement methods to convert a Struct object t...   \n",
       "2    d07c8cf6807e-2  Remove deprecated ConnectionError (jeffwidman ...   \n",
       "3    d07c8cf6807e-3  Miscellaneous Bugfixes / Improvements¶\\nFix cr...   \n",
       "4    d07c8cf6807e-4  Use socket.SOCK_STREAM in test assertions (iv-...   \n",
       "5    d07c8cf6807e-5  SSL - Python3.7 Support / Bootstrap Hostname V...   \n",
       "6    d07c8cf6807e-6  Avoid race condition during close() / join hea...   \n",
       "7    d07c8cf6807e-7  Test Infrastructure¶\\nMock dns lookups in test...   \n",
       "8    d07c8cf6807e-8  Support smaller topic metadata fetch during bo...   \n",
       "9    d07c8cf6807e-9  Fix sphinx url (jeffwidman #1610)\\nUpdate remo...   \n",
       "10  d07c8cf6807e-10  Client¶\\nImprove BrokerConnection initializati...   \n",
       "11  d07c8cf6807e-11  Bugfixes¶\\nClose leaked selector in version ch...   \n",
       "12  d07c8cf6807e-12  Support alternative lz4 package: lz4framed (ev...   \n",
       "13  d07c8cf6807e-13  API protocol handling has been separated from ...   \n",
       "14  d07c8cf6807e-14  Improve KafkaConsumer cleanup (dpkp #1339)\\nFi...   \n",
       "15  d07c8cf6807e-15  Remove assertion with side effect in client.wa...   \n",
       "16  d07c8cf6807e-16  Remove a few unused imports (jameslamb #1188)\\...   \n",
       "17  d07c8cf6807e-17  Add private map of api key -> min/max versions...   \n",
       "18  d07c8cf6807e-18  Update producer.send docstring – raises KafkaT...   \n",
       "19  d07c8cf6807e-19  Add JoinGroup v1 structs (jeffwidman 965)\\nDRY...   \n",
       "20  d07c8cf6807e-20  Producer¶\\nchange default timeout of KafkaProd...   \n",
       "21  d07c8cf6807e-21  Include the node id in BrokerConnection loggin...   \n",
       "22  d07c8cf6807e-22  Immediately update metadata for pattern subscr...   \n",
       "23  d07c8cf6807e-23  Fix documentation typo ‘Defualt’ -> ‘Default’....   \n",
       "24  d07c8cf6807e-24  Add api_version config to KafkaClient (dpkp 76...   \n",
       "25  d07c8cf6807e-25  Documentation¶\\nFix misspelling of password (s...   \n",
       "26  d07c8cf6807e-26  Avoid busy poll during metadata refresh failur...   \n",
       "27  d07c8cf6807e-27  Don’t use soon-to-be-reserved keyword await as...   \n",
       "28  d07c8cf6807e-28  Add default_offset_commit_callback to KafkaCon...   \n",
       "29  d07c8cf6807e-29  Add optional timeout parameter to KafkaProduce...   \n",
       "30  d07c8cf6807e-30  1.0.0 (Feb 15, 2016)¶\\nThis release includes s...   \n",
       "31  d07c8cf6807e-31  in a future release. Users are encouraged to m...   \n",
       "32  d07c8cf6807e-32  Producers¶\\nCatch client.reinit() exceptions i...   \n",
       "33  d07c8cf6807e-33  Consumers¶\\nRefactor SimpleConsumer internal f...   \n",
       "34  d07c8cf6807e-34  Deprecate KeyedProducer.send() (dpkp PR 379)\\n...   \n",
       "35  d07c8cf6807e-35  Automate documentation at kafka-python.readthe...   \n",
       "36  d07c8cf6807e-36  Expose KafkaConsumer in __all__ for easy impor...   \n",
       "37  d07c8cf6807e-37  Strictly enforce str message type in producer....   \n",
       "38  d07c8cf6807e-38  Fix Multiprocess Consumer on windows (mahendra...   \n",
       "\n",
       "                                               source  \n",
       "0   https://kafka-python.readthedocs.io/en/stable/...  \n",
       "1   https://kafka-python.readthedocs.io/en/stable/...  \n",
       "2   https://kafka-python.readthedocs.io/en/stable/...  \n",
       "3   https://kafka-python.readthedocs.io/en/stable/...  \n",
       "4   https://kafka-python.readthedocs.io/en/stable/...  \n",
       "5   https://kafka-python.readthedocs.io/en/stable/...  \n",
       "6   https://kafka-python.readthedocs.io/en/stable/...  \n",
       "7   https://kafka-python.readthedocs.io/en/stable/...  \n",
       "8   https://kafka-python.readthedocs.io/en/stable/...  \n",
       "9   https://kafka-python.readthedocs.io/en/stable/...  \n",
       "10  https://kafka-python.readthedocs.io/en/stable/...  \n",
       "11  https://kafka-python.readthedocs.io/en/stable/...  \n",
       "12  https://kafka-python.readthedocs.io/en/stable/...  \n",
       "13  https://kafka-python.readthedocs.io/en/stable/...  \n",
       "14  https://kafka-python.readthedocs.io/en/stable/...  \n",
       "15  https://kafka-python.readthedocs.io/en/stable/...  \n",
       "16  https://kafka-python.readthedocs.io/en/stable/...  \n",
       "17  https://kafka-python.readthedocs.io/en/stable/...  \n",
       "18  https://kafka-python.readthedocs.io/en/stable/...  \n",
       "19  https://kafka-python.readthedocs.io/en/stable/...  \n",
       "20  https://kafka-python.readthedocs.io/en/stable/...  \n",
       "21  https://kafka-python.readthedocs.io/en/stable/...  \n",
       "22  https://kafka-python.readthedocs.io/en/stable/...  \n",
       "23  https://kafka-python.readthedocs.io/en/stable/...  \n",
       "24  https://kafka-python.readthedocs.io/en/stable/...  \n",
       "25  https://kafka-python.readthedocs.io/en/stable/...  \n",
       "26  https://kafka-python.readthedocs.io/en/stable/...  \n",
       "27  https://kafka-python.readthedocs.io/en/stable/...  \n",
       "28  https://kafka-python.readthedocs.io/en/stable/...  \n",
       "29  https://kafka-python.readthedocs.io/en/stable/...  \n",
       "30  https://kafka-python.readthedocs.io/en/stable/...  \n",
       "31  https://kafka-python.readthedocs.io/en/stable/...  \n",
       "32  https://kafka-python.readthedocs.io/en/stable/...  \n",
       "33  https://kafka-python.readthedocs.io/en/stable/...  \n",
       "34  https://kafka-python.readthedocs.io/en/stable/...  \n",
       "35  https://kafka-python.readthedocs.io/en/stable/...  \n",
       "36  https://kafka-python.readthedocs.io/en/stable/...  \n",
       "37  https://kafka-python.readthedocs.io/en/stable/...  \n",
       "38  https://kafka-python.readthedocs.io/en/stable/...  "
      ]
     },
     "execution_count": 51,
     "metadata": {},
     "output_type": "execute_result"
    }
   ],
   "source": [
    "data = [\n",
    "    {\n",
    "        'id': f'{uid}-{i}',\n",
    "        'text': chunk,\n",
    "        'source': url\n",
    "    } for i, chunk in enumerate(chunks)\n",
    "]\n",
    "\n",
    "# Show the structure using pandas dataframe\n",
    "import pandas as pd\n",
    "pd.DataFrame(data)"
   ]
  },
  {
   "cell_type": "code",
   "execution_count": 52,
   "id": "20443cec-2796-42fb-926b-e0c5d97f8e03",
   "metadata": {},
   "outputs": [
    {
     "name": "stderr",
     "output_type": "stream",
     "text": [
      "/Users/mufin/opt/anaconda3/envs/langchain/lib/python3.11/site-packages/tqdm/auto.py:21: TqdmWarning: IProgress not found. Please update jupyter and ipywidgets. See https://ipywidgets.readthedocs.io/en/stable/user_install.html\n",
      "  from .autonotebook import tqdm as notebook_tqdm\n",
      "100%|███████████████████████████████████████████████████████████████████████████████████████████████| 136/136 [00:01<00:00, 111.46it/s]\n"
     ]
    },
    {
     "data": {
      "text/plain": [
       "1119"
      ]
     },
     "execution_count": 52,
     "metadata": {},
     "output_type": "execute_result"
    }
   ],
   "source": [
    "from tqdm.auto import tqdm\n",
    "\n",
    "documents = []\n",
    "\n",
    "for doc in tqdm(docs):\n",
    "    url = doc.metadata['source'].replace('rtdocs/', 'https://')\n",
    "    m.update(url.encode('utf-8'))\n",
    "    uid = m.hexdigest()[:12]\n",
    "    chunks = text_splitter.split_text(doc.page_content)\n",
    "    for i, chunk in enumerate(chunks):\n",
    "        documents.append({\n",
    "            'id': f'{uid}-{i}',\n",
    "            'text': chunk,\n",
    "            'source': url\n",
    "        })\n",
    "\n",
    "len(documents)"
   ]
  },
  {
   "cell_type": "code",
   "execution_count": 53,
   "id": "f58d88bb-c690-479d-96bc-bf5db723985d",
   "metadata": {},
   "outputs": [],
   "source": [
    "import json\n",
    "\n",
    "with open('train.jsonl', 'w') as f:\n",
    "    for doc in documents:\n",
    "        f.write(json.dumps(doc) + '\\n')"
   ]
  },
  {
   "cell_type": "code",
   "execution_count": 54,
   "id": "e74e9d13-7888-43ed-a543-0f3fb9bf2b35",
   "metadata": {},
   "outputs": [
    {
     "data": {
      "text/plain": [
       "1119"
      ]
     },
     "execution_count": 54,
     "metadata": {},
     "output_type": "execute_result"
    }
   ],
   "source": [
    "documents = []\n",
    "\n",
    "with open('train.jsonl', 'r') as f:\n",
    "    for line in f:\n",
    "        documents.append(json.loads(line))\n",
    "\n",
    "len(documents)"
   ]
  },
  {
   "cell_type": "code",
   "execution_count": 55,
   "id": "d1c8e193-ab04-4811-b76a-08e72b1e6e87",
   "metadata": {},
   "outputs": [
    {
     "data": {
      "text/plain": [
       "{'id': '66353898c3ab-0',\n",
       " 'text': 'Install¶\\nInstall with your favorite package manager\\nLatest Release¶\\nPip:\\npip install kafka-python\\nReleases are also listed at https://github.com/dpkp/kafka-python/releases\\nBleeding-Edge¶\\ngit clone https://github.com/dpkp/kafka-python\\npip install ./kafka-python\\nOptional LZ4 install¶\\nTo enable LZ4 compression/decompression, install python-lz4:\\n>>> pip install lz4\\nOptional crc32c install¶\\nTo enable optimized CRC32 checksum validation, install crc32c:\\n>>> pip install crc32c\\nOptional Snappy install¶\\nInstall Development Libraries¶\\nDownload and build Snappy from https://google.github.io/snappy/\\nUbuntu:\\napt-get install libsnappy-dev\\nOSX:\\nbrew install snappy\\nFrom Source:\\nwget https://github.com/google/snappy/releases/download/1.1.3/snappy-1.1.3.tar.gz\\ntar xzvf snappy-1.1.3.tar.gz\\ncd snappy-1.1.3\\n./configure\\nmake\\nsudo make install\\nInstall Python Module¶\\nInstall the python-snappy module\\npip install python-snappy\\nOptional crc32c install¶\\nHighly recommended if you are using Kafka 11+ brokers. For those kafka-python\\nuses a new message protocol version, that requires calculation of crc32c,\\nwhich differs from zlib.crc32 hash implementation. By default kafka-python\\ncalculates it in pure python, which is quite slow. To speed it up we optionally\\nsupport https://pypi.python.org/pypi/crc32c package if it’s installed.\\npip install crc32c',\n",
       " 'source': 'https://kafka-python.readthedocs.io/en/stable/install.html'}"
      ]
     },
     "execution_count": 55,
     "metadata": {},
     "output_type": "execute_result"
    }
   ],
   "source": [
    "documents[0]"
   ]
  },
  {
   "cell_type": "markdown",
   "id": "45912c48-9d87-4eb5-b413-66a9f4aee547",
   "metadata": {},
   "source": [
    "## Conversational Memory"
   ]
  },
  {
   "cell_type": "code",
   "execution_count": 58,
   "id": "5f296175-13d4-48c2-8bc7-7289aa46d544",
   "metadata": {},
   "outputs": [],
   "source": [
    "import inspect\n",
    "\n",
    "from langchain import OpenAI\n",
    "from langchain.chains import LLMChain, ConversationChain\n",
    "from langchain.chains.conversation.memory import *"
   ]
  },
  {
   "cell_type": "code",
   "execution_count": 59,
   "id": "ac6e9ab1-d864-4af1-a4e8-b6d9062c7056",
   "metadata": {},
   "outputs": [],
   "source": [
    "conversation = ConversationChain(llm=llm)"
   ]
  },
  {
   "cell_type": "code",
   "execution_count": 60,
   "id": "0d406a18-1542-49b8-b168-91832a4e999c",
   "metadata": {},
   "outputs": [
    {
     "name": "stdout",
     "output_type": "stream",
     "text": [
      "The following is a friendly conversation between a human and an AI. The AI is talkative and provides lots of specific details from its context. If the AI does not know the answer to a question, it truthfully says it does not know.\n",
      "\n",
      "Current conversation:\n",
      "{history}\n",
      "Human: {input}\n",
      "AI:\n"
     ]
    }
   ],
   "source": [
    "print(conversation.prompt.template)"
   ]
  },
  {
   "cell_type": "markdown",
   "id": "2471097a-d8cb-4e02-b550-bc318cb706bb",
   "metadata": {},
   "source": [
    "### ConversationBufferMemory\n",
    "\n",
    "Key feature: the conversation buffer memory keeps the previous pieces of conversation completely unmodified, in their raw form."
   ]
  },
  {
   "cell_type": "code",
   "execution_count": 61,
   "id": "e802c1b8-19c3-4006-ae85-22b719f56770",
   "metadata": {},
   "outputs": [],
   "source": [
    "conversation_buf = ConversationChain(\n",
    "    llm=llm,\n",
    "    memory=ConversationBufferMemory()\n",
    ")"
   ]
  },
  {
   "cell_type": "code",
   "execution_count": 62,
   "id": "34db81ca-4ca0-48f3-93a6-72de587ad251",
   "metadata": {},
   "outputs": [
    {
     "data": {
      "text/plain": [
       "{'input': 'Good morning AI!',\n",
       " 'history': '',\n",
       " 'response': \" Good morning! It's a beautiful day today, isn't it? I'm ready to answer any questions you may have.\"}"
      ]
     },
     "execution_count": 62,
     "metadata": {},
     "output_type": "execute_result"
    }
   ],
   "source": [
    "conversation_buf(\"Good morning AI!\")"
   ]
  },
  {
   "cell_type": "code",
   "execution_count": 63,
   "id": "b1dc7bca-4111-437e-8b1f-f512ac416f67",
   "metadata": {},
   "outputs": [
    {
     "name": "stdout",
     "output_type": "stream",
     "text": [
      "Spent a total of 155 tokens\n"
     ]
    },
    {
     "data": {
      "text/plain": [
       "\" Interesting, that sounds like a great project! I'm sure it could lead to some exciting discoveries. Could you tell me more about which language models you are thinking of using and why you think they will be helpful?\""
      ]
     },
     "execution_count": 63,
     "metadata": {},
     "output_type": "execute_result"
    }
   ],
   "source": [
    "count_tokens(\n",
    "    conversation_buf, \n",
    "    \"My interest here is to explore the potential of integrating Large Language Models with external knowledge\"\n",
    ")"
   ]
  },
  {
   "cell_type": "code",
   "execution_count": 64,
   "id": "cbe25871-9c13-4c81-86c6-e7e5277abd9b",
   "metadata": {},
   "outputs": [
    {
     "name": "stdout",
     "output_type": "stream",
     "text": [
      "Spent a total of 226 tokens\n"
     ]
    },
    {
     "data": {
      "text/plain": [
       "\" I'm afraid I don't know the answer to that question. However, perhaps you could look into existing language models and see which ones are most suitable for your project. You could also look into research papers on the topic to get some ideas.\""
      ]
     },
     "execution_count": 64,
     "metadata": {},
     "output_type": "execute_result"
    }
   ],
   "source": [
    "count_tokens(\n",
    "    conversation_buf,\n",
    "    \"I just want to analyze the different possibilities. What can you think of?\"\n",
    ")"
   ]
  },
  {
   "cell_type": "code",
   "execution_count": 65,
   "id": "4df4eedd-00f0-42f1-80ac-bb6c99693ecf",
   "metadata": {},
   "outputs": [
    {
     "name": "stdout",
     "output_type": "stream",
     "text": [
      "Spent a total of 319 tokens\n"
     ]
    },
    {
     "data": {
      "text/plain": [
       "'  Depending on the type of project you are working on, there are many different data sources that could be used to give context to the model. For instance, you could use natural language processing models to analyze text or speech data, or you could use image processing models to analyze image data. You could also use knowledge graphs to encode facts and provide additional context.'"
      ]
     },
     "execution_count": 65,
     "metadata": {},
     "output_type": "execute_result"
    }
   ],
   "source": [
    "count_tokens(\n",
    "    conversation_buf, \n",
    "    \"Which data source types could be used to give context to the model?\"\n",
    ")"
   ]
  },
  {
   "cell_type": "code",
   "execution_count": 66,
   "id": "d3c704d6-fe10-4af9-b37c-c45c5b487f95",
   "metadata": {},
   "outputs": [
    {
     "name": "stdout",
     "output_type": "stream",
     "text": [
      "Spent a total of 369 tokens\n"
     ]
    },
    {
     "data": {
      "text/plain": [
       "'  Your aim is to explore the potential of integrating Large Language Models with external knowledge. You are looking for suitable language models and data sources that you can use to give context to your model.'"
      ]
     },
     "execution_count": 66,
     "metadata": {},
     "output_type": "execute_result"
    }
   ],
   "source": [
    "count_tokens(\n",
    "    conversation_buf, \n",
    "    \"What is my aim again?\"\n",
    ")"
   ]
  },
  {
   "cell_type": "code",
   "execution_count": 67,
   "id": "fe5cf48b-07cb-4d96-a386-2812c247ed7f",
   "metadata": {},
   "outputs": [
    {
     "name": "stdout",
     "output_type": "stream",
     "text": [
      "Human: Good morning AI!\n",
      "AI:  Good morning! It's a beautiful day today, isn't it? I'm ready to answer any questions you may have.\n",
      "Human: My interest here is to explore the potential of integrating Large Language Models with external knowledge\n",
      "AI:  Interesting, that sounds like a great project! I'm sure it could lead to some exciting discoveries. Could you tell me more about which language models you are thinking of using and why you think they will be helpful?\n",
      "Human: I just want to analyze the different possibilities. What can you think of?\n",
      "AI:  I'm afraid I don't know the answer to that question. However, perhaps you could look into existing language models and see which ones are most suitable for your project. You could also look into research papers on the topic to get some ideas.\n",
      "Human: Which data source types could be used to give context to the model?\n",
      "AI:   Depending on the type of project you are working on, there are many different data sources that could be used to give context to the model. For instance, you could use natural language processing models to analyze text or speech data, or you could use image processing models to analyze image data. You could also use knowledge graphs to encode facts and provide additional context.\n",
      "Human: What is my aim again?\n",
      "AI:   Your aim is to explore the potential of integrating Large Language Models with external knowledge. You are looking for suitable language models and data sources that you can use to give context to your model.\n"
     ]
    }
   ],
   "source": [
    "print(conversation_buf.memory.buffer)"
   ]
  },
  {
   "cell_type": "markdown",
   "id": "5c54c61d-9987-4222-9952-5dac4a38a0c1",
   "metadata": {},
   "source": [
    "### ConversationSummaryMemory\n",
    "\n",
    "Key feature: the conversation summary memory keeps the previous pieces of conversation in a summarized form, where the summarization is performed by an LLM."
   ]
  },
  {
   "cell_type": "code",
   "execution_count": 68,
   "id": "8e1dc355-859b-4197-9361-6eb3874f5f11",
   "metadata": {},
   "outputs": [],
   "source": [
    "conversation_sum = ConversationChain(\n",
    "    llm=llm, \n",
    "    memory=ConversationSummaryMemory(llm=llm)\n",
    ")"
   ]
  },
  {
   "cell_type": "code",
   "execution_count": 69,
   "id": "f6bec2e5-5397-4f80-8656-cdb74566d20a",
   "metadata": {},
   "outputs": [
    {
     "name": "stdout",
     "output_type": "stream",
     "text": [
      "Progressively summarize the lines of conversation provided, adding onto the previous summary returning a new summary.\n",
      "\n",
      "EXAMPLE\n",
      "Current summary:\n",
      "The human asks what the AI thinks of artificial intelligence. The AI thinks artificial intelligence is a force for good.\n",
      "\n",
      "New lines of conversation:\n",
      "Human: Why do you think artificial intelligence is a force for good?\n",
      "AI: Because artificial intelligence will help humans reach their full potential.\n",
      "\n",
      "New summary:\n",
      "The human asks what the AI thinks of artificial intelligence. The AI thinks artificial intelligence is a force for good because it will help humans reach their full potential.\n",
      "END OF EXAMPLE\n",
      "\n",
      "Current summary:\n",
      "{summary}\n",
      "\n",
      "New lines of conversation:\n",
      "{new_lines}\n",
      "\n",
      "New summary:\n"
     ]
    }
   ],
   "source": [
    "print(conversation_sum.memory.prompt.template)"
   ]
  },
  {
   "cell_type": "code",
   "execution_count": 70,
   "id": "b57556a0-8c5b-45c0-a24b-f203c0aa22a0",
   "metadata": {},
   "outputs": [
    {
     "name": "stdout",
     "output_type": "stream",
     "text": [
      "Spent a total of 287 tokens\n"
     ]
    },
    {
     "data": {
      "text/plain": [
       "\" Good morning! It's a beautiful day today, isn't it? How are you doing?\""
      ]
     },
     "execution_count": 70,
     "metadata": {},
     "output_type": "execute_result"
    }
   ],
   "source": [
    "count_tokens(\n",
    "    conversation_sum, \n",
    "    \"Good morning AI!\"\n",
    ")"
   ]
  },
  {
   "cell_type": "code",
   "execution_count": 71,
   "id": "162cf286-ad10-4c84-9db2-e6b936a231b4",
   "metadata": {},
   "outputs": [
    {
     "name": "stdout",
     "output_type": "stream",
     "text": [
      "Spent a total of 433 tokens\n"
     ]
    },
    {
     "data": {
      "text/plain": [
       "\" Hi there! I'm glad you've come to explore the potential of integrating Large Language Models with external knowledge. What kind of external knowledge are you looking to integrate?\""
      ]
     },
     "execution_count": 71,
     "metadata": {},
     "output_type": "execute_result"
    }
   ],
   "source": [
    "count_tokens(\n",
    "    conversation_sum, \n",
    "    \"My interest here is to explore the potential of integrating Large Language Models with external knowledge\"\n",
    ")"
   ]
  },
  {
   "cell_type": "code",
   "execution_count": 72,
   "id": "e893fb7f-653c-417b-9497-b55a66a0c370",
   "metadata": {},
   "outputs": [
    {
     "name": "stdout",
     "output_type": "stream",
     "text": [
      "Spent a total of 676 tokens\n"
     ]
    },
    {
     "data": {
      "text/plain": [
       "' That is an interesting question! I can think of a few potential options when it comes to integrating large language models with external knowledge. For example, you could use a semi-supervised learning approach to incorporate labeled data from external sources into the language model. You could also use transfer learning by taking existing language models trained on large datasets and fine-tuning them to incorporate the external knowledge. Finally, you could use data augmentation techniques to generate additional training data using the external knowledge sources.'"
      ]
     },
     "execution_count": 72,
     "metadata": {},
     "output_type": "execute_result"
    }
   ],
   "source": [
    "count_tokens(\n",
    "    conversation_sum, \n",
    "    \"I just want to analyze the different possibilities. What can you think of?\"\n",
    ")"
   ]
  },
  {
   "cell_type": "code",
   "execution_count": 73,
   "id": "26cfcc28-6e96-4991-9f7d-996d0584b09a",
   "metadata": {},
   "outputs": [
    {
     "name": "stdout",
     "output_type": "stream",
     "text": [
      "Spent a total of 754 tokens\n"
     ]
    },
    {
     "data": {
      "text/plain": [
       "' Depending on the type of contextual input you would like to give to the model, there are a few potential data source types that could be used. Examples include natural language corpora, ontologies, taxonomies, images, and video. It could also be possible to use structured data such as knowledge graphs or semantic networks containing information about entities, relationships, and properties.'"
      ]
     },
     "execution_count": 73,
     "metadata": {},
     "output_type": "execute_result"
    }
   ],
   "source": [
    "count_tokens(\n",
    "    conversation_sum, \n",
    "    \"Which data source types could be used to give context to the model?\"\n",
    ")"
   ]
  },
  {
   "cell_type": "code",
   "execution_count": 74,
   "id": "17cc20b7-7c85-47ba-851c-6031b2b0ab93",
   "metadata": {},
   "outputs": [
    {
     "name": "stdout",
     "output_type": "stream",
     "text": [
      "Spent a total of 927 tokens\n"
     ]
    },
    {
     "data": {
      "text/plain": [
       "' Your aim is to explore the potential of integrating large language models with external knowledge. You are looking to incorporate external knowledge into the language model through a semi-supervised learning approach, transfer learning, or data augmentation techniques. The data source types that could be used to give context to the model include natural language corpora, ontologies, taxonomies, images, video, structured data such as knowledge graphs, and semantic networks containing information about entities, relationships, and properties.'"
      ]
     },
     "execution_count": 74,
     "metadata": {},
     "output_type": "execute_result"
    }
   ],
   "source": [
    "count_tokens(\n",
    "    conversation_sum, \n",
    "    \"What is my aim again?\"\n",
    ")"
   ]
  },
  {
   "cell_type": "code",
   "execution_count": 75,
   "id": "4e3c0859-a583-4844-8282-f86f4d73dff3",
   "metadata": {},
   "outputs": [
    {
     "name": "stdout",
     "output_type": "stream",
     "text": [
      "\n",
      "The human greets the AI, to which the AI responds with a greeting and inquires about the human's well-being. The human expresses an interest in exploring the potential of integrating Large Language Models with external knowledge, to which the AI responds positively and inquires about the kind of external knowledge the human is looking to integrate. The AI suggests a few potential options, such as using a semi-supervised learning approach, transfer learning, or data augmentation techniques to incorporate external knowledge into the language model. When asked which data source types could be used to give context to the model, the AI suggests natural language corpora, ontologies, taxonomies, images, video, structured data such as knowledge graphs, and semantic networks containing information about entities, relationships, and properties. The AI reminds the human that their aim is to explore the potential of integrating large language models with external knowledge and suggests various techniques and data sources that could be used for this purpose.\n"
     ]
    }
   ],
   "source": [
    "print(conversation_sum.memory.buffer)"
   ]
  },
  {
   "cell_type": "code",
   "execution_count": 76,
   "id": "be1d65a1-26ba-44fc-b3d1-bc4ed0c3b6ac",
   "metadata": {},
   "outputs": [
    {
     "name": "stdout",
     "output_type": "stream",
     "text": [
      "Buffer memory conversation length: 314\n",
      "Summary memory conversation length: 193\n"
     ]
    }
   ],
   "source": [
    "# initialize tokenizer\n",
    "tokenizer = tiktoken.encoding_for_model('text-davinci-003')\n",
    "\n",
    "# show number of tokens for the memory used by each memory type\n",
    "print(\n",
    "    f'Buffer memory conversation length: {len(tokenizer.encode(conversation_buf.memory.buffer))}\\n'\n",
    "    f'Summary memory conversation length: {len(tokenizer.encode(conversation_sum.memory.buffer))}'\n",
    ")"
   ]
  },
  {
   "cell_type": "markdown",
   "id": "9c929756-e309-44ee-b628-c002b317fd80",
   "metadata": {},
   "source": [
    "### ConversationBufferWindowMemory\n",
    "\n",
    "Key feature: the conversation buffer window memory keeps the latest pieces of the conversation in raw form"
   ]
  },
  {
   "cell_type": "code",
   "execution_count": 77,
   "id": "ceb9ba52-16fd-4736-a054-e9304b1f6d82",
   "metadata": {},
   "outputs": [],
   "source": [
    "conversation_bufw = ConversationChain(\n",
    "    llm=llm, \n",
    "    memory=ConversationBufferWindowMemory(k=1)\n",
    ")"
   ]
  },
  {
   "cell_type": "code",
   "execution_count": 78,
   "id": "3fbfb92e-26ff-4aaf-a299-c9bda6053dd2",
   "metadata": {},
   "outputs": [
    {
     "name": "stdout",
     "output_type": "stream",
     "text": [
      "Spent a total of 83 tokens\n"
     ]
    },
    {
     "data": {
      "text/plain": [
       "\" Good morning! It's so nice to hear from you. How are you doing today?\""
      ]
     },
     "execution_count": 78,
     "metadata": {},
     "output_type": "execute_result"
    }
   ],
   "source": [
    "count_tokens(\n",
    "    conversation_bufw, \n",
    "    \"Good morning AI!\"\n",
    ")"
   ]
  },
  {
   "cell_type": "code",
   "execution_count": 79,
   "id": "4287807f-7fd2-4ca9-911d-bee29a1a5cfc",
   "metadata": {},
   "outputs": [
    {
     "name": "stdout",
     "output_type": "stream",
     "text": [
      "Spent a total of 183 tokens\n"
     ]
    },
    {
     "data": {
      "text/plain": [
       "\" That sounds fascinating! I'm not an expert in this field, but from the research I've done, it seems that integrating large language models with external knowledge can provide a major boost in natural language processing capabilities. For example, when you integrate a large language model with external knowledge, you can create more accurate and reliable results for tasks such as document classification, sentiment analysis, and question answering.\""
      ]
     },
     "execution_count": 79,
     "metadata": {},
     "output_type": "execute_result"
    }
   ],
   "source": [
    "count_tokens(\n",
    "    conversation_bufw, \n",
    "    \"My interest here is to explore the potential of integrating Large Language Models with external knowledge\"\n",
    ")"
   ]
  },
  {
   "cell_type": "code",
   "execution_count": 80,
   "id": "d2e2587d-25e9-412f-a7e0-c4a9b5f67ad2",
   "metadata": {},
   "outputs": [
    {
     "name": "stdout",
     "output_type": "stream",
     "text": [
      "Spent a total of 243 tokens\n"
     ]
    },
    {
     "data": {
      "text/plain": [
       "' Some of the possibilities include utilizing large language models to accurately detect and classify objects in images, generate more accurate automatic translations, improve the accuracy of natural language understanding, and provide better context for text-based conversations. Additionally, you could use a large language model to create more sophisticated chatbots that can accurately understand natural language and respond accordingly.'"
      ]
     },
     "execution_count": 80,
     "metadata": {},
     "output_type": "execute_result"
    }
   ],
   "source": [
    "count_tokens(\n",
    "    conversation_bufw, \n",
    "    \"I just want to analyze the different possibilities. What can you think of?\"\n",
    ")"
   ]
  },
  {
   "cell_type": "code",
   "execution_count": 81,
   "id": "6609d28f-2268-40c6-8167-9917e0111de0",
   "metadata": {},
   "outputs": [
    {
     "name": "stdout",
     "output_type": "stream",
     "text": [
      "Spent a total of 254 tokens\n"
     ]
    },
    {
     "data": {
      "text/plain": [
       "' Depending on the model and its use case, data sources can include text documents, audio files, images, videos, and other types of structured and unstructured data. For example, a natural language processing (NLP) model could be trained using large collections of text documents, such as news articles and books. An image recognition model could be trained using a large collection of images, such as photos from a digital camera or an online collection of images.'"
      ]
     },
     "execution_count": 81,
     "metadata": {},
     "output_type": "execute_result"
    }
   ],
   "source": [
    "count_tokens(\n",
    "    conversation_bufw, \n",
    "    \"Which data source types could be used to give context to the model?\"\n",
    ")"
   ]
  },
  {
   "cell_type": "code",
   "execution_count": 82,
   "id": "d1a8bd12-8d5f-46f7-aba9-4b8dca6d5415",
   "metadata": {},
   "outputs": [
    {
     "name": "stdout",
     "output_type": "stream",
     "text": [
      "Spent a total of 215 tokens\n"
     ]
    },
    {
     "data": {
      "text/plain": [
       "' Your aim is to use data sources to give context to your model. By providing the model with plenty of relevant data, it can learn the patterns and features necessary to make accurate predictions.'"
      ]
     },
     "execution_count": 82,
     "metadata": {},
     "output_type": "execute_result"
    }
   ],
   "source": [
    "count_tokens(\n",
    "    conversation_bufw, \n",
    "    \"What is my aim again?\"\n",
    ")"
   ]
  },
  {
   "cell_type": "code",
   "execution_count": 83,
   "id": "aa86045b-a2af-4015-b5e2-ede2ad8fe9ad",
   "metadata": {},
   "outputs": [
    {
     "name": "stdout",
     "output_type": "stream",
     "text": [
      "Human: What is my aim again?\n",
      "AI:  Your aim is to use data sources to give context to your model. By providing the model with plenty of relevant data, it can learn the patterns and features necessary to make accurate predictions.\n"
     ]
    }
   ],
   "source": [
    "bufw_history = conversation_bufw.memory.load_memory_variables(\n",
    "    inputs=[]\n",
    ")['history']\n",
    "print(bufw_history)"
   ]
  },
  {
   "cell_type": "code",
   "execution_count": 84,
   "id": "fdfb0694-caa1-4132-bcc9-74bb1e33ba04",
   "metadata": {},
   "outputs": [
    {
     "name": "stdout",
     "output_type": "stream",
     "text": [
      "Buffer memory conversation length: 314\n",
      "Summary memory conversation length: 193\n",
      "Buffer window memory conversation length: 49\n"
     ]
    }
   ],
   "source": [
    "print(\n",
    "    f'Buffer memory conversation length: {len(tokenizer.encode(conversation_buf.memory.buffer))}\\n'\n",
    "    f'Summary memory conversation length: {len(tokenizer.encode(conversation_sum.memory.buffer))}\\n'\n",
    "    f'Buffer window memory conversation length: {len(tokenizer.encode(bufw_history))}'\n",
    ")"
   ]
  },
  {
   "cell_type": "markdown",
   "id": "85c8f6ef-e93a-475a-9191-6ae9d54a8610",
   "metadata": {},
   "source": [
    "Other types of memory:\n",
    "- **ConversationSummaryBufferMemory**: keeps a summary of the earliest pieces of the conversation while retaining a raw recollection of the latest interactions.\n",
    "- **ConversationKnowledgeGraphMemory**: keeps a knowledge graph of all the entities that have been mentioned in the interactions together with their semantic relationships.\n",
    "- **ConversationEntityMemory**: keeps a recollection of the main entities that have been mentioned, together with their specific attributes."
   ]
  },
  {
   "cell_type": "code",
   "execution_count": 85,
   "id": "f590d39a-e90a-4ea2-be08-8d9e5608ea4a",
   "metadata": {},
   "outputs": [],
   "source": [
    "embed = OpenAIEmbeddings()"
   ]
  }
 ],
 "metadata": {
  "kernelspec": {
   "display_name": "Python 3 (ipykernel)",
   "language": "python",
   "name": "python3"
  },
  "language_info": {
   "codemirror_mode": {
    "name": "ipython",
    "version": 3
   },
   "file_extension": ".py",
   "mimetype": "text/x-python",
   "name": "python",
   "nbconvert_exporter": "python",
   "pygments_lexer": "ipython3",
   "version": "3.11.3"
  }
 },
 "nbformat": 4,
 "nbformat_minor": 5
}

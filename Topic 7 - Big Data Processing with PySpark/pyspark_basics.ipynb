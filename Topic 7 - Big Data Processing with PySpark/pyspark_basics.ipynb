{
 "cells": [
  {
   "cell_type": "markdown",
   "id": "a29463a6-27e3-4aad-8354-66f84477d506",
   "metadata": {},
   "source": [
    "# Pyspark basics\n",
    "\n",
    "This notebook demonstrates the basics operations of working with Pyspark Dataframe.\n",
    "\n",
    "## 1. Spark Session\n",
    "\n",
    "**SparkSession**: an entry point to PySpark to underlie PySpark functionality to programmatically create PySpark RDD, DataFrame and Dataset (since v.2.0 that replaces SQLContext, HiveCOntext, and others defined before this version)."
   ]
  },
  {
   "cell_type": "code",
   "execution_count": 1,
   "id": "9d753dfd-2c78-402d-8aca-b96b25a68a5c",
   "metadata": {},
   "outputs": [],
   "source": [
    "import pyspark\n",
    "\n",
    "from pyspark.sql import SparkSession\n",
    "\n",
    "spark = SparkSession.builder \\\n",
    "        .master(\"local[*]\") \\\n",
    "        .appName(\"PySpark Basics\") \\\n",
    "        .getOrCreate()"
   ]
  },
  {
   "cell_type": "code",
   "execution_count": 2,
   "id": "515711cf-278e-469b-b502-ce2368ad84fe",
   "metadata": {},
   "outputs": [
    {
     "data": {
      "text/html": [
       "\n",
       "            <div>\n",
       "                <p><b>SparkSession - in-memory</b></p>\n",
       "                \n",
       "        <div>\n",
       "            <p><b>SparkContext</b></p>\n",
       "\n",
       "            <p><a href=\"http://host.docker.internal:4041\">Spark UI</a></p>\n",
       "\n",
       "            <dl>\n",
       "              <dt>Version</dt>\n",
       "                <dd><code>v3.3.0</code></dd>\n",
       "              <dt>Master</dt>\n",
       "                <dd><code>local[*]</code></dd>\n",
       "              <dt>AppName</dt>\n",
       "                <dd><code>PySpark Basics</code></dd>\n",
       "            </dl>\n",
       "        </div>\n",
       "        \n",
       "            </div>\n",
       "        "
      ],
      "text/plain": [
       "<pyspark.sql.session.SparkSession at 0x1e415ef8e80>"
      ]
     },
     "execution_count": 2,
     "metadata": {},
     "output_type": "execute_result"
    }
   ],
   "source": [
    "spark"
   ]
  },
  {
   "cell_type": "markdown",
   "id": "523d8d43-494f-47dc-bbf9-f7aa1fd6224f",
   "metadata": {},
   "source": [
    "## 2. Reading Data\n",
    "\n",
    "Accpeted formats: CSV, JSON, Parquet, etc.\n",
    "\n",
    "Use `spark.read` to read different file formats."
   ]
  },
  {
   "cell_type": "code",
   "execution_count": 9,
   "id": "90d8304d-a588-4ed5-a932-65f5ea2b06fc",
   "metadata": {},
   "outputs": [],
   "source": [
    "csv_file = '../01-selenium/data/myheroacademia.csv'\n",
    "df = spark.read.csv(\n",
    "    csv_file,\n",
    "    header=True\n",
    ")"
   ]
  },
  {
   "cell_type": "markdown",
   "id": "1a5c4dbd-d3d7-4d8c-85fd-a4db1cbc9c7e",
   "metadata": {},
   "source": [
    "Similarly, read json by `spark.read.json`, read parquet by `spark.read.parquet`."
   ]
  },
  {
   "cell_type": "markdown",
   "id": "06a15433-0608-401e-ad52-0aaea657f2c4",
   "metadata": {},
   "source": [
    "**Print out the schema** by the `printSchema()` method."
   ]
  },
  {
   "cell_type": "code",
   "execution_count": 10,
   "id": "2b9c9d71-9892-424f-abb8-a22d25fc55f2",
   "metadata": {},
   "outputs": [
    {
     "name": "stdout",
     "output_type": "stream",
     "text": [
      "root\n",
      " |-- Episode: string (nullable = true)\n",
      " |-- Character: string (nullable = true)\n",
      " |-- Type of appearance: string (nullable = true)\n",
      "\n"
     ]
    }
   ],
   "source": [
    "df.printSchema()"
   ]
  },
  {
   "cell_type": "markdown",
   "id": "2a36266c-44c5-450e-a197-ea311a04af3c",
   "metadata": {},
   "source": [
    "**Define our own schema**"
   ]
  },
  {
   "cell_type": "code",
   "execution_count": 11,
   "id": "4afc2f66-5b93-4d3c-8636-3f467b182bc9",
   "metadata": {},
   "outputs": [],
   "source": [
    "from pyspark.sql.types import *\n",
    "\n",
    "data_schema = [\n",
    "    StructField('Episode', IntegerType(), False),\n",
    "    StructField('Character', StringType(), False),\n",
    "    StructField('Type of appearance', StringType(), False)\n",
    "]\n",
    "final_struct = StructType(fields=data_schema)\n",
    "\n",
    "df = spark.read.csv(\n",
    "    csv_file,\n",
    "    header=True,\n",
    "    schema=final_struct\n",
    ")"
   ]
  },
  {
   "cell_type": "code",
   "execution_count": 12,
   "id": "f93d0103-c519-47e1-bf45-b9ce3f532ad7",
   "metadata": {},
   "outputs": [
    {
     "name": "stdout",
     "output_type": "stream",
     "text": [
      "root\n",
      " |-- Episode: integer (nullable = true)\n",
      " |-- Character: string (nullable = true)\n",
      " |-- Type of appearance: string (nullable = true)\n",
      "\n"
     ]
    }
   ],
   "source": [
    "df.printSchema()"
   ]
  },
  {
   "cell_type": "markdown",
   "id": "033d7482-e3d6-4666-9b35-071e27eb6660",
   "metadata": {},
   "source": [
    "Q: Why is the schema accepts nullable while the `data_schema` declared all nullable as False."
   ]
  },
  {
   "cell_type": "markdown",
   "id": "e2211ad9-d512-49ae-b077-80352c4fe49c",
   "metadata": {},
   "source": [
    "## 3. Inspecting Data"
   ]
  },
  {
   "cell_type": "code",
   "execution_count": 13,
   "id": "9864b39e-c72c-46d0-9aed-df122e4128c4",
   "metadata": {},
   "outputs": [
    {
     "data": {
      "text/plain": [
       "StructType([StructField('Episode', IntegerType(), True), StructField('Character', StringType(), True), StructField('Type of appearance', StringType(), True)])"
      ]
     },
     "execution_count": 13,
     "metadata": {},
     "output_type": "execute_result"
    }
   ],
   "source": [
    "df.schema"
   ]
  },
  {
   "cell_type": "code",
   "execution_count": 14,
   "id": "ae0baa0a-ba23-4dbe-a0f6-6abeae26ebeb",
   "metadata": {},
   "outputs": [
    {
     "data": {
      "text/plain": [
       "[('Episode', 'int'), ('Character', 'string'), ('Type of appearance', 'string')]"
      ]
     },
     "execution_count": 14,
     "metadata": {},
     "output_type": "execute_result"
    }
   ],
   "source": [
    "df.dtypes"
   ]
  },
  {
   "cell_type": "code",
   "execution_count": 15,
   "id": "23d037a1-7c02-4234-8c6d-76b076cbbed8",
   "metadata": {},
   "outputs": [
    {
     "data": {
      "text/plain": [
       "[Row(Episode=1, Character='Izuku Midoriya', Type of appearance='Direct'),\n",
       " Row(Episode=1, Character='Tsubasa', Type of appearance='Flashback'),\n",
       " Row(Episode=1, Character='Katsuki Bakugo', Type of appearance='Direct')]"
      ]
     },
     "execution_count": 15,
     "metadata": {},
     "output_type": "execute_result"
    }
   ],
   "source": [
    "df.head(3)"
   ]
  },
  {
   "cell_type": "code",
   "execution_count": 16,
   "id": "cd71bb09-c401-4ab3-bae3-f0146c1e0384",
   "metadata": {},
   "outputs": [
    {
     "name": "stdout",
     "output_type": "stream",
     "text": [
      "+-------+----------------+------------------+\n",
      "|Episode|       Character|Type of appearance|\n",
      "+-------+----------------+------------------+\n",
      "|      1|  Izuku Midoriya|            Direct|\n",
      "|      1|         Tsubasa|         Flashback|\n",
      "|      1|  Katsuki Bakugo|            Direct|\n",
      "|      1|   Giant Villain|            Direct|\n",
      "|      1|Luminescent Baby|         Flashback|\n",
      "|      1|       All Might|            Direct|\n",
      "|      1|      Death Arms|            Direct|\n",
      "|      1|       Backdraft|            Direct|\n",
      "|      1|     Kamui Woods|            Direct|\n",
      "|      1|        Mt. Lady|            Direct|\n",
      "|      1|  Sludge Villain|            Direct|\n",
      "|      1|   Inko Midoriya|         Flashback|\n",
      "|      1|Hisashi Midoriya|         Mentioned|\n",
      "|      2|  Izuku Midoriya|            Direct|\n",
      "|      2|       All Might|            Direct|\n",
      "|      2|  Sludge Villain|            Direct|\n",
      "|      2|  Katsuki Bakugo|            Direct|\n",
      "|      2|     All For One|         Mentioned|\n",
      "|      2|  Toxic Chainsaw|         Mentioned|\n",
      "|      2|      Death Arms|            Direct|\n",
      "+-------+----------------+------------------+\n",
      "only showing top 20 rows\n",
      "\n"
     ]
    }
   ],
   "source": [
    "df.show()"
   ]
  },
  {
   "cell_type": "code",
   "execution_count": 18,
   "id": "6f4668fc-116b-42c9-94db-7d0b485fd001",
   "metadata": {},
   "outputs": [
    {
     "data": {
      "text/plain": [
       "Row(Episode=1, Character='Izuku Midoriya', Type of appearance='Direct')"
      ]
     },
     "execution_count": 18,
     "metadata": {},
     "output_type": "execute_result"
    }
   ],
   "source": [
    "df.first()"
   ]
  },
  {
   "cell_type": "code",
   "execution_count": 20,
   "id": "f37744e1-5ff8-4e3c-a8d2-2307e2b28e38",
   "metadata": {},
   "outputs": [
    {
     "data": {
      "text/plain": [
       "[Row(Episode=1, Character='Izuku Midoriya', Type of appearance='Direct'),\n",
       " Row(Episode=1, Character='Tsubasa', Type of appearance='Flashback'),\n",
       " Row(Episode=1, Character='Katsuki Bakugo', Type of appearance='Direct')]"
      ]
     },
     "execution_count": 20,
     "metadata": {},
     "output_type": "execute_result"
    }
   ],
   "source": [
    "df.take(3) # Similar to df.head(3)"
   ]
  },
  {
   "cell_type": "code",
   "execution_count": 21,
   "id": "68505ab5-2ab8-486e-b676-1213586b5cc6",
   "metadata": {},
   "outputs": [
    {
     "name": "stdout",
     "output_type": "stream",
     "text": [
      "+-------+------------------+---------+------------------+\n",
      "|summary|           Episode|Character|Type of appearance|\n",
      "+-------+------------------+---------+------------------+\n",
      "|  count|              4184|     4185|              4183|\n",
      "|   mean| 60.08269598470363|     null|              null|\n",
      "| stddev|31.988976507896925|     null|              null|\n",
      "|    min|                 1|   Airjet|             Cameo|\n",
      "|    max|               113|Yuyu Haya|        voice only|\n",
      "+-------+------------------+---------+------------------+\n",
      "\n"
     ]
    }
   ],
   "source": [
    "df.describe().show()"
   ]
  },
  {
   "cell_type": "code",
   "execution_count": 22,
   "id": "043bb44e-3c26-493c-9397-d20d00c381ee",
   "metadata": {},
   "outputs": [
    {
     "data": {
      "text/plain": [
       "['Episode', 'Character', 'Type of appearance']"
      ]
     },
     "execution_count": 22,
     "metadata": {},
     "output_type": "execute_result"
    }
   ],
   "source": [
    "df.columns"
   ]
  },
  {
   "cell_type": "code",
   "execution_count": 23,
   "id": "f3026bea-b8e6-4222-a961-bd32d089d815",
   "metadata": {},
   "outputs": [
    {
     "data": {
      "text/plain": [
       "4196"
      ]
     },
     "execution_count": 23,
     "metadata": {},
     "output_type": "execute_result"
    }
   ],
   "source": [
    "df.count()"
   ]
  },
  {
   "cell_type": "code",
   "execution_count": 27,
   "id": "646d61f8-83b0-4860-952a-f11ddd4eee5c",
   "metadata": {},
   "outputs": [
    {
     "data": {
      "text/plain": [
       "4186"
      ]
     },
     "execution_count": 27,
     "metadata": {},
     "output_type": "execute_result"
    }
   ],
   "source": [
    "df.distinct().count() # df.distinct() returns a DataFrame with distinct rows"
   ]
  },
  {
   "cell_type": "markdown",
   "id": "57cf6a38-aa7e-45b5-bf6f-7831a3df2568",
   "metadata": {},
   "source": [
    "## 4. Columns Manipulation\n",
    "\n",
    "### 4.1. Adding columns"
   ]
  },
  {
   "cell_type": "code",
   "execution_count": 28,
   "id": "8f31dc0f-32d7-42c3-837e-f26c2a2a827a",
   "metadata": {},
   "outputs": [],
   "source": [
    "df = df.withColumn('Episode index', df.Episode - 1)"
   ]
  },
  {
   "cell_type": "code",
   "execution_count": 29,
   "id": "78875ac3-74ed-4a46-8ce8-69c05d0f2517",
   "metadata": {},
   "outputs": [
    {
     "name": "stdout",
     "output_type": "stream",
     "text": [
      "+-------+----------------+------------------+-------------+\n",
      "|Episode|       Character|Type of appearance|Episode index|\n",
      "+-------+----------------+------------------+-------------+\n",
      "|      1|  Izuku Midoriya|            Direct|            0|\n",
      "|      1|         Tsubasa|         Flashback|            0|\n",
      "|      1|  Katsuki Bakugo|            Direct|            0|\n",
      "|      1|   Giant Villain|            Direct|            0|\n",
      "|      1|Luminescent Baby|         Flashback|            0|\n",
      "+-------+----------------+------------------+-------------+\n",
      "only showing top 5 rows\n",
      "\n"
     ]
    }
   ],
   "source": [
    "df.show(5)"
   ]
  },
  {
   "cell_type": "markdown",
   "id": "28d09617-51a0-4659-9251-8e3ba1d7d2c9",
   "metadata": {},
   "source": [
    "### 4.2. Update columns"
   ]
  },
  {
   "cell_type": "code",
   "execution_count": 30,
   "id": "9b211f10-5345-497d-bc37-916f8ae2e49e",
   "metadata": {},
   "outputs": [
    {
     "name": "stdout",
     "output_type": "stream",
     "text": [
      "+-------+----------------+------------------+-------------+\n",
      "|Episode|       Character|Type of appearance|Episode Index|\n",
      "+-------+----------------+------------------+-------------+\n",
      "|      1|  Izuku Midoriya|            Direct|            0|\n",
      "|      1|         Tsubasa|         Flashback|            0|\n",
      "|      1|  Katsuki Bakugo|            Direct|            0|\n",
      "|      1|   Giant Villain|            Direct|            0|\n",
      "|      1|Luminescent Baby|         Flashback|            0|\n",
      "+-------+----------------+------------------+-------------+\n",
      "only showing top 5 rows\n",
      "\n"
     ]
    }
   ],
   "source": [
    "df = df.withColumnRenamed('Episode index', 'Episode Index')\n",
    "df.show(5)"
   ]
  },
  {
   "cell_type": "markdown",
   "id": "6b8798cb-0529-476c-a4f4-e285e72ff642",
   "metadata": {},
   "source": [
    "### 4.3. Delete Columns"
   ]
  },
  {
   "cell_type": "code",
   "execution_count": 31,
   "id": "81cbf801-b7c2-4146-95d8-f69f55dd2a75",
   "metadata": {},
   "outputs": [
    {
     "name": "stdout",
     "output_type": "stream",
     "text": [
      "+-------+----------------+------------------+\n",
      "|Episode|       Character|Type of appearance|\n",
      "+-------+----------------+------------------+\n",
      "|      1|  Izuku Midoriya|            Direct|\n",
      "|      1|         Tsubasa|         Flashback|\n",
      "|      1|  Katsuki Bakugo|            Direct|\n",
      "|      1|   Giant Villain|            Direct|\n",
      "|      1|Luminescent Baby|         Flashback|\n",
      "+-------+----------------+------------------+\n",
      "only showing top 5 rows\n",
      "\n"
     ]
    }
   ],
   "source": [
    "df = df.drop('Episode Index')\n",
    "df.show(5)"
   ]
  },
  {
   "cell_type": "markdown",
   "id": "f0da0598-6caf-45e8-9168-5c6217fc7d38",
   "metadata": {},
   "source": [
    "## 5. Handling Missing Values\n",
    "\n",
    "### 5.1. Remove rows having missing values"
   ]
  },
  {
   "cell_type": "code",
   "execution_count": 37,
   "id": "eb312ecb-c577-4d68-a2a9-956f724c55d4",
   "metadata": {},
   "outputs": [
    {
     "name": "stdout",
     "output_type": "stream",
     "text": [
      "root\n",
      " |-- id: long (nullable = true)\n",
      " |-- zipcode: long (nullable = true)\n",
      " |-- type: string (nullable = true)\n",
      " |-- city: string (nullable = true)\n",
      " |-- state: string (nullable = true)\n",
      " |-- population: long (nullable = true)\n",
      "\n"
     ]
    }
   ],
   "source": [
    "# Augmented data\n",
    "data = [\n",
    "    (0, 704, 'STANDARD', None, 'PR', 30100),\n",
    "    (1, 704, None, 'PASEO COSTA DEL SUR', 'PR', None),\n",
    "    (2, 709, None, 'BDA SAN LUIS', 'PR', 3700),\n",
    "    (3, 76166, 'UNIQUE', 'CINGULAR WIRELESS', 'TX', 84000),\n",
    "    (4, 76177, 'STANDARD', None, 'TX', None)\n",
    "]\n",
    "columns = ['id', 'zipcode', 'type', 'city', 'state', 'population']\n",
    "\n",
    "data = spark.createDataFrame(data=data, schema=columns)\n",
    "data.printSchema()"
   ]
  },
  {
   "cell_type": "code",
   "execution_count": 41,
   "id": "4b03685e-d273-46e7-b245-de968a42e225",
   "metadata": {},
   "outputs": [
    {
     "name": "stdout",
     "output_type": "stream",
     "text": [
      "+---+-------+------+-----------------+-----+----------+\n",
      "| id|zipcode|  type|             city|state|population|\n",
      "+---+-------+------+-----------------+-----+----------+\n",
      "|  3|  76166|UNIQUE|CINGULAR WIRELESS|   TX|     84000|\n",
      "+---+-------+------+-----------------+-----+----------+\n",
      "\n"
     ]
    }
   ],
   "source": [
    "data.na.drop().show()"
   ]
  },
  {
   "cell_type": "code",
   "execution_count": 42,
   "id": "00d18839-8ba2-4124-872b-50e02087ea75",
   "metadata": {},
   "outputs": [
    {
     "name": "stdout",
     "output_type": "stream",
     "text": [
      "+---+-------+--------+-----------------+-----+----------+\n",
      "| id|zipcode|    type|             city|state|population|\n",
      "+---+-------+--------+-----------------+-----+----------+\n",
      "|  0|    704|STANDARD|             null|   PR|     30100|\n",
      "|  2|    709|    null|     BDA SAN LUIS|   PR|      3700|\n",
      "|  3|  76166|  UNIQUE|CINGULAR WIRELESS|   TX|     84000|\n",
      "+---+-------+--------+-----------------+-----+----------+\n",
      "\n"
     ]
    }
   ],
   "source": [
    "data.na.drop(subset='population').show()"
   ]
  },
  {
   "cell_type": "markdown",
   "id": "03a6fc60-2fe6-45e8-b7e2-4fa06cb1e186",
   "metadata": {},
   "source": [
    "### 5.2. Replacing Missing Values with A New Value"
   ]
  },
  {
   "cell_type": "code",
   "execution_count": 51,
   "id": "d05c7a34-c659-43e4-b11a-495105e3c16b",
   "metadata": {},
   "outputs": [
    {
     "data": {
      "text/plain": [
       "39266.666666666664"
      ]
     },
     "execution_count": 51,
     "metadata": {},
     "output_type": "execute_result"
    }
   ],
   "source": [
    "from pyspark.sql.functions import mean, stddev, col\n",
    "\n",
    "mean_value = data.select(mean(data.population)).collect()[0][0]\n",
    "mean_value"
   ]
  },
  {
   "cell_type": "code",
   "execution_count": 52,
   "id": "32453589-4e1a-4a75-b389-45ca692d794b",
   "metadata": {},
   "outputs": [
    {
     "name": "stdout",
     "output_type": "stream",
     "text": [
      "+---+-------+--------+-------------------+-----+----------+\n",
      "| id|zipcode|    type|               city|state|population|\n",
      "+---+-------+--------+-------------------+-----+----------+\n",
      "|  0|    704|STANDARD|               null|   PR|     30100|\n",
      "|  1|    704|    null|PASEO COSTA DEL SUR|   PR|     39266|\n",
      "|  2|    709|    null|       BDA SAN LUIS|   PR|      3700|\n",
      "|  3|  76166|  UNIQUE|  CINGULAR WIRELESS|   TX|     84000|\n",
      "|  4|  76177|STANDARD|               null|   TX|     39266|\n",
      "+---+-------+--------+-------------------+-----+----------+\n",
      "\n"
     ]
    }
   ],
   "source": [
    "data.na.fill(mean_value).show()"
   ]
  },
  {
   "cell_type": "code",
   "execution_count": 55,
   "id": "b28d0de6-8fef-4a4c-9255-a8a4ec98fbf1",
   "metadata": {},
   "outputs": [
    {
     "name": "stdout",
     "output_type": "stream",
     "text": [
      "+---+-------+----------+-------------------+-----+----------+\n",
      "| id|zipcode|      type|               city|state|population|\n",
      "+---+-------+----------+-------------------+-----+----------+\n",
      "|  0|    704|  STANDARD|         COSTA RICA|   PR|     30100|\n",
      "|  1|    704|COSTA RICA|PASEO COSTA DEL SUR|   PR|      null|\n",
      "|  2|    709|COSTA RICA|       BDA SAN LUIS|   PR|      3700|\n",
      "|  3|  76166|    UNIQUE|  CINGULAR WIRELESS|   TX|     84000|\n",
      "|  4|  76177|  STANDARD|         COSTA RICA|   TX|      null|\n",
      "+---+-------+----------+-------------------+-----+----------+\n",
      "\n"
     ]
    }
   ],
   "source": [
    "data.na.fill('COSTA RICA').show()"
   ]
  },
  {
   "cell_type": "markdown",
   "id": "01c494a4-c9bb-44f4-a0de-856f0311928a",
   "metadata": {},
   "source": [
    "Numerical value will only be added to numeric columns, similar to other data type."
   ]
  },
  {
   "cell_type": "code",
   "execution_count": 58,
   "id": "14e9d8c0-2387-4259-901a-ec21f51d7e43",
   "metadata": {},
   "outputs": [
    {
     "name": "stdout",
     "output_type": "stream",
     "text": [
      "+---+-------+--------+-------------------+-----+----------+\n",
      "| id|zipcode|    type|               city|state|population|\n",
      "+---+-------+--------+-------------------+-----+----------+\n",
      "|  0|    704|STANDARD|         COSTA RICA|   PR|     30100|\n",
      "|  1|    704|STANDARD|PASEO COSTA DEL SUR|   PR|      null|\n",
      "|  2|    709|STANDARD|       BDA SAN LUIS|   PR|      3700|\n",
      "|  3|  76166|  UNIQUE|  CINGULAR WIRELESS|   TX|     84000|\n",
      "|  4|  76177|STANDARD|         COSTA RICA|   TX|      null|\n",
      "+---+-------+--------+-------------------+-----+----------+\n",
      "\n"
     ]
    }
   ],
   "source": [
    "data.na.fill(\"STANDARD\", subset=[\"type\"]) \\\n",
    "    .na.fill(\"COSTA RICA\", subset=[\"city\"]) \\\n",
    "    .show()"
   ]
  },
  {
   "cell_type": "markdown",
   "id": "18c64e3d-c9ba-48bc-886a-a2d124ee8a8f",
   "metadata": {},
   "source": [
    "### 5.3. Replacing Missing indicator with New values"
   ]
  },
  {
   "cell_type": "code",
   "execution_count": 54,
   "id": "997b3cb5-2d9c-433a-bf4e-17682a7ef364",
   "metadata": {},
   "outputs": [
    {
     "name": "stdout",
     "output_type": "stream",
     "text": [
      "+---+-------+--------+-------------------+-----+----------+\n",
      "| id|zipcode|    type|               city|state|population|\n",
      "+---+-------+--------+-------------------+-----+----------+\n",
      "|  0|    704|STANDARD|               null|   PR|     30100|\n",
      "|  1|    704|    null|PASEO COSTA DEL SUR|   PR|      null|\n",
      "|  2|    709|    null|         COSTA RICA|   PR|      3700|\n",
      "|  3|  76166|  UNIQUE|  CINGULAR WIRELESS|   TX|     84000|\n",
      "|  4|  76177|STANDARD|               null|   TX|      null|\n",
      "+---+-------+--------+-------------------+-----+----------+\n",
      "\n"
     ]
    }
   ],
   "source": [
    "data.na.replace('BDA SAN LUIS', 'COSTA RICA').show()"
   ]
  },
  {
   "cell_type": "markdown",
   "id": "074c45bc-a189-4de9-8775-8baf2642f102",
   "metadata": {},
   "source": [
    "## 6. Querying Data\n",
    "\n",
    "### 6.1. SELECT"
   ]
  },
  {
   "cell_type": "code",
   "execution_count": 59,
   "id": "ca73d8b7-946a-4176-9690-354f9f463e39",
   "metadata": {},
   "outputs": [
    {
     "name": "stdout",
     "output_type": "stream",
     "text": [
      "+----------------+\n",
      "|       Character|\n",
      "+----------------+\n",
      "|  Izuku Midoriya|\n",
      "|         Tsubasa|\n",
      "|  Katsuki Bakugo|\n",
      "|   Giant Villain|\n",
      "|Luminescent Baby|\n",
      "+----------------+\n",
      "only showing top 5 rows\n",
      "\n"
     ]
    }
   ],
   "source": [
    "df.select('Character').show(5)"
   ]
  },
  {
   "cell_type": "code",
   "execution_count": 60,
   "id": "6d68bba8-e20a-4c3d-9473-670227d10138",
   "metadata": {},
   "outputs": [
    {
     "data": {
      "text/plain": [
       "4196"
      ]
     },
     "execution_count": 60,
     "metadata": {},
     "output_type": "execute_result"
    }
   ],
   "source": [
    "df.select('Character').count()"
   ]
  },
  {
   "cell_type": "code",
   "execution_count": 61,
   "id": "e9f1a619-8f48-4eaa-aa19-b358875c09e0",
   "metadata": {},
   "outputs": [
    {
     "data": {
      "text/plain": [
       "277"
      ]
     },
     "execution_count": 61,
     "metadata": {},
     "output_type": "execute_result"
    }
   ],
   "source": [
    "df.select('Character').distinct().count()"
   ]
  },
  {
   "cell_type": "code",
   "execution_count": 62,
   "id": "db80337b-23bf-4cf2-abea-563cbfed745d",
   "metadata": {},
   "outputs": [
    {
     "name": "stdout",
     "output_type": "stream",
     "text": [
      "+-------+----------------+\n",
      "|Episode|       Character|\n",
      "+-------+----------------+\n",
      "|      1|  Izuku Midoriya|\n",
      "|      1|         Tsubasa|\n",
      "|      1|  Katsuki Bakugo|\n",
      "|      1|   Giant Villain|\n",
      "|      1|Luminescent Baby|\n",
      "+-------+----------------+\n",
      "only showing top 5 rows\n",
      "\n"
     ]
    }
   ],
   "source": [
    "df.select(['Episode', 'Character']).show(5)"
   ]
  },
  {
   "cell_type": "markdown",
   "id": "7ab74df4-7286-4b4a-a168-54d2fabd2f87",
   "metadata": {},
   "source": [
    "### 6.2. Filter"
   ]
  },
  {
   "cell_type": "code",
   "execution_count": 63,
   "id": "3381bbcf-d7a5-4dc9-8978-013b22c8772e",
   "metadata": {},
   "outputs": [
    {
     "name": "stdout",
     "output_type": "stream",
     "text": [
      "+-------+-----------------+------------------+\n",
      "|Episode|        Character|Type of appearance|\n",
      "+-------+-----------------+------------------+\n",
      "|      5|        All Might|            Direct|\n",
      "|      5| Eijiro Kirishima|            Direct|\n",
      "|      5|   Denki Kaminari|            Direct|\n",
      "|      5|Fumikage Tokoyami|            Direct|\n",
      "|      6|   Denki Kaminari|            Direct|\n",
      "+-------+-----------------+------------------+\n",
      "only showing top 5 rows\n",
      "\n"
     ]
    }
   ],
   "source": [
    "from pyspark.sql.functions import col, lit\n",
    "\n",
    "df.filter((col('Episode') >= 5) & (col('Character') <= 'H')).show(5)"
   ]
  },
  {
   "cell_type": "code",
   "execution_count": 66,
   "id": "70d3690c-39c9-4809-85e1-c3298bdfda70",
   "metadata": {},
   "outputs": [
    {
     "name": "stdout",
     "output_type": "stream",
     "text": [
      "+-------+-----------------+------------------+\n",
      "|Episode|        Character|Type of appearance|\n",
      "+-------+-----------------+------------------+\n",
      "|      5|        All Might|            Direct|\n",
      "|      5| Eijiro Kirishima|            Direct|\n",
      "|      5|   Denki Kaminari|            Direct|\n",
      "|      5|Fumikage Tokoyami|            Direct|\n",
      "|      6|   Denki Kaminari|            Direct|\n",
      "+-------+-----------------+------------------+\n",
      "only showing top 5 rows\n",
      "\n"
     ]
    }
   ],
   "source": [
    "df.filter((df.Episode >= 5) & (df.Character <= 'H')).show(5)"
   ]
  },
  {
   "cell_type": "markdown",
   "id": "1d31d95e-11a2-429b-85fa-939c0523a824",
   "metadata": {},
   "source": [
    "### 6.3. Between"
   ]
  },
  {
   "cell_type": "code",
   "execution_count": 68,
   "id": "954b96e9-bf96-4ef5-a3ce-9de2afc2212e",
   "metadata": {},
   "outputs": [
    {
     "name": "stdout",
     "output_type": "stream",
     "text": [
      "+-------+--------------+------------------+\n",
      "|Episode|     Character|Type of appearance|\n",
      "+-------+--------------+------------------+\n",
      "|      3|     All Might|            Direct|\n",
      "|      3|Izuku Midoriya|            Direct|\n",
      "|      3|    Death Arms|         Flashback|\n",
      "|      3|       Slugger|         Flashback|\n",
      "|      3|Katsuki Bakugo|            Direct|\n",
      "+-------+--------------+------------------+\n",
      "only showing top 5 rows\n",
      "\n"
     ]
    }
   ],
   "source": [
    "df.filter(col('Episode').between(3, 4)).show(5)"
   ]
  },
  {
   "cell_type": "code",
   "execution_count": 67,
   "id": "8a3927ed-b2a4-4b46-bc3c-aa8d0c85df86",
   "metadata": {},
   "outputs": [
    {
     "name": "stdout",
     "output_type": "stream",
     "text": [
      "+-------+--------------+------------------+\n",
      "|Episode|     Character|Type of appearance|\n",
      "+-------+--------------+------------------+\n",
      "|      3|     All Might|            Direct|\n",
      "|      3|Izuku Midoriya|            Direct|\n",
      "|      3|    Death Arms|         Flashback|\n",
      "|      3|       Slugger|         Flashback|\n",
      "|      3|Katsuki Bakugo|            Direct|\n",
      "+-------+--------------+------------------+\n",
      "only showing top 5 rows\n",
      "\n"
     ]
    }
   ],
   "source": [
    "df.filter(df.Episode.between(3, 4)).show(5)"
   ]
  },
  {
   "cell_type": "markdown",
   "id": "1a19e79d-9d6e-4934-8021-0728de9d19f4",
   "metadata": {},
   "source": [
    "### 6.4. When"
   ]
  },
  {
   "cell_type": "code",
   "execution_count": 70,
   "id": "7cf8ea32-c163-454c-81e7-397145b9c0de",
   "metadata": {},
   "outputs": [
    {
     "name": "stdout",
     "output_type": "stream",
     "text": [
      "+-------+----------------+---------------+\n",
      "|Episode|       Character|Direct appeared|\n",
      "+-------+----------------+---------------+\n",
      "|      1|  Izuku Midoriya|              1|\n",
      "|      1|         Tsubasa|              0|\n",
      "|      1|  Katsuki Bakugo|              1|\n",
      "|      1|   Giant Villain|              1|\n",
      "|      1|Luminescent Baby|              0|\n",
      "+-------+----------------+---------------+\n",
      "only showing top 5 rows\n",
      "\n"
     ]
    }
   ],
   "source": [
    "from pyspark.sql.functions import when\n",
    "\n",
    "df.select('Episode', 'Character', when(col('Type of appearance') == 'Direct', 1).otherwise(0).alias('Direct appeared')).show(5)"
   ]
  },
  {
   "cell_type": "markdown",
   "id": "03651a76-018e-473b-a788-51975433e6e3",
   "metadata": {},
   "source": [
    "### 6.5. Like"
   ]
  },
  {
   "cell_type": "code",
   "execution_count": 73,
   "id": "3bf3d772-98bd-4d5e-812b-2037791ac968",
   "metadata": {},
   "outputs": [
    {
     "name": "stdout",
     "output_type": "stream",
     "text": [
      "+-------+-----------+------------------+\n",
      "|Episode|  Character|Type of appearance|\n",
      "+-------+-----------+------------------+\n",
      "|      1|   Mt. Lady|            Direct|\n",
      "|      2|   Mt. Lady|            Direct|\n",
      "|      4| Mezo Shoji|            Direct|\n",
      "|      4|       Nezu|            Direct|\n",
      "|      5|Mina Ashido|            Direct|\n",
      "+-------+-----------+------------------+\n",
      "only showing top 5 rows\n",
      "\n"
     ]
    }
   ],
   "source": [
    "df.filter(df.Character.rlike('^[MN]')).show(5)"
   ]
  },
  {
   "cell_type": "code",
   "execution_count": 74,
   "id": "a1a2963b-7ddf-44bd-abe3-345c36ed34c1",
   "metadata": {},
   "outputs": [
    {
     "name": "stdout",
     "output_type": "stream",
     "text": [
      "+----------------+-----------------------+\n",
      "|       Character|RLIKE(Character, ^[MN])|\n",
      "+----------------+-----------------------+\n",
      "|  Izuku Midoriya|                  false|\n",
      "|         Tsubasa|                  false|\n",
      "|  Katsuki Bakugo|                  false|\n",
      "|   Giant Villain|                  false|\n",
      "|Luminescent Baby|                  false|\n",
      "+----------------+-----------------------+\n",
      "only showing top 5 rows\n",
      "\n"
     ]
    }
   ],
   "source": [
    "df.select('Character', df.Character.rlike('^[MN]')).show(5)"
   ]
  },
  {
   "cell_type": "markdown",
   "id": "1e749c9c-caf5-4fa7-825e-5e93c7ca531b",
   "metadata": {},
   "source": [
    "### 6.6. GroupBy"
   ]
  },
  {
   "cell_type": "code",
   "execution_count": 77,
   "id": "c5c5a67e-13a7-4948-ae61-78e01689cd7d",
   "metadata": {},
   "outputs": [
    {
     "name": "stdout",
     "output_type": "stream",
     "text": [
      "+--------------------+-----+\n",
      "|           Character|count|\n",
      "+--------------------+-----+\n",
      "|Nomu (U.S.J.) (Sc...|    1|\n",
      "|           Gang Orca|   16|\n",
      "|    Danjuro’s father|    1|\n",
      "|            Midnight|   38|\n",
      "|Old Boss of the S...|    1|\n",
      "|    Tomura Shigaraki|   55|\n",
      "|       Yuga’s Mother|    1|\n",
      "|        Kesagiri Man|    3|\n",
      "|      Sansa Tamakawa|    3|\n",
      "|       Cathleen Bate|    1|\n",
      "|       Hekiji Tengai|    5|\n",
      "|       Toru Hagakure|   64|\n",
      "|           Mr. Brave|    6|\n",
      "|                Deku|    8|\n",
      "|              Snatch|    3|\n",
      "|       Thousand Eyes|    2|\n",
      "|        Daruma Ujiko|    6|\n",
      "|           Hound Dog|   12|\n",
      "|          Kota Izumi|    9|\n",
      "|    Seiji Shishikura|    8|\n",
      "+--------------------+-----+\n",
      "only showing top 20 rows\n",
      "\n"
     ]
    }
   ],
   "source": [
    "df.groupby('Character').count().show()"
   ]
  },
  {
   "cell_type": "markdown",
   "id": "dfef9ba2-a693-42df-9d65-f0b8bd3b0aa9",
   "metadata": {},
   "source": [
    "### 6.7. Aggregation"
   ]
  },
  {
   "cell_type": "code",
   "execution_count": 80,
   "id": "6e02ee81-ca1d-4a70-bcf0-702f52dac247",
   "metadata": {},
   "outputs": [
    {
     "name": "stdout",
     "output_type": "stream",
     "text": [
      "+----------------+----------------+---------------+--------------------+\n",
      "|       Character|First appearance|Last appearance|Number of appearance|\n",
      "+----------------+----------------+---------------+--------------------+\n",
      "|      Death Arms|               2|              4|                   3|\n",
      "|     Yuga Aoyama|               4|              4|                   1|\n",
      "|Eijiro Kirishima|               4|              4|                   1|\n",
      "|   Recovery Girl|               4|              4|                   1|\n",
      "|   Inko Midoriya|               2|              4|                   3|\n",
      "+----------------+----------------+---------------+--------------------+\n",
      "only showing top 5 rows\n",
      "\n"
     ]
    }
   ],
   "source": [
    "from pyspark.sql.functions import min, max, count\n",
    "\n",
    "df.filter(df.Episode.between(2, 4)) \\\n",
    "    .groupBy('Character') \\\n",
    "    .agg(\n",
    "        min('Episode').alias('First appearance'),\n",
    "        max('Episode').alias('Last appearance'),\n",
    "        count('Episode').alias('Number of appearance')\n",
    "    ).show(5)"
   ]
  },
  {
   "cell_type": "markdown",
   "id": "1bc05679-eac6-4962-be99-fde9cd5079a2",
   "metadata": {},
   "source": [
    "## 7. Data Visualization\n",
    "\n",
    "Must be converted to Pandas Dataframe then use `plot()`."
   ]
  },
  {
   "cell_type": "code",
   "execution_count": 102,
   "id": "1f9ef300-c995-4142-9fae-2b27e392a24b",
   "metadata": {},
   "outputs": [],
   "source": [
    "df_aggregated = df.filter(df.Episode.between(2, 10)) \\\n",
    "    .groupBy('Character') \\\n",
    "    .count()"
   ]
  },
  {
   "cell_type": "code",
   "execution_count": 103,
   "id": "be2ba46d-9b00-4e32-abac-17cf882373b8",
   "metadata": {},
   "outputs": [
    {
     "data": {
      "text/plain": [
       "<AxesSubplot:ylabel='Character'>"
      ]
     },
     "execution_count": 103,
     "metadata": {},
     "output_type": "execute_result"
    },
    {
     "data": {
      "image/png": "[encoded data removed]",
      "text/plain": [
       "<Figure size 1080x720 with 1 Axes>"
      ]
     },
     "metadata": {
      "needs_background": "light"
     },
     "output_type": "display_data"
    }
   ],
   "source": [
    "df_aggregated_pd = df_aggregated.toPandas()\n",
    "df_aggregated_pd.plot(x='Character', kind='barh', figsize=(15,10))"
   ]
  },
  {
   "cell_type": "code",
   "execution_count": 105,
   "id": "8702c049-56fa-4396-9979-9bb09c42fe65",
   "metadata": {},
   "outputs": [
    {
     "data": {
      "text/html": [
       "<div>\n",
       "<style scoped>\n",
       "    .dataframe tbody tr th:only-of-type {\n",
       "        vertical-align: middle;\n",
       "    }\n",
       "\n",
       "    .dataframe tbody tr th {\n",
       "        vertical-align: top;\n",
       "    }\n",
       "\n",
       "    .dataframe thead th {\n",
       "        text-align: right;\n",
       "    }\n",
       "</style>\n",
       "<table border=\"1\" class=\"dataframe\">\n",
       "  <thead>\n",
       "    <tr style=\"text-align: right;\">\n",
       "      <th></th>\n",
       "      <th>Character</th>\n",
       "      <th>count</th>\n",
       "    </tr>\n",
       "  </thead>\n",
       "  <tbody>\n",
       "    <tr>\n",
       "      <th>0</th>\n",
       "      <td>Midnight</td>\n",
       "      <td>1</td>\n",
       "    </tr>\n",
       "    <tr>\n",
       "      <th>1</th>\n",
       "      <td>Tomura Shigaraki</td>\n",
       "      <td>3</td>\n",
       "    </tr>\n",
       "    <tr>\n",
       "      <th>2</th>\n",
       "      <td>Toru Hagakure</td>\n",
       "      <td>6</td>\n",
       "    </tr>\n",
       "    <tr>\n",
       "      <th>3</th>\n",
       "      <td>Thousand Eyes</td>\n",
       "      <td>1</td>\n",
       "    </tr>\n",
       "    <tr>\n",
       "      <th>4</th>\n",
       "      <td>Stitched Giant</td>\n",
       "      <td>1</td>\n",
       "    </tr>\n",
       "  </tbody>\n",
       "</table>\n",
       "</div>"
      ],
      "text/plain": [
       "          Character  count\n",
       "0          Midnight      1\n",
       "1  Tomura Shigaraki      3\n",
       "2     Toru Hagakure      6\n",
       "3     Thousand Eyes      1\n",
       "4    Stitched Giant      1"
      ]
     },
     "execution_count": 105,
     "metadata": {},
     "output_type": "execute_result"
    }
   ],
   "source": [
    "df_aggregated_pd.head()"
   ]
  },
  {
   "cell_type": "markdown",
   "id": "c265edec-2d6e-4236-b320-e82b4bbff07f",
   "metadata": {},
   "source": [
    "## 8. Save Data to File (currently errored)"
   ]
  },
  {
   "cell_type": "code",
   "execution_count": 109,
   "id": "d3e6cd6f-8863-4e1a-b482-76ca7c301a36",
   "metadata": {},
   "outputs": [
    {
     "ename": "Py4JJavaError",
     "evalue": "An error occurred while calling o515.csv.\n: org.apache.spark.SparkException: Job aborted.\r\n\tat org.apache.spark.sql.errors.QueryExecutionErrors$.jobAbortedError(QueryExecutionErrors.scala:638)\r\n\tat org.apache.spark.sql.execution.datasources.FileFormatWriter$.write(FileFormatWriter.scala:278)\r\n\tat org.apache.spark.sql.execution.datasources.InsertIntoHadoopFsRelationCommand.run(InsertIntoHadoopFsRelationCommand.scala:186)\r\n\tat org.apache.spark.sql.execution.command.DataWritingCommandExec.sideEffectResult$lzycompute(commands.scala:113)\r\n\tat org.apache.spark.sql.execution.command.DataWritingCommandExec.sideEffectResult(commands.scala:111)\r\n\tat org.apache.spark.sql.execution.command.DataWritingCommandExec.executeCollect(commands.scala:125)\r\n\tat org.apache.spark.sql.execution.QueryExecution$$anonfun$eagerlyExecuteCommands$1.$anonfun$applyOrElse$1(QueryExecution.scala:98)\r\n\tat org.apache.spark.sql.execution.SQLExecution$.$anonfun$withNewExecutionId$6(SQLExecution.scala:109)\r\n\tat org.apache.spark.sql.execution.SQLExecution$.withSQLConfPropagated(SQLExecution.scala:169)\r\n\tat org.apache.spark.sql.execution.SQLExecution$.$anonfun$withNewExecutionId$1(SQLExecution.scala:95)\r\n\tat org.apache.spark.sql.SparkSession.withActive(SparkSession.scala:779)\r\n\tat org.apache.spark.sql.execution.SQLExecution$.withNewExecutionId(SQLExecution.scala:64)\r\n\tat org.apache.spark.sql.execution.QueryExecution$$anonfun$eagerlyExecuteCommands$1.applyOrElse(QueryExecution.scala:98)\r\n\tat org.apache.spark.sql.execution.QueryExecution$$anonfun$eagerlyExecuteCommands$1.applyOrElse(QueryExecution.scala:94)\r\n\tat org.apache.spark.sql.catalyst.trees.TreeNode.$anonfun$transformDownWithPruning$1(TreeNode.scala:584)\r\n\tat org.apache.spark.sql.catalyst.trees.CurrentOrigin$.withOrigin(TreeNode.scala:176)\r\n\tat org.apache.spark.sql.catalyst.trees.TreeNode.transformDownWithPruning(TreeNode.scala:584)\r\n\tat org.apache.spark.sql.catalyst.plans.logical.LogicalPlan.org$apache$spark$sql$catalyst$plans$logical$AnalysisHelper$$super$transformDownWithPruning(LogicalPlan.scala:30)\r\n\tat org.apache.spark.sql.catalyst.plans.logical.AnalysisHelper.transformDownWithPruning(AnalysisHelper.scala:267)\r\n\tat org.apache.spark.sql.catalyst.plans.logical.AnalysisHelper.transformDownWithPruning$(AnalysisHelper.scala:263)\r\n\tat org.apache.spark.sql.catalyst.plans.logical.LogicalPlan.transformDownWithPruning(LogicalPlan.scala:30)\r\n\tat org.apache.spark.sql.catalyst.plans.logical.LogicalPlan.transformDownWithPruning(LogicalPlan.scala:30)\r\n\tat org.apache.spark.sql.catalyst.trees.TreeNode.transformDown(TreeNode.scala:560)\r\n\tat org.apache.spark.sql.execution.QueryExecution.eagerlyExecuteCommands(QueryExecution.scala:94)\r\n\tat org.apache.spark.sql.execution.QueryExecution.commandExecuted$lzycompute(QueryExecution.scala:81)\r\n\tat org.apache.spark.sql.execution.QueryExecution.commandExecuted(QueryExecution.scala:79)\r\n\tat org.apache.spark.sql.execution.QueryExecution.assertCommandExecuted(QueryExecution.scala:116)\r\n\tat org.apache.spark.sql.DataFrameWriter.runCommand(DataFrameWriter.scala:860)\r\n\tat org.apache.spark.sql.DataFrameWriter.saveToV1Source(DataFrameWriter.scala:390)\r\n\tat org.apache.spark.sql.DataFrameWriter.saveInternal(DataFrameWriter.scala:363)\r\n\tat org.apache.spark.sql.DataFrameWriter.save(DataFrameWriter.scala:239)\r\n\tat org.apache.spark.sql.DataFrameWriter.csv(DataFrameWriter.scala:851)\r\n\tat sun.reflect.NativeMethodAccessorImpl.invoke0(Native Method)\r\n\tat sun.reflect.NativeMethodAccessorImpl.invoke(NativeMethodAccessorImpl.java:62)\r\n\tat sun.reflect.DelegatingMethodAccessorImpl.invoke(DelegatingMethodAccessorImpl.java:43)\r\n\tat java.lang.reflect.Method.invoke(Method.java:498)\r\n\tat py4j.reflection.MethodInvoker.invoke(MethodInvoker.java:244)\r\n\tat py4j.reflection.ReflectionEngine.invoke(ReflectionEngine.java:357)\r\n\tat py4j.Gateway.invoke(Gateway.java:282)\r\n\tat py4j.commands.AbstractCommand.invokeMethod(AbstractCommand.java:132)\r\n\tat py4j.commands.CallCommand.execute(CallCommand.java:79)\r\n\tat py4j.ClientServerConnection.waitForCommands(ClientServerConnection.java:182)\r\n\tat py4j.ClientServerConnection.run(ClientServerConnection.java:106)\r\n\tat java.lang.Thread.run(Thread.java:748)\r\nCaused by: java.lang.UnsatisfiedLinkError: org.apache.hadoop.io.nativeio.NativeIO$Windows.access0(Ljava/lang/String;I)Z\r\n\tat org.apache.hadoop.io.nativeio.NativeIO$Windows.access0(Native Method)\r\n\tat org.apache.hadoop.io.nativeio.NativeIO$Windows.access(NativeIO.java:793)\r\n\tat org.apache.hadoop.fs.FileUtil.canRead(FileUtil.java:1218)\r\n\tat org.apache.hadoop.fs.FileUtil.list(FileUtil.java:1423)\r\n\tat org.apache.hadoop.fs.RawLocalFileSystem.listStatus(RawLocalFileSystem.java:601)\r\n\tat org.apache.hadoop.fs.FileSystem.listStatus(FileSystem.java:1972)\r\n\tat org.apache.hadoop.fs.FileSystem.listStatus(FileSystem.java:2014)\r\n\tat org.apache.hadoop.fs.ChecksumFileSystem.listStatus(ChecksumFileSystem.java:761)\r\n\tat org.apache.hadoop.fs.FileSystem.listStatus(FileSystem.java:1972)\r\n\tat org.apache.hadoop.fs.FileSystem.listStatus(FileSystem.java:2014)\r\n\tat org.apache.hadoop.mapreduce.lib.output.FileOutputCommitter.getAllCommittedTaskPaths(FileOutputCommitter.java:334)\r\n\tat org.apache.hadoop.mapreduce.lib.output.FileOutputCommitter.commitJobInternal(FileOutputCommitter.java:404)\r\n\tat org.apache.hadoop.mapreduce.lib.output.FileOutputCommitter.commitJob(FileOutputCommitter.java:377)\r\n\tat org.apache.spark.internal.io.HadoopMapReduceCommitProtocol.commitJob(HadoopMapReduceCommitProtocol.scala:192)\r\n\tat org.apache.spark.sql.execution.datasources.FileFormatWriter$.$anonfun$write$25(FileFormatWriter.scala:267)\r\n\tat scala.runtime.java8.JFunction0$mcV$sp.apply(JFunction0$mcV$sp.java:23)\r\n\tat org.apache.spark.util.Utils$.timeTakenMs(Utils.scala:642)\r\n\tat org.apache.spark.sql.execution.datasources.FileFormatWriter$.write(FileFormatWriter.scala:267)\r\n\t... 42 more\r\n",
     "output_type": "error",
     "traceback": [
      "\u001b[1;31m---------------------------------------------------------------------------\u001b[0m",
      "\u001b[1;31mPy4JJavaError\u001b[0m                             Traceback (most recent call last)",
      "Input \u001b[1;32mIn [109]\u001b[0m, in \u001b[0;36m<cell line: 1>\u001b[1;34m()\u001b[0m\n\u001b[1;32m----> 1\u001b[0m \u001b[43mdf_aggregated\u001b[49m\u001b[38;5;241;43m.\u001b[39;49m\u001b[43mwrite\u001b[49m\u001b[38;5;241;43m.\u001b[39;49m\u001b[43mcsv\u001b[49m\u001b[43m(\u001b[49m\u001b[38;5;124;43m'\u001b[39;49m\u001b[38;5;124;43maggregated\u001b[39;49m\u001b[38;5;124;43m'\u001b[39;49m\u001b[43m)\u001b[49m\n\u001b[0;32m      2\u001b[0m df_aggregated\u001b[38;5;241m.\u001b[39mwrite\u001b[38;5;241m.\u001b[39msave(\u001b[38;5;124m'\u001b[39m\u001b[38;5;124maggregated\u001b[39m\u001b[38;5;124m'\u001b[39m, \u001b[38;5;28mformat\u001b[39m\u001b[38;5;241m=\u001b[39m\u001b[38;5;124m'\u001b[39m\u001b[38;5;124mjson\u001b[39m\u001b[38;5;124m'\u001b[39m)\n\u001b[0;32m      3\u001b[0m df_aggregated\u001b[38;5;241m.\u001b[39mwrite\u001b[38;5;241m.\u001b[39msave(\u001b[38;5;124m'\u001b[39m\u001b[38;5;124maggregated\u001b[39m\u001b[38;5;124m'\u001b[39m, \u001b[38;5;28mformat\u001b[39m\u001b[38;5;241m=\u001b[39m\u001b[38;5;124m'\u001b[39m\u001b[38;5;124mparquet\u001b[39m\u001b[38;5;124m'\u001b[39m)\n",
      "File \u001b[1;32mD:\\anaconda3\\lib\\site-packages\\pyspark\\sql\\readwriter.py:1240\u001b[0m, in \u001b[0;36mDataFrameWriter.csv\u001b[1;34m(self, path, mode, compression, sep, quote, escape, header, nullValue, escapeQuotes, quoteAll, dateFormat, timestampFormat, ignoreLeadingWhiteSpace, ignoreTrailingWhiteSpace, charToEscapeQuoteEscaping, encoding, emptyValue, lineSep)\u001b[0m\n\u001b[0;32m   1221\u001b[0m \u001b[38;5;28mself\u001b[39m\u001b[38;5;241m.\u001b[39mmode(mode)\n\u001b[0;32m   1222\u001b[0m \u001b[38;5;28mself\u001b[39m\u001b[38;5;241m.\u001b[39m_set_opts(\n\u001b[0;32m   1223\u001b[0m     compression\u001b[38;5;241m=\u001b[39mcompression,\n\u001b[0;32m   1224\u001b[0m     sep\u001b[38;5;241m=\u001b[39msep,\n\u001b[1;32m   (...)\u001b[0m\n\u001b[0;32m   1238\u001b[0m     lineSep\u001b[38;5;241m=\u001b[39mlineSep,\n\u001b[0;32m   1239\u001b[0m )\n\u001b[1;32m-> 1240\u001b[0m \u001b[38;5;28;43mself\u001b[39;49m\u001b[38;5;241;43m.\u001b[39;49m\u001b[43m_jwrite\u001b[49m\u001b[38;5;241;43m.\u001b[39;49m\u001b[43mcsv\u001b[49m\u001b[43m(\u001b[49m\u001b[43mpath\u001b[49m\u001b[43m)\u001b[49m\n",
      "File \u001b[1;32mD:\\anaconda3\\lib\\site-packages\\py4j\\java_gateway.py:1321\u001b[0m, in \u001b[0;36mJavaMember.__call__\u001b[1;34m(self, *args)\u001b[0m\n\u001b[0;32m   1315\u001b[0m command \u001b[38;5;241m=\u001b[39m proto\u001b[38;5;241m.\u001b[39mCALL_COMMAND_NAME \u001b[38;5;241m+\u001b[39m\\\n\u001b[0;32m   1316\u001b[0m     \u001b[38;5;28mself\u001b[39m\u001b[38;5;241m.\u001b[39mcommand_header \u001b[38;5;241m+\u001b[39m\\\n\u001b[0;32m   1317\u001b[0m     args_command \u001b[38;5;241m+\u001b[39m\\\n\u001b[0;32m   1318\u001b[0m     proto\u001b[38;5;241m.\u001b[39mEND_COMMAND_PART\n\u001b[0;32m   1320\u001b[0m answer \u001b[38;5;241m=\u001b[39m \u001b[38;5;28mself\u001b[39m\u001b[38;5;241m.\u001b[39mgateway_client\u001b[38;5;241m.\u001b[39msend_command(command)\n\u001b[1;32m-> 1321\u001b[0m return_value \u001b[38;5;241m=\u001b[39m \u001b[43mget_return_value\u001b[49m\u001b[43m(\u001b[49m\n\u001b[0;32m   1322\u001b[0m \u001b[43m    \u001b[49m\u001b[43manswer\u001b[49m\u001b[43m,\u001b[49m\u001b[43m \u001b[49m\u001b[38;5;28;43mself\u001b[39;49m\u001b[38;5;241;43m.\u001b[39;49m\u001b[43mgateway_client\u001b[49m\u001b[43m,\u001b[49m\u001b[43m \u001b[49m\u001b[38;5;28;43mself\u001b[39;49m\u001b[38;5;241;43m.\u001b[39;49m\u001b[43mtarget_id\u001b[49m\u001b[43m,\u001b[49m\u001b[43m \u001b[49m\u001b[38;5;28;43mself\u001b[39;49m\u001b[38;5;241;43m.\u001b[39;49m\u001b[43mname\u001b[49m\u001b[43m)\u001b[49m\n\u001b[0;32m   1324\u001b[0m \u001b[38;5;28;01mfor\u001b[39;00m temp_arg \u001b[38;5;129;01min\u001b[39;00m temp_args:\n\u001b[0;32m   1325\u001b[0m     temp_arg\u001b[38;5;241m.\u001b[39m_detach()\n",
      "File \u001b[1;32mD:\\anaconda3\\lib\\site-packages\\pyspark\\sql\\utils.py:190\u001b[0m, in \u001b[0;36mcapture_sql_exception.<locals>.deco\u001b[1;34m(*a, **kw)\u001b[0m\n\u001b[0;32m    188\u001b[0m \u001b[38;5;28;01mdef\u001b[39;00m \u001b[38;5;21mdeco\u001b[39m(\u001b[38;5;241m*\u001b[39ma: Any, \u001b[38;5;241m*\u001b[39m\u001b[38;5;241m*\u001b[39mkw: Any) \u001b[38;5;241m-\u001b[39m\u001b[38;5;241m>\u001b[39m Any:\n\u001b[0;32m    189\u001b[0m     \u001b[38;5;28;01mtry\u001b[39;00m:\n\u001b[1;32m--> 190\u001b[0m         \u001b[38;5;28;01mreturn\u001b[39;00m f(\u001b[38;5;241m*\u001b[39ma, \u001b[38;5;241m*\u001b[39m\u001b[38;5;241m*\u001b[39mkw)\n\u001b[0;32m    191\u001b[0m     \u001b[38;5;28;01mexcept\u001b[39;00m Py4JJavaError \u001b[38;5;28;01mas\u001b[39;00m e:\n\u001b[0;32m    192\u001b[0m         converted \u001b[38;5;241m=\u001b[39m convert_exception(e\u001b[38;5;241m.\u001b[39mjava_exception)\n",
      "File \u001b[1;32mD:\\anaconda3\\lib\\site-packages\\py4j\\protocol.py:326\u001b[0m, in \u001b[0;36mget_return_value\u001b[1;34m(answer, gateway_client, target_id, name)\u001b[0m\n\u001b[0;32m    324\u001b[0m value \u001b[38;5;241m=\u001b[39m OUTPUT_CONVERTER[\u001b[38;5;28mtype\u001b[39m](answer[\u001b[38;5;241m2\u001b[39m:], gateway_client)\n\u001b[0;32m    325\u001b[0m \u001b[38;5;28;01mif\u001b[39;00m answer[\u001b[38;5;241m1\u001b[39m] \u001b[38;5;241m==\u001b[39m REFERENCE_TYPE:\n\u001b[1;32m--> 326\u001b[0m     \u001b[38;5;28;01mraise\u001b[39;00m Py4JJavaError(\n\u001b[0;32m    327\u001b[0m         \u001b[38;5;124m\"\u001b[39m\u001b[38;5;124mAn error occurred while calling \u001b[39m\u001b[38;5;132;01m{0}\u001b[39;00m\u001b[38;5;132;01m{1}\u001b[39;00m\u001b[38;5;132;01m{2}\u001b[39;00m\u001b[38;5;124m.\u001b[39m\u001b[38;5;130;01m\\n\u001b[39;00m\u001b[38;5;124m\"\u001b[39m\u001b[38;5;241m.\u001b[39m\n\u001b[0;32m    328\u001b[0m         \u001b[38;5;28mformat\u001b[39m(target_id, \u001b[38;5;124m\"\u001b[39m\u001b[38;5;124m.\u001b[39m\u001b[38;5;124m\"\u001b[39m, name), value)\n\u001b[0;32m    329\u001b[0m \u001b[38;5;28;01melse\u001b[39;00m:\n\u001b[0;32m    330\u001b[0m     \u001b[38;5;28;01mraise\u001b[39;00m Py4JError(\n\u001b[0;32m    331\u001b[0m         \u001b[38;5;124m\"\u001b[39m\u001b[38;5;124mAn error occurred while calling \u001b[39m\u001b[38;5;132;01m{0}\u001b[39;00m\u001b[38;5;132;01m{1}\u001b[39;00m\u001b[38;5;132;01m{2}\u001b[39;00m\u001b[38;5;124m. Trace:\u001b[39m\u001b[38;5;130;01m\\n\u001b[39;00m\u001b[38;5;132;01m{3}\u001b[39;00m\u001b[38;5;130;01m\\n\u001b[39;00m\u001b[38;5;124m\"\u001b[39m\u001b[38;5;241m.\u001b[39m\n\u001b[0;32m    332\u001b[0m         \u001b[38;5;28mformat\u001b[39m(target_id, \u001b[38;5;124m\"\u001b[39m\u001b[38;5;124m.\u001b[39m\u001b[38;5;124m\"\u001b[39m, name, value))\n",
      "\u001b[1;31mPy4JJavaError\u001b[0m: An error occurred while calling o515.csv.\n: org.apache.spark.SparkException: Job aborted.\r\n\tat org.apache.spark.sql.errors.QueryExecutionErrors$.jobAbortedError(QueryExecutionErrors.scala:638)\r\n\tat org.apache.spark.sql.execution.datasources.FileFormatWriter$.write(FileFormatWriter.scala:278)\r\n\tat org.apache.spark.sql.execution.datasources.InsertIntoHadoopFsRelationCommand.run(InsertIntoHadoopFsRelationCommand.scala:186)\r\n\tat org.apache.spark.sql.execution.command.DataWritingCommandExec.sideEffectResult$lzycompute(commands.scala:113)\r\n\tat org.apache.spark.sql.execution.command.DataWritingCommandExec.sideEffectResult(commands.scala:111)\r\n\tat org.apache.spark.sql.execution.command.DataWritingCommandExec.executeCollect(commands.scala:125)\r\n\tat org.apache.spark.sql.execution.QueryExecution$$anonfun$eagerlyExecuteCommands$1.$anonfun$applyOrElse$1(QueryExecution.scala:98)\r\n\tat org.apache.spark.sql.execution.SQLExecution$.$anonfun$withNewExecutionId$6(SQLExecution.scala:109)\r\n\tat org.apache.spark.sql.execution.SQLExecution$.withSQLConfPropagated(SQLExecution.scala:169)\r\n\tat org.apache.spark.sql.execution.SQLExecution$.$anonfun$withNewExecutionId$1(SQLExecution.scala:95)\r\n\tat org.apache.spark.sql.SparkSession.withActive(SparkSession.scala:779)\r\n\tat org.apache.spark.sql.execution.SQLExecution$.withNewExecutionId(SQLExecution.scala:64)\r\n\tat org.apache.spark.sql.execution.QueryExecution$$anonfun$eagerlyExecuteCommands$1.applyOrElse(QueryExecution.scala:98)\r\n\tat org.apache.spark.sql.execution.QueryExecution$$anonfun$eagerlyExecuteCommands$1.applyOrElse(QueryExecution.scala:94)\r\n\tat org.apache.spark.sql.catalyst.trees.TreeNode.$anonfun$transformDownWithPruning$1(TreeNode.scala:584)\r\n\tat org.apache.spark.sql.catalyst.trees.CurrentOrigin$.withOrigin(TreeNode.scala:176)\r\n\tat org.apache.spark.sql.catalyst.trees.TreeNode.transformDownWithPruning(TreeNode.scala:584)\r\n\tat org.apache.spark.sql.catalyst.plans.logical.LogicalPlan.org$apache$spark$sql$catalyst$plans$logical$AnalysisHelper$$super$transformDownWithPruning(LogicalPlan.scala:30)\r\n\tat org.apache.spark.sql.catalyst.plans.logical.AnalysisHelper.transformDownWithPruning(AnalysisHelper.scala:267)\r\n\tat org.apache.spark.sql.catalyst.plans.logical.AnalysisHelper.transformDownWithPruning$(AnalysisHelper.scala:263)\r\n\tat org.apache.spark.sql.catalyst.plans.logical.LogicalPlan.transformDownWithPruning(LogicalPlan.scala:30)\r\n\tat org.apache.spark.sql.catalyst.plans.logical.LogicalPlan.transformDownWithPruning(LogicalPlan.scala:30)\r\n\tat org.apache.spark.sql.catalyst.trees.TreeNode.transformDown(TreeNode.scala:560)\r\n\tat org.apache.spark.sql.execution.QueryExecution.eagerlyExecuteCommands(QueryExecution.scala:94)\r\n\tat org.apache.spark.sql.execution.QueryExecution.commandExecuted$lzycompute(QueryExecution.scala:81)\r\n\tat org.apache.spark.sql.execution.QueryExecution.commandExecuted(QueryExecution.scala:79)\r\n\tat org.apache.spark.sql.execution.QueryExecution.assertCommandExecuted(QueryExecution.scala:116)\r\n\tat org.apache.spark.sql.DataFrameWriter.runCommand(DataFrameWriter.scala:860)\r\n\tat org.apache.spark.sql.DataFrameWriter.saveToV1Source(DataFrameWriter.scala:390)\r\n\tat org.apache.spark.sql.DataFrameWriter.saveInternal(DataFrameWriter.scala:363)\r\n\tat org.apache.spark.sql.DataFrameWriter.save(DataFrameWriter.scala:239)\r\n\tat org.apache.spark.sql.DataFrameWriter.csv(DataFrameWriter.scala:851)\r\n\tat sun.reflect.NativeMethodAccessorImpl.invoke0(Native Method)\r\n\tat sun.reflect.NativeMethodAccessorImpl.invoke(NativeMethodAccessorImpl.java:62)\r\n\tat sun.reflect.DelegatingMethodAccessorImpl.invoke(DelegatingMethodAccessorImpl.java:43)\r\n\tat java.lang.reflect.Method.invoke(Method.java:498)\r\n\tat py4j.reflection.MethodInvoker.invoke(MethodInvoker.java:244)\r\n\tat py4j.reflection.ReflectionEngine.invoke(ReflectionEngine.java:357)\r\n\tat py4j.Gateway.invoke(Gateway.java:282)\r\n\tat py4j.commands.AbstractCommand.invokeMethod(AbstractCommand.java:132)\r\n\tat py4j.commands.CallCommand.execute(CallCommand.java:79)\r\n\tat py4j.ClientServerConnection.waitForCommands(ClientServerConnection.java:182)\r\n\tat py4j.ClientServerConnection.run(ClientServerConnection.java:106)\r\n\tat java.lang.Thread.run(Thread.java:748)\r\nCaused by: java.lang.UnsatisfiedLinkError: org.apache.hadoop.io.nativeio.NativeIO$Windows.access0(Ljava/lang/String;I)Z\r\n\tat org.apache.hadoop.io.nativeio.NativeIO$Windows.access0(Native Method)\r\n\tat org.apache.hadoop.io.nativeio.NativeIO$Windows.access(NativeIO.java:793)\r\n\tat org.apache.hadoop.fs.FileUtil.canRead(FileUtil.java:1218)\r\n\tat org.apache.hadoop.fs.FileUtil.list(FileUtil.java:1423)\r\n\tat org.apache.hadoop.fs.RawLocalFileSystem.listStatus(RawLocalFileSystem.java:601)\r\n\tat org.apache.hadoop.fs.FileSystem.listStatus(FileSystem.java:1972)\r\n\tat org.apache.hadoop.fs.FileSystem.listStatus(FileSystem.java:2014)\r\n\tat org.apache.hadoop.fs.ChecksumFileSystem.listStatus(ChecksumFileSystem.java:761)\r\n\tat org.apache.hadoop.fs.FileSystem.listStatus(FileSystem.java:1972)\r\n\tat org.apache.hadoop.fs.FileSystem.listStatus(FileSystem.java:2014)\r\n\tat org.apache.hadoop.mapreduce.lib.output.FileOutputCommitter.getAllCommittedTaskPaths(FileOutputCommitter.java:334)\r\n\tat org.apache.hadoop.mapreduce.lib.output.FileOutputCommitter.commitJobInternal(FileOutputCommitter.java:404)\r\n\tat org.apache.hadoop.mapreduce.lib.output.FileOutputCommitter.commitJob(FileOutputCommitter.java:377)\r\n\tat org.apache.spark.internal.io.HadoopMapReduceCommitProtocol.commitJob(HadoopMapReduceCommitProtocol.scala:192)\r\n\tat org.apache.spark.sql.execution.datasources.FileFormatWriter$.$anonfun$write$25(FileFormatWriter.scala:267)\r\n\tat scala.runtime.java8.JFunction0$mcV$sp.apply(JFunction0$mcV$sp.java:23)\r\n\tat org.apache.spark.util.Utils$.timeTakenMs(Utils.scala:642)\r\n\tat org.apache.spark.sql.execution.datasources.FileFormatWriter$.write(FileFormatWriter.scala:267)\r\n\t... 42 more\r\n"
     ]
    }
   ],
   "source": [
    "df_aggregated.write.csv('aggregated')\n",
    "df_aggregated.write.save('aggregated', format='json')\n",
    "df_aggregated.write.save('aggregated', format='parquet')"
   ]
  },
  {
   "cell_type": "code",
   "execution_count": null,
   "id": "9a9e0b19-cb31-441b-b57c-e4ab49144da6",
   "metadata": {},
   "outputs": [],
   "source": []
  }
 ],
 "metadata": {
  "kernelspec": {
   "display_name": "Python 3 (ipykernel)",
   "language": "python",
   "name": "python3"
  },
  "language_info": {
   "codemirror_mode": {
    "name": "ipython",
    "version": 3
   },
   "file_extension": ".py",
   "mimetype": "text/x-python",
   "name": "python",
   "nbconvert_exporter": "python",
   "pygments_lexer": "ipython3",
   "version": "3.9.11"
  }
 },
 "nbformat": 4,
 "nbformat_minor": 5
}

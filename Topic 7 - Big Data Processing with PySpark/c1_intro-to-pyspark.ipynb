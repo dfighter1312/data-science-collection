{
 "cells": [
  {
   "cell_type": "markdown",
   "id": "f2f4dbf4-3ed8-4b82-8798-a1394e83bbbe",
   "metadata": {},
   "source": [
    "# Course 1: Introduction to PySpark"
   ]
  },
  {
   "cell_type": "markdown",
   "id": "8e9c5369-c27e-4bf3-95bd-16a26ebc42d2",
   "metadata": {},
   "source": [
    "## 1. Introduction to PySpark\n",
    "\n",
    "- Spark is a platform for cluster computing.\n",
    "- Spark lets you spread data and computations over *clusters* with multiple *nodes*.\n",
    "- As each node works on its own subset of the total data, it also carries out a part of the total calculations required, so that both data processing and computation are performed *in parallel* over the nodes in the cluster.\n",
    "- However, with greater computing power comes greater complexity. Deciding whether or not Spark is the best solution for your problem takes some experience, but you can consider questions like:\n",
    "    - Is my data too big to work with on a single machine?\n",
    "    - Can my calculations be easily parallelized?"
   ]
  },
  {
   "cell_type": "markdown",
   "id": "d10a8338-68e8-49a8-80a3-2ca46a97edef",
   "metadata": {},
   "source": [
    "## 2. Using Spark in Python\n",
    "\n",
    "First step: Connecting to a cluster.\n",
    "\n",
    "In practice, the cluster will be hosted on a remote machine that's connected to all other nodes. There will be one computer, called the *master* that manages splitting up the data and the computations. The master is connected to the rest of the computers in the cluster, which are called *worker*. The master sends the workers data and calculations to run, and they send their results back to the master.\n",
    "\n",
    "Creating the connection is as simple as creating an instance of the `SparkContext` class. The class constructor takes a few optional arguments that allow you to specify the attributes of the cluster you're connecting to.\n",
    "\n",
    "**Notes:** In `pyspark`, create a `SparkSession` do attach with the creation of a `SparkContext`, as shown below.\n",
    "\n",
    "An object holding all these attributes can be created with the `SparkConf()` constructor."
   ]
  },
  {
   "cell_type": "code",
   "execution_count": 1,
   "id": "77c38db8-abc8-4395-b1d5-cce765a491c1",
   "metadata": {},
   "outputs": [
    {
     "name": "stdout",
     "output_type": "stream",
     "text": [
      "23/03/29 11:53:49 WARN Utils: Your hostname, Mufins-MacBook-Pro.local resolves to a loopback address: 127.0.0.1; using 192.168.1.23 instead (on interface en0)\n",
      "23/03/29 11:53:49 WARN Utils: Set SPARK_LOCAL_IP if you need to bind to another address\n"
     ]
    },
    {
     "name": "stderr",
     "output_type": "stream",
     "text": [
      "Setting default log level to \"WARN\".\n",
      "To adjust logging level use sc.setLogLevel(newLevel). For SparkR, use setLogLevel(newLevel).\n"
     ]
    },
    {
     "name": "stdout",
     "output_type": "stream",
     "text": [
      "23/03/29 11:53:49 WARN NativeCodeLoader: Unable to load native-hadoop library for your platform... using builtin-java classes where applicable\n"
     ]
    },
    {
     "data": {
      "text/html": [
       "\n",
       "            <div>\n",
       "                <p><b>SparkSession - in-memory</b></p>\n",
       "                \n",
       "        <div>\n",
       "            <p><b>SparkContext</b></p>\n",
       "\n",
       "            <p><a href=\"http://192.168.1.23:4040\">Spark UI</a></p>\n",
       "\n",
       "            <dl>\n",
       "              <dt>Version</dt>\n",
       "                <dd><code>v3.3.2</code></dd>\n",
       "              <dt>Master</dt>\n",
       "                <dd><code>local[*]</code></dd>\n",
       "              <dt>AppName</dt>\n",
       "                <dd><code>Spark</code></dd>\n",
       "            </dl>\n",
       "        </div>\n",
       "        \n",
       "            </div>\n",
       "        "
      ],
      "text/plain": [
       "<pyspark.sql.session.SparkSession at 0x7f78517fcac0>"
      ]
     },
     "execution_count": 1,
     "metadata": {},
     "output_type": "execute_result"
    }
   ],
   "source": [
    "from pyspark.sql import SparkSession\n",
    "\n",
    "# Create SparkSession from builder\n",
    "# If the sample data you work with is small, you can remove the `.config` call\n",
    "spark = SparkSession.builder.appName('Spark').config(\"spark.driver.memory\", \"15g\").getOrCreate()\n",
    "spark"
   ]
  },
  {
   "cell_type": "code",
   "execution_count": 2,
   "id": "c6074d59-a4ac-468d-a9ce-168343b063c7",
   "metadata": {},
   "outputs": [
    {
     "data": {
      "text/html": [
       "\n",
       "        <div>\n",
       "            <p><b>SparkContext</b></p>\n",
       "\n",
       "            <p><a href=\"http://192.168.1.23:4040\">Spark UI</a></p>\n",
       "\n",
       "            <dl>\n",
       "              <dt>Version</dt>\n",
       "                <dd><code>v3.3.2</code></dd>\n",
       "              <dt>Master</dt>\n",
       "                <dd><code>local[*]</code></dd>\n",
       "              <dt>AppName</dt>\n",
       "                <dd><code>Spark</code></dd>\n",
       "            </dl>\n",
       "        </div>\n",
       "        "
      ],
      "text/plain": [
       "<SparkContext master=local[*] appName=Spark>"
      ]
     },
     "execution_count": 2,
     "metadata": {},
     "output_type": "execute_result"
    }
   ],
   "source": [
    "# Get SparkContext\n",
    "spark.sparkContext"
   ]
  },
  {
   "cell_type": "code",
   "execution_count": 3,
   "id": "29fd3717-3194-47c6-ad5b-577dfbd599d0",
   "metadata": {},
   "outputs": [
    {
     "data": {
      "text/plain": [
       "'Spark'"
      ]
     },
     "execution_count": 3,
     "metadata": {},
     "output_type": "execute_result"
    }
   ],
   "source": [
    "# Get app name\n",
    "spark.sparkContext.appName"
   ]
  },
  {
   "cell_type": "code",
   "execution_count": 4,
   "id": "761a2743-6bd7-4413-80b4-193c8ee296f5",
   "metadata": {},
   "outputs": [],
   "source": [
    "spark.sparkContext.setLogLevel(\"OFF\")"
   ]
  },
  {
   "cell_type": "markdown",
   "id": "b4f6dbed-c5e3-45da-925f-0864459f3c1f",
   "metadata": {},
   "source": [
    "## 3. Using DataFrames\n",
    "\n",
    "Spark's core data structure is the Resilient Distributed Dataset (RDD). This is a low level object that lets Spark work its magic by splitting data across multiple nodes in the cluster.\n",
    "\n",
    "However, RDDs are hard to work with directly. Instead, we can use Spark DataFrame abstraction built on top of RDDs.\n",
    "\n",
    "The Spark DataFrame was designed to behave a lot like a SQL table. Not only are they easier to understand, DataFrames are also more optimized for complicated operations than RDDs. Some operations, such as modifying and combining colums and rows of data, required scientists to figure out the right way to optimize the query on RDD, but no need on DataFrame.\n",
    "\n",
    "To start working with Spark DataFrames, you first have to create a `SparkSession` object from your `SparkContext`. You can think of the `SparkContext` as your connection to the cluster and the `SparkSession` as your interface with that connection."
   ]
  },
  {
   "cell_type": "code",
   "execution_count": 5,
   "id": "003e3fc3-1f8c-4911-ade6-7ec181c1c875",
   "metadata": {},
   "outputs": [
    {
     "data": {
      "text/plain": [
       "[]"
      ]
     },
     "execution_count": 5,
     "metadata": {},
     "output_type": "execute_result"
    }
   ],
   "source": [
    "# List all the data inside the cluster\n",
    "spark.catalog.listTables()"
   ]
  },
  {
   "cell_type": "code",
   "execution_count": 6,
   "id": "09278429-a169-4803-a57d-7bbc0a0096c6",
   "metadata": {},
   "outputs": [
    {
     "name": "stderr",
     "output_type": "stream",
     "text": [
      "                                                                                \r"
     ]
    }
   ],
   "source": [
    "df = spark.read.json(\"user.json\")"
   ]
  },
  {
   "cell_type": "code",
   "execution_count": 7,
   "id": "fd7d5e64-672b-46b8-8075-dea14b25fde0",
   "metadata": {},
   "outputs": [
    {
     "name": "stdout",
     "output_type": "stream",
     "text": [
      "root\n",
      " |-- created_at: string (nullable = true)\n",
      " |-- description: string (nullable = true)\n",
      " |-- entities: struct (nullable = true)\n",
      " |    |-- description: struct (nullable = true)\n",
      " |    |    |-- cashtags: array (nullable = true)\n",
      " |    |    |    |-- element: struct (containsNull = true)\n",
      " |    |    |    |    |-- end: long (nullable = true)\n",
      " |    |    |    |    |-- start: long (nullable = true)\n",
      " |    |    |    |    |-- tag: string (nullable = true)\n",
      " |    |    |-- hashtags: array (nullable = true)\n",
      " |    |    |    |-- element: struct (containsNull = true)\n",
      " |    |    |    |    |-- end: long (nullable = true)\n",
      " |    |    |    |    |-- start: long (nullable = true)\n",
      " |    |    |    |    |-- tag: string (nullable = true)\n",
      " |    |    |-- mentions: array (nullable = true)\n",
      " |    |    |    |-- element: struct (containsNull = true)\n",
      " |    |    |    |    |-- end: long (nullable = true)\n",
      " |    |    |    |    |-- start: long (nullable = true)\n",
      " |    |    |    |    |-- username: string (nullable = true)\n",
      " |    |    |-- urls: array (nullable = true)\n",
      " |    |    |    |-- element: struct (containsNull = true)\n",
      " |    |    |    |    |-- display_url: string (nullable = true)\n",
      " |    |    |    |    |-- end: long (nullable = true)\n",
      " |    |    |    |    |-- expanded_url: string (nullable = true)\n",
      " |    |    |    |    |-- start: long (nullable = true)\n",
      " |    |    |    |    |-- url: string (nullable = true)\n",
      " |    |-- url: struct (nullable = true)\n",
      " |    |    |-- urls: array (nullable = true)\n",
      " |    |    |    |-- element: struct (containsNull = true)\n",
      " |    |    |    |    |-- display_url: string (nullable = true)\n",
      " |    |    |    |    |-- end: long (nullable = true)\n",
      " |    |    |    |    |-- expanded_url: string (nullable = true)\n",
      " |    |    |    |    |-- start: long (nullable = true)\n",
      " |    |    |    |    |-- url: string (nullable = true)\n",
      " |-- id: string (nullable = true)\n",
      " |-- location: string (nullable = true)\n",
      " |-- name: string (nullable = true)\n",
      " |-- pinned_tweet_id: long (nullable = true)\n",
      " |-- profile_image_url: string (nullable = true)\n",
      " |-- protected: boolean (nullable = true)\n",
      " |-- public_metrics: struct (nullable = true)\n",
      " |    |-- followers_count: long (nullable = true)\n",
      " |    |-- following_count: long (nullable = true)\n",
      " |    |-- listed_count: long (nullable = true)\n",
      " |    |-- tweet_count: long (nullable = true)\n",
      " |-- url: string (nullable = true)\n",
      " |-- username: string (nullable = true)\n",
      " |-- verified: boolean (nullable = true)\n",
      " |-- withheld: struct (nullable = true)\n",
      " |    |-- country_codes: array (nullable = true)\n",
      " |    |    |-- element: string (containsNull = true)\n",
      "\n"
     ]
    }
   ],
   "source": [
    "df.printSchema()"
   ]
  },
  {
   "cell_type": "code",
   "execution_count": 9,
   "id": "4aeac35b-3564-4f7b-8361-c51908fcea64",
   "metadata": {},
   "outputs": [
    {
     "name": "stderr",
     "output_type": "stream",
     "text": [
      "                                                                                \r"
     ]
    }
   ],
   "source": [
    "# Create a temporary table\n",
    "df.createOrReplaceTempView(\"user\")"
   ]
  },
  {
   "cell_type": "code",
   "execution_count": 10,
   "id": "cd929f46-5fba-4014-b0e0-2833251426f5",
   "metadata": {},
   "outputs": [
    {
     "data": {
      "text/plain": [
       "[Table(name='user', database='default', description=None, tableType='MANAGED', isTemporary=False)]"
      ]
     },
     "execution_count": 10,
     "metadata": {},
     "output_type": "execute_result"
    }
   ],
   "source": [
    "spark.catalog.listTables()"
   ]
  },
  {
   "cell_type": "code",
   "execution_count": 11,
   "id": "94d6b616-1d21-42a6-8d4a-c2faa47c5537",
   "metadata": {},
   "outputs": [
    {
     "name": "stdout",
     "output_type": "stream",
     "text": [
      "+--------------------+--------------------+--------------------+--------------------+--------------------+--------------------+-------------------+--------------------+---------+--------------------+--------------------+---------------+--------+--------+\n",
      "|          created_at|         description|            entities|                  id|            location|                name|    pinned_tweet_id|   profile_image_url|protected|      public_metrics|                 url|       username|verified|withheld|\n",
      "+--------------------+--------------------+--------------------+--------------------+--------------------+--------------------+-------------------+--------------------+---------+--------------------+--------------------+---------------+--------+--------+\n",
      "|2020-01-16 02:02:...|Theoretical Compu...|{{null, null, nul...|u1217628182611927040|       Cambridge, MA|          Boaz Barak|               null|https://pbs.twimg...|    false|{7316, 215, 69, 3...|https://t.co/BoMi...|   boazbaraktcs|   false|    null|\n",
      "|2014-07-02 17:56:...|          creative _|                null|         u2664730894|                  🎈|          olawale 💨|               null|https://pbs.twimg...|    false|{123, 1090, 0, 1823}|                    |        wale_io|   false|    null|\n",
      "|2020-05-30 12:10:...|                  👽|                null|u1266703520205549568|                null|        panagiota_.b|               null|https://pbs.twimg...|    false|      {3, 62, 0, 66}|                    |    b_panagiota|   false|    null|\n",
      "|2019-01-26 13:52:...|mama to maya. ABI...|{{null, null, [{5...|u1089159225148882949| Charlottesville, VA|Jacqueline Hodges...|               null|https://pbs.twimg...|    false|  {350, 577, 1, 237}|                    |   jachodges_md|   false|    null|\n",
      "|2009-04-30 19:01:...|Father / SWT Alum...|                null|           u36741729|       United States|Matthew Stubblefield|               null|https://pbs.twimg...|     true| {240, 297, 8, 3713}|                    |  Matthew_Brody|   false|    null|\n",
      "|2021-02-27 05:01:...|I am studying M.S...|                null|u1365527332627247104|Salem, Tamil Nadu...|     Sathish Kumar V|               null|https://pbs.twimg...|     true|      {1, 378, 0, 2}|                    |vsathishkumar09|   false|    null|\n",
      "|2013-08-18 04:21:...|                    |{null, {[{youtube...|         u1679822588|                🇬🇧|               Grian|1143807515454558208|https://pbs.twimg...|    false|{238254, 293, 448...|https://t.co/V3Fy...|        GrianMC|   false|    null|\n",
      "|2013-06-15 11:34:...|The hottest brown...|                null|         u1519144464|Umhlanga, South A...|      Nikhil Sewdass|               null|https://pbs.twimg...|    false|  {161, 278, 0, 788}|                    |  NikhilSewdass|   false|    null|\n",
      "|2008-06-23 20:59:...|Director, Knowled...|{null, {[{keionli...|           u15211869|ÜT: 38.911326,-77...|          James Love|1335259215598915584|https://pbs.twimg...|    false|{10299, 2166, 383...|https://t.co/mcNZ...|     jamie_love|    true|    null|\n",
      "|2020-09-24 07:39:...|           well busy|                null|u1309034737756000256|                null|Michael Goves Cok...|               null|https://pbs.twimg...|    false|   {217, 233, 0, 27}|                    |      CokeGoves|   false|    null|\n",
      "+--------------------+--------------------+--------------------+--------------------+--------------------+--------------------+-------------------+--------------------+---------+--------------------+--------------------+---------------+--------+--------+\n",
      "\n"
     ]
    }
   ],
   "source": [
    "# Select the first 10 rows from table `user`\n",
    "query = \"FROM user SELECT * LIMIT 10\"\n",
    "\n",
    "user10 = spark.sql(query)\n",
    "user10.show()"
   ]
  },
  {
   "cell_type": "code",
   "execution_count": 12,
   "id": "e5c1402b-a9a7-4ca9-89f6-9ed8b14951d9",
   "metadata": {},
   "outputs": [
    {
     "data": {
      "text/html": [
       "<div>\n",
       "<style scoped>\n",
       "    .dataframe tbody tr th:only-of-type {\n",
       "        vertical-align: middle;\n",
       "    }\n",
       "\n",
       "    .dataframe tbody tr th {\n",
       "        vertical-align: top;\n",
       "    }\n",
       "\n",
       "    .dataframe thead th {\n",
       "        text-align: right;\n",
       "    }\n",
       "</style>\n",
       "<table border=\"1\" class=\"dataframe\">\n",
       "  <thead>\n",
       "    <tr style=\"text-align: right;\">\n",
       "      <th></th>\n",
       "      <th>created_at</th>\n",
       "      <th>description</th>\n",
       "      <th>entities</th>\n",
       "      <th>id</th>\n",
       "      <th>location</th>\n",
       "      <th>name</th>\n",
       "      <th>pinned_tweet_id</th>\n",
       "      <th>profile_image_url</th>\n",
       "      <th>protected</th>\n",
       "      <th>public_metrics</th>\n",
       "      <th>url</th>\n",
       "      <th>username</th>\n",
       "      <th>verified</th>\n",
       "      <th>withheld</th>\n",
       "    </tr>\n",
       "  </thead>\n",
       "  <tbody>\n",
       "    <tr>\n",
       "      <th>0</th>\n",
       "      <td>2020-01-16 02:02:55+00:00</td>\n",
       "      <td>Theoretical Computer Scientist. See also https...</td>\n",
       "      <td>((None, None, None, [Row(display_url='windowso...</td>\n",
       "      <td>u1217628182611927040</td>\n",
       "      <td>Cambridge, MA</td>\n",
       "      <td>Boaz Barak</td>\n",
       "      <td>NaN</td>\n",
       "      <td>https://pbs.twimg.com/profile_images/125226236...</td>\n",
       "      <td>False</td>\n",
       "      <td>(7316, 215, 69, 3098)</td>\n",
       "      <td>https://t.co/BoMip9FF17</td>\n",
       "      <td>boazbaraktcs</td>\n",
       "      <td>False</td>\n",
       "      <td>None</td>\n",
       "    </tr>\n",
       "    <tr>\n",
       "      <th>1</th>\n",
       "      <td>2014-07-02 17:56:46+00:00</td>\n",
       "      <td>creative _</td>\n",
       "      <td>None</td>\n",
       "      <td>u2664730894</td>\n",
       "      <td>🎈</td>\n",
       "      <td>olawale 💨</td>\n",
       "      <td>NaN</td>\n",
       "      <td>https://pbs.twimg.com/profile_images/147837638...</td>\n",
       "      <td>False</td>\n",
       "      <td>(123, 1090, 0, 1823)</td>\n",
       "      <td></td>\n",
       "      <td>wale_io</td>\n",
       "      <td>False</td>\n",
       "      <td>None</td>\n",
       "    </tr>\n",
       "    <tr>\n",
       "      <th>2</th>\n",
       "      <td>2020-05-30 12:10:45+00:00</td>\n",
       "      <td>👽</td>\n",
       "      <td>None</td>\n",
       "      <td>u1266703520205549568</td>\n",
       "      <td>None</td>\n",
       "      <td>panagiota_.b</td>\n",
       "      <td>NaN</td>\n",
       "      <td>https://pbs.twimg.com/profile_images/142608606...</td>\n",
       "      <td>False</td>\n",
       "      <td>(3, 62, 0, 66)</td>\n",
       "      <td></td>\n",
       "      <td>b_panagiota</td>\n",
       "      <td>False</td>\n",
       "      <td>None</td>\n",
       "    </tr>\n",
       "    <tr>\n",
       "      <th>3</th>\n",
       "      <td>2019-01-26 13:52:49+00:00</td>\n",
       "      <td>mama to maya. ABIM research pathway fellow @UV...</td>\n",
       "      <td>((None, None, [Row(end=50, start=43, username=...</td>\n",
       "      <td>u1089159225148882949</td>\n",
       "      <td>Charlottesville, VA</td>\n",
       "      <td>Jacqueline Hodges, MD MPH</td>\n",
       "      <td>NaN</td>\n",
       "      <td>https://pbs.twimg.com/profile_images/130229171...</td>\n",
       "      <td>False</td>\n",
       "      <td>(350, 577, 1, 237)</td>\n",
       "      <td></td>\n",
       "      <td>jachodges_md</td>\n",
       "      <td>False</td>\n",
       "      <td>None</td>\n",
       "    </tr>\n",
       "    <tr>\n",
       "      <th>4</th>\n",
       "      <td>2009-04-30 19:01:42+00:00</td>\n",
       "      <td>Father / SWT Alumnus / Longhorn Fan</td>\n",
       "      <td>None</td>\n",
       "      <td>u36741729</td>\n",
       "      <td>United States</td>\n",
       "      <td>Matthew Stubblefield</td>\n",
       "      <td>NaN</td>\n",
       "      <td>https://pbs.twimg.com/profile_images/145808462...</td>\n",
       "      <td>True</td>\n",
       "      <td>(240, 297, 8, 3713)</td>\n",
       "      <td></td>\n",
       "      <td>Matthew_Brody</td>\n",
       "      <td>False</td>\n",
       "      <td>None</td>\n",
       "    </tr>\n",
       "  </tbody>\n",
       "</table>\n",
       "</div>"
      ],
      "text/plain": [
       "                  created_at  \\\n",
       "0  2020-01-16 02:02:55+00:00   \n",
       "1  2014-07-02 17:56:46+00:00   \n",
       "2  2020-05-30 12:10:45+00:00   \n",
       "3  2019-01-26 13:52:49+00:00   \n",
       "4  2009-04-30 19:01:42+00:00   \n",
       "\n",
       "                                         description  \\\n",
       "0  Theoretical Computer Scientist. See also https...   \n",
       "1                                         creative _   \n",
       "2                                                  👽   \n",
       "3  mama to maya. ABIM research pathway fellow @UV...   \n",
       "4                Father / SWT Alumnus / Longhorn Fan   \n",
       "\n",
       "                                            entities                    id  \\\n",
       "0  ((None, None, None, [Row(display_url='windowso...  u1217628182611927040   \n",
       "1                                               None           u2664730894   \n",
       "2                                               None  u1266703520205549568   \n",
       "3  ((None, None, [Row(end=50, start=43, username=...  u1089159225148882949   \n",
       "4                                               None             u36741729   \n",
       "\n",
       "              location                       name  pinned_tweet_id  \\\n",
       "0        Cambridge, MA                 Boaz Barak              NaN   \n",
       "1                    🎈                  olawale 💨              NaN   \n",
       "2                 None               panagiota_.b              NaN   \n",
       "3  Charlottesville, VA  Jacqueline Hodges, MD MPH              NaN   \n",
       "4        United States       Matthew Stubblefield              NaN   \n",
       "\n",
       "                                   profile_image_url  protected  \\\n",
       "0  https://pbs.twimg.com/profile_images/125226236...      False   \n",
       "1  https://pbs.twimg.com/profile_images/147837638...      False   \n",
       "2  https://pbs.twimg.com/profile_images/142608606...      False   \n",
       "3  https://pbs.twimg.com/profile_images/130229171...      False   \n",
       "4  https://pbs.twimg.com/profile_images/145808462...       True   \n",
       "\n",
       "          public_metrics                      url       username  verified  \\\n",
       "0  (7316, 215, 69, 3098)  https://t.co/BoMip9FF17   boazbaraktcs     False   \n",
       "1   (123, 1090, 0, 1823)                                 wale_io     False   \n",
       "2         (3, 62, 0, 66)                             b_panagiota     False   \n",
       "3     (350, 577, 1, 237)                            jachodges_md     False   \n",
       "4    (240, 297, 8, 3713)                           Matthew_Brody     False   \n",
       "\n",
       "  withheld  \n",
       "0     None  \n",
       "1     None  \n",
       "2     None  \n",
       "3     None  \n",
       "4     None  "
      ]
     },
     "execution_count": 12,
     "metadata": {},
     "output_type": "execute_result"
    }
   ],
   "source": [
    "# Convert into Pandas DataFrame\n",
    "user10_df = user10.toPandas()\n",
    "user10_df.head()"
   ]
  },
  {
   "cell_type": "code",
   "execution_count": 13,
   "id": "cd46422c-d48c-4136-a6ad-2528594d4263",
   "metadata": {},
   "outputs": [
    {
     "name": "stdout",
     "output_type": "stream",
     "text": [
      "Before adding:  [Table(name='user', database='default', description=None, tableType='MANAGED', isTemporary=False)]\n",
      "After adding:  [Table(name='user', database='default', description=None, tableType='MANAGED', isTemporary=False), Table(name='temp', database=None, description=None, tableType='TEMPORARY', isTemporary=True)]\n"
     ]
    }
   ],
   "source": [
    "# Move data from pandas to Spark\n",
    "# Import library\n",
    "import pandas as pd\n",
    "import numpy as np\n",
    "\n",
    "# Create pd_temp\n",
    "pd_temp = pd.DataFrame(np.random.random(10))\n",
    "\n",
    "# Create spark_temp from pd_temp\n",
    "spark_temp = spark.createDataFrame(pd_temp)\n",
    "\n",
    "# Examine the tables in the catalog\n",
    "print(\"Before adding: \", spark.catalog.listTables())\n",
    "\n",
    "# Add spark_temp to the catalog\n",
    "spark_temp.createOrReplaceTempView(\"temp\")\n",
    "\n",
    "# Examine the tables in the catalog again\n",
    "print(\"After adding: \", spark.catalog.listTables())"
   ]
  },
  {
   "cell_type": "markdown",
   "id": "1884f0d9-1ff9-4c31-8c9b-28332670eafd",
   "metadata": {},
   "source": [
    "**Notes:** The `.createTempView()` method takes as its only argument the name of the temporary table you'd like to register. This method registers the DataFrame as a table in the catalog, but as this table is temporary, it can only be accessed from the specific `SparkSession` used to create the Spark DataFrame.\n",
    "\n",
    "To avoid duplication, there is also the method `.createOrReplaceTempView()`."
   ]
  },
  {
   "cell_type": "code",
   "execution_count": 14,
   "id": "f79454fc-465f-49f8-9d88-4814d4515c44",
   "metadata": {},
   "outputs": [
    {
     "name": "stdout",
     "output_type": "stream",
     "text": [
      "+--------------------+--------------------+--------------------+--------------------+--------------------+--------------------+-------------------+--------------------+---------+--------------------+--------------------+---------------+--------+--------+\n",
      "|          created_at|         description|            entities|                  id|            location|                name|    pinned_tweet_id|   profile_image_url|protected|      public_metrics|                 url|       username|verified|withheld|\n",
      "+--------------------+--------------------+--------------------+--------------------+--------------------+--------------------+-------------------+--------------------+---------+--------------------+--------------------+---------------+--------+--------+\n",
      "|2020-01-16 02:02:...|Theoretical Compu...|{{null, null, nul...|u1217628182611927040|       Cambridge, MA|          Boaz Barak|               null|https://pbs.twimg...|    false|{7316, 215, 69, 3...|https://t.co/BoMi...|   boazbaraktcs|   false|    null|\n",
      "|2014-07-02 17:56:...|          creative _|                null|         u2664730894|                  🎈|          olawale 💨|               null|https://pbs.twimg...|    false|{123, 1090, 0, 1823}|                    |        wale_io|   false|    null|\n",
      "|2020-05-30 12:10:...|                  👽|                null|u1266703520205549568|                null|        panagiota_.b|               null|https://pbs.twimg...|    false|      {3, 62, 0, 66}|                    |    b_panagiota|   false|    null|\n",
      "|2019-01-26 13:52:...|mama to maya. ABI...|{{null, null, [{5...|u1089159225148882949| Charlottesville, VA|Jacqueline Hodges...|               null|https://pbs.twimg...|    false|  {350, 577, 1, 237}|                    |   jachodges_md|   false|    null|\n",
      "|2009-04-30 19:01:...|Father / SWT Alum...|                null|           u36741729|       United States|Matthew Stubblefield|               null|https://pbs.twimg...|     true| {240, 297, 8, 3713}|                    |  Matthew_Brody|   false|    null|\n",
      "|2021-02-27 05:01:...|I am studying M.S...|                null|u1365527332627247104|Salem, Tamil Nadu...|     Sathish Kumar V|               null|https://pbs.twimg...|     true|      {1, 378, 0, 2}|                    |vsathishkumar09|   false|    null|\n",
      "|2013-08-18 04:21:...|                    |{null, {[{youtube...|         u1679822588|                🇬🇧|               Grian|1143807515454558208|https://pbs.twimg...|    false|{238254, 293, 448...|https://t.co/V3Fy...|        GrianMC|   false|    null|\n",
      "|2013-06-15 11:34:...|The hottest brown...|                null|         u1519144464|Umhlanga, South A...|      Nikhil Sewdass|               null|https://pbs.twimg...|    false|  {161, 278, 0, 788}|                    |  NikhilSewdass|   false|    null|\n",
      "|2008-06-23 20:59:...|Director, Knowled...|{null, {[{keionli...|           u15211869|ÜT: 38.911326,-77...|          James Love|1335259215598915584|https://pbs.twimg...|    false|{10299, 2166, 383...|https://t.co/mcNZ...|     jamie_love|    true|    null|\n",
      "|2020-09-24 07:39:...|           well busy|                null|u1309034737756000256|                null|Michael Goves Cok...|               null|https://pbs.twimg...|    false|   {217, 233, 0, 27}|                    |      CokeGoves|   false|    null|\n",
      "|2020-12-23 16:56:...|                    |                null|u1341789703633178624|                null|                  mo|               null|https://abs.twimg...|    false|      {0, 136, 0, 6}|                    |     mo39826506|   false|    null|\n",
      "|2012-09-27 09:49:...|PhD student in th...|                null|          u848975226|                null|Javier Santiago-A...|               null|https://pbs.twimg...|    false|   {51, 154, 0, 637}|                    |fjsantiagoarcos|   false|    null|\n",
      "|2019-03-24 13:29:...|Often correct alb...|                null|u1109809482656149504|                null|Quantum Bullshit ...|1364622151228121088|https://pbs.twimg...|    false|{12471, 393, 113,...|                    |BullshitQuantum|   false|    null|\n",
      "|2010-04-30 17:36:...|Militante peronis...|{null, {[{cfkarge...|          u138814032|           Argentina|   Cristina Kirchner|               null|https://pbs.twimg...|    false|{5994250, 241, 14...|https://t.co/P8We...|   CFKArgentina|    true|    null|\n",
      "|2012-01-07 15:05:...|They/Them\\nhttps:...|{{null, null, nul...|          u457554412|     London, England|            samsmith|               null|https://pbs.twimg...|    false|{7982826, 1302, 4...|https://t.co/Uvtx...|       samsmith|    true|    null|\n",
      "|2008-12-05 15:19:...|Not on here much ...|{{null, null, nul...|           u17899123|neither here nor ...|   Tristan Henderson|1406516144568254465|https://pbs.twimg...|     true|{1713, 990, 92, 2...|https://t.co/67TF...|           tnhh|   false|    null|\n",
      "|2014-04-27 00:20:...|paper tweets, dms...|                null|         u2465283662|                null|                  AK|               null|https://pbs.twimg...|    false|{45541, 1206, 605...|                    |        ak92501|   false|    null|\n",
      "|2021-12-06 21:44:...|https://t.co/Hmg5...|{{null, null, nul...|u1467973039883182090|                null|                صارا|               null|https://pbs.twimg...|    false|{1573, 1688, 2, 146}|                    |          _3rw_|   false|    null|\n",
      "|2011-01-04 19:11:...|Come for the scie...|{{null, [{129, 11...|          u234059290|Salt Lake City,UT...| Professor Booty PhD|1470252396815085573|https://pbs.twimg...|    false|{4694, 4739, 116,...|https://t.co/pKcv...|   ProfBootyPhD|   false|    null|\n",
      "|2019-06-23 20:20:...|Quite likely the ...|                null|u1142890104853106688|                null|      wyomingwormboy|               null|https://pbs.twimg...|    false|{2913, 587, 9, 3343}|                    | wyomingwormboy|   false|    null|\n",
      "+--------------------+--------------------+--------------------+--------------------+--------------------+--------------------+-------------------+--------------------+---------+--------------------+--------------------+---------------+--------+--------+\n",
      "only showing top 20 rows\n",
      "\n"
     ]
    }
   ],
   "source": [
    "# Create the DataFrame user\n",
    "user = spark.table(\"user\")\n",
    "\n",
    "# Show the head\n",
    "user.show()"
   ]
  },
  {
   "cell_type": "code",
   "execution_count": 15,
   "id": "cc79cc2a-0a4b-47d9-9742-1491b1c76ffc",
   "metadata": {},
   "outputs": [],
   "source": [
    "# Add following / follower ratio\n",
    "user = user.withColumn(\"reputation\", user.public_metrics.following_count / user.public_metrics.followers_count)"
   ]
  },
  {
   "cell_type": "code",
   "execution_count": 16,
   "id": "57226d50-703f-4805-b980-7d06944f7617",
   "metadata": {},
   "outputs": [
    {
     "name": "stdout",
     "output_type": "stream",
     "text": [
      "+--------------------+--------------------+--------------------+--------------------+--------------------+--------------------+-------------------+--------------------+---------+--------------------+--------------------+---------------+--------+--------+--------------------+\n",
      "|          created_at|         description|            entities|                  id|            location|                name|    pinned_tweet_id|   profile_image_url|protected|      public_metrics|                 url|       username|verified|withheld|          reputation|\n",
      "+--------------------+--------------------+--------------------+--------------------+--------------------+--------------------+-------------------+--------------------+---------+--------------------+--------------------+---------------+--------+--------+--------------------+\n",
      "|2014-07-02 17:56:...|          creative _|                null|         u2664730894|                  🎈|          olawale 💨|               null|https://pbs.twimg...|    false|{123, 1090, 0, 1823}|                    |        wale_io|   false|    null|   8.861788617886178|\n",
      "|2008-06-23 20:59:...|Director, Knowled...|{null, {[{keionli...|           u15211869|ÜT: 38.911326,-77...|          James Love|1335259215598915584|https://pbs.twimg...|    false|{10299, 2166, 383...|https://t.co/mcNZ...|     jamie_love|    true|    null| 0.21031168074570347|\n",
      "|2012-01-07 15:05:...|They/Them\\nhttps:...|{{null, null, nul...|          u457554412|     London, England|            samsmith|               null|https://pbs.twimg...|    false|{7982826, 1302, 4...|https://t.co/Uvtx...|       samsmith|    true|    null|1.631001352152734E-4|\n",
      "|2014-04-27 00:20:...|paper tweets, dms...|                null|         u2465283662|                null|                  AK|               null|https://pbs.twimg...|    false|{45541, 1206, 605...|                    |        ak92501|   false|    null| 0.02648163193605762|\n",
      "|2021-12-06 21:44:...|https://t.co/Hmg5...|{{null, null, nul...|u1467973039883182090|                null|                صارا|               null|https://pbs.twimg...|    false|{1573, 1688, 2, 146}|                    |          _3rw_|   false|    null|   1.073108709472346|\n",
      "|2011-01-04 19:11:...|Come for the scie...|{{null, [{129, 11...|          u234059290|Salt Lake City,UT...| Professor Booty PhD|1470252396815085573|https://pbs.twimg...|    false|{4694, 4739, 116,...|https://t.co/pKcv...|   ProfBootyPhD|   false|    null|  1.0095867064337452|\n",
      "|2011-04-20 03:30:...|Assistant prof @N...|{{null, null, [{2...|          u284870222|      Nottingham, UK|          Anna Meier|1303135520806109186|https://pbs.twimg...|    false|{9490, 2146, 93, ...|https://t.co/bnWg...|    AnnaMeierPS|   false|    null|  0.2261327713382508|\n",
      "|2020-11-01 14:21:...|                  💫|                null|u1322906536029626368|                null|         RosieGainez|               null|https://pbs.twimg...|    false|   {44, 1541, 0, 15}|                    |    RosieGainez|   false|    null|   35.02272727272727|\n",
      "|2012-09-05 07:30:...|Number 1 plug for...|                null|          u804075344|             Nigeria|       SOLE PROMOTER|1179426885706616833|https://pbs.twimg...|    false|{193652, 135040, ...|                    |      chuksvila|   false|    null|  0.6973333608741453|\n",
      "|2008-05-15 16:35:...|Event producer, c...|{{null, null, [{1...|           u14788268|              London|         Steve Cross|               null|https://pbs.twimg...|    false|{6531, 2059, 158,...|https://t.co/faXB...|        steve_x|   false|    null| 0.31526565610166896|\n",
      "|2014-05-15 18:58:...|Maths teacher @da...|{{null, [{143, 13...|         u2496941382|                Cork|Brendan O'Sulliva...|1318401817450041344|https://pbs.twimg...|    false|{30239, 27364, 45...|https://t.co/A95r...|    ImtaBrendan|   false|    null|  0.9049241046330897|\n",
      "|2009-02-25 21:20:...|Data Science, ML ...|{null, {[{nikhilg...|           u21920591| Seattle, Washington|        Nikhil Gopal|               null|https://pbs.twimg...|    false|{403, 1477, 22, 6...|https://t.co/PNjd...|    nikhilgopal|   false|    null|   3.665012406947891|\n",
      "|2010-11-09 21:17:...|#Crossfit #Fitnes...|{{null, [{9, 0, C...|          u213809534|        Elmsford, NY|    Tasha M. Hawkins|               null|https://pbs.twimg...|    false|{1449, 1458, 3, 196}|https://t.co/NVRd...| DailyCrossfit1|   false|    null|  1.0062111801242235|\n",
      "|2013-11-26 13:26:...|A Beautiful mind ...|                null|         u2196860159|     Berlin, Germany|             JB 🇩🇪|1477454659749093388|https://pbs.twimg...|    false|{1996, 4913, 4, 1...|                    |      JM_Bassey|   false|    null|   2.461422845691383|\n",
      "|2021-11-14 07:36:...|           developer|                null|u1459787141928660998|🇺🇸🇪🇺🇦🇪🇰🇷🇯🇵|         Erlen Meyer|               null|https://pbs.twimg...|    false|   {54, 1283, 0, 39}|                    |  itserlenmeyer|   false|    null|   23.75925925925926|\n",
      "|2017-06-03 14:53:...|Managing Director...|{{null, [{83, 64,...| u871016931213619200|                null|    Kristina Jeromin|               null|https://pbs.twimg...|    false|{1576, 1207, 38, ...|https://t.co/nHr7...|KristinaJeromin|   false|    null|  0.7658629441624365|\n",
      "|2010-09-28 19:11:...|DevRel @GoogleAfr...|{{null, null, [{2...|          u196278935|     Lagos, Nigeria.|  Aniedi #Project774|1484478691015077888|https://pbs.twimg...|    false|{22642, 2490, 190...|https://t.co/tIQO...|      aniediudo|   false|    null| 0.10997261725995937|\n",
      "|2016-05-14 13:37:...|Decision (neuro)s...|{null, {[{akaishi...| u731478516181565440|               Earth|         Rei Akaishi|1482265371608752131|https://pbs.twimg...|    false|{2532, 2306, 36, ...|https://t.co/Clj9...|    rei_akaishi|   false|    null|  0.9107424960505529|\n",
      "|2011-10-02 20:08:...|Founder & CEO of ...|{{null, null, [{2...|          u383950602|     Los Angeles, CA|      Livia Tortella|               null|https://pbs.twimg...|    false|{2041, 1007, 39, ...|https://t.co/soE7...|  liviatortella|   false|    null| 0.49338559529642334|\n",
      "|2008-02-13 17:12:...|SI ‘92, D ‘96, FH...|{{null, null, nul...|           u13439042|Stolen Lenni Lana...|             Shervyn|               null|https://pbs.twimg...|     true|{507, 1033, 41, 5...|                    |        Shervyn|   false|    null|   2.037475345167653|\n",
      "+--------------------+--------------------+--------------------+--------------------+--------------------+--------------------+-------------------+--------------------+---------+--------------------+--------------------+---------------+--------+--------+--------------------+\n",
      "only showing top 20 rows\n",
      "\n"
     ]
    }
   ],
   "source": [
    "# SQL on DataFrame\n",
    "\n",
    "# Get user with a specific IDs\n",
    "user_with_id_str = user.filter(\"public_metrics.following_count >= 1000\")\n",
    "user_with_id_str.show()"
   ]
  },
  {
   "cell_type": "code",
   "execution_count": 17,
   "id": "c077f8a3-69a7-4dab-9b43-eb6fc3e72d86",
   "metadata": {},
   "outputs": [
    {
     "name": "stdout",
     "output_type": "stream",
     "text": [
      "+--------------------+--------------------+--------------------+--------------------+--------------------+--------------------+-------------------+--------------------+---------+--------------------+--------------------+---------------+--------+--------+--------------------+\n",
      "|          created_at|         description|            entities|                  id|            location|                name|    pinned_tweet_id|   profile_image_url|protected|      public_metrics|                 url|       username|verified|withheld|          reputation|\n",
      "+--------------------+--------------------+--------------------+--------------------+--------------------+--------------------+-------------------+--------------------+---------+--------------------+--------------------+---------------+--------+--------+--------------------+\n",
      "|2014-07-02 17:56:...|          creative _|                null|         u2664730894|                  🎈|          olawale 💨|               null|https://pbs.twimg...|    false|{123, 1090, 0, 1823}|                    |        wale_io|   false|    null|   8.861788617886178|\n",
      "|2008-06-23 20:59:...|Director, Knowled...|{null, {[{keionli...|           u15211869|ÜT: 38.911326,-77...|          James Love|1335259215598915584|https://pbs.twimg...|    false|{10299, 2166, 383...|https://t.co/mcNZ...|     jamie_love|    true|    null| 0.21031168074570347|\n",
      "|2012-01-07 15:05:...|They/Them\\nhttps:...|{{null, null, nul...|          u457554412|     London, England|            samsmith|               null|https://pbs.twimg...|    false|{7982826, 1302, 4...|https://t.co/Uvtx...|       samsmith|    true|    null|1.631001352152734E-4|\n",
      "|2014-04-27 00:20:...|paper tweets, dms...|                null|         u2465283662|                null|                  AK|               null|https://pbs.twimg...|    false|{45541, 1206, 605...|                    |        ak92501|   false|    null| 0.02648163193605762|\n",
      "|2021-12-06 21:44:...|https://t.co/Hmg5...|{{null, null, nul...|u1467973039883182090|                null|                صارا|               null|https://pbs.twimg...|    false|{1573, 1688, 2, 146}|                    |          _3rw_|   false|    null|   1.073108709472346|\n",
      "|2011-01-04 19:11:...|Come for the scie...|{{null, [{129, 11...|          u234059290|Salt Lake City,UT...| Professor Booty PhD|1470252396815085573|https://pbs.twimg...|    false|{4694, 4739, 116,...|https://t.co/pKcv...|   ProfBootyPhD|   false|    null|  1.0095867064337452|\n",
      "|2011-04-20 03:30:...|Assistant prof @N...|{{null, null, [{2...|          u284870222|      Nottingham, UK|          Anna Meier|1303135520806109186|https://pbs.twimg...|    false|{9490, 2146, 93, ...|https://t.co/bnWg...|    AnnaMeierPS|   false|    null|  0.2261327713382508|\n",
      "|2020-11-01 14:21:...|                  💫|                null|u1322906536029626368|                null|         RosieGainez|               null|https://pbs.twimg...|    false|   {44, 1541, 0, 15}|                    |    RosieGainez|   false|    null|   35.02272727272727|\n",
      "|2012-09-05 07:30:...|Number 1 plug for...|                null|          u804075344|             Nigeria|       SOLE PROMOTER|1179426885706616833|https://pbs.twimg...|    false|{193652, 135040, ...|                    |      chuksvila|   false|    null|  0.6973333608741453|\n",
      "|2008-05-15 16:35:...|Event producer, c...|{{null, null, [{1...|           u14788268|              London|         Steve Cross|               null|https://pbs.twimg...|    false|{6531, 2059, 158,...|https://t.co/faXB...|        steve_x|   false|    null| 0.31526565610166896|\n",
      "|2014-05-15 18:58:...|Maths teacher @da...|{{null, [{143, 13...|         u2496941382|                Cork|Brendan O'Sulliva...|1318401817450041344|https://pbs.twimg...|    false|{30239, 27364, 45...|https://t.co/A95r...|    ImtaBrendan|   false|    null|  0.9049241046330897|\n",
      "|2009-02-25 21:20:...|Data Science, ML ...|{null, {[{nikhilg...|           u21920591| Seattle, Washington|        Nikhil Gopal|               null|https://pbs.twimg...|    false|{403, 1477, 22, 6...|https://t.co/PNjd...|    nikhilgopal|   false|    null|   3.665012406947891|\n",
      "|2010-11-09 21:17:...|#Crossfit #Fitnes...|{{null, [{9, 0, C...|          u213809534|        Elmsford, NY|    Tasha M. Hawkins|               null|https://pbs.twimg...|    false|{1449, 1458, 3, 196}|https://t.co/NVRd...| DailyCrossfit1|   false|    null|  1.0062111801242235|\n",
      "|2013-11-26 13:26:...|A Beautiful mind ...|                null|         u2196860159|     Berlin, Germany|             JB 🇩🇪|1477454659749093388|https://pbs.twimg...|    false|{1996, 4913, 4, 1...|                    |      JM_Bassey|   false|    null|   2.461422845691383|\n",
      "|2021-11-14 07:36:...|           developer|                null|u1459787141928660998|🇺🇸🇪🇺🇦🇪🇰🇷🇯🇵|         Erlen Meyer|               null|https://pbs.twimg...|    false|   {54, 1283, 0, 39}|                    |  itserlenmeyer|   false|    null|   23.75925925925926|\n",
      "|2017-06-03 14:53:...|Managing Director...|{{null, [{83, 64,...| u871016931213619200|                null|    Kristina Jeromin|               null|https://pbs.twimg...|    false|{1576, 1207, 38, ...|https://t.co/nHr7...|KristinaJeromin|   false|    null|  0.7658629441624365|\n",
      "|2010-09-28 19:11:...|DevRel @GoogleAfr...|{{null, null, [{2...|          u196278935|     Lagos, Nigeria.|  Aniedi #Project774|1484478691015077888|https://pbs.twimg...|    false|{22642, 2490, 190...|https://t.co/tIQO...|      aniediudo|   false|    null| 0.10997261725995937|\n",
      "|2016-05-14 13:37:...|Decision (neuro)s...|{null, {[{akaishi...| u731478516181565440|               Earth|         Rei Akaishi|1482265371608752131|https://pbs.twimg...|    false|{2532, 2306, 36, ...|https://t.co/Clj9...|    rei_akaishi|   false|    null|  0.9107424960505529|\n",
      "|2011-10-02 20:08:...|Founder & CEO of ...|{{null, null, [{2...|          u383950602|     Los Angeles, CA|      Livia Tortella|               null|https://pbs.twimg...|    false|{2041, 1007, 39, ...|https://t.co/soE7...|  liviatortella|   false|    null| 0.49338559529642334|\n",
      "|2008-02-13 17:12:...|SI ‘92, D ‘96, FH...|{{null, null, nul...|           u13439042|Stolen Lenni Lana...|             Shervyn|               null|https://pbs.twimg...|     true|{507, 1033, 41, 5...|                    |        Shervyn|   false|    null|   2.037475345167653|\n",
      "+--------------------+--------------------+--------------------+--------------------+--------------------+--------------------+-------------------+--------------------+---------+--------------------+--------------------+---------------+--------+--------+--------------------+\n",
      "only showing top 20 rows\n",
      "\n"
     ]
    }
   ],
   "source": [
    "# Get user with a column of boolean value\n",
    "user_with_id_bool = user.filter(user.public_metrics.following_count >= 1000)\n",
    "user_with_id_bool.show()"
   ]
  },
  {
   "cell_type": "code",
   "execution_count": 18,
   "id": "83110508-900a-4c5a-a67e-0857f5091487",
   "metadata": {},
   "outputs": [
    {
     "name": "stdout",
     "output_type": "stream",
     "text": [
      "+--------------------+---------------+---------------+\n",
      "|          reputation|following_count|followers_count|\n",
      "+--------------------+---------------+---------------+\n",
      "|0.029387643521049753|            215|           7316|\n",
      "|   8.861788617886178|           1090|            123|\n",
      "|  20.666666666666668|             62|              3|\n",
      "|  1.6485714285714286|            577|            350|\n",
      "|              1.2375|            297|            240|\n",
      "|               378.0|            378|              1|\n",
      "|0.001229779982707...|            293|         238254|\n",
      "|  1.7267080745341614|            278|            161|\n",
      "| 0.21031168074570347|           2166|          10299|\n",
      "|  1.0737327188940091|            233|            217|\n",
      "|                null|            136|              0|\n",
      "|   3.019607843137255|            154|             51|\n",
      "|  0.0315131104161655|            393|          12471|\n",
      "|4.020519664678650...|            241|        5994250|\n",
      "|1.631001352152734E-4|           1302|        7982826|\n",
      "|  0.5779334500875657|            990|           1713|\n",
      "| 0.02648163193605762|           1206|          45541|\n",
      "|   1.073108709472346|           1688|           1573|\n",
      "|  1.0095867064337452|           4739|           4694|\n",
      "| 0.20151047030552696|            587|           2913|\n",
      "+--------------------+---------------+---------------+\n",
      "only showing top 20 rows\n",
      "\n"
     ]
    }
   ],
   "source": [
    "# Select columns\n",
    "user_selected_columns = user.select(\"reputation\", \"public_metrics.following_count\", \"public_metrics.followers_count\")\n",
    "user_selected_columns.show()"
   ]
  },
  {
   "cell_type": "code",
   "execution_count": 19,
   "id": "b3c81a99-ec98-46a2-a39c-fbef616b6875",
   "metadata": {},
   "outputs": [
    {
     "name": "stdout",
     "output_type": "stream",
     "text": [
      "+--------------------+------------------------------+------------------------------+\n",
      "|          reputation|public_metrics.following_count|public_metrics.followers_count|\n",
      "+--------------------+------------------------------+------------------------------+\n",
      "|0.029387643521049753|                           215|                          7316|\n",
      "|   8.861788617886178|                          1090|                           123|\n",
      "|  20.666666666666668|                            62|                             3|\n",
      "|  1.6485714285714286|                           577|                           350|\n",
      "|              1.2375|                           297|                           240|\n",
      "|               378.0|                           378|                             1|\n",
      "|0.001229779982707...|                           293|                        238254|\n",
      "|  1.7267080745341614|                           278|                           161|\n",
      "| 0.21031168074570347|                          2166|                         10299|\n",
      "|  1.0737327188940091|                           233|                           217|\n",
      "|                null|                           136|                             0|\n",
      "|   3.019607843137255|                           154|                            51|\n",
      "|  0.0315131104161655|                           393|                         12471|\n",
      "|4.020519664678650...|                           241|                       5994250|\n",
      "|1.631001352152734E-4|                          1302|                       7982826|\n",
      "|  0.5779334500875657|                           990|                          1713|\n",
      "| 0.02648163193605762|                          1206|                         45541|\n",
      "|   1.073108709472346|                          1688|                          1573|\n",
      "|  1.0095867064337452|                          4739|                          4694|\n",
      "| 0.20151047030552696|                           587|                          2913|\n",
      "+--------------------+------------------------------+------------------------------+\n",
      "only showing top 20 rows\n",
      "\n"
     ]
    }
   ],
   "source": [
    "user_selected_columns_colName = user.select(user.reputation, user.public_metrics.following_count, user.public_metrics.followers_count)\n",
    "user_selected_columns_colName.show()"
   ]
  },
  {
   "cell_type": "code",
   "execution_count": 20,
   "id": "c1cdd50e-ca4a-4d72-852f-4e232e912528",
   "metadata": {},
   "outputs": [
    {
     "data": {
      "text/plain": [
       "Column<'(public_metrics[following_count] / public_metrics[followers_count]) AS reputation_'>"
      ]
     },
     "execution_count": 20,
     "metadata": {},
     "output_type": "execute_result"
    }
   ],
   "source": [
    "# Derive a new column from select\n",
    "user_reputation_select = (user.public_metrics.following_count / user.public_metrics.followers_count).alias(\"reputation_\")\n",
    "user_reputation_select"
   ]
  },
  {
   "cell_type": "code",
   "execution_count": 21,
   "id": "fbe71333-0918-47d4-be66-e09f0e75505b",
   "metadata": {},
   "outputs": [
    {
     "name": "stdout",
     "output_type": "stream",
     "text": [
      "+---------------+---------------+--------------------+\n",
      "|following_count|followers_count|         reputation_|\n",
      "+---------------+---------------+--------------------+\n",
      "|            215|           7316|0.029387643521049753|\n",
      "|           1090|            123|   8.861788617886178|\n",
      "|             62|              3|  20.666666666666668|\n",
      "|            577|            350|  1.6485714285714286|\n",
      "|            297|            240|              1.2375|\n",
      "|            378|              1|               378.0|\n",
      "|            293|         238254|0.001229779982707...|\n",
      "|            278|            161|  1.7267080745341614|\n",
      "|           2166|          10299| 0.21031168074570347|\n",
      "|            233|            217|  1.0737327188940091|\n",
      "|            136|              0|                null|\n",
      "|            154|             51|   3.019607843137255|\n",
      "|            393|          12471|  0.0315131104161655|\n",
      "|            241|        5994250|4.020519664678650...|\n",
      "|           1302|        7982826|1.631001352152734E-4|\n",
      "|            990|           1713|  0.5779334500875657|\n",
      "|           1206|          45541| 0.02648163193605762|\n",
      "|           1688|           1573|   1.073108709472346|\n",
      "|           4739|           4694|  1.0095867064337452|\n",
      "|            587|           2913| 0.20151047030552696|\n",
      "+---------------+---------------+--------------------+\n",
      "only showing top 20 rows\n",
      "\n"
     ]
    }
   ],
   "source": [
    "rep_selected = user.select(\"public_metrics.following_count\", \"public_metrics.followers_count\", user_reputation_select)\n",
    "rep_selected.show()"
   ]
  },
  {
   "cell_type": "code",
   "execution_count": 22,
   "id": "0575b737-1998-4d06-a823-7e6c430d03b5",
   "metadata": {},
   "outputs": [
    {
     "name": "stdout",
     "output_type": "stream",
     "text": [
      "+---------------+---------------+---------------+\n",
      "|following_count|followers_count|following_bonus|\n",
      "+---------------+---------------+---------------+\n",
      "|            215|           7316|            315|\n",
      "|           1090|            123|           1190|\n",
      "|             62|              3|            162|\n",
      "|            577|            350|            677|\n",
      "|            297|            240|            397|\n",
      "|            378|              1|            478|\n",
      "|            293|         238254|            393|\n",
      "|            278|            161|            378|\n",
      "|           2166|          10299|           2266|\n",
      "|            233|            217|            333|\n",
      "|            136|              0|            236|\n",
      "|            154|             51|            254|\n",
      "|            393|          12471|            493|\n",
      "|            241|        5994250|            341|\n",
      "|           1302|        7982826|           1402|\n",
      "|            990|           1713|           1090|\n",
      "|           1206|          45541|           1306|\n",
      "|           1688|           1573|           1788|\n",
      "|           4739|           4694|           4839|\n",
      "|            587|           2913|            687|\n",
      "+---------------+---------------+---------------+\n",
      "only showing top 20 rows\n",
      "\n"
     ]
    }
   ],
   "source": [
    "# Use selectExpr\n",
    "fol_selected_expr = user.selectExpr(\n",
    "    \"public_metrics.following_count\",\n",
    "    \"public_metrics.followers_count\",\n",
    "    \"public_metrics.following_count + 100 as following_bonus\"\n",
    ")\n",
    "fol_selected_expr.show()"
   ]
  },
  {
   "cell_type": "code",
   "execution_count": 23,
   "id": "0e7ca2a7-bb1a-42d8-aa5c-ace33f04eb29",
   "metadata": {},
   "outputs": [
    {
     "name": "stdout",
     "output_type": "stream",
     "text": [
      "+------------------------------------------------------+\n",
      "|min(public_metrics.following_count AS following_count)|\n",
      "+------------------------------------------------------+\n",
      "|                                                     0|\n",
      "+------------------------------------------------------+\n",
      "\n"
     ]
    }
   ],
   "source": [
    "# Aggregation\n",
    "user.groupBy().min(\"public_metrics.following_count\").show()"
   ]
  },
  {
   "cell_type": "code",
   "execution_count": 24,
   "id": "e16c03bd-3e44-4704-aa29-a67248774cd2",
   "metadata": {},
   "outputs": [
    {
     "name": "stdout",
     "output_type": "stream",
     "text": [
      "+------------------------------------------------------+\n",
      "|max(public_metrics.following_count AS following_count)|\n",
      "+------------------------------------------------------+\n",
      "|                                               4161031|\n",
      "+------------------------------------------------------+\n",
      "\n"
     ]
    }
   ],
   "source": [
    "user.groupBy().max(\"public_metrics.following_count\").show()"
   ]
  },
  {
   "cell_type": "code",
   "execution_count": 25,
   "id": "e8e91da8-49af-43c4-bdeb-720322de4648",
   "metadata": {},
   "outputs": [
    {
     "name": "stdout",
     "output_type": "stream",
     "text": [
      "+------------------------------------------------------+\n",
      "|avg(public_metrics.following_count AS following_count)|\n",
      "+------------------------------------------------------+\n",
      "|                                           2250.534189|\n",
      "+------------------------------------------------------+\n",
      "\n"
     ]
    }
   ],
   "source": [
    "user.groupBy().avg(\"public_metrics.following_count\").show()"
   ]
  },
  {
   "cell_type": "code",
   "execution_count": 26,
   "id": "cc8bfe20-16ea-4130-8392-bd19030b0f2d",
   "metadata": {},
   "outputs": [
    {
     "name": "stdout",
     "output_type": "stream",
     "text": [
      "+---------+------+\n",
      "|protected| count|\n",
      "+---------+------+\n",
      "|     true| 30336|\n",
      "|    false|969664|\n",
      "+---------+------+\n",
      "\n"
     ]
    }
   ],
   "source": [
    "# Get number of protected accounts\n",
    "user.groupBy(\"protected\").count().show()"
   ]
  },
  {
   "cell_type": "code",
   "execution_count": 27,
   "id": "60a9c06d-1916-4c5f-a2f3-5e0bd6b0e5a1",
   "metadata": {},
   "outputs": [
    {
     "name": "stdout",
     "output_type": "stream",
     "text": [
      "+---------+--------+------------------------------------------------------+\n",
      "|protected|verified|avg(public_metrics.following_count AS following_count)|\n",
      "+---------+--------+------------------------------------------------------+\n",
      "|     true|   false|                                    1191.1624875290988|\n",
      "|     true|    true|                                    2773.8308270676694|\n",
      "|    false|   false|                                     2102.914040881294|\n",
      "|    false|    true|                                    3940.9711979144768|\n",
      "+---------+--------+------------------------------------------------------+\n",
      "\n"
     ]
    }
   ],
   "source": [
    "# Grouping and aggregating\n",
    "user.groupBy(\"protected\", \"verified\").avg(\"public_metrics.following_count\").show()"
   ]
  },
  {
   "cell_type": "code",
   "execution_count": 28,
   "id": "f4879452-d036-44f2-a46e-e68e3cd796ee",
   "metadata": {},
   "outputs": [
    {
     "name": "stdout",
     "output_type": "stream",
     "text": [
      "+---------+--------+-------------------------------------------+\n",
      "|protected|verified|stddev_samp(public_metrics.following_count)|\n",
      "+---------+--------+-------------------------------------------+\n",
      "|     true|   false|                           4907.96237482749|\n",
      "|     true|    true|                          5632.911627343465|\n",
      "|    false|   false|                         11902.516160950481|\n",
      "|    false|    true|                          36122.61662363998|\n",
      "+---------+--------+-------------------------------------------+\n",
      "\n"
     ]
    }
   ],
   "source": [
    "# External functions\n",
    "import pyspark.sql.functions as F\n",
    "\n",
    "# Grouping and aggregating\n",
    "user.groupBy(\"protected\", \"verified\").agg(F.stddev(\"public_metrics.following_count\")).show()"
   ]
  },
  {
   "cell_type": "code",
   "execution_count": 29,
   "id": "2273e570-1e58-43ab-8999-79e659ba6f55",
   "metadata": {},
   "outputs": [
    {
     "name": "stdout",
     "output_type": "stream",
     "text": [
      "root\n",
      " |-- id: string (nullable = true)\n",
      " |-- label: string (nullable = true)\n",
      "\n"
     ]
    }
   ],
   "source": [
    "# Generate label table\n",
    "label = spark.read.csv(\"label.csv\", header=True)\n",
    "label.printSchema()"
   ]
  },
  {
   "cell_type": "code",
   "execution_count": 30,
   "id": "df04e274-ce65-4f93-90d9-21b0f9938d60",
   "metadata": {},
   "outputs": [
    {
     "name": "stdout",
     "output_type": "stream",
     "text": [
      "root\n",
      " |-- id: string (nullable = true)\n",
      " |-- created_at: string (nullable = true)\n",
      " |-- description: string (nullable = true)\n",
      " |-- entities: struct (nullable = true)\n",
      " |    |-- description: struct (nullable = true)\n",
      " |    |    |-- cashtags: array (nullable = true)\n",
      " |    |    |    |-- element: struct (containsNull = true)\n",
      " |    |    |    |    |-- end: long (nullable = true)\n",
      " |    |    |    |    |-- start: long (nullable = true)\n",
      " |    |    |    |    |-- tag: string (nullable = true)\n",
      " |    |    |-- hashtags: array (nullable = true)\n",
      " |    |    |    |-- element: struct (containsNull = true)\n",
      " |    |    |    |    |-- end: long (nullable = true)\n",
      " |    |    |    |    |-- start: long (nullable = true)\n",
      " |    |    |    |    |-- tag: string (nullable = true)\n",
      " |    |    |-- mentions: array (nullable = true)\n",
      " |    |    |    |-- element: struct (containsNull = true)\n",
      " |    |    |    |    |-- end: long (nullable = true)\n",
      " |    |    |    |    |-- start: long (nullable = true)\n",
      " |    |    |    |    |-- username: string (nullable = true)\n",
      " |    |    |-- urls: array (nullable = true)\n",
      " |    |    |    |-- element: struct (containsNull = true)\n",
      " |    |    |    |    |-- display_url: string (nullable = true)\n",
      " |    |    |    |    |-- end: long (nullable = true)\n",
      " |    |    |    |    |-- expanded_url: string (nullable = true)\n",
      " |    |    |    |    |-- start: long (nullable = true)\n",
      " |    |    |    |    |-- url: string (nullable = true)\n",
      " |    |-- url: struct (nullable = true)\n",
      " |    |    |-- urls: array (nullable = true)\n",
      " |    |    |    |-- element: struct (containsNull = true)\n",
      " |    |    |    |    |-- display_url: string (nullable = true)\n",
      " |    |    |    |    |-- end: long (nullable = true)\n",
      " |    |    |    |    |-- expanded_url: string (nullable = true)\n",
      " |    |    |    |    |-- start: long (nullable = true)\n",
      " |    |    |    |    |-- url: string (nullable = true)\n",
      " |-- location: string (nullable = true)\n",
      " |-- name: string (nullable = true)\n",
      " |-- pinned_tweet_id: long (nullable = true)\n",
      " |-- profile_image_url: string (nullable = true)\n",
      " |-- protected: boolean (nullable = true)\n",
      " |-- public_metrics: struct (nullable = true)\n",
      " |    |-- followers_count: long (nullable = true)\n",
      " |    |-- following_count: long (nullable = true)\n",
      " |    |-- listed_count: long (nullable = true)\n",
      " |    |-- tweet_count: long (nullable = true)\n",
      " |-- url: string (nullable = true)\n",
      " |-- username: string (nullable = true)\n",
      " |-- verified: boolean (nullable = true)\n",
      " |-- withheld: struct (nullable = true)\n",
      " |    |-- country_codes: array (nullable = true)\n",
      " |    |    |-- element: string (containsNull = true)\n",
      " |-- reputation: double (nullable = true)\n",
      " |-- label: string (nullable = true)\n",
      "\n"
     ]
    }
   ],
   "source": [
    "# Joining\n",
    "user_join_label = user.join(label, on=\"id\", how=\"leftouter\")\n",
    "# Note that the schema is having the \"label\" column\n",
    "user_join_label.printSchema()"
   ]
  },
  {
   "cell_type": "markdown",
   "id": "36471460-50c2-4a1e-8aca-f17256f9d175",
   "metadata": {},
   "source": [
    "## 3. Getting started with Machine Learning pipelines"
   ]
  },
  {
   "cell_type": "code",
   "execution_count": 31,
   "id": "d9a17988-547d-4510-912f-f08f91779467",
   "metadata": {},
   "outputs": [
    {
     "name": "stdout",
     "output_type": "stream",
     "text": [
      "root\n",
      " |-- followers_count: long (nullable = true)\n",
      " |-- following_count: long (nullable = true)\n",
      " |-- listed_count: long (nullable = true)\n",
      " |-- tweet_count: long (nullable = true)\n",
      " |-- location: string (nullable = true)\n",
      " |-- label: string (nullable = true)\n",
      "\n"
     ]
    }
   ],
   "source": [
    "# Refactor dataframe since Pipeline does not work with nested structure\n",
    "# We can use wildcard (*) to select all features at lower level\n",
    "user_refactored = user_join_label.select(\"public_metrics.*\", \"location\", \"label\")\n",
    "user_refactored.printSchema()"
   ]
  },
  {
   "cell_type": "code",
   "execution_count": 32,
   "id": "1f3ac892-561d-4a26-84f4-b1fcb961f5fb",
   "metadata": {},
   "outputs": [
    {
     "name": "stdout",
     "output_type": "stream",
     "text": [
      "root\n",
      " |-- followers_count: long (nullable = true)\n",
      " |-- following_count: long (nullable = true)\n",
      " |-- listed_count: long (nullable = true)\n",
      " |-- tweet_count: long (nullable = true)\n",
      " |-- location: string (nullable = true)\n",
      " |-- label_name: string (nullable = true)\n",
      " |-- label_indicator: boolean (nullable = true)\n",
      " |-- label: integer (nullable = true)\n",
      "\n"
     ]
    }
   ],
   "source": [
    "# Rename label column so that indicator can use the name `label`\n",
    "user_refactored = user_refactored.withColumnRenamed(\"label\", \"label_name\")\n",
    "user_refactored = user_refactored.withColumn(\"label_indicator\", user_refactored.label_name == 'bot')\n",
    "user_refactored = user_refactored.withColumn(\"label\", user_refactored.label_indicator.cast(\"integer\"))\n",
    "user_refactored.printSchema()"
   ]
  },
  {
   "cell_type": "code",
   "execution_count": 33,
   "id": "98459475-e432-4e3f-a93c-d20226b31369",
   "metadata": {},
   "outputs": [
    {
     "name": "stderr",
     "output_type": "stream",
     "text": [
      "[Stage 44:=============================================>           (8 + 2) / 10]\r"
     ]
    },
    {
     "name": "stdout",
     "output_type": "stream",
     "text": [
      "+---------------+---------------+------------+-----------+--------------------+----------+---------------+-----+\n",
      "|followers_count|following_count|listed_count|tweet_count|            location|label_name|label_indicator|label|\n",
      "+---------------+---------------+------------+-----------+--------------------+----------+---------------+-----+\n",
      "|           6785|           6390|           4|       5022|Pachuca de Soto, ...|       bot|           true|    1|\n",
      "|            439|            569|           1|        183|  West Lafayette, IN|     human|          false|    0|\n",
      "|           1312|           1288|           2|      42392|                null|     human|          false|    0|\n",
      "|             87|             42|          53|       2625|    India, Bangalore|     human|          false|    0|\n",
      "|             30|            204|           0|        401|       Iowa City, IA|     human|          false|    0|\n",
      "|          15324|           1201|          51|      17298|         God's Earth|     human|          false|    0|\n",
      "|          30610|           2008|          43|      54595|              España|     human|          false|    0|\n",
      "|           3488|            325|          79|        911|   San Francisco, CA|     human|          false|    0|\n",
      "|          62855|            196|          55|       1658|      Ethiopia 🇪🇹 |     human|          false|    0|\n",
      "|          11711|           5882|          12|     101695|       🎄Sempre qui |     human|          false|    0|\n",
      "|          10197|            500|         110|      15008|     Chattanooga, TN|     human|          false|    0|\n",
      "|           5044|           3605|           7|     120575|                null|     human|          false|    0|\n",
      "|           2916|            287|         135|       7125|              Austin|     human|          false|    0|\n",
      "|           6797|           1320|           6|       9273|  Colombia  Te Sigue|     human|          false|    0|\n",
      "|             42|            126|           0|        145|Leipzig, Deutschland|     human|          false|    0|\n",
      "|            246|           2690|           1|        408|         Pune, India|     human|          false|    0|\n",
      "|          11001|            897|         251|      16633|       Washington DC|     human|          false|    0|\n",
      "|              1|            729|           0|        367|                null|     human|          false|    0|\n",
      "|            392|            306|           4|       5694|Perpetually Exhau...|     human|          false|    0|\n",
      "|            150|            218|           0|        376|   San Francisco, CA|     human|          false|    0|\n",
      "+---------------+---------------+------------+-----------+--------------------+----------+---------------+-----+\n",
      "only showing top 20 rows\n",
      "\n"
     ]
    },
    {
     "name": "stderr",
     "output_type": "stream",
     "text": [
      "                                                                                \r"
     ]
    }
   ],
   "source": [
    "user_refactored.show()"
   ]
  },
  {
   "cell_type": "code",
   "execution_count": 34,
   "id": "97514f80-b4b0-4f10-b0ab-3458288d9a1f",
   "metadata": {},
   "outputs": [
    {
     "name": "stderr",
     "output_type": "stream",
     "text": [
      "[Stage 49:=============================================>           (8 + 2) / 10]\r"
     ]
    },
    {
     "name": "stdout",
     "output_type": "stream",
     "text": [
      "+---------------+---------------+------------+-----------+--------------------+----------+---------------+-----+\n",
      "|followers_count|following_count|listed_count|tweet_count|            location|label_name|label_indicator|label|\n",
      "+---------------+---------------+------------+-----------+--------------------+----------+---------------+-----+\n",
      "|           6785|           6390|           4|       5022|Pachuca de Soto, ...|       bot|           true|    1|\n",
      "|            439|            569|           1|        183|  West Lafayette, IN|     human|          false|    0|\n",
      "|             87|             42|          53|       2625|    India, Bangalore|     human|          false|    0|\n",
      "|             30|            204|           0|        401|       Iowa City, IA|     human|          false|    0|\n",
      "|          15324|           1201|          51|      17298|         God's Earth|     human|          false|    0|\n",
      "|          30610|           2008|          43|      54595|              España|     human|          false|    0|\n",
      "|           3488|            325|          79|        911|   San Francisco, CA|     human|          false|    0|\n",
      "|          62855|            196|          55|       1658|      Ethiopia 🇪🇹 |     human|          false|    0|\n",
      "|          11711|           5882|          12|     101695|       🎄Sempre qui |     human|          false|    0|\n",
      "|          10197|            500|         110|      15008|     Chattanooga, TN|     human|          false|    0|\n",
      "|           2916|            287|         135|       7125|              Austin|     human|          false|    0|\n",
      "|           6797|           1320|           6|       9273|  Colombia  Te Sigue|     human|          false|    0|\n",
      "|             42|            126|           0|        145|Leipzig, Deutschland|     human|          false|    0|\n",
      "|            246|           2690|           1|        408|         Pune, India|     human|          false|    0|\n",
      "|          11001|            897|         251|      16633|       Washington DC|     human|          false|    0|\n",
      "|            392|            306|           4|       5694|Perpetually Exhau...|     human|          false|    0|\n",
      "|            150|            218|           0|        376|   San Francisco, CA|     human|          false|    0|\n",
      "|           2563|            458|          60|       2002|          Tucson, AZ|     human|          false|    0|\n",
      "|            843|            840|           1|       3984|           شرق تهران|     human|          false|    0|\n",
      "|          21176|          10197|          37|      46029|           Plymouth |     human|          false|    0|\n",
      "+---------------+---------------+------------+-----------+--------------------+----------+---------------+-----+\n",
      "only showing top 20 rows\n",
      "\n"
     ]
    },
    {
     "name": "stderr",
     "output_type": "stream",
     "text": [
      "                                                                                \r"
     ]
    }
   ],
   "source": [
    "# Remove na columns\n",
    "user_refactored = user_refactored.na.drop(\"any\")\n",
    "user_refactored.show()"
   ]
  },
  {
   "cell_type": "code",
   "execution_count": 35,
   "id": "0ad16016-69ef-433c-9e07-20d4d8b4d93a",
   "metadata": {},
   "outputs": [],
   "source": [
    "# One Hot Encoding\n",
    "from pyspark.ml.feature import StringIndexer, OneHotEncoder, VectorAssembler\n",
    "\n",
    "loc_indexer = StringIndexer(inputCol=\"location\", outputCol=\"location_index\")\n",
    "loc_encoder = OneHotEncoder(inputCol=\"location_index\", outputCol=\"location_fact\")\n",
    "\n",
    "vec_assembler = VectorAssembler(\n",
    "    inputCols=[\n",
    "        \"following_count\",\n",
    "        \"followers_count\",\n",
    "        \"location_fact\",\n",
    "    ],\n",
    "    outputCol=\"features\"\n",
    ")"
   ]
  },
  {
   "cell_type": "code",
   "execution_count": 36,
   "id": "8a92a596-11a5-45fa-bb0f-42b5b3f790fe",
   "metadata": {},
   "outputs": [],
   "source": [
    "# Define a pipeline\n",
    "from pyspark.ml import Pipeline\n",
    "\n",
    "sobog_pipeline = Pipeline(stages=[\n",
    "    loc_indexer,\n",
    "    loc_encoder,\n",
    "    vec_assembler\n",
    "])"
   ]
  },
  {
   "cell_type": "code",
   "execution_count": 37,
   "id": "a9a4109a-2294-4444-8c8e-a0e952160eb7",
   "metadata": {},
   "outputs": [
    {
     "name": "stderr",
     "output_type": "stream",
     "text": [
      "                                                                                \r"
     ]
    },
    {
     "data": {
      "text/plain": [
       "DataFrame[followers_count: bigint, following_count: bigint, listed_count: bigint, tweet_count: bigint, location: string, label_name: string, label_indicator: boolean, label: int, location_index: double, location_fact: vector, features: vector]"
      ]
     },
     "execution_count": 37,
     "metadata": {},
     "output_type": "execute_result"
    }
   ],
   "source": [
    "piped_data = sobog_pipeline.fit(user_refactored).transform(user_refactored)\n",
    "piped_data"
   ]
  },
  {
   "cell_type": "code",
   "execution_count": 38,
   "id": "7570fc1b-bd7e-4507-86bf-de00c715f01c",
   "metadata": {},
   "outputs": [
    {
     "data": {
      "text/plain": [
       "(DataFrame[followers_count: bigint, following_count: bigint, listed_count: bigint, tweet_count: bigint, location: string, label_name: string, label_indicator: boolean, label: int, location_index: double, location_fact: vector, features: vector],\n",
       " DataFrame[followers_count: bigint, following_count: bigint, listed_count: bigint, tweet_count: bigint, location: string, label_name: string, label_indicator: boolean, label: int, location_index: double, location_fact: vector, features: vector])"
      ]
     },
     "execution_count": 38,
     "metadata": {},
     "output_type": "execute_result"
    }
   ],
   "source": [
    "# Train test split\n",
    "training, test = piped_data.randomSplit([0.6, 0.4])\n",
    "training, test"
   ]
  },
  {
   "cell_type": "code",
   "execution_count": 39,
   "id": "1997b784-82ff-4d62-b479-9d997d182655",
   "metadata": {},
   "outputs": [],
   "source": [
    "# Import LogisticRegression\n",
    "from pyspark.ml.classification import LogisticRegression\n",
    "\n",
    "# Create a LogisticRegression Estimator\n",
    "lr = LogisticRegression()"
   ]
  },
  {
   "cell_type": "code",
   "execution_count": 40,
   "id": "ae6bfa9e-21c0-4e64-99a6-ef1befbf3283",
   "metadata": {},
   "outputs": [],
   "source": [
    "# Import the evaluation submodule\n",
    "import pyspark.ml.evaluation as evals\n",
    "\n",
    "# Create a BinaryClassificationEvaluator\n",
    "evaluator = evals.BinaryClassificationEvaluator(metricName=\"areaUnderROC\")"
   ]
  },
  {
   "cell_type": "code",
   "execution_count": 44,
   "id": "de8bf5f2-0e71-4667-8131-830d61d42096",
   "metadata": {},
   "outputs": [],
   "source": [
    "# Make a grid (hyperparameter tuning)\n",
    "# Import the tuning submodule\n",
    "import pyspark.ml.tuning as tune\n",
    "\n",
    "# Create the parameter grid\n",
    "grid = tune.ParamGridBuilder()\n",
    "\n",
    "# Add the hyperparameter\n",
    "grid = grid.addGrid(lr.elasticNetParam, [0, 1])\n",
    "\n",
    "# Build the grid\n",
    "grid = grid.build()"
   ]
  },
  {
   "cell_type": "code",
   "execution_count": 45,
   "id": "a706d2b8-042c-4197-bf12-73f7c2c72f31",
   "metadata": {},
   "outputs": [],
   "source": [
    "# Create the CrossValidator\n",
    "cv = tune.CrossValidator(estimator=lr,\n",
    "               estimatorParamMaps=grid,\n",
    "               evaluator=evaluator)"
   ]
  },
  {
   "cell_type": "code",
   "execution_count": 46,
   "id": "39025ca8-81ba-4b24-b28c-f568513f02e5",
   "metadata": {},
   "outputs": [
    {
     "ename": "ConnectionRefusedError",
     "evalue": "[Errno 61] Connection refused",
     "output_type": "error",
     "traceback": [
      "\u001b[0;31m---------------------------------------------------------------------------\u001b[0m",
      "\u001b[0;31mConnectionRefusedError\u001b[0m                    Traceback (most recent call last)",
      "\u001b[0;32m/var/folders/5g/npr9yj7x0mxfbdzyk2_nyr140000gn/T/ipykernel_6852/3103294026.py\u001b[0m in \u001b[0;36m<module>\u001b[0;34m\u001b[0m\n\u001b[1;32m      1\u001b[0m \u001b[0;31m# Fit cross validation models\u001b[0m\u001b[0;34m\u001b[0m\u001b[0;34m\u001b[0m\u001b[0m\n\u001b[0;32m----> 2\u001b[0;31m \u001b[0mmodels\u001b[0m \u001b[0;34m=\u001b[0m \u001b[0mcv\u001b[0m\u001b[0;34m.\u001b[0m\u001b[0mfit\u001b[0m\u001b[0;34m(\u001b[0m\u001b[0mtraining\u001b[0m\u001b[0;34m)\u001b[0m\u001b[0;34m\u001b[0m\u001b[0;34m\u001b[0m\u001b[0m\n\u001b[0m\u001b[1;32m      3\u001b[0m \u001b[0;34m\u001b[0m\u001b[0m\n\u001b[1;32m      4\u001b[0m \u001b[0;31m# Extract the best model\u001b[0m\u001b[0;34m\u001b[0m\u001b[0;34m\u001b[0m\u001b[0m\n\u001b[1;32m      5\u001b[0m \u001b[0mbest_lr\u001b[0m \u001b[0;34m=\u001b[0m \u001b[0mmodels\u001b[0m\u001b[0;34m.\u001b[0m\u001b[0mbestModel\u001b[0m\u001b[0;34m\u001b[0m\u001b[0;34m\u001b[0m\u001b[0m\n",
      "\u001b[0;32m~/opt/anaconda3/lib/python3.9/site-packages/pyspark/ml/base.py\u001b[0m in \u001b[0;36mfit\u001b[0;34m(self, dataset, params)\u001b[0m\n\u001b[1;32m    203\u001b[0m                 \u001b[0;32mreturn\u001b[0m \u001b[0mself\u001b[0m\u001b[0;34m.\u001b[0m\u001b[0mcopy\u001b[0m\u001b[0;34m(\u001b[0m\u001b[0mparams\u001b[0m\u001b[0;34m)\u001b[0m\u001b[0;34m.\u001b[0m\u001b[0m_fit\u001b[0m\u001b[0;34m(\u001b[0m\u001b[0mdataset\u001b[0m\u001b[0;34m)\u001b[0m\u001b[0;34m\u001b[0m\u001b[0;34m\u001b[0m\u001b[0m\n\u001b[1;32m    204\u001b[0m             \u001b[0;32melse\u001b[0m\u001b[0;34m:\u001b[0m\u001b[0;34m\u001b[0m\u001b[0;34m\u001b[0m\u001b[0m\n\u001b[0;32m--> 205\u001b[0;31m                 \u001b[0;32mreturn\u001b[0m \u001b[0mself\u001b[0m\u001b[0;34m.\u001b[0m\u001b[0m_fit\u001b[0m\u001b[0;34m(\u001b[0m\u001b[0mdataset\u001b[0m\u001b[0;34m)\u001b[0m\u001b[0;34m\u001b[0m\u001b[0;34m\u001b[0m\u001b[0m\n\u001b[0m\u001b[1;32m    206\u001b[0m         \u001b[0;32melse\u001b[0m\u001b[0;34m:\u001b[0m\u001b[0;34m\u001b[0m\u001b[0;34m\u001b[0m\u001b[0m\n\u001b[1;32m    207\u001b[0m             raise TypeError(\n",
      "\u001b[0;32m~/opt/anaconda3/lib/python3.9/site-packages/pyspark/ml/tuning.py\u001b[0m in \u001b[0;36m_fit\u001b[0;34m(self, dataset)\u001b[0m\n\u001b[1;32m    836\u001b[0m             \u001b[0msubModels\u001b[0m \u001b[0;34m=\u001b[0m \u001b[0;34m[\u001b[0m\u001b[0;34m[\u001b[0m\u001b[0;32mNone\u001b[0m \u001b[0;32mfor\u001b[0m \u001b[0mj\u001b[0m \u001b[0;32min\u001b[0m \u001b[0mrange\u001b[0m\u001b[0;34m(\u001b[0m\u001b[0mnumModels\u001b[0m\u001b[0;34m)\u001b[0m\u001b[0;34m]\u001b[0m \u001b[0;32mfor\u001b[0m \u001b[0mi\u001b[0m \u001b[0;32min\u001b[0m \u001b[0mrange\u001b[0m\u001b[0;34m(\u001b[0m\u001b[0mnFolds\u001b[0m\u001b[0;34m)\u001b[0m\u001b[0;34m]\u001b[0m\u001b[0;34m\u001b[0m\u001b[0;34m\u001b[0m\u001b[0m\n\u001b[1;32m    837\u001b[0m \u001b[0;34m\u001b[0m\u001b[0m\n\u001b[0;32m--> 838\u001b[0;31m         \u001b[0mdatasets\u001b[0m \u001b[0;34m=\u001b[0m \u001b[0mself\u001b[0m\u001b[0;34m.\u001b[0m\u001b[0m_kFold\u001b[0m\u001b[0;34m(\u001b[0m\u001b[0mdataset\u001b[0m\u001b[0;34m)\u001b[0m\u001b[0;34m\u001b[0m\u001b[0;34m\u001b[0m\u001b[0m\n\u001b[0m\u001b[1;32m    839\u001b[0m         \u001b[0;32mfor\u001b[0m \u001b[0mi\u001b[0m \u001b[0;32min\u001b[0m \u001b[0mrange\u001b[0m\u001b[0;34m(\u001b[0m\u001b[0mnFolds\u001b[0m\u001b[0;34m)\u001b[0m\u001b[0;34m:\u001b[0m\u001b[0;34m\u001b[0m\u001b[0;34m\u001b[0m\u001b[0m\n\u001b[1;32m    840\u001b[0m             \u001b[0mvalidation\u001b[0m \u001b[0;34m=\u001b[0m \u001b[0mdatasets\u001b[0m\u001b[0;34m[\u001b[0m\u001b[0mi\u001b[0m\u001b[0;34m]\u001b[0m\u001b[0;34m[\u001b[0m\u001b[0;36m1\u001b[0m\u001b[0;34m]\u001b[0m\u001b[0;34m.\u001b[0m\u001b[0mcache\u001b[0m\u001b[0;34m(\u001b[0m\u001b[0;34m)\u001b[0m\u001b[0;34m\u001b[0m\u001b[0;34m\u001b[0m\u001b[0m\n",
      "\u001b[0;32m~/opt/anaconda3/lib/python3.9/site-packages/pyspark/ml/tuning.py\u001b[0m in \u001b[0;36m_kFold\u001b[0;34m(self, dataset)\u001b[0m\n\u001b[1;32m    875\u001b[0m             \u001b[0mh\u001b[0m \u001b[0;34m=\u001b[0m \u001b[0;36m1.0\u001b[0m \u001b[0;34m/\u001b[0m \u001b[0mnFolds\u001b[0m\u001b[0;34m\u001b[0m\u001b[0;34m\u001b[0m\u001b[0m\n\u001b[1;32m    876\u001b[0m             \u001b[0mrandCol\u001b[0m \u001b[0;34m=\u001b[0m \u001b[0mself\u001b[0m\u001b[0;34m.\u001b[0m\u001b[0muid\u001b[0m \u001b[0;34m+\u001b[0m \u001b[0;34m\"_rand\"\u001b[0m\u001b[0;34m\u001b[0m\u001b[0;34m\u001b[0m\u001b[0m\n\u001b[0;32m--> 877\u001b[0;31m             \u001b[0mdf\u001b[0m \u001b[0;34m=\u001b[0m \u001b[0mdataset\u001b[0m\u001b[0;34m.\u001b[0m\u001b[0mselect\u001b[0m\u001b[0;34m(\u001b[0m\u001b[0;34m\"*\"\u001b[0m\u001b[0;34m,\u001b[0m \u001b[0mrand\u001b[0m\u001b[0;34m(\u001b[0m\u001b[0mseed\u001b[0m\u001b[0;34m)\u001b[0m\u001b[0;34m.\u001b[0m\u001b[0malias\u001b[0m\u001b[0;34m(\u001b[0m\u001b[0mrandCol\u001b[0m\u001b[0;34m)\u001b[0m\u001b[0;34m)\u001b[0m\u001b[0;34m\u001b[0m\u001b[0;34m\u001b[0m\u001b[0m\n\u001b[0m\u001b[1;32m    878\u001b[0m             \u001b[0;32mfor\u001b[0m \u001b[0mi\u001b[0m \u001b[0;32min\u001b[0m \u001b[0mrange\u001b[0m\u001b[0;34m(\u001b[0m\u001b[0mnFolds\u001b[0m\u001b[0;34m)\u001b[0m\u001b[0;34m:\u001b[0m\u001b[0;34m\u001b[0m\u001b[0;34m\u001b[0m\u001b[0m\n\u001b[1;32m    879\u001b[0m                 \u001b[0mvalidateLB\u001b[0m \u001b[0;34m=\u001b[0m \u001b[0mi\u001b[0m \u001b[0;34m*\u001b[0m \u001b[0mh\u001b[0m\u001b[0;34m\u001b[0m\u001b[0;34m\u001b[0m\u001b[0m\n",
      "\u001b[0;32m~/opt/anaconda3/lib/python3.9/site-packages/pyspark/sql/functions.py\u001b[0m in \u001b[0;36mrand\u001b[0;34m(seed)\u001b[0m\n\u001b[1;32m   1466\u001b[0m     \"\"\"\n\u001b[1;32m   1467\u001b[0m     \u001b[0;32mif\u001b[0m \u001b[0mseed\u001b[0m \u001b[0;32mis\u001b[0m \u001b[0;32mnot\u001b[0m \u001b[0;32mNone\u001b[0m\u001b[0;34m:\u001b[0m\u001b[0;34m\u001b[0m\u001b[0;34m\u001b[0m\u001b[0m\n\u001b[0;32m-> 1468\u001b[0;31m         \u001b[0;32mreturn\u001b[0m \u001b[0m_invoke_function\u001b[0m\u001b[0;34m(\u001b[0m\u001b[0;34m\"rand\"\u001b[0m\u001b[0;34m,\u001b[0m \u001b[0mseed\u001b[0m\u001b[0;34m)\u001b[0m\u001b[0;34m\u001b[0m\u001b[0;34m\u001b[0m\u001b[0m\n\u001b[0m\u001b[1;32m   1469\u001b[0m     \u001b[0;32melse\u001b[0m\u001b[0;34m:\u001b[0m\u001b[0;34m\u001b[0m\u001b[0;34m\u001b[0m\u001b[0m\n\u001b[1;32m   1470\u001b[0m         \u001b[0;32mreturn\u001b[0m \u001b[0m_invoke_function\u001b[0m\u001b[0;34m(\u001b[0m\u001b[0;34m\"rand\"\u001b[0m\u001b[0;34m)\u001b[0m\u001b[0;34m\u001b[0m\u001b[0;34m\u001b[0m\u001b[0m\n",
      "\u001b[0;32m~/opt/anaconda3/lib/python3.9/site-packages/pyspark/sql/functions.py\u001b[0m in \u001b[0;36m_invoke_function\u001b[0;34m(name, *args)\u001b[0m\n\u001b[1;32m     82\u001b[0m     \"\"\"\n\u001b[1;32m     83\u001b[0m     \u001b[0;32massert\u001b[0m \u001b[0mSparkContext\u001b[0m\u001b[0;34m.\u001b[0m\u001b[0m_active_spark_context\u001b[0m \u001b[0;32mis\u001b[0m \u001b[0;32mnot\u001b[0m \u001b[0;32mNone\u001b[0m\u001b[0;34m\u001b[0m\u001b[0;34m\u001b[0m\u001b[0m\n\u001b[0;32m---> 84\u001b[0;31m     \u001b[0mjf\u001b[0m \u001b[0;34m=\u001b[0m \u001b[0m_get_jvm_function\u001b[0m\u001b[0;34m(\u001b[0m\u001b[0mname\u001b[0m\u001b[0;34m,\u001b[0m \u001b[0mSparkContext\u001b[0m\u001b[0;34m.\u001b[0m\u001b[0m_active_spark_context\u001b[0m\u001b[0;34m)\u001b[0m\u001b[0;34m\u001b[0m\u001b[0;34m\u001b[0m\u001b[0m\n\u001b[0m\u001b[1;32m     85\u001b[0m     \u001b[0;32mreturn\u001b[0m \u001b[0mColumn\u001b[0m\u001b[0;34m(\u001b[0m\u001b[0mjf\u001b[0m\u001b[0;34m(\u001b[0m\u001b[0;34m*\u001b[0m\u001b[0margs\u001b[0m\u001b[0;34m)\u001b[0m\u001b[0;34m)\u001b[0m\u001b[0;34m\u001b[0m\u001b[0;34m\u001b[0m\u001b[0m\n\u001b[1;32m     86\u001b[0m \u001b[0;34m\u001b[0m\u001b[0m\n",
      "\u001b[0;32m~/opt/anaconda3/lib/python3.9/site-packages/pyspark/sql/functions.py\u001b[0m in \u001b[0;36m_get_jvm_function\u001b[0;34m(name, sc)\u001b[0m\n\u001b[1;32m     73\u001b[0m     \"\"\"\n\u001b[1;32m     74\u001b[0m     \u001b[0;32massert\u001b[0m \u001b[0msc\u001b[0m\u001b[0;34m.\u001b[0m\u001b[0m_jvm\u001b[0m \u001b[0;32mis\u001b[0m \u001b[0;32mnot\u001b[0m \u001b[0;32mNone\u001b[0m\u001b[0;34m\u001b[0m\u001b[0;34m\u001b[0m\u001b[0m\n\u001b[0;32m---> 75\u001b[0;31m     \u001b[0;32mreturn\u001b[0m \u001b[0mgetattr\u001b[0m\u001b[0;34m(\u001b[0m\u001b[0msc\u001b[0m\u001b[0;34m.\u001b[0m\u001b[0m_jvm\u001b[0m\u001b[0;34m.\u001b[0m\u001b[0mfunctions\u001b[0m\u001b[0;34m,\u001b[0m \u001b[0mname\u001b[0m\u001b[0;34m)\u001b[0m\u001b[0;34m\u001b[0m\u001b[0;34m\u001b[0m\u001b[0m\n\u001b[0m\u001b[1;32m     76\u001b[0m \u001b[0;34m\u001b[0m\u001b[0m\n\u001b[1;32m     77\u001b[0m \u001b[0;34m\u001b[0m\u001b[0m\n",
      "\u001b[0;32m~/opt/anaconda3/lib/python3.9/site-packages/py4j/java_gateway.py\u001b[0m in \u001b[0;36m__getattr__\u001b[0;34m(self, name)\u001b[0m\n\u001b[1;32m   1707\u001b[0m             \u001b[0;32mreturn\u001b[0m \u001b[0mUserHelpAutoCompletion\u001b[0m\u001b[0;34m(\u001b[0m\u001b[0;34m)\u001b[0m\u001b[0;34m\u001b[0m\u001b[0;34m\u001b[0m\u001b[0m\n\u001b[1;32m   1708\u001b[0m \u001b[0;34m\u001b[0m\u001b[0m\n\u001b[0;32m-> 1709\u001b[0;31m         answer = self._gateway_client.send_command(\n\u001b[0m\u001b[1;32m   1710\u001b[0m             \u001b[0mproto\u001b[0m\u001b[0;34m.\u001b[0m\u001b[0mREFLECTION_COMMAND_NAME\u001b[0m \u001b[0;34m+\u001b[0m\u001b[0;34m\u001b[0m\u001b[0;34m\u001b[0m\u001b[0m\n\u001b[1;32m   1711\u001b[0m             \u001b[0mproto\u001b[0m\u001b[0;34m.\u001b[0m\u001b[0mREFL_GET_UNKNOWN_SUB_COMMAND_NAME\u001b[0m \u001b[0;34m+\u001b[0m \u001b[0mname\u001b[0m \u001b[0;34m+\u001b[0m \u001b[0;34m\"\\n\"\u001b[0m \u001b[0;34m+\u001b[0m \u001b[0mself\u001b[0m\u001b[0;34m.\u001b[0m\u001b[0m_id\u001b[0m \u001b[0;34m+\u001b[0m\u001b[0;34m\u001b[0m\u001b[0;34m\u001b[0m\u001b[0m\n",
      "\u001b[0;32m~/opt/anaconda3/lib/python3.9/site-packages/py4j/java_gateway.py\u001b[0m in \u001b[0;36msend_command\u001b[0;34m(self, command, retry, binary)\u001b[0m\n\u001b[1;32m   1034\u001b[0m          \u001b[0;32mif\u001b[0m\u001b[0;31m \u001b[0m\u001b[0;31m`\u001b[0m\u001b[0mbinary\u001b[0m\u001b[0;31m`\u001b[0m \u001b[0;32mis\u001b[0m\u001b[0;31m \u001b[0m\u001b[0;31m`\u001b[0m\u001b[0;32mTrue\u001b[0m\u001b[0;31m`\u001b[0m\u001b[0;34m.\u001b[0m\u001b[0;34m\u001b[0m\u001b[0;34m\u001b[0m\u001b[0m\n\u001b[1;32m   1035\u001b[0m         \"\"\"\n\u001b[0;32m-> 1036\u001b[0;31m         \u001b[0mconnection\u001b[0m \u001b[0;34m=\u001b[0m \u001b[0mself\u001b[0m\u001b[0;34m.\u001b[0m\u001b[0m_get_connection\u001b[0m\u001b[0;34m(\u001b[0m\u001b[0;34m)\u001b[0m\u001b[0;34m\u001b[0m\u001b[0;34m\u001b[0m\u001b[0m\n\u001b[0m\u001b[1;32m   1037\u001b[0m         \u001b[0;32mtry\u001b[0m\u001b[0;34m:\u001b[0m\u001b[0;34m\u001b[0m\u001b[0;34m\u001b[0m\u001b[0m\n\u001b[1;32m   1038\u001b[0m             \u001b[0mresponse\u001b[0m \u001b[0;34m=\u001b[0m \u001b[0mconnection\u001b[0m\u001b[0;34m.\u001b[0m\u001b[0msend_command\u001b[0m\u001b[0;34m(\u001b[0m\u001b[0mcommand\u001b[0m\u001b[0;34m)\u001b[0m\u001b[0;34m\u001b[0m\u001b[0;34m\u001b[0m\u001b[0m\n",
      "\u001b[0;32m~/opt/anaconda3/lib/python3.9/site-packages/py4j/clientserver.py\u001b[0m in \u001b[0;36m_get_connection\u001b[0;34m(self)\u001b[0m\n\u001b[1;32m    282\u001b[0m \u001b[0;34m\u001b[0m\u001b[0m\n\u001b[1;32m    283\u001b[0m         \u001b[0;32mif\u001b[0m \u001b[0mconnection\u001b[0m \u001b[0;32mis\u001b[0m \u001b[0;32mNone\u001b[0m \u001b[0;32mor\u001b[0m \u001b[0mconnection\u001b[0m\u001b[0;34m.\u001b[0m\u001b[0msocket\u001b[0m \u001b[0;32mis\u001b[0m \u001b[0;32mNone\u001b[0m\u001b[0;34m:\u001b[0m\u001b[0;34m\u001b[0m\u001b[0;34m\u001b[0m\u001b[0m\n\u001b[0;32m--> 284\u001b[0;31m             \u001b[0mconnection\u001b[0m \u001b[0;34m=\u001b[0m \u001b[0mself\u001b[0m\u001b[0;34m.\u001b[0m\u001b[0m_create_new_connection\u001b[0m\u001b[0;34m(\u001b[0m\u001b[0;34m)\u001b[0m\u001b[0;34m\u001b[0m\u001b[0;34m\u001b[0m\u001b[0m\n\u001b[0m\u001b[1;32m    285\u001b[0m         \u001b[0;32mreturn\u001b[0m \u001b[0mconnection\u001b[0m\u001b[0;34m\u001b[0m\u001b[0;34m\u001b[0m\u001b[0m\n\u001b[1;32m    286\u001b[0m \u001b[0;34m\u001b[0m\u001b[0m\n",
      "\u001b[0;32m~/opt/anaconda3/lib/python3.9/site-packages/py4j/clientserver.py\u001b[0m in \u001b[0;36m_create_new_connection\u001b[0;34m(self)\u001b[0m\n\u001b[1;32m    289\u001b[0m             \u001b[0mself\u001b[0m\u001b[0;34m.\u001b[0m\u001b[0mjava_parameters\u001b[0m\u001b[0;34m,\u001b[0m \u001b[0mself\u001b[0m\u001b[0;34m.\u001b[0m\u001b[0mpython_parameters\u001b[0m\u001b[0;34m,\u001b[0m\u001b[0;34m\u001b[0m\u001b[0;34m\u001b[0m\u001b[0m\n\u001b[1;32m    290\u001b[0m             self.gateway_property, self)\n\u001b[0;32m--> 291\u001b[0;31m         \u001b[0mconnection\u001b[0m\u001b[0;34m.\u001b[0m\u001b[0mconnect_to_java_server\u001b[0m\u001b[0;34m(\u001b[0m\u001b[0;34m)\u001b[0m\u001b[0;34m\u001b[0m\u001b[0;34m\u001b[0m\u001b[0m\n\u001b[0m\u001b[1;32m    292\u001b[0m         \u001b[0mself\u001b[0m\u001b[0;34m.\u001b[0m\u001b[0mset_thread_connection\u001b[0m\u001b[0;34m(\u001b[0m\u001b[0mconnection\u001b[0m\u001b[0;34m)\u001b[0m\u001b[0;34m\u001b[0m\u001b[0;34m\u001b[0m\u001b[0m\n\u001b[1;32m    293\u001b[0m         \u001b[0;32mreturn\u001b[0m \u001b[0mconnection\u001b[0m\u001b[0;34m\u001b[0m\u001b[0;34m\u001b[0m\u001b[0m\n",
      "\u001b[0;32m~/opt/anaconda3/lib/python3.9/site-packages/py4j/clientserver.py\u001b[0m in \u001b[0;36mconnect_to_java_server\u001b[0;34m(self)\u001b[0m\n\u001b[1;32m    436\u001b[0m                 self.socket = self.ssl_context.wrap_socket(\n\u001b[1;32m    437\u001b[0m                     self.socket, server_hostname=self.java_address)\n\u001b[0;32m--> 438\u001b[0;31m             \u001b[0mself\u001b[0m\u001b[0;34m.\u001b[0m\u001b[0msocket\u001b[0m\u001b[0;34m.\u001b[0m\u001b[0mconnect\u001b[0m\u001b[0;34m(\u001b[0m\u001b[0;34m(\u001b[0m\u001b[0mself\u001b[0m\u001b[0;34m.\u001b[0m\u001b[0mjava_address\u001b[0m\u001b[0;34m,\u001b[0m \u001b[0mself\u001b[0m\u001b[0;34m.\u001b[0m\u001b[0mjava_port\u001b[0m\u001b[0;34m)\u001b[0m\u001b[0;34m)\u001b[0m\u001b[0;34m\u001b[0m\u001b[0;34m\u001b[0m\u001b[0m\n\u001b[0m\u001b[1;32m    439\u001b[0m             \u001b[0mself\u001b[0m\u001b[0;34m.\u001b[0m\u001b[0mstream\u001b[0m \u001b[0;34m=\u001b[0m \u001b[0mself\u001b[0m\u001b[0;34m.\u001b[0m\u001b[0msocket\u001b[0m\u001b[0;34m.\u001b[0m\u001b[0mmakefile\u001b[0m\u001b[0;34m(\u001b[0m\u001b[0;34m\"rb\"\u001b[0m\u001b[0;34m)\u001b[0m\u001b[0;34m\u001b[0m\u001b[0;34m\u001b[0m\u001b[0m\n\u001b[1;32m    440\u001b[0m             \u001b[0mself\u001b[0m\u001b[0;34m.\u001b[0m\u001b[0mis_connected\u001b[0m \u001b[0;34m=\u001b[0m \u001b[0;32mTrue\u001b[0m\u001b[0;34m\u001b[0m\u001b[0;34m\u001b[0m\u001b[0m\n",
      "\u001b[0;31mConnectionRefusedError\u001b[0m: [Errno 61] Connection refused"
     ]
    }
   ],
   "source": [
    "# Fit cross validation models\n",
    "models = cv.fit(training)\n",
    "\n",
    "# Extract the best model\n",
    "best_lr = models.bestModel"
   ]
  },
  {
   "cell_type": "code",
   "execution_count": null,
   "id": "b32d5983-0239-4351-b9cc-a82ae1a45ecc",
   "metadata": {},
   "outputs": [
    {
     "name": "stderr",
     "output_type": "stream",
     "text": [
      "ERROR:root:Exception while sending command.\n",
      "Traceback (most recent call last):\n",
      "  File \"/Users/mufin/opt/anaconda3/lib/python3.9/site-packages/py4j/clientserver.py\", line 516, in send_command\n",
      "    raise Py4JNetworkError(\"Answer from Java side is empty\")\n",
      "py4j.protocol.Py4JNetworkError: Answer from Java side is empty\n",
      "\n",
      "During handling of the above exception, another exception occurred:\n",
      "\n",
      "Traceback (most recent call last):\n",
      "  File \"/Users/mufin/opt/anaconda3/lib/python3.9/site-packages/py4j/java_gateway.py\", line 1038, in send_command\n",
      "    response = connection.send_command(command)\n",
      "  File \"/Users/mufin/opt/anaconda3/lib/python3.9/site-packages/py4j/clientserver.py\", line 539, in send_command\n",
      "    raise Py4JNetworkError(\n",
      "py4j.protocol.Py4JNetworkError: Error while sending or receiving\n"
     ]
    }
   ],
   "source": [
    "# Use the model to predict the test set\n",
    "test_results = best_lr.transform(test)\n",
    "\n",
    "# Evaluate the predictions\n",
    "print(evaluator.evaluate(test_results))"
   ]
  }
 ],
 "metadata": {
  "kernelspec": {
   "display_name": "Python 3 (ipykernel)",
   "language": "python",
   "name": "python3"
  },
  "language_info": {
   "codemirror_mode": {
    "name": "ipython",
    "version": 3
   },
   "file_extension": ".py",
   "mimetype": "text/x-python",
   "name": "python",
   "nbconvert_exporter": "python",
   "pygments_lexer": "ipython3",
   "version": "3.9.13"
  }
 },
 "nbformat": 4,
 "nbformat_minor": 5
}

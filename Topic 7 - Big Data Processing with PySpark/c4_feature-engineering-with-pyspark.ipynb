{
 "cells": [
  {
   "cell_type": "markdown",
   "id": "f5911b2f-9997-405a-a0f1-0f826ac6549d",
   "metadata": {},
   "source": [
    "# Course 4: Feature Engineering with Pyspark\n",
    "\n",
    "Since most of the theorical aspect is defined in previous course. This course notebook will contain mostly code and the comments will explain how it would do to perform social bot detection problem."
   ]
  },
  {
   "cell_type": "code",
   "execution_count": 1,
   "id": "24dae164-866b-4ab6-88ba-71952b7cb9f2",
   "metadata": {},
   "outputs": [
    {
     "name": "stdout",
     "output_type": "stream",
     "text": [
      "23/04/04 21:26:28 WARN Utils: Your hostname, Mufins-MacBook-Pro.local resolves to a loopback address: 127.0.0.1; using 192.168.1.8 instead (on interface en0)\n",
      "23/04/04 21:26:28 WARN Utils: Set SPARK_LOCAL_IP if you need to bind to another address\n"
     ]
    },
    {
     "name": "stderr",
     "output_type": "stream",
     "text": [
      "Setting default log level to \"WARN\".\n",
      "To adjust logging level use sc.setLogLevel(newLevel). For SparkR, use setLogLevel(newLevel).\n"
     ]
    },
    {
     "name": "stdout",
     "output_type": "stream",
     "text": [
      "23/04/04 21:26:28 WARN NativeCodeLoader: Unable to load native-hadoop library for your platform... using builtin-java classes where applicable\n"
     ]
    }
   ],
   "source": [
    "from pyspark.sql import SparkSession\n",
    "\n",
    "spark = SparkSession.builder.appName('Spark').config(\"spark.driver.memory\", \"10g\").getOrCreate()\n",
    "sc = spark.sparkContext"
   ]
  },
  {
   "cell_type": "code",
   "execution_count": 2,
   "id": "a7232f7c-1557-4aa1-91a9-6208ef084f86",
   "metadata": {},
   "outputs": [
    {
     "name": "stderr",
     "output_type": "stream",
     "text": [
      "                                                                                \r"
     ]
    }
   ],
   "source": [
    "user_df = spark.read.json('user.json')"
   ]
  },
  {
   "cell_type": "code",
   "execution_count": 3,
   "id": "ffcdbc7a-0158-4735-9d73-9433e07c537b",
   "metadata": {},
   "outputs": [
    {
     "name": "stderr",
     "output_type": "stream",
     "text": [
      "                                                                                \r"
     ]
    },
    {
     "data": {
      "text/plain": [
       "1000000"
      ]
     },
     "execution_count": 3,
     "metadata": {},
     "output_type": "execute_result"
    }
   ],
   "source": [
    "# DataFrame.count() for row count\n",
    "user_df.count()"
   ]
  },
  {
   "cell_type": "code",
   "execution_count": 4,
   "id": "b7379ed5-0fc9-4c50-842f-0ab73f22b0a5",
   "metadata": {},
   "outputs": [
    {
     "data": {
      "text/plain": [
       "['created_at',\n",
       " 'description',\n",
       " 'entities',\n",
       " 'id',\n",
       " 'location',\n",
       " 'name',\n",
       " 'pinned_tweet_id',\n",
       " 'profile_image_url',\n",
       " 'protected',\n",
       " 'public_metrics',\n",
       " 'url',\n",
       " 'username',\n",
       " 'verified',\n",
       " 'withheld']"
      ]
     },
     "execution_count": 4,
     "metadata": {},
     "output_type": "execute_result"
    }
   ],
   "source": [
    "# DataFrame.columns for a list of columns\n",
    "user_df.columns"
   ]
  },
  {
   "cell_type": "code",
   "execution_count": 5,
   "id": "b480094c-a94a-4f9b-96a2-e2fad648e9ac",
   "metadata": {},
   "outputs": [
    {
     "data": {
      "text/plain": [
       "14"
      ]
     },
     "execution_count": 5,
     "metadata": {},
     "output_type": "execute_result"
    }
   ],
   "source": [
    "len(user_df.columns)"
   ]
  },
  {
   "cell_type": "code",
   "execution_count": 6,
   "id": "f27055d8-007e-4849-a89e-ff5839fe09a2",
   "metadata": {},
   "outputs": [
    {
     "data": {
      "text/plain": [
       "[('created_at', 'string'),\n",
       " ('description', 'string'),\n",
       " ('entities',\n",
       "  'struct<description:struct<cashtags:array<struct<end:bigint,start:bigint,tag:string>>,hashtags:array<struct<end:bigint,start:bigint,tag:string>>,mentions:array<struct<end:bigint,start:bigint,username:string>>,urls:array<struct<display_url:string,end:bigint,expanded_url:string,start:bigint,url:string>>>,url:struct<urls:array<struct<display_url:string,end:bigint,expanded_url:string,start:bigint,url:string>>>>'),\n",
       " ('id', 'string'),\n",
       " ('location', 'string'),\n",
       " ('name', 'string'),\n",
       " ('pinned_tweet_id', 'bigint'),\n",
       " ('profile_image_url', 'string'),\n",
       " ('protected', 'boolean'),\n",
       " ('public_metrics',\n",
       "  'struct<followers_count:bigint,following_count:bigint,listed_count:bigint,tweet_count:bigint>'),\n",
       " ('url', 'string'),\n",
       " ('username', 'string'),\n",
       " ('verified', 'boolean'),\n",
       " ('withheld', 'struct<country_codes:array<string>>')]"
      ]
     },
     "execution_count": 6,
     "metadata": {},
     "output_type": "execute_result"
    }
   ],
   "source": [
    "# DataFrame.dtypes creates a list of columns and their data types tuples\n",
    "user_df.dtypes"
   ]
  },
  {
   "cell_type": "code",
   "execution_count": 7,
   "id": "cbf54b74-40fa-467a-b8c0-2a06ccf4daaa",
   "metadata": {},
   "outputs": [
    {
     "name": "stderr",
     "output_type": "stream",
     "text": [
      "[Stage 4:====================================================>     (9 + 1) / 10]\r"
     ]
    },
    {
     "name": "stdout",
     "output_type": "stream",
     "text": [
      "+-------+--------------------+--------------------+-------------------+--------------------+--------------------+--------------------+--------------------+------------------+---------------+\n",
      "|summary|          created_at|         description|                 id|            location|                name|     pinned_tweet_id|   profile_image_url|               url|       username|\n",
      "+-------+--------------------+--------------------+-------------------+--------------------+--------------------+--------------------+--------------------+------------------+---------------+\n",
      "|  count|             1000000|             1000000|            1000000|              708458|             1000000|              389865|             1000000|           1000000|        1000000|\n",
      "|   mean|                null|                 NaN|               null|                 NaN|                 NaN|1.332168970129807...|                null|              null|       Infinity|\n",
      "| stddev|                null|                 NaN|               null|                 NaN|                 NaN|2.074637290926564...|                null|              null|            NaN|\n",
      "|    min|1970-01-01 00:00:...|                    |              u1000|\\t San Francisco, CA|                    |                  32|                    |                  |00000000allah10|\n",
      "|    max|2022-03-14 02:42:...|󾓫\\n✟just god ✟\\n...|u999996798793109506|              🫕🐄🍫|󠁴󠁯󠁭󠁡󠁳󠁮󠁯󠁲?...| 1503540631657922561|https://pbs.twimg...|www.smithdoria.com|      zzzzz2811|\n",
      "+-------+--------------------+--------------------+-------------------+--------------------+--------------------+--------------------+--------------------+------------------+---------------+\n",
      "\n"
     ]
    },
    {
     "name": "stderr",
     "output_type": "stream",
     "text": [
      "                                                                                \r"
     ]
    }
   ],
   "source": [
    "# Display summary statistics\n",
    "user_df.describe().show()"
   ]
  },
  {
   "cell_type": "code",
   "execution_count": 8,
   "id": "89ddb8b9-e003-452a-b731-aae6969e26eb",
   "metadata": {},
   "outputs": [
    {
     "name": "stdout",
     "output_type": "stream",
     "text": [
      "root\n",
      " |-- created_at: string (nullable = true)\n",
      " |-- description: string (nullable = true)\n",
      " |-- entities: struct (nullable = true)\n",
      " |    |-- description: struct (nullable = true)\n",
      " |    |    |-- cashtags: array (nullable = true)\n",
      " |    |    |    |-- element: struct (containsNull = true)\n",
      " |    |    |    |    |-- end: long (nullable = true)\n",
      " |    |    |    |    |-- start: long (nullable = true)\n",
      " |    |    |    |    |-- tag: string (nullable = true)\n",
      " |    |    |-- hashtags: array (nullable = true)\n",
      " |    |    |    |-- element: struct (containsNull = true)\n",
      " |    |    |    |    |-- end: long (nullable = true)\n",
      " |    |    |    |    |-- start: long (nullable = true)\n",
      " |    |    |    |    |-- tag: string (nullable = true)\n",
      " |    |    |-- mentions: array (nullable = true)\n",
      " |    |    |    |-- element: struct (containsNull = true)\n",
      " |    |    |    |    |-- end: long (nullable = true)\n",
      " |    |    |    |    |-- start: long (nullable = true)\n",
      " |    |    |    |    |-- username: string (nullable = true)\n",
      " |    |    |-- urls: array (nullable = true)\n",
      " |    |    |    |-- element: struct (containsNull = true)\n",
      " |    |    |    |    |-- display_url: string (nullable = true)\n",
      " |    |    |    |    |-- end: long (nullable = true)\n",
      " |    |    |    |    |-- expanded_url: string (nullable = true)\n",
      " |    |    |    |    |-- start: long (nullable = true)\n",
      " |    |    |    |    |-- url: string (nullable = true)\n",
      " |    |-- url: struct (nullable = true)\n",
      " |    |    |-- urls: array (nullable = true)\n",
      " |    |    |    |-- element: struct (containsNull = true)\n",
      " |    |    |    |    |-- display_url: string (nullable = true)\n",
      " |    |    |    |    |-- end: long (nullable = true)\n",
      " |    |    |    |    |-- expanded_url: string (nullable = true)\n",
      " |    |    |    |    |-- start: long (nullable = true)\n",
      " |    |    |    |    |-- url: string (nullable = true)\n",
      " |-- id: string (nullable = true)\n",
      " |-- location: string (nullable = true)\n",
      " |-- name: string (nullable = true)\n",
      " |-- pinned_tweet_id: long (nullable = true)\n",
      " |-- profile_image_url: string (nullable = true)\n",
      " |-- protected: boolean (nullable = true)\n",
      " |-- public_metrics: struct (nullable = true)\n",
      " |    |-- followers_count: long (nullable = true)\n",
      " |    |-- following_count: long (nullable = true)\n",
      " |    |-- listed_count: long (nullable = true)\n",
      " |    |-- tweet_count: long (nullable = true)\n",
      " |-- url: string (nullable = true)\n",
      " |-- username: string (nullable = true)\n",
      " |-- verified: boolean (nullable = true)\n",
      " |-- withheld: struct (nullable = true)\n",
      " |    |-- country_codes: array (nullable = true)\n",
      " |    |    |-- element: string (containsNull = true)\n",
      "\n"
     ]
    }
   ],
   "source": [
    "# For semi-structured data, printSchema() provides a more flexible way to visualize\n",
    "# the schema\n",
    "user_df.printSchema()"
   ]
  },
  {
   "cell_type": "code",
   "execution_count": 9,
   "id": "ccb9d7ec-1e81-4bfc-928d-4d09a873a17a",
   "metadata": {},
   "outputs": [
    {
     "name": "stderr",
     "output_type": "stream",
     "text": [
      "                                                                                \r"
     ]
    },
    {
     "data": {
      "text/plain": [
       "[Row(avg(public_metrics.followers_count AS followers_count)=41230.145237)]"
      ]
     },
     "execution_count": 9,
     "metadata": {},
     "output_type": "execute_result"
    }
   ],
   "source": [
    "# Aggregation\n",
    "user_df.agg({\n",
    "    'public_metrics.followers_count': 'mean'\n",
    "}).collect()"
   ]
  },
  {
   "cell_type": "code",
   "execution_count": 10,
   "id": "fac40939-5783-445a-906c-e13d3115d5f7",
   "metadata": {},
   "outputs": [
    {
     "name": "stderr",
     "output_type": "stream",
     "text": [
      "                                                                                \r"
     ]
    },
    {
     "data": {
      "text/plain": [
       "502526698.4296811"
      ]
     },
     "execution_count": 10,
     "metadata": {},
     "output_type": "execute_result"
    }
   ],
   "source": [
    "# Get covariance of 2 attributes\n",
    "user_df.cov('public_metrics.followers_count', 'public_metrics.following_count')"
   ]
  },
  {
   "cell_type": "code",
   "execution_count": 11,
   "id": "2c56da3f-9529-4cb7-b916-5ca7af77cf63",
   "metadata": {},
   "outputs": [
    {
     "name": "stderr",
     "output_type": "stream",
     "text": [
      "                                                                                \r"
     ]
    },
    {
     "data": {
      "text/plain": [
       "50162"
      ]
     },
     "execution_count": 11,
     "metadata": {},
     "output_type": "execute_result"
    }
   ],
   "source": [
    "# Sample 5% of the Pyspark DataFrame and count rows\n",
    "# 3 arguments: with_replacement, proportion, random seed\n",
    "user_df.sample(False, 0.05, 42).count()"
   ]
  },
  {
   "cell_type": "code",
   "execution_count": 12,
   "id": "6348bcd9-c8d6-4136-9573-e99827000f2a",
   "metadata": {},
   "outputs": [
    {
     "name": "stderr",
     "output_type": "stream",
     "text": [
      "                                                                                \r"
     ]
    },
    {
     "data": {
      "text/plain": [
       "<seaborn.axisgrid.FacetGrid at 0x7f7eb01f5a30>"
      ]
     },
     "execution_count": 12,
     "metadata": {},
     "output_type": "execute_result"
    },
    {
     "data": {
      "image/png": "[encoded data removed]",
      "text/plain": [
       "<Figure size 500x500 with 1 Axes>"
      ]
     },
     "metadata": {},
     "output_type": "display_data"
    }
   ],
   "source": [
    "# Prepping for plotting a distribution\n",
    "\n",
    "# Import the visualization library\n",
    "import seaborn as sns\n",
    "\n",
    "# Sample the dataframe\n",
    "sample_df = user_df.select([\n",
    "    'public_metrics.tweet_count',\n",
    "    'public_metrics.followers_count'\n",
    "]).sample(False, 0.5, 42)\n",
    "\n",
    "# Convert the sample to a Pandas DataFrame\n",
    "pandas_df = sample_df.toPandas()\n",
    "\n",
    "# Plot it\n",
    "sns.lmplot(x='tweet_count', y='followers_count', data=pandas_df)"
   ]
  },
  {
   "cell_type": "code",
   "execution_count": 13,
   "id": "bb4d22ee-2477-46c6-ab55-91b0515478a9",
   "metadata": {},
   "outputs": [
    {
     "name": "stderr",
     "output_type": "stream",
     "text": [
      "                                                                                \r"
     ]
    }
   ],
   "source": [
    "# Standardization example\n",
    "mean_followers_count = user_df.agg({\n",
    "    'public_metrics.followers_count': 'mean'\n",
    "}).collect()[0][0]\n",
    "stddev_followers_count = user_df.agg({\n",
    "    'public_metrics.followers_count': 'stddev'\n",
    "}).collect()[0][0]\n",
    "\n",
    "user_df = user_df.withColumn(\n",
    "    \"ztrans_followers_count\",\n",
    "    (user_df[\"public_metrics.followers_count\"] - mean_followers_count) / stddev_followers_count\n",
    ")"
   ]
  },
  {
   "cell_type": "code",
   "execution_count": 14,
   "id": "fe201d9b-80b5-4f22-93ae-70127eef3da4",
   "metadata": {},
   "outputs": [
    {
     "name": "stderr",
     "output_type": "stream",
     "text": [
      "                                                                                \r"
     ]
    },
    {
     "data": {
      "text/plain": [
       "[Row(avg(ztrans_followers_count)=1.3261969633582283e-14)]"
      ]
     },
     "execution_count": 14,
     "metadata": {},
     "output_type": "execute_result"
    }
   ],
   "source": [
    "# Confirm that the new column has mean of 0\n",
    "user_df.agg({\"ztrans_followers_count\": \"mean\"}).collect()"
   ]
  },
  {
   "cell_type": "code",
   "execution_count": 15,
   "id": "96e6a842-6925-4bae-bc93-a0075607bcf0",
   "metadata": {},
   "outputs": [
    {
     "name": "stderr",
     "output_type": "stream",
     "text": [
      "                                                                                \r"
     ]
    },
    {
     "data": {
      "text/plain": [
       "[Row(stddev(ztrans_followers_count)=0.9999999999999997)]"
      ]
     },
     "execution_count": 15,
     "metadata": {},
     "output_type": "execute_result"
    }
   ],
   "source": [
    "# and standard deviation of 1\n",
    "user_df.agg({\"ztrans_followers_count\": \"stddev\"}).collect()"
   ]
  },
  {
   "cell_type": "code",
   "execution_count": 16,
   "id": "de7e55e3-0fd8-438a-b6b5-40f9459f2e0d",
   "metadata": {},
   "outputs": [
    {
     "name": "stderr",
     "output_type": "stream",
     "text": [
      "                                                                                \r"
     ]
    },
    {
     "data": {
      "text/plain": [
       "[Row(log_followers_count=8.897819009510757),\n",
       " Row(log_followers_count=4.812184355372417),\n",
       " Row(log_followers_count=1.0986122886681096),\n",
       " Row(log_followers_count=5.857933154483459),\n",
       " Row(log_followers_count=5.480638923341991),\n",
       " Row(log_followers_count=0.0),\n",
       " Row(log_followers_count=12.381092610462607),\n",
       " Row(log_followers_count=5.081404364984463),\n",
       " Row(log_followers_count=9.239802082125802),\n",
       " Row(log_followers_count=5.37989735354046)]"
      ]
     },
     "execution_count": 16,
     "metadata": {},
     "output_type": "execute_result"
    }
   ],
   "source": [
    "# Log scaling\n",
    "from pyspark.sql.functions import log\n",
    "\n",
    "user_df = user_df.withColumn('log_followers_count', log(user_df['public_metrics.followers_count']))\n",
    "user_df.select(['log_followers_count']).collect()[:10]"
   ]
  },
  {
   "cell_type": "code",
   "execution_count": 17,
   "id": "b0888ccc-e745-46a1-aacc-37d4cdb2407b",
   "metadata": {},
   "outputs": [],
   "source": [
    "def min_max_scaler(df, cols_to_scale):\n",
    "    # Takes a dataframe and list of columns to minmax scale. Returns a dataframe.\n",
    "    for col in cols_to_scale:\n",
    "        # Define min and max values and collect them\n",
    "        max_days = df.agg({col: 'max'}).collect()[0][0]\n",
    "        min_days = df.agg({col: 'min'}).collect()[0][0]\n",
    "        new_column_name = 'scaled_' + col.split('.')[-1]\n",
    "        # Create a new column based off the scaled data\n",
    "        df = df.withColumn(new_column_name, \n",
    "                      (df[col] - min_days) / (max_days - min_days))\n",
    "    return df"
   ]
  },
  {
   "cell_type": "code",
   "execution_count": 18,
   "id": "ff2dc982-8eec-4b30-b69a-ddf4e02f8f96",
   "metadata": {},
   "outputs": [
    {
     "name": "stderr",
     "output_type": "stream",
     "text": [
      "[Stage 35:>                                                         (0 + 1) / 1]\r"
     ]
    },
    {
     "name": "stdout",
     "output_type": "stream",
     "text": [
      "+---------------+----------------------+\n",
      "|following_count|scaled_following_count|\n",
      "+---------------+----------------------+\n",
      "|            215|  5.166988662184925E-5|\n",
      "|           1090|  2.619543089200729...|\n",
      "|             62|  1.490015335141699...|\n",
      "|            577|  1.386675561898001E-4|\n",
      "|            297|  7.137654105436849E-5|\n",
      "|            378|  9.084287043283263E-5|\n",
      "|            293|  7.041524083814805E-5|\n",
      "|            278|  6.681036502732135E-5|\n",
      "|           2166|  5.205440670833743E-4|\n",
      "|            233|  5.599573759484128E-5|\n",
      "|            136|  3.268420735149533...|\n",
      "|            154|  3.701005832448737E-5|\n",
      "|            393|  9.444774624365933E-5|\n",
      "|            241|  5.791833802728218E-5|\n",
      "|           1302|  3.129032203797568E-4|\n",
      "|            990|  2.379218035145616...|\n",
      "|           1206|  2.898320151904660...|\n",
      "|           1688|  4.056686912450304E-4|\n",
      "|           4739|  0.001138900431167...|\n",
      "|            587|  1.410708067303512E-4|\n",
      "+---------------+----------------------+\n",
      "only showing top 20 rows\n",
      "\n"
     ]
    },
    {
     "name": "stderr",
     "output_type": "stream",
     "text": [
      "                                                                                \r"
     ]
    }
   ],
   "source": [
    "user_df = min_max_scaler(user_df, cols_to_scale=[\n",
    "    'public_metrics.following_count'\n",
    "])\n",
    "user_df[['public_metrics.following_count', 'scaled_following_count']].show()"
   ]
  },
  {
   "cell_type": "code",
   "execution_count": 19,
   "id": "13b51ea7-63bf-44aa-a058-d12876312f59",
   "metadata": {},
   "outputs": [],
   "source": [
    "def column_dropper(df, threshold):\n",
    "    # Takes a dataframe and threshold for missing values. Returns a dataframe.\n",
    "    total_records = df.count()\n",
    "    for col in df.columns:\n",
    "        # Calculate the percentage of missing values\n",
    "        missing = df.where(df[col].isNull()).count()\n",
    "        missing_percent = missing / total_records\n",
    "        # Drop column if percent of missing is more than threshold\n",
    "        if missing_percent > threshold:\n",
    "            df = df.drop(col)\n",
    "    return df"
   ]
  },
  {
   "cell_type": "code",
   "execution_count": 20,
   "id": "7b19f7af-4e49-499d-8bd5-0edf44549fda",
   "metadata": {},
   "outputs": [
    {
     "data": {
      "text/plain": [
       "17"
      ]
     },
     "execution_count": 20,
     "metadata": {},
     "output_type": "execute_result"
    }
   ],
   "source": [
    "len(user_df.columns)"
   ]
  },
  {
   "cell_type": "code",
   "execution_count": 21,
   "id": "a058fa0a-e2c0-4c14-96f5-8d56b63f9be3",
   "metadata": {},
   "outputs": [
    {
     "name": "stderr",
     "output_type": "stream",
     "text": [
      "                                                                                \r"
     ]
    },
    {
     "data": {
      "text/plain": [
       "14"
      ]
     },
     "execution_count": 21,
     "metadata": {},
     "output_type": "execute_result"
    }
   ],
   "source": [
    "user_df = column_dropper(user_df, 0.3)\n",
    "len(user_df.columns)"
   ]
  },
  {
   "cell_type": "code",
   "execution_count": 26,
   "id": "8f5c9165-2738-4e8e-86c1-f3dec6133c48",
   "metadata": {},
   "outputs": [
    {
     "name": "stdout",
     "output_type": "stream",
     "text": [
      "root\n",
      " |-- created_at: string (nullable = true)\n",
      " |-- description: string (nullable = true)\n",
      " |-- id: string (nullable = true)\n",
      " |-- location: string (nullable = true)\n",
      " |-- name: string (nullable = true)\n",
      " |-- profile_image_url: string (nullable = true)\n",
      " |-- protected: boolean (nullable = true)\n",
      " |-- public_metrics: struct (nullable = true)\n",
      " |    |-- followers_count: long (nullable = true)\n",
      " |    |-- following_count: long (nullable = true)\n",
      " |    |-- listed_count: long (nullable = true)\n",
      " |    |-- tweet_count: long (nullable = true)\n",
      " |-- url: string (nullable = true)\n",
      " |-- username: string (nullable = true)\n",
      " |-- verified: boolean (nullable = true)\n",
      " |-- ztrans_followers_count: double (nullable = true)\n",
      " |-- log_followers_count: double (nullable = true)\n",
      " |-- scaled_following_count: double (nullable = true)\n",
      " |-- id: string (nullable = true)\n",
      " |-- label: string (nullable = true)\n",
      "\n"
     ]
    }
   ],
   "source": [
    "label_df = spark.read.csv('label.csv', header=True, inferSchema=True)\n",
    "\n",
    "# Specify join condition\n",
    "cond = label_df['id'] == user_df['id']\n",
    "# Join 2 hdf onto df\n",
    "full_df = user_df.join(label_df, on=cond, how='left')\n",
    "full_df.printSchema()"
   ]
  },
  {
   "cell_type": "code",
   "execution_count": null,
   "id": "9c3e04ac-2be0-4bbe-a92d-68eb8079ba12",
   "metadata": {},
   "outputs": [],
   "source": []
  }
 ],
 "metadata": {
  "kernelspec": {
   "display_name": "Python 3 (ipykernel)",
   "language": "python",
   "name": "python3"
  },
  "language_info": {
   "codemirror_mode": {
    "name": "ipython",
    "version": 3
   },
   "file_extension": ".py",
   "mimetype": "text/x-python",
   "name": "python",
   "nbconvert_exporter": "python",
   "pygments_lexer": "ipython3",
   "version": "3.9.13"
  }
 },
 "nbformat": 4,
 "nbformat_minor": 5
}

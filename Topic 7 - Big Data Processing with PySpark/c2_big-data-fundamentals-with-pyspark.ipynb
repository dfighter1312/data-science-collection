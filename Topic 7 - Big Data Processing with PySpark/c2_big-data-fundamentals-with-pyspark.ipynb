{
 "cells": [
  {
   "cell_type": "markdown",
   "id": "52e6315a-f59a-4256-b449-71a6ed8b92a8",
   "metadata": {},
   "source": [
    "# Course 2: Big Data Fundamental with PySpark"
   ]
  },
  {
   "cell_type": "markdown",
   "id": "0cd78fab-c942-49b1-9e95-380f5a0a07b9",
   "metadata": {},
   "source": [
    "## 1. What is Big Data?\n",
    "\n",
    "There is no single definition of Big Data because projects, vendors, practitioners, and business professionals use it quite differently.\n",
    "\n",
    "*\"Big data is a term used to refer to the study and applications of datasets that are too complex for tranditional data processing software\"* - Wikipedia.\n",
    "\n",
    "### The 3 V's of Big Data\n",
    "\n",
    "- **Volume**: size of data.\n",
    "- **Variety**: different sources and formats of data.\n",
    "- **Velocity**: the speed at which data is generated and available for processing.\n",
    "\n",
    "### Big Data concepts and terminology\n",
    "\n",
    "- **Clustered computing**: pooling of resources of multiple machines to complete jobs.\n",
    "- **Parallel computing**: a type of computation in which many calculations are carried out simultaneously.\n",
    "- **Distributed computing**: involves nodes or networked computers that run jobs in parallel.\n",
    "- **Batch processing**: breaking data into smaller pieces and running each piece on an individual machine.\n",
    "- **Real-time processing**: demands that information is processed and made ready immediately.\n",
    "\n",
    "### Big Data processing systems\n",
    "\n",
    "**1. Hadoop/MapReduce framework**\n",
    "\n",
    "- An open source and scalable framework for batch data.\n",
    "\n",
    "**2. Apache Spark**\n",
    "\n",
    "- A parallel framework for storing and processing of Big Data across clustered computers.\n",
    "- Suited for both batch and real-time data processing.\n",
    "\n",
    "### More about Apache Spark\n",
    "\n",
    "- **Main features:**\n",
    "    - Distributes data and computation across multiple computers executing complex multi-stage applications (e.g., ML).\n",
    "    - Runs most computations in memory and thereby provides better performance for applications such as interactive data mining.\n",
    "    - Lightning fast data processing framework.\n",
    "    - Provides support for Java, Scala, Python, R and SQL.\n",
    "- **Components:**\n",
    "    - Spark Core: contains the basic functionality of Spark. The rest of Spark's libraries are built on top of it.\n",
    "    - Spark SQL: processing structured/semi-structured data in Python, Java, and Scala.\n",
    "    - MLlib: library of common ML algorithms.\n",
    "    - GraphX: a collection of algorithms and tools for manipulating graphs and performing parallel graph computations.\n",
    "    - Spark Streaming: scalable, high-throughput processing library for real-time data.\n",
    "- **Spark modes of deployment:**\n",
    "    - Local: run on a single machine, convenient for testing, debugging and demomstration purposes.\n",
    "    - Cluster: Spark is run on a cluster."
   ]
  },
  {
   "cell_type": "markdown",
   "id": "b151b351-271f-4ff1-a0cd-27fb9dfe2ce2",
   "metadata": {},
   "source": [
    "## 2. PySpark: Spark with Python\n",
    "\n",
    "### What is Spark shell?\n",
    "\n",
    "- Interactive environment for running Spark jobs.\n",
    "- Helpful for fast interactive prototyping.\n",
    "- Spark's shells allow interacting with data on disk or in memory.\n",
    "\n",
    "### SparkContext\n",
    "\n",
    "- An entry point to Spark cluster."
   ]
  },
  {
   "cell_type": "code",
   "execution_count": 2,
   "id": "3d91a4c6-56d4-41c6-b5ac-d1a827a4f370",
   "metadata": {},
   "outputs": [
    {
     "data": {
      "text/html": [
       "\n",
       "            <div>\n",
       "                <p><b>SparkSession - in-memory</b></p>\n",
       "                \n",
       "        <div>\n",
       "            <p><b>SparkContext</b></p>\n",
       "\n",
       "            <p><a href=\"http://192.168.1.23:4041\">Spark UI</a></p>\n",
       "\n",
       "            <dl>\n",
       "              <dt>Version</dt>\n",
       "                <dd><code>v3.3.2</code></dd>\n",
       "              <dt>Master</dt>\n",
       "                <dd><code>local[*]</code></dd>\n",
       "              <dt>AppName</dt>\n",
       "                <dd><code>Spark</code></dd>\n",
       "            </dl>\n",
       "        </div>\n",
       "        \n",
       "            </div>\n",
       "        "
      ],
      "text/plain": [
       "<pyspark.sql.session.SparkSession at 0x7ff1804d1d30>"
      ]
     },
     "execution_count": 2,
     "metadata": {},
     "output_type": "execute_result"
    }
   ],
   "source": [
    "from pyspark.sql import SparkSession\n",
    "\n",
    "# Create SparkSession from builder\n",
    "# If the sample data you work with is small, you can remove the `.config` call\n",
    "spark = SparkSession.builder.appName('Spark').config(\"spark.driver.memory\", \"15g\").getOrCreate()\n",
    "spark"
   ]
  },
  {
   "cell_type": "code",
   "execution_count": 3,
   "id": "b95cd8cc-2fd1-436c-8c98-a3fc1db85c28",
   "metadata": {},
   "outputs": [
    {
     "data": {
      "text/html": [
       "\n",
       "        <div>\n",
       "            <p><b>SparkContext</b></p>\n",
       "\n",
       "            <p><a href=\"http://192.168.1.23:4041\">Spark UI</a></p>\n",
       "\n",
       "            <dl>\n",
       "              <dt>Version</dt>\n",
       "                <dd><code>v3.3.2</code></dd>\n",
       "              <dt>Master</dt>\n",
       "                <dd><code>local[*]</code></dd>\n",
       "              <dt>AppName</dt>\n",
       "                <dd><code>Spark</code></dd>\n",
       "            </dl>\n",
       "        </div>\n",
       "        "
      ],
      "text/plain": [
       "<SparkContext master=local[*] appName=Spark>"
      ]
     },
     "execution_count": 3,
     "metadata": {},
     "output_type": "execute_result"
    }
   ],
   "source": [
    "# Get SparkContext\n",
    "sc = spark.sparkContext\n",
    "sc"
   ]
  },
  {
   "cell_type": "code",
   "execution_count": 4,
   "id": "c1a7ed3b-db90-4289-8a54-de4a46c38077",
   "metadata": {},
   "outputs": [
    {
     "name": "stdout",
     "output_type": "stream",
     "text": [
      "The version of Spark Context in the PySpark shell is 3.3.2\n",
      "The Python version of Spark Context in the PySpark shell is 3.9\n",
      "The master of Spark Context in the PySpark shell is local[*]\n"
     ]
    }
   ],
   "source": [
    "# Print the version of SparkContext\n",
    "print(\"The version of Spark Context in the PySpark shell is\", sc.version)\n",
    "\n",
    "# Print the Python version of SparkContext\n",
    "print(\"The Python version of Spark Context in the PySpark shell is\", sc.pythonVer)\n",
    "\n",
    "# Print the master of SparkContext\n",
    "print(\"The master of Spark Context in the PySpark shell is\", sc.master)"
   ]
  },
  {
   "cell_type": "code",
   "execution_count": 5,
   "id": "6c5a7d2c-c784-4da8-a425-6f422fad5381",
   "metadata": {},
   "outputs": [],
   "source": [
    "# Create a Python list of numbers from 1 to 100 \n",
    "numb = range(1, 100)\n",
    "\n",
    "# Load the list into PySpark  \n",
    "spark_data = sc.parallelize(numb)"
   ]
  },
  {
   "cell_type": "code",
   "execution_count": 6,
   "id": "2e39723e-4f25-4db1-a796-5bd66073e56e",
   "metadata": {},
   "outputs": [],
   "source": [
    "# Load a local file into PySpark shell\n",
    "file_path = \"./README.md\"\n",
    "lines = sc.textFile(file_path)"
   ]
  },
  {
   "cell_type": "markdown",
   "id": "fbccdd42-6dcd-40fc-a8ab-5851d20f5f76",
   "metadata": {},
   "source": [
    "## 3. Abstracting Data with RDDs\n",
    "\n",
    "### What is RDD?\n",
    "\n",
    "RDD (Resilient Distributed Datasets) is a collection of data distributed across the cluster. RDD is the fundamental and backbone data type in PySpark. When Spark starts processing data, it divides that data into partitions and distributes the data across cluster nodes, with each node containing a slice of data.\n",
    "\n",
    "### Decomposing RDDs\n",
    "\n",
    "- **Resilient**: the ability to withstand failures and recomputing missing or damaged partitions.\n",
    "- **Distributed**: spanning the jobs across multiple nodes for efficient computation.\n",
    "- **Datasets**: collection of partitioned data.\n",
    "\n",
    "### Creating RDDs\n",
    "\n",
    "- Use `sc.parallelize(<list, array or set, i.e., iterable>)`\n",
    "- Load data from external datasets (files stored in HDFS, objects in S3 buckets, lines in a local text file): `sc.textFile()`\n",
    "\n",
    "### Partitioning in PySpark\n",
    "\n",
    "- A partition is a logical division of a large distributed dataset.\n",
    "- Number of partitions can be set in `minPartitions` argument in either `parallelize()` and `textFile()` method, and can be found in an RDD using `<rdd>.getNumPartitions()` method."
   ]
  },
  {
   "cell_type": "code",
   "execution_count": 7,
   "id": "9d54e739-914e-4c2e-b190-684ec82a1c1f",
   "metadata": {},
   "outputs": [
    {
     "name": "stdout",
     "output_type": "stream",
     "text": [
      "The type of RDD is <class 'pyspark.rdd.RDD'>\n"
     ]
    }
   ],
   "source": [
    "# Create an RDD from a list of words\n",
    "RDD = sc.parallelize([\"Spark\", \"is\", \"a\", \"framework\", \"for\", \"Big Data processing\"])\n",
    "\n",
    "# Print out the type of the created object\n",
    "print(\"The type of RDD is\", type(RDD))"
   ]
  },
  {
   "cell_type": "code",
   "execution_count": 8,
   "id": "c0013a88-bd1e-4b31-97ae-14c93151911f",
   "metadata": {},
   "outputs": [
    {
     "name": "stdout",
     "output_type": "stream",
     "text": [
      "The file_path is ./README.md\n",
      "The file type of fileRDD is <class 'pyspark.rdd.RDD'>\n"
     ]
    }
   ],
   "source": [
    "# Print the file_path\n",
    "print(\"The file_path is\", file_path)\n",
    "\n",
    "# Create a fileRDD from file_path\n",
    "fileRDD = sc.textFile(file_path)\n",
    "\n",
    "# Check the type of fileRDD\n",
    "print(\"The file type of fileRDD is\", type(fileRDD))"
   ]
  },
  {
   "cell_type": "code",
   "execution_count": 9,
   "id": "df5bd593-ac9b-44b5-a4cc-19651b5ede09",
   "metadata": {},
   "outputs": [
    {
     "name": "stdout",
     "output_type": "stream",
     "text": [
      "Number of partitions in fileRDD is 2\n",
      "Number of partitions in fileRDD_part is 5\n"
     ]
    }
   ],
   "source": [
    "# Check the number of partitions in fileRDD\n",
    "print(\"Number of partitions in fileRDD is\", fileRDD.getNumPartitions())\n",
    "\n",
    "# Create a fileRDD_part from file_path with 5 partitions\n",
    "fileRDD_part = sc.textFile(file_path, minPartitions = 5)\n",
    "\n",
    "# Check the number of partitions in fileRDD_part\n",
    "print(\"Number of partitions in fileRDD_part is\", fileRDD_part.getNumPartitions())"
   ]
  },
  {
   "cell_type": "markdown",
   "id": "04225d83-6e15-4931-871f-90b1f1b218a1",
   "metadata": {},
   "source": [
    "## 4. Basic RDD Transformations and Actions\n",
    "\n",
    "2 different types of operations in PySpark are *Transformations* and *Actions*.\n",
    "\n",
    "### Transformations\n",
    "\n",
    "- Returns a new RDD.\n",
    "- The most important feature which helps RDDs in fault tolerance and optimizing resource use is the lazy evaluation (i.e., create a graph from all the operations performed on an RDD and execution of the graph starts only when an action is performed on RDD).\n",
    "- Basic transformations:\n",
    "    - `map()`: applies a function to all elements in the RDD.\n",
    "    - `filter()`: returns a new RDD with only the elements that pass the condition.\n",
    "    - `flatMap()`: returns multiple values for each element in the original RDD.\n",
    "    - `union()`: combine RDDs.\n",
    "    \n",
    "### Actions\n",
    "\n",
    "- Return a value after running a computation on the RDD.\n",
    "- Basic actions:\n",
    "    - `collect()`: returns all the elements of the dataset as an array.\n",
    "    - `take(N)`: return an array with the first `N` elements of the dataset.\n",
    "    - `first()`: prints the first element of the RDD.\n",
    "    - `count()`: returns the number of elements in the RDD."
   ]
  },
  {
   "cell_type": "code",
   "execution_count": 10,
   "id": "329816ff-6fa6-4fe9-9a06-416795eda35f",
   "metadata": {},
   "outputs": [
    {
     "name": "stderr",
     "output_type": "stream",
     "text": [
      "                                                                                \r"
     ]
    },
    {
     "name": "stdout",
     "output_type": "stream",
     "text": [
      "0\n",
      "1\n",
      "8\n",
      "27\n",
      "64\n",
      "125\n",
      "216\n",
      "343\n",
      "512\n",
      "729\n"
     ]
    }
   ],
   "source": [
    "# Create a numbRDD\n",
    "numbRDD = sc.parallelize([i for i in range(10)])\n",
    "\n",
    "# Create map() transformation to cube numbers\n",
    "cubedRDD = numbRDD.map(lambda x: x ** 3)\n",
    "\n",
    "# Collect the results\n",
    "numbers_all = cubedRDD.collect()\n",
    "\n",
    "# Print the numbers from numbers_all\n",
    "for numb in numbers_all:\n",
    "    print(numb)"
   ]
  },
  {
   "cell_type": "code",
   "execution_count": 11,
   "id": "6903730a-e754-4ea4-8bfd-5e31b1d0e461",
   "metadata": {},
   "outputs": [
    {
     "name": "stdout",
     "output_type": "stream",
     "text": [
      "The total number of lines with the keyword Spark is 5\n",
      "The TwiBot-22 Twitter bot detection benchmark contains `tweet_i.json` (with i from 0 to 8), `user.json`, `list.json`, `hashtag.json`, `split.csv`, `label.csv` and `edge.csv`, representing the four entity types (tweet, user, list, and hashtag), train/dev/test split, ground-truth labels, and edges in the TwiBot-22 network.\n",
      "### `tweet_i.json`\n",
      "This file contains tweet information. The field of each tweet is identical with what is retrievable with the Twitter API.\n",
      "The tweet information of TwiBot-22 is too big for a single file, so we use `tweet_0.json` to `tweet_8.json` to store them.\n"
     ]
    }
   ],
   "source": [
    "# Filter the fileRDD to select lines with Spark keyword\n",
    "fileRDD_filter = fileRDD.filter(lambda line: 'tweet' in line)\n",
    "\n",
    "# How many lines are there in fileRDD?\n",
    "print(\"The total number of lines with the keyword Spark is\", fileRDD_filter.count())\n",
    "\n",
    "# Print the first four lines of fileRDD\n",
    "for line in fileRDD_filter.take(4): \n",
    "    print(line)"
   ]
  },
  {
   "cell_type": "markdown",
   "id": "89094d59-0cfb-45f2-ae2b-ea5448e46266",
   "metadata": {},
   "source": [
    "## 5. Pair RDDs in PySpark\n",
    "\n",
    "### Introduction to pair RDDs in PySpark\n",
    "\n",
    "- Most of the real world datasets are generally key/value pairs.\n",
    "- In pair RDDs, the key refers to the identifier, whereas value refers to the data.\n",
    "\n",
    "### Creating pair RDDs.\n",
    "\n",
    "There are a number of ways to create pair RDDs. The two most common ways are creating from a list of key-value tuples or from a regular RDD.\n",
    "\n",
    "### Transformations on pair RDDs\n",
    "\n",
    "- All regular transformations work on pair RDD. However, we have to pass functions that operate on key value pairs rather than on individual elements.\n",
    "- Some paired RDD Transformations:\n",
    "    - `reducedByKey(func)`: Combine values with the same key. Run parallel operations for each key in the dataset.\n",
    "    - `groupByKey()`: Group values with the same key.\n",
    "    - `sortByKey()`: Return an RDD sorted by the key.\n",
    "    - `join()`: Join 2 pair RDDs based on their key."
   ]
  },
  {
   "cell_type": "code",
   "execution_count": 12,
   "id": "71b9ee95-5089-4b64-8c4a-412a0002223b",
   "metadata": {},
   "outputs": [
    {
     "name": "stdout",
     "output_type": "stream",
     "text": [
      "Key 1 has 2 Counts\n",
      "Key 3 has 10 Counts\n",
      "Key 4 has 5 Counts\n"
     ]
    }
   ],
   "source": [
    "# Create PairRDD Rdd with key value pairs\n",
    "Rdd = sc.parallelize([(1, 2), (3, 4), (3, 6), (4, 5)])\n",
    "\n",
    "# Apply reduceByKey() operation on Rdd\n",
    "Rdd_Reduced = Rdd.reduceByKey(lambda x, y: x + y)\n",
    "\n",
    "# Iterate over the result and print the output\n",
    "for num in Rdd_Reduced.collect(): \n",
    "    print(\"Key {} has {} Counts\".format(num[0], num[1]))"
   ]
  },
  {
   "cell_type": "code",
   "execution_count": 14,
   "id": "21c2a498-445a-4631-a9b8-e7e0fa11a7bf",
   "metadata": {},
   "outputs": [
    {
     "name": "stdout",
     "output_type": "stream",
     "text": [
      "Key 4 has 5 Counts\n",
      "Key 3 has 10 Counts\n",
      "Key 1 has 2 Counts\n"
     ]
    }
   ],
   "source": [
    "# Sort the reduced RDD with the key by descending order\n",
    "Rdd_Reduced_Sort = Rdd_Reduced.sortByKey(ascending=False)\n",
    "\n",
    "# Iterate over the result and retrieve all the elements of the RDD\n",
    "for num in Rdd_Reduced_Sort.collect():\n",
    "    print(\"Key {} has {} Counts\".format(num[0], num[1]))"
   ]
  },
  {
   "cell_type": "code",
   "execution_count": 16,
   "id": "aa9627dd-78b0-469e-a553-1d873098c70a",
   "metadata": {},
   "outputs": [
    {
     "name": "stdout",
     "output_type": "stream",
     "text": [
      "UK ['LHR']\n",
      "FR ['CDG']\n",
      "US ['JFK', 'SFO']\n"
     ]
    }
   ],
   "source": [
    "# groupByKey() operation\n",
    "airports = [(\"US\", \"JFK\"), (\"UK\", \"LHR\"), (\"FR\", \"CDG\"), (\"US\", \"SFO\")]\n",
    "regularRDD = sc.parallelize(airports)\n",
    "pairRDD_group = regularRDD.groupByKey().collect()\n",
    "\n",
    "for cont, air in pairRDD_group:\n",
    "    print(cont, list(air))"
   ]
  },
  {
   "cell_type": "code",
   "execution_count": 18,
   "id": "9bf12d78-ed45-4ad0-8d57-bc41e615d87f",
   "metadata": {},
   "outputs": [
    {
     "data": {
      "text/plain": [
       "[('Messi', (34, 100)), ('Neymar', (24, 120)), ('Ronaldo', (32, 80))]"
      ]
     },
     "execution_count": 18,
     "metadata": {},
     "output_type": "execute_result"
    }
   ],
   "source": [
    "# join() operation\n",
    "RDD1 = sc.parallelize([(\"Messi\", 34), (\"Ronaldo\", 32), (\"Neymar\", 24), (\"Someone\", 0)])\n",
    "RDD2 = sc.parallelize([(\"Ronaldo\", 80), (\"Neymar\", 120), (\"Messi\", 100)])\n",
    "\n",
    "RDD1.join(RDD2).collect()"
   ]
  },
  {
   "cell_type": "markdown",
   "id": "5e113bc2-a0c1-4ac2-82ea-76c9d3967b0d",
   "metadata": {},
   "source": [
    "## 6. Advanced RDD Actions\n",
    "\n",
    "- `reduce(func)` action is used for aggregating the elements of a regular RDD. The funcation should be commutative and associative.\n",
    "- `saveAsTextFile()` saves RDD into a text file inside a directory with each partition as a separate file.\n",
    "- `coalesce()` can be used to save RDD as a single text file.\n",
    "\n",
    "### Action Operations on pair RDDs\n",
    "\n",
    "- `countByKey()`: only available for type (K, V), which counts the number of elements for each key.\n",
    "- `collectAsMap()`: return the key-value pairs in the RDD as a dictionary."
   ]
  },
  {
   "cell_type": "code",
   "execution_count": 19,
   "id": "c4b82838-1c84-48e6-b57f-079c452fe965",
   "metadata": {},
   "outputs": [
    {
     "data": {
      "text/plain": [
       "14"
      ]
     },
     "execution_count": 19,
     "metadata": {},
     "output_type": "execute_result"
    }
   ],
   "source": [
    "x = [1, 3, 4, 6]\n",
    "RDD = sc.parallelize(x)\n",
    "RDD.reduce(lambda x, y: x + y)"
   ]
  },
  {
   "cell_type": "code",
   "execution_count": 23,
   "id": "b8833725-4cfe-463a-836f-fd4a2564b0b6",
   "metadata": {},
   "outputs": [],
   "source": [
    "fileRDD.saveAsTextFile(\"tempFile\")"
   ]
  },
  {
   "cell_type": "code",
   "execution_count": 24,
   "id": "9304283c-7ab1-4b7a-a557-c490f7114d18",
   "metadata": {},
   "outputs": [],
   "source": [
    "fileRDD.coalesce(1).saveAsTextFile(\"singleTempFile\")"
   ]
  },
  {
   "cell_type": "code",
   "execution_count": 25,
   "id": "e2eacba2-93ab-4d57-b329-b9c8d1a82836",
   "metadata": {},
   "outputs": [
    {
     "name": "stdout",
     "output_type": "stream",
     "text": [
      "a 2\n",
      "b 1\n"
     ]
    }
   ],
   "source": [
    "rdd = sc.parallelize([(\"a\", 1), (\"b\", 1), (\"a\", 1)])\n",
    "\n",
    "for kee, val in rdd.countByKey().items():\n",
    "    print(kee, val)"
   ]
  },
  {
   "cell_type": "code",
   "execution_count": 27,
   "id": "76568d0c-f846-4431-baa1-fb1cc79f799b",
   "metadata": {},
   "outputs": [
    {
     "data": {
      "text/plain": [
       "{1: 2, 3: 4}"
      ]
     },
     "execution_count": 27,
     "metadata": {},
     "output_type": "execute_result"
    }
   ],
   "source": [
    "sc.parallelize([(1, 2), (3, 4)]).collectAsMap()"
   ]
  },
  {
   "cell_type": "markdown",
   "id": "167ad3e8-e817-4cb0-bd3a-3eae4d1ca903",
   "metadata": {},
   "source": [
    "## 7. Introduction to PySpark DataFrames\n",
    "\n",
    "- PySpark SQL is a Spark library for structured data. It provides more information about the structure of data and the computation being performed.\n",
    "- PySpark SQL provides a programming abstraction called DataFrame (i.e., an immutale distributed collection of data with named columns).\n",
    "- Entry point for DataFrame API is `SparkSession`.\n",
    "\n",
    "### Creating DataFrames in PySpark\n",
    "\n",
    "There are 2 different methods of creating DataFrames in PySpark:\n",
    "- From existing RDDs using `SparkSession`'s `.createDataFrame()` method.\n",
    "- From various data sources (csv, json, txt) using `SparkSession`'s `read()` method.\n",
    "\n",
    "Schema (i.e., the structure of data in DataFrame) controls the data and helps DataFrames to optimize queries."
   ]
  },
  {
   "cell_type": "code",
   "execution_count": 28,
   "id": "d34275e9-7203-409e-8fc8-d9cf2994b80e",
   "metadata": {},
   "outputs": [
    {
     "name": "stdout",
     "output_type": "stream",
     "text": [
      "The type of names_df is <class 'pyspark.sql.dataframe.DataFrame'>\n"
     ]
    }
   ],
   "source": [
    "# Make a sample list\n",
    "sample_list = [('Mona', 20), ('Jennifer', 34), ('John', 20), ('Jim', 26)]\n",
    "\n",
    "# Create an RDD from the list\n",
    "rdd = sc.parallelize(sample_list)\n",
    "\n",
    "# Create a PySpark DataFrame\n",
    "names_df = spark.createDataFrame(rdd, schema=['Name', 'Age'])\n",
    "\n",
    "# Check the type of names_df\n",
    "print(\"The type of names_df is\", type(names_df))"
   ]
  },
  {
   "cell_type": "code",
   "execution_count": 29,
   "id": "b2f13e8f-d58f-440b-96f4-5a1cd2d1dad8",
   "metadata": {},
   "outputs": [
    {
     "name": "stdout",
     "output_type": "stream",
     "text": [
      "The type of people_df is <class 'pyspark.sql.dataframe.DataFrame'>\n"
     ]
    }
   ],
   "source": [
    "# Create an DataFrame from file_path\n",
    "label_df = spark.read.csv(\"label.csv\", header=True, inferSchema=True)\n",
    "\n",
    "# Check the type of people_df\n",
    "print(\"The type of people_df is\", type(label_df))"
   ]
  },
  {
   "cell_type": "markdown",
   "id": "7fccaca6-d453-4994-998b-8625b9b68ab6",
   "metadata": {},
   "source": [
    "## 8. Operating on DataFrames in PySpark\n",
    "\n",
    "### DataFrame Transformations\n",
    "\n",
    "- `select()`, `filter()`, `groupby()`, `orderBy()`, `dropDuplicates()`, `withColumnRenamed()`, `withColumn()`, `drop()`.\n",
    "\n",
    "### DataFrame Actions\n",
    "\n",
    "- `printSchema()`, `head()`, `show()`, `count()`, `columns` and `describe()`.\n",
    "\n",
    "### Interacting with DataFrames using PySpark SQL.\n",
    "\n",
    "- The SparkSession `sql()` method executes SQL query.\n",
    "- SQL queries cannot be run directly against a DataFrame. Instead, we need to build a temporary table using `createOrReplaceTempView()` function.\n",
    "\n",
    "*Demo for this part is in Course 1.*"
   ]
  },
  {
   "cell_type": "markdown",
   "id": "0179dced-5c6c-49f2-a725-04e328a1df62",
   "metadata": {},
   "source": [
    "## 9. Data Visualization in PySpark using DataFrame\n",
    "\n",
    "Plotting graphs using PySpark DataFrames is done using three methods\n",
    "- `pyspark_dist_explore` library: provide quick insights with `.hist()`, `.distplot()` and `.pandas_histogram()` while minimizing computational effort.\n",
    "- `.toPandas()` method (convert to pandas and then use common data visualization frameworks)\n",
    "- `.toHandy()` method: convert to HandySpark DataFrame. `HandySpark` is a package designed to improve PySpark user experience."
   ]
  },
  {
   "cell_type": "markdown",
   "id": "361bb933-c7d2-4ee3-81c5-93877b065f96",
   "metadata": {
    "tags": []
   },
   "source": [
    "## 10. Overview of PySpark MLLib\n",
    "\n",
    "### What is PySpark MLLib?\n",
    "\n",
    "MLlib is a component of Apache Spark for machine learning. It provides various tools, ranging from ML algorithms, featurization to pipelines.\n",
    "\n",
    "It looks like a scikit-learn package but designed for parallel processing.\n",
    "\n",
    "### The three C's of machine learning algorithms in PySpark MLlib\n",
    "\n",
    "- **Collaborative filtering**: Produces recommendations\n",
    "- **Classification**: Identifies to which of a set of categories a new observation\n",
    "- **Clustering**: Groups data based on similar characteristics"
   ]
  },
  {
   "cell_type": "markdown",
   "id": "004940d5-6abb-4a7e-ae26-4f4641992d6f",
   "metadata": {
    "tags": []
   },
   "source": [
    "### Collaborative Filtering example"
   ]
  },
  {
   "cell_type": "code",
   "execution_count": 30,
   "id": "6585bd40-3a54-4df1-b582-bf5abc77a476",
   "metadata": {},
   "outputs": [
    {
     "data": {
      "text/plain": [
       "[Rating(user=1, product=1, rating=1.0),\n",
       " Rating(user=1, product=2, rating=2.0),\n",
       " Rating(user=2, product=1, rating=2.0)]"
      ]
     },
     "execution_count": 30,
     "metadata": {},
     "output_type": "execute_result"
    }
   ],
   "source": [
    "# An example of collaborative filtering\n",
    "from pyspark.mllib.recommendation import ALS, Rating\n",
    "\n",
    "r1 = Rating(1, 1, 1.0) # user, product, rating\n",
    "r2 = Rating(1, 2, 2.0)\n",
    "r3 = Rating(2, 1, 2.0)\n",
    "ratings = sc.parallelize([r1, r2, r3])\n",
    "ratings.collect()"
   ]
  },
  {
   "cell_type": "code",
   "execution_count": 31,
   "id": "03cecff1-1d38-4bf6-a998-83618780d324",
   "metadata": {},
   "outputs": [
    {
     "name": "stderr",
     "output_type": "stream",
     "text": [
      "                                                                                \r"
     ]
    },
    {
     "name": "stdout",
     "output_type": "stream",
     "text": [
      "23/03/29 15:40:03 WARN InstanceBuilder$NativeBLAS: Failed to load implementation from:dev.ludovic.netlib.blas.JNIBLAS\n",
      "23/03/29 15:40:03 WARN InstanceBuilder$NativeBLAS: Failed to load implementation from:dev.ludovic.netlib.blas.ForeignLinkerBLAS\n",
      "23/03/29 15:40:03 WARN InstanceBuilder$JavaBLAS: Failed to load implementation from:dev.ludovic.netlib.blas.VectorBLAS\n",
      "23/03/29 15:40:03 WARN InstanceBuilder$NativeLAPACK: Failed to load implementation from:dev.ludovic.netlib.lapack.JNILAPACK\n"
     ]
    }
   ],
   "source": [
    "model = ALS.train(ratings, rank=10, iterations=10)"
   ]
  },
  {
   "cell_type": "code",
   "execution_count": 33,
   "id": "8982a25d-261e-49ac-a5df-ebdfdaaf05d9",
   "metadata": {},
   "outputs": [
    {
     "data": {
      "text/plain": [
       "[Rating(user=1, product=1, rating=1.000018846146521),\n",
       " Rating(user=1, product=2, rating=1.9890384516089636)]"
      ]
     },
     "execution_count": 33,
     "metadata": {},
     "output_type": "execute_result"
    }
   ],
   "source": [
    "unrated_RDD = sc.parallelize([(1, 2), (1, 1)])\n",
    "\n",
    "predictions = model.predictAll(unrated_RDD)\n",
    "predictions.collect()"
   ]
  },
  {
   "cell_type": "code",
   "execution_count": 34,
   "id": "2892794e-d31a-4a52-92ec-7886f6d43072",
   "metadata": {},
   "outputs": [
    {
     "name": "stderr",
     "output_type": "stream",
     "text": [
      "                                                                                \r"
     ]
    },
    {
     "data": {
      "text/plain": [
       "[((1, 1), 1.0), ((1, 2), 2.0), ((2, 1), 2.0)]"
      ]
     },
     "execution_count": 34,
     "metadata": {},
     "output_type": "execute_result"
    }
   ],
   "source": [
    "rates = ratings.map(lambda x: ((x[0], x[1]), x[2]))\n",
    "rates.collect()"
   ]
  },
  {
   "cell_type": "code",
   "execution_count": 35,
   "id": "65d869af-5eb1-4c58-aa40-ad471e4c58f3",
   "metadata": {},
   "outputs": [
    {
     "data": {
      "text/plain": [
       "[((1, 1), 1.000018846146521), ((1, 2), 1.9890384516089636)]"
      ]
     },
     "execution_count": 35,
     "metadata": {},
     "output_type": "execute_result"
    }
   ],
   "source": [
    "preds = predictions.map(lambda x: ((x[0], x[1]), x[2]))\n",
    "preds.collect()"
   ]
  },
  {
   "cell_type": "code",
   "execution_count": 36,
   "id": "bf6d24d1-5406-4611-82e9-65dcd8b7308e",
   "metadata": {},
   "outputs": [
    {
     "name": "stderr",
     "output_type": "stream",
     "text": [
      "                                                                                \r"
     ]
    },
    {
     "data": {
      "text/plain": [
       "[((1, 2), (2.0, 1.9890384516089636)), ((1, 1), (1.0, 1.000018846146521))]"
      ]
     },
     "execution_count": 36,
     "metadata": {},
     "output_type": "execute_result"
    }
   ],
   "source": [
    "rates_preds = rates.join(preds)\n",
    "rates_preds.collect()"
   ]
  },
  {
   "cell_type": "code",
   "execution_count": 40,
   "id": "94dbb79f-026b-4cbf-9163-d06f0dffa419",
   "metadata": {},
   "outputs": [
    {
     "name": "stdout",
     "output_type": "stream",
     "text": [
      "Mean Squared Error of the model for the test data = 0.00006\n"
     ]
    }
   ],
   "source": [
    "MSE = rates_preds.map(lambda r: (r[1][0] - r[1][1])**2).mean()\n",
    "print(\"Mean Squared Error of the model for the test data = {:.5f}\".format(MSE))"
   ]
  },
  {
   "cell_type": "markdown",
   "id": "ba89b399-93f3-48c7-86ce-e7e40dd300f7",
   "metadata": {},
   "source": [
    "### Classification Example"
   ]
  },
  {
   "cell_type": "code",
   "execution_count": 66,
   "id": "dadf97d5-abd4-4496-80c7-6a988dc6075b",
   "metadata": {},
   "outputs": [
    {
     "name": "stdout",
     "output_type": "stream",
     "text": [
      "The first element in spam_words is 18\n",
      "The first element in non_spam_words is Yeah\n"
     ]
    }
   ],
   "source": [
    "# Load the datasets into RDDs\n",
    "spam_rdd = sc.textFile(\"spam.txt\")\n",
    "non_spam_rdd = sc.textFile(\"non-spam.txt\")\n",
    "\n",
    "# Split the email messages into words\n",
    "spam_words = spam_rdd.flatMap(lambda email: email.split(' '))\n",
    "non_spam_words = non_spam_rdd.flatMap(lambda email: email.split(' '))\n",
    "\n",
    "# Print the first element in the split RDD\n",
    "print(\"The first element in spam_words is\", spam_words.first())\n",
    "print(\"The first element in non_spam_words is\", non_spam_words.first())"
   ]
  },
  {
   "cell_type": "code",
   "execution_count": 82,
   "id": "202b97c9-d946-4972-92a2-b000c3ed5935",
   "metadata": {},
   "outputs": [],
   "source": [
    "from pyspark.mllib.feature import HashingTF\n",
    "from pyspark.mllib.regression import LabeledPoint\n",
    "\n",
    "# Create a HashingTf instance with 200 features\n",
    "tf = HashingTF(numFeatures=200)\n",
    "\n",
    "# Map each word to one feature\n",
    "spam_features = tf.transform(spam_words)\n",
    "non_spam_features = tf.transform(non_spam_words)\n",
    "\n",
    "# Label the features: 1 for spam, 0 for non-spam\n",
    "spam_samples = spam_features.map(lambda features: LabeledPoint(1, features))\n",
    "non_spam_samples = non_spam_features.map(lambda features: LabeledPoint(0, features))\n",
    "\n",
    "# Combine the two datasets\n",
    "samples = spam_samples.union(non_spam_samples)"
   ]
  },
  {
   "cell_type": "code",
   "execution_count": 84,
   "id": "8d5dabc0-12a8-44d1-820b-45463bb4e24c",
   "metadata": {},
   "outputs": [
    {
     "name": "stderr",
     "output_type": "stream",
     "text": [
      "                                                                                \r"
     ]
    },
    {
     "name": "stdout",
     "output_type": "stream",
     "text": [
      "23/03/29 16:20:56 WARN Instrumentation: [1dfacb5e] Initial coefficients will be ignored! Its dimensions (1, 200) did not match the expected size (1, 200)\n"
     ]
    },
    {
     "name": "stderr",
     "output_type": "stream",
     "text": [
      "                                                                                \r"
     ]
    },
    {
     "name": "stdout",
     "output_type": "stream",
     "text": [
      "Model accuracy : 0.65\n"
     ]
    },
    {
     "name": "stderr",
     "output_type": "stream",
     "text": [
      "                                                                                \r"
     ]
    }
   ],
   "source": [
    "from pyspark.mllib.classification import LogisticRegressionWithLBFGS\n",
    "\n",
    "# Split the data into training and testing\n",
    "train_samples,test_samples = samples.randomSplit([0.8, 0.2])\n",
    "\n",
    "# Train the model\n",
    "model = LogisticRegressionWithLBFGS.train(train_samples)\n",
    "\n",
    "# Create a prediction label from the test data\n",
    "predictions = model.predict(test_samples.map(lambda x: x.features))\n",
    "\n",
    "# Combine original labels with the predicted labels\n",
    "labels_and_preds = test_samples.map(lambda x: x.label).zip(predictions)\n",
    "\n",
    "# Check the accuracy of the model on the test data\n",
    "accuracy = labels_and_preds.filter(lambda x: x[0] == x[1]).count() / float(test_samples.count())\n",
    "print(\"Model accuracy : {:.2f}\".format(accuracy))"
   ]
  },
  {
   "cell_type": "markdown",
   "id": "d0984027-1974-4613-a45b-9db43b2f2f52",
   "metadata": {},
   "source": [
    "### Clustering example"
   ]
  },
  {
   "cell_type": "code",
   "execution_count": 85,
   "id": "bd825926-80ef-4681-8e52-b7916d19444c",
   "metadata": {},
   "outputs": [
    {
     "name": "stdout",
     "output_type": "stream",
     "text": [
      "There are 3556 rows in the rdd_split_int dataset\n"
     ]
    }
   ],
   "source": [
    "# Load the dataset into an RDD\n",
    "clusterRDD = sc.textFile(\"points.txt\")\n",
    "\n",
    "# Split the RDD based on tab\n",
    "rdd_split = clusterRDD.map(lambda x: x.split('\\t'))\n",
    "\n",
    "# Transform the split RDD by creating a list of integers\n",
    "rdd_split_int = rdd_split.map(lambda x: [int(x[0]), int(x[1])])\n",
    "\n",
    "# Count the number of rows in RDD \n",
    "print(\"There are {} rows in the rdd_split_int dataset\".format(rdd_split_int.count()))"
   ]
  },
  {
   "cell_type": "code",
   "execution_count": 88,
   "id": "8b5744e1-748b-4a39-9030-e2511878eecd",
   "metadata": {},
   "outputs": [
    {
     "name": "stdout",
     "output_type": "stream",
     "text": [
      "The cluster 13 has Within Set Sum of Squared Error 117097434.11750785\n",
      "The cluster 14 has Within Set Sum of Squared Error 115732941.3707495\n",
      "The cluster 15 has Within Set Sum of Squared Error 114934504.17334312\n",
      "The cluster 16 has Within Set Sum of Squared Error 113371372.26518682\n"
     ]
    }
   ],
   "source": [
    "from pyspark.mllib.clustering import KMeans\n",
    "from math import sqrt\n",
    "\n",
    "def error(point):\n",
    "    center = model.centers[model.predict(point)]\n",
    "    return sqrt(sum([x ** 2 for x in (point - center)]))\n",
    "\n",
    "# Train the model with clusters from 13 to 16 and compute WSSSE\n",
    "for clst in range(13, 17):\n",
    "    model = KMeans.train(rdd_split_int, clst, seed=1)\n",
    "    WSSSE = rdd_split_int.map(lambda point: error(point)).reduce(lambda x, y: x + y)\n",
    "    print(\"The cluster {} has Within Set Sum of Squared Error {}\".format(clst, WSSSE))\n",
    "\n",
    "# Train the model again with the best k\n",
    "model = KMeans.train(rdd_split_int, k=13, seed=1)\n",
    "\n",
    "# Get cluster centers\n",
    "cluster_centers = model.clusterCenters"
   ]
  },
  {
   "cell_type": "code",
   "execution_count": 90,
   "id": "99d6e5c4-d906-4201-ba09-e7e9dbb0f086",
   "metadata": {},
   "outputs": [
    {
     "data": {
      "image/png": "[encoded data removed]",
      "text/plain": [
       "<Figure size 640x480 with 1 Axes>"
      ]
     },
     "metadata": {},
     "output_type": "display_data"
    }
   ],
   "source": [
    "import pandas as pd\n",
    "import matplotlib.pyplot as plt\n",
    "\n",
    "# Convert rdd_split_int RDD into Spark DataFrame and then to Pandas DataFrame\n",
    "rdd_split_int_df_pandas = spark.createDataFrame(rdd_split_int, schema=[\"col1\", \"col2\"]).toPandas()\n",
    "\n",
    "# Convert cluster_centers to a pandas DataFrame\n",
    "cluster_centers_pandas = pd.DataFrame(cluster_centers, columns=[\"col1\", \"col2\"])\n",
    "\n",
    "# Create an overlaid scatter plot of clusters and centroids\n",
    "plt.scatter(rdd_split_int_df_pandas[\"col1\"], rdd_split_int_df_pandas[\"col2\"])\n",
    "plt.scatter(cluster_centers_pandas[\"col1\"], cluster_centers_pandas[\"col2\"], color=\"red\", marker=\"x\")\n",
    "plt.show()"
   ]
  }
 ],
 "metadata": {
  "kernelspec": {
   "display_name": "Python 3 (ipykernel)",
   "language": "python",
   "name": "python3"
  },
  "language_info": {
   "codemirror_mode": {
    "name": "ipython",
    "version": 3
   },
   "file_extension": ".py",
   "mimetype": "text/x-python",
   "name": "python",
   "nbconvert_exporter": "python",
   "pygments_lexer": "ipython3",
   "version": "3.9.13"
  }
 },
 "nbformat": 4,
 "nbformat_minor": 5
}

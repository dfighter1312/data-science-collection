{
 "cells": [
  {
   "cell_type": "markdown",
   "id": "bc2f9ee6-465f-48f4-8c51-b1e29db0a7b1",
   "metadata": {},
   "source": [
    "# Hypothesis Testing on Hotel Reservation Data\n",
    "\n",
    "So far, the notebook `topic_1.ipynb` conducted an exploratory data analysis. However, I saw that the hypothesis testing part to make recommendation for the hotel is not \"statistically significant\". In other words, some of them were not tested using a statistical test probably.\n",
    "\n",
    "In this notebook, I will process clearly on the test and review a bit about the theoretical background of every test I preferred.\n",
    "\n",
    "## Research Questions\n",
    "\n",
    "1. The chance of a booking from a first-time customer being cancelled is higher than repeated customer.\n",
    "2. The average revenue comes from repeated customer is higher than first-time customer.\n",
    "3. Higher number of week/weekend nights leads to high risk of being cancelled."
   ]
  },
  {
   "cell_type": "code",
   "execution_count": 1,
   "id": "edf5425b-9761-4532-b7db-bdbd3813aebb",
   "metadata": {},
   "outputs": [],
   "source": [
    "# Imports\n",
    "import pandas as pd\n",
    "import numpy as np\n",
    "import matplotlib.pyplot as plt\n",
    "import seaborn as sns\n",
    "import scipy"
   ]
  },
  {
   "cell_type": "code",
   "execution_count": 17,
   "id": "7040841a-7212-4569-9810-07fa1f08d8f2",
   "metadata": {
    "tags": []
   },
   "outputs": [
    {
     "data": {
      "text/html": [
       "<div>\n",
       "<style scoped>\n",
       "    .dataframe tbody tr th:only-of-type {\n",
       "        vertical-align: middle;\n",
       "    }\n",
       "\n",
       "    .dataframe tbody tr th {\n",
       "        vertical-align: top;\n",
       "    }\n",
       "\n",
       "    .dataframe thead th {\n",
       "        text-align: right;\n",
       "    }\n",
       "</style>\n",
       "<table border=\"1\" class=\"dataframe\">\n",
       "  <thead>\n",
       "    <tr style=\"text-align: right;\">\n",
       "      <th></th>\n",
       "      <th>no_of_adults</th>\n",
       "      <th>no_of_children</th>\n",
       "      <th>no_of_weekend_nights</th>\n",
       "      <th>no_of_week_nights</th>\n",
       "      <th>type_of_meal_plan</th>\n",
       "      <th>required_car_parking_space</th>\n",
       "      <th>room_type_reserved</th>\n",
       "      <th>lead_time</th>\n",
       "      <th>arrival_year</th>\n",
       "      <th>arrival_month</th>\n",
       "      <th>arrival_date</th>\n",
       "      <th>market_segment_type</th>\n",
       "      <th>repeated_guest</th>\n",
       "      <th>no_of_previous_cancellations</th>\n",
       "      <th>no_of_previous_bookings_not_canceled</th>\n",
       "      <th>avg_price_per_room</th>\n",
       "      <th>no_of_special_requests</th>\n",
       "      <th>booking_status</th>\n",
       "    </tr>\n",
       "    <tr>\n",
       "      <th>Booking_ID</th>\n",
       "      <th></th>\n",
       "      <th></th>\n",
       "      <th></th>\n",
       "      <th></th>\n",
       "      <th></th>\n",
       "      <th></th>\n",
       "      <th></th>\n",
       "      <th></th>\n",
       "      <th></th>\n",
       "      <th></th>\n",
       "      <th></th>\n",
       "      <th></th>\n",
       "      <th></th>\n",
       "      <th></th>\n",
       "      <th></th>\n",
       "      <th></th>\n",
       "      <th></th>\n",
       "      <th></th>\n",
       "    </tr>\n",
       "  </thead>\n",
       "  <tbody>\n",
       "    <tr>\n",
       "      <th>INN00001</th>\n",
       "      <td>2</td>\n",
       "      <td>0</td>\n",
       "      <td>1</td>\n",
       "      <td>2</td>\n",
       "      <td>Meal Plan 1</td>\n",
       "      <td>0</td>\n",
       "      <td>Room_Type 1</td>\n",
       "      <td>224</td>\n",
       "      <td>2017</td>\n",
       "      <td>10</td>\n",
       "      <td>2</td>\n",
       "      <td>Offline</td>\n",
       "      <td>0</td>\n",
       "      <td>0</td>\n",
       "      <td>0</td>\n",
       "      <td>65.00</td>\n",
       "      <td>0</td>\n",
       "      <td>Not_Canceled</td>\n",
       "    </tr>\n",
       "    <tr>\n",
       "      <th>INN00002</th>\n",
       "      <td>2</td>\n",
       "      <td>0</td>\n",
       "      <td>2</td>\n",
       "      <td>3</td>\n",
       "      <td>Not Selected</td>\n",
       "      <td>0</td>\n",
       "      <td>Room_Type 1</td>\n",
       "      <td>5</td>\n",
       "      <td>2018</td>\n",
       "      <td>11</td>\n",
       "      <td>6</td>\n",
       "      <td>Online</td>\n",
       "      <td>0</td>\n",
       "      <td>0</td>\n",
       "      <td>0</td>\n",
       "      <td>106.68</td>\n",
       "      <td>1</td>\n",
       "      <td>Not_Canceled</td>\n",
       "    </tr>\n",
       "    <tr>\n",
       "      <th>INN00003</th>\n",
       "      <td>1</td>\n",
       "      <td>0</td>\n",
       "      <td>2</td>\n",
       "      <td>1</td>\n",
       "      <td>Meal Plan 1</td>\n",
       "      <td>0</td>\n",
       "      <td>Room_Type 1</td>\n",
       "      <td>1</td>\n",
       "      <td>2018</td>\n",
       "      <td>2</td>\n",
       "      <td>28</td>\n",
       "      <td>Online</td>\n",
       "      <td>0</td>\n",
       "      <td>0</td>\n",
       "      <td>0</td>\n",
       "      <td>60.00</td>\n",
       "      <td>0</td>\n",
       "      <td>Canceled</td>\n",
       "    </tr>\n",
       "    <tr>\n",
       "      <th>INN00004</th>\n",
       "      <td>2</td>\n",
       "      <td>0</td>\n",
       "      <td>0</td>\n",
       "      <td>2</td>\n",
       "      <td>Meal Plan 1</td>\n",
       "      <td>0</td>\n",
       "      <td>Room_Type 1</td>\n",
       "      <td>211</td>\n",
       "      <td>2018</td>\n",
       "      <td>5</td>\n",
       "      <td>20</td>\n",
       "      <td>Online</td>\n",
       "      <td>0</td>\n",
       "      <td>0</td>\n",
       "      <td>0</td>\n",
       "      <td>100.00</td>\n",
       "      <td>0</td>\n",
       "      <td>Canceled</td>\n",
       "    </tr>\n",
       "    <tr>\n",
       "      <th>INN00005</th>\n",
       "      <td>2</td>\n",
       "      <td>0</td>\n",
       "      <td>1</td>\n",
       "      <td>1</td>\n",
       "      <td>Not Selected</td>\n",
       "      <td>0</td>\n",
       "      <td>Room_Type 1</td>\n",
       "      <td>48</td>\n",
       "      <td>2018</td>\n",
       "      <td>4</td>\n",
       "      <td>11</td>\n",
       "      <td>Online</td>\n",
       "      <td>0</td>\n",
       "      <td>0</td>\n",
       "      <td>0</td>\n",
       "      <td>94.50</td>\n",
       "      <td>0</td>\n",
       "      <td>Canceled</td>\n",
       "    </tr>\n",
       "  </tbody>\n",
       "</table>\n",
       "</div>"
      ],
      "text/plain": [
       "            no_of_adults  no_of_children  no_of_weekend_nights  \\\n",
       "Booking_ID                                                       \n",
       "INN00001               2               0                     1   \n",
       "INN00002               2               0                     2   \n",
       "INN00003               1               0                     2   \n",
       "INN00004               2               0                     0   \n",
       "INN00005               2               0                     1   \n",
       "\n",
       "            no_of_week_nights type_of_meal_plan  required_car_parking_space  \\\n",
       "Booking_ID                                                                    \n",
       "INN00001                    2       Meal Plan 1                           0   \n",
       "INN00002                    3      Not Selected                           0   \n",
       "INN00003                    1       Meal Plan 1                           0   \n",
       "INN00004                    2       Meal Plan 1                           0   \n",
       "INN00005                    1      Not Selected                           0   \n",
       "\n",
       "           room_type_reserved  lead_time  arrival_year  arrival_month  \\\n",
       "Booking_ID                                                              \n",
       "INN00001          Room_Type 1        224          2017             10   \n",
       "INN00002          Room_Type 1          5          2018             11   \n",
       "INN00003          Room_Type 1          1          2018              2   \n",
       "INN00004          Room_Type 1        211          2018              5   \n",
       "INN00005          Room_Type 1         48          2018              4   \n",
       "\n",
       "            arrival_date market_segment_type  repeated_guest  \\\n",
       "Booking_ID                                                     \n",
       "INN00001               2             Offline               0   \n",
       "INN00002               6              Online               0   \n",
       "INN00003              28              Online               0   \n",
       "INN00004              20              Online               0   \n",
       "INN00005              11              Online               0   \n",
       "\n",
       "            no_of_previous_cancellations  \\\n",
       "Booking_ID                                 \n",
       "INN00001                               0   \n",
       "INN00002                               0   \n",
       "INN00003                               0   \n",
       "INN00004                               0   \n",
       "INN00005                               0   \n",
       "\n",
       "            no_of_previous_bookings_not_canceled  avg_price_per_room  \\\n",
       "Booking_ID                                                             \n",
       "INN00001                                       0               65.00   \n",
       "INN00002                                       0              106.68   \n",
       "INN00003                                       0               60.00   \n",
       "INN00004                                       0              100.00   \n",
       "INN00005                                       0               94.50   \n",
       "\n",
       "            no_of_special_requests booking_status  \n",
       "Booking_ID                                         \n",
       "INN00001                         0   Not_Canceled  \n",
       "INN00002                         1   Not_Canceled  \n",
       "INN00003                         0       Canceled  \n",
       "INN00004                         0       Canceled  \n",
       "INN00005                         0       Canceled  "
      ]
     },
     "execution_count": 17,
     "metadata": {},
     "output_type": "execute_result"
    }
   ],
   "source": [
    "df = pd.read_csv('Hotel Reservations.csv', index_col='Booking_ID')\n",
    "df = df.drop_duplicates()\n",
    "df.head()"
   ]
  },
  {
   "cell_type": "code",
   "execution_count": 18,
   "id": "9abf215f-a0d9-43c3-bd6e-b855d4db289e",
   "metadata": {},
   "outputs": [
    {
     "name": "stdout",
     "output_type": "stream",
     "text": [
      "<class 'pandas.core.frame.DataFrame'>\n",
      "Index: 26000 entries, INN00001 to INN36274\n",
      "Data columns (total 18 columns):\n",
      " #   Column                                Non-Null Count  Dtype  \n",
      "---  ------                                --------------  -----  \n",
      " 0   no_of_adults                          26000 non-null  int64  \n",
      " 1   no_of_children                        26000 non-null  int64  \n",
      " 2   no_of_weekend_nights                  26000 non-null  int64  \n",
      " 3   no_of_week_nights                     26000 non-null  int64  \n",
      " 4   type_of_meal_plan                     26000 non-null  object \n",
      " 5   required_car_parking_space            26000 non-null  int64  \n",
      " 6   room_type_reserved                    26000 non-null  object \n",
      " 7   lead_time                             26000 non-null  int64  \n",
      " 8   arrival_year                          26000 non-null  int64  \n",
      " 9   arrival_month                         26000 non-null  int64  \n",
      " 10  arrival_date                          26000 non-null  int64  \n",
      " 11  market_segment_type                   26000 non-null  object \n",
      " 12  repeated_guest                        26000 non-null  int64  \n",
      " 13  no_of_previous_cancellations          26000 non-null  int64  \n",
      " 14  no_of_previous_bookings_not_canceled  26000 non-null  int64  \n",
      " 15  avg_price_per_room                    26000 non-null  float64\n",
      " 16  no_of_special_requests                26000 non-null  int64  \n",
      " 17  booking_status                        26000 non-null  object \n",
      "dtypes: float64(1), int64(13), object(4)\n",
      "memory usage: 3.8+ MB\n"
     ]
    }
   ],
   "source": [
    "df.info()"
   ]
  },
  {
   "cell_type": "markdown",
   "id": "6e12effd-09ba-415e-bb3c-928e50e69ff7",
   "metadata": {},
   "source": [
    "## RQ1: The chance of a booking from a first-time customer being cancelled is higher than repeated customer.\n",
    "\n",
    "$X$: Is repeated customer? (Y/N) -> categorical variable\n",
    "\n",
    "$Y$: Is the booking cancelled? (Y/N) -> categorical variable\n",
    "\n",
    "**Chi-square test for independence** is adaptable for this research question, since it deals with $X$ and $Y$ both categorical variables.\n",
    "\n",
    "**Assumptions for chi-square test:**\n",
    "- Observations are independent.\n",
    "- Cells in the contingency table are mutually exclusive.\n",
    "\n",
    "Note that chi-square test is a non-parametric approach.\n",
    "\n",
    "\n",
    "**Null vs alternative hypotheis**\n",
    "\n",
    "$H_0$ (null hypothesis): The occurance of repeating customer and the occurance of cancelled booking are independent. In other words, $P(A,B) = P(A)P(B)$\n",
    "\n",
    "$H_a$ (alternative hypothesis): The occurance of repeating customer does have a relationship with the occurance of cancelled booking."
   ]
  },
  {
   "cell_type": "code",
   "execution_count": 19,
   "id": "ccf8a486-ff00-4b79-a78b-b92fa8151e6a",
   "metadata": {},
   "outputs": [
    {
     "data": {
      "image/png": "[encoded data removed]",
      "text/plain": [
       "<Figure size 640x480 with 2 Axes>"
      ]
     },
     "metadata": {},
     "output_type": "display_data"
    }
   ],
   "source": [
    "repeated_cancelled_crosstab = pd.crosstab(df['repeated_guest'], df['booking_status'])\n",
    "sns.heatmap(repeated_cancelled_crosstab, annot=True, fmt='g')\n",
    "plt.show()"
   ]
  },
  {
   "cell_type": "code",
   "execution_count": 20,
   "id": "34e1a0d2-ea3b-4f59-a507-e3bdd571ca64",
   "metadata": {},
   "outputs": [
    {
     "name": "stdout",
     "output_type": "stream",
     "text": [
      "Test statistic: 326.25341777309166\n",
      "p-value: 6.292335904113769e-73\n",
      "Degree of freedom: 1\n",
      "Expected frequency:\n",
      " [[ 7198.13138462 17949.86861538]\n",
      " [  243.86861538   608.13138462]]\n",
      "--------------------------------------------------\n",
      "With p-value < alpha, we reject the null hypothesis and state that there is a relationship between X and Y.\n"
     ]
    }
   ],
   "source": [
    "statistic, pvalue, dof, expected_freq = scipy.stats.chi2_contingency(repeated_cancelled_crosstab)\n",
    "alpha = 0.05\n",
    "\n",
    "print(\"Test statistic:\", statistic)\n",
    "print(\"p-value:\", pvalue)\n",
    "print(\"Degree of freedom:\", dof)\n",
    "print(\"Expected frequency:\\n\", expected_freq)\n",
    "print(\"-\"*50)\n",
    "if pvalue < alpha:\n",
    "    print(\"With p-value < alpha, we reject the null hypothesis and state that there is a relationship between X and Y.\")\n",
    "else:\n",
    "    print(\"With p-value > alpha, we failed to reject the null hypothesis.\")"
   ]
  },
  {
   "cell_type": "markdown",
   "id": "0b985a30-9c94-44a4-a6a1-652cabe56d7b",
   "metadata": {},
   "source": [
    "From the chi-square test of independence, we state the there is a relationship between `repeated_guest` and `booking_status` *under the assumption*."
   ]
  },
  {
   "cell_type": "markdown",
   "id": "04fa3510-3eb6-45d3-8d6a-354d9a8d540c",
   "metadata": {},
   "source": [
    "## RQ2: The average revenue comes from repeated customer is higher than first-time customer.\n",
    "\n",
    "$X$: Is repeated customer? (Y/N) -> categorical variable\n",
    "\n",
    "$Y$: Revenue -> numerical-continuous variable\n",
    "\n",
    "Since we have enough samples, a parametric approach, such as **two sample t-test**, is adaptable for this research question. However, since $n = 26000$, **z-test** is also probable.\n",
    "\n",
    "**Assumptions for t-test**:\n",
    "- Simple random sample (the sample is the representative of the population).\n",
    "- Observations are independent.\n",
    "- Observations between groups are independent.\n",
    "- Large sample size.\n",
    "- Data between 2 groups are normally distributed.\n",
    "- Equal or non-equal variance check.\n",
    "\n",
    "*Additional assumptions*:\n",
    "- Since we don't know for repeated customer, which exact booking the customer made for the first time in the dataset. Therefore, we assume that first-time records for repeated customer do not exist in our data.\n",
    "- Only successful booking will be taken into account, because if canceled booking is added, the revenue is no longer normally distributed. For this reason, later on, we will add a non-parametric approach which take into account both types of booking.\n",
    "\n",
    "**Null vs alternative hypothesis**:\n",
    "\n",
    "$H_0$ (null hypothesis): There is no difference between the revenue made by repeated customer and first-time customer.\n",
    "\n",
    "$H_a$ (alternative hypothesis): Revenue made by repeated customer **is higher than** first-time customer."
   ]
  },
  {
   "cell_type": "code",
   "execution_count": 27,
   "id": "7a264100-8f3f-44f6-8d8a-4f1019e28a82",
   "metadata": {},
   "outputs": [
    {
     "data": {
      "text/plain": [
       "Booking_ID\n",
       "INN00001     416.000\n",
       "INN00002    1152.144\n",
       "INN00003       0.000\n",
       "INN00004       0.000\n",
       "INN00005       0.000\n",
       "              ...   \n",
       "INN36270       0.000\n",
       "INN36271    4228.560\n",
       "INN36272       0.000\n",
       "INN36273    1652.952\n",
       "INN36274       0.000\n",
       "Name: revenue, Length: 26000, dtype: float64"
      ]
     },
     "execution_count": 27,
     "metadata": {},
     "output_type": "execute_result"
    }
   ],
   "source": [
    "df['revenue'] = (df['avg_price_per_room'] * (df['no_of_week_nights'] + df['no_of_weekend_nights'] * 1.2) * \\\n",
    "                 (df['no_of_adults'] + df['no_of_children'] * 0.8)) * (df['booking_status'] == 'Not_Canceled')\n",
    "df['revenue']"
   ]
  },
  {
   "cell_type": "code",
   "execution_count": 30,
   "id": "2e18b885-3497-427e-823a-5f191d65b075",
   "metadata": {},
   "outputs": [
    {
     "data": {
      "text/plain": [
       "(18558, 19)"
      ]
     },
     "execution_count": 30,
     "metadata": {},
     "output_type": "execute_result"
    }
   ],
   "source": [
    "df_successful_booking = df[df['booking_status'] == 'Not_Canceled']\n",
    "df_successful_booking.shape"
   ]
  },
  {
   "cell_type": "code",
   "execution_count": 33,
   "id": "880599dc-2939-4d37-9c11-12f5be83a59a",
   "metadata": {},
   "outputs": [
    {
     "data": {
      "image/png": "[encoded data removed]",
      "text/plain": [
       "<Figure size 640x480 with 1 Axes>"
      ]
     },
     "metadata": {},
     "output_type": "display_data"
    }
   ],
   "source": [
    "sns.boxplot(data=df_successful_booking, x=\"repeated_guest\", y=\"revenue\")\n",
    "plt.show()"
   ]
  },
  {
   "cell_type": "markdown",
   "id": "90260b24-0feb-4e7a-b519-f8ceb0f5934d",
   "metadata": {},
   "source": [
    "We may see from the boxplot that first-time guest spend a higher cost than repeated guest. Therefore, our alternative hypothesis might need something reversed. We will do it later then."
   ]
  },
  {
   "cell_type": "code",
   "execution_count": 34,
   "id": "16bd808b-da7d-4e68-9344-29154277655c",
   "metadata": {},
   "outputs": [
    {
     "data": {
      "text/plain": [
       "<AxesSubplot:xlabel='revenue', ylabel='Count'>"
      ]
     },
     "execution_count": 34,
     "metadata": {},
     "output_type": "execute_result"
    },
    {
     "data": {
      "image/png": "[encoded data removed]",
      "text/plain": [
       "<Figure size 640x480 with 1 Axes>"
      ]
     },
     "metadata": {},
     "output_type": "display_data"
    }
   ],
   "source": [
    "sns.histplot(data=df_successful_booking, x=\"revenue\", hue=\"repeated_guest\", kde=True)"
   ]
  },
  {
   "cell_type": "code",
   "execution_count": 43,
   "id": "2a53f965-cd9b-42e5-9011-f7fd63d19f01",
   "metadata": {},
   "outputs": [
    {
     "name": "stdout",
     "output_type": "stream",
     "text": [
      "The 2 standard deviation are: 219.16335689677354 598.1987136729856\n",
      "Assume non-equal variance\n"
     ]
    }
   ],
   "source": [
    "# Calculate the variance between 2 groups\n",
    "a = df_successful_booking[df_successful_booking[\"repeated_guest\"] == 1][\"revenue\"]\n",
    "b = df_successful_booking[df_successful_booking[\"repeated_guest\"] == 0][\"revenue\"]\n",
    "\n",
    "print(\"The 2 standard deviation are:\", a.std(), b.std())\n",
    "if a.std() / b.std() > 2 or a.std() / b.std() < 0.5:\n",
    "    print(\"Assume non-equal variance\")\n",
    "else:\n",
    "    print(\"Assume equal variance\")"
   ]
  },
  {
   "cell_type": "code",
   "execution_count": 47,
   "id": "da27a106-37c2-4caf-a688-01424b904fd1",
   "metadata": {},
   "outputs": [
    {
     "name": "stdout",
     "output_type": "stream",
     "text": [
      "Test statistic: -26.55846980381549\n",
      "p-value: 1.0\n",
      "--------------------------------------------------\n",
      "With p-value > alpha, we failed to reject the null hypothesis.\n"
     ]
    }
   ],
   "source": [
    "# H_a: Revenue made by repeated customer is higher than first-time customer.\n",
    "statistic, pvalue = scipy.stats.ttest_ind(a, b, equal_var=True, alternative='greater')\n",
    "alpha = 0.05\n",
    "\n",
    "print(\"Test statistic:\", statistic)\n",
    "print(\"p-value:\", pvalue)\n",
    "print('-'*50)\n",
    "if pvalue < alpha:\n",
    "    print(\"With p-value < alpha, we reject the null hypothesis.\")\n",
    "else:\n",
    "    print(\"With p-value > alpha, we failed to reject the null hypothesis.\")"
   ]
  },
  {
   "cell_type": "code",
   "execution_count": 48,
   "id": "ceb7d8f6-1728-4160-83a0-07f7d592c723",
   "metadata": {},
   "outputs": [
    {
     "name": "stdout",
     "output_type": "stream",
     "text": [
      "Test statistic: -26.55846980381549\n",
      "p-value: 7.214668706500087e-153\n",
      "--------------------------------------------------\n",
      "With p-value < alpha, we reject the null hypothesis\n"
     ]
    }
   ],
   "source": [
    "# H_a: Revenue made by repeated customer is less than first-time customer.\n",
    "statistic, pvalue = scipy.stats.ttest_ind(a, b, equal_var=True, alternative='less')\n",
    "alpha = 0.05\n",
    "\n",
    "print(\"Test statistic:\", statistic)\n",
    "print(\"p-value:\", pvalue)\n",
    "print('-'*50)\n",
    "if pvalue < alpha:\n",
    "    print(\"With p-value < alpha, we reject the null hypothesis\")\n",
    "else:\n",
    "    print(\"With p-value > alpha, we failed to reject the null hypothesis.\")"
   ]
  },
  {
   "cell_type": "markdown",
   "id": "3cbe6d7c-a7df-4edb-b17e-ff3a664e4cc8",
   "metadata": {},
   "source": [
    "**Non-parametric versions with Rank Sum and Mann Whitney U**\n",
    "\n",
    "For non-parametric versions, we don't need to elimiate the set of canceled reservations."
   ]
  },
  {
   "cell_type": "code",
   "execution_count": 51,
   "id": "b262cd9b-641e-4328-97fd-00672933eb9f",
   "metadata": {},
   "outputs": [],
   "source": [
    "# Calculate the variance between 2 groups\n",
    "a = df[df[\"repeated_guest\"] == 1][\"revenue\"]\n",
    "b = df[df[\"repeated_guest\"] == 0][\"revenue\"]"
   ]
  },
  {
   "cell_type": "code",
   "execution_count": 52,
   "id": "8c8c1d28-ae7c-4a16-9345-3e4173b88ee6",
   "metadata": {},
   "outputs": [
    {
     "name": "stdout",
     "output_type": "stream",
     "text": [
      "Test statistic: 7473275.5\n",
      "p-value: 7.973845229467048e-53\n",
      "--------------------------------------------------\n",
      "With p-value < alpha, we reject the null hypothesis\n"
     ]
    }
   ],
   "source": [
    "statistic, pvalue = scipy.stats.mannwhitneyu(a, b, alternative='less')\n",
    "alpha = 0.05\n",
    "\n",
    "print(\"Test statistic:\", statistic)\n",
    "print(\"p-value:\", pvalue)\n",
    "print('-'*50)\n",
    "if pvalue < alpha:\n",
    "    print(\"With p-value < alpha, we reject the null hypothesis\")\n",
    "else:\n",
    "    print(\"With p-value > alpha, we failed to reject the null hypothesis.\")"
   ]
  },
  {
   "cell_type": "code",
   "execution_count": 53,
   "id": "73748351-9a56-439d-985d-b73ed2227e14",
   "metadata": {},
   "outputs": [
    {
     "name": "stdout",
     "output_type": "stream",
     "text": [
      "Test statistic: -15.036217142136161\n",
      "p-value: 2.125806550756566e-51\n",
      "--------------------------------------------------\n",
      "With p-value < alpha, we reject the null hypothesis\n"
     ]
    }
   ],
   "source": [
    "statistic, pvalue = scipy.stats.ranksums(a, b, alternative='less')\n",
    "alpha = 0.05\n",
    "\n",
    "print(\"Test statistic:\", statistic)\n",
    "print(\"p-value:\", pvalue)\n",
    "print('-'*50)\n",
    "if pvalue < alpha:\n",
    "    print(\"With p-value < alpha, we reject the null hypothesis\")\n",
    "else:\n",
    "    print(\"With p-value > alpha, we failed to reject the null hypothesis.\")"
   ]
  },
  {
   "cell_type": "markdown",
   "id": "76cdcb8d-ca3d-4670-80c5-57db5f8087fa",
   "metadata": {},
   "source": [
    "From all the tests, we conclude that the revenue made by first-time customer is greatly higher than repeated customer, which is contrast to our conclusion in the previous notebook."
   ]
  },
  {
   "cell_type": "markdown",
   "id": "54e1ada8-15f4-4fcf-80d9-ae89783ca45b",
   "metadata": {},
   "source": [
    "## RQ3: Higher number of week/weekend nights leads to higher risk of being cancelled.\n",
    "\n",
    "$X$: Number of week nights ($X_1$) and number of weekends nights ($X_2$) -> numerical variable.\n",
    "\n",
    "$Y$: Is booking cancelled? -> categorical variable.\n",
    "\n",
    "For this case, we try to perform 2 strategies:\n",
    "- Do 2 **Mann-Whitney U test** to check whether there is a relationship between number of week nights to booking cancellation and whether there is a relationship between number of weekday nights to booking cancellation.\n",
    "- Map $X$ to $Y$ using **logistic regression**.\n",
    "\n",
    "**Assumptions for logistic regression**:\n",
    "- Simple random sample.\n",
    "- Observations are independent.\n",
    "- There to be little or no multicollinearity among the independent variables.\n",
    "- Linearity of independent variables and log odds.\n",
    "- Large sample size.\n",
    "\n",
    "**Null vs alternative hypothesis**:\n",
    "\n",
    "$H_0$ (null hypothesis): There is no relationship between $X$'s and $Y$.\n",
    "\n",
    "$H_a$ (alternative hypothesis): There is a relationship between $X$'s and $Y$."
   ]
  },
  {
   "cell_type": "markdown",
   "id": "042ec3ae-d20b-4484-993d-84da2512491d",
   "metadata": {},
   "source": [
    "**Mann-Whitney U Test**"
   ]
  },
  {
   "cell_type": "code",
   "execution_count": 72,
   "id": "cd5edf9e-ae32-4b6d-b54a-2983f945a6ca",
   "metadata": {},
   "outputs": [
    {
     "name": "stdout",
     "output_type": "stream",
     "text": [
      "Test statistic: 59717372.5\n",
      "p-value: 3.8784688161840694e-69\n",
      "--------------------------------------------------\n",
      "With p-value < alpha, we reject the null hypothesis\n"
     ]
    }
   ],
   "source": [
    "# Test for number of week nights\n",
    "a = df[df[\"booking_status\"] == \"Not_Canceled\"][\"no_of_week_nights\"]\n",
    "b = df[df[\"booking_status\"] == \"Canceled\"][\"no_of_week_nights\"]\n",
    "\n",
    "statistic, pvalue = scipy.stats.mannwhitneyu(a, b, alternative='less')\n",
    "alpha = 0.05\n",
    "\n",
    "print(\"Test statistic:\", statistic)\n",
    "print(\"p-value:\", pvalue)\n",
    "print('-'*50)\n",
    "if pvalue < alpha:\n",
    "    print(\"With p-value < alpha, we reject the null hypothesis\")\n",
    "else:\n",
    "    print(\"With p-value > alpha, we failed to reject the null hypothesis.\")"
   ]
  },
  {
   "cell_type": "code",
   "execution_count": 73,
   "id": "70068197-8035-4e3e-bd4a-bf708891df5c",
   "metadata": {},
   "outputs": [
    {
     "name": "stdout",
     "output_type": "stream",
     "text": [
      "Test statistic: 64073713.0\n",
      "p-value: 1.2824538807302204e-22\n",
      "--------------------------------------------------\n",
      "With p-value < alpha, we reject the null hypothesis\n"
     ]
    }
   ],
   "source": [
    "# Test for number of week nights\n",
    "a = df[df[\"booking_status\"] == \"Not_Canceled\"][\"no_of_weekend_nights\"]\n",
    "b = df[df[\"booking_status\"] == \"Canceled\"][\"no_of_weekend_nights\"]\n",
    "\n",
    "statistic, pvalue = scipy.stats.mannwhitneyu(a, b, alternative='less')\n",
    "alpha = 0.05\n",
    "\n",
    "print(\"Test statistic:\", statistic)\n",
    "print(\"p-value:\", pvalue)\n",
    "print('-'*50)\n",
    "if pvalue < alpha:\n",
    "    print(\"With p-value < alpha, we reject the null hypothesis\")\n",
    "else:\n",
    "    print(\"With p-value > alpha, we failed to reject the null hypothesis.\")"
   ]
  },
  {
   "cell_type": "markdown",
   "id": "ab15b306-6ddb-4241-ae81-7ba293f031a5",
   "metadata": {},
   "source": [
    "We can conclude that both `no_of_week_nights` and `no_of_weekend_nights` have relationships with `booking_status`."
   ]
  },
  {
   "cell_type": "markdown",
   "id": "fe6f8734-a8a8-470f-8a92-b436359cb549",
   "metadata": {},
   "source": [
    "**Logistic Regression**"
   ]
  },
  {
   "cell_type": "code",
   "execution_count": 75,
   "id": "e4f4f220-8b6e-4c98-ac89-54f316f8b972",
   "metadata": {},
   "outputs": [
    {
     "data": {
      "image/png": "[encoded data removed]",
      "text/plain": [
       "<Figure size 640x480 with 2 Axes>"
      ]
     },
     "metadata": {},
     "output_type": "display_data"
    }
   ],
   "source": [
    "# Check the correlation between 2 independent variables X_1 and X_2\n",
    "sns.heatmap(df[['no_of_week_nights', 'no_of_weekend_nights']].corr(), annot=True)\n",
    "plt.show()"
   ]
  },
  {
   "cell_type": "markdown",
   "id": "4338d5ed-3e35-46a6-a547-2178c9734456",
   "metadata": {},
   "source": [
    "From Google quick search, *correlation coefficients whose magnitude are between 0.3 and 0.5 indicate variables which have a low correlation. Correlation coefficients whose magnitude are less than 0.3 have little if any (linear) correlation.* Therefore, we conclude that these 2 variables have a little correlation and can perform logistic regression."
   ]
  },
  {
   "cell_type": "code",
   "execution_count": 76,
   "id": "40360072-1fb1-4583-93b5-7b9dc6c8b0ac",
   "metadata": {},
   "outputs": [
    {
     "data": {
      "text/plain": [
       "Booking_ID\n",
       "INN00001    0\n",
       "INN00002    0\n",
       "INN00003    1\n",
       "INN00004    1\n",
       "INN00005    1\n",
       "           ..\n",
       "INN36270    1\n",
       "INN36271    0\n",
       "INN36272    1\n",
       "INN36273    0\n",
       "INN36274    1\n",
       "Name: is_canceled, Length: 26000, dtype: int64"
      ]
     },
     "execution_count": 76,
     "metadata": {},
     "output_type": "execute_result"
    }
   ],
   "source": [
    "df['is_canceled'] = (df['booking_status'] == 'Canceled').astype('int')\n",
    "df['is_canceled']"
   ]
  },
  {
   "cell_type": "code",
   "execution_count": 78,
   "id": "49fa3861-ce74-4f37-ba8f-449348e18418",
   "metadata": {},
   "outputs": [
    {
     "name": "stdout",
     "output_type": "stream",
     "text": [
      "Optimization terminated successfully.\n",
      "         Current function value: 0.590133\n",
      "         Iterations 5\n",
      "                           Logit Regression Results                           \n",
      "==============================================================================\n",
      "Dep. Variable:            is_canceled   No. Observations:                26000\n",
      "Model:                          Logit   Df Residuals:                    25997\n",
      "Method:                           MLE   Df Model:                            2\n",
      "Date:                Sun, 30 Apr 2023   Pseudo R-squ.:                 0.01438\n",
      "Time:                        11:44:56   Log-Likelihood:                -15343.\n",
      "converged:                       True   LL-Null:                       -15567.\n",
      "Covariance Type:            nonrobust   LLR p-value:                 6.142e-98\n",
      "========================================================================================\n",
      "                           coef    std err          z      P>|z|      [0.025      0.975]\n",
      "----------------------------------------------------------------------------------------\n",
      "Intercept               -1.3901      0.027    -50.953      0.000      -1.444      -1.337\n",
      "no_of_week_nights        0.1635      0.009     17.510      0.000       0.145       0.182\n",
      "no_of_weekend_nights     0.1048      0.016      6.562      0.000       0.073       0.136\n",
      "========================================================================================\n"
     ]
    }
   ],
   "source": [
    "import statsmodels.formula.api as smf\n",
    "\n",
    "model = smf.logit('is_canceled ~ no_of_week_nights + no_of_weekend_nights', data=df).fit()\n",
    "print(model.summary())"
   ]
  },
  {
   "cell_type": "markdown",
   "id": "5d6140ed-9a61-4511-a76f-3c3064324661",
   "metadata": {},
   "source": [
    "The p-values in both variables are converged to 0, meaning that there is a relationship between the independent variables $X$'s and dependant variable $Y$. However the Pseudo R-squared value is small (0.01438), indicates that logistic regression is not a good fit for $X$ and $Y$."
   ]
  },
  {
   "cell_type": "markdown",
   "id": "2983954e-15da-4fe6-be4b-a4cb71871930",
   "metadata": {},
   "source": [
    "## Conclusions\n",
    "\n",
    "**Q1: Is the chance of a booking from a first-time customer being cancelled is higher than repeated customer?**\n",
    "\n",
    "Yes.\n",
    "\n",
    "**Q2: Is the average revenue comes from repeated customer is higher than first-time customer.**\n",
    "\n",
    "No. In fact, it goes the other way that *the average revenue comes from repeated customer is less than first-time customer.*\n",
    "\n",
    "**Q3: Higher number of week/weekend nights leads to high risk of being cancelled.**\n",
    "\n",
    "We can claim that the number of week/weekend nights have the relationship with the probability of a booking being cancelled, but we need to find a better model for fitting this because these 2 in Logistic Regression can only explain 1.4% variability of the model."
   ]
  }
 ],
 "metadata": {
  "kernelspec": {
   "display_name": "Python 3 (ipykernel)",
   "language": "python",
   "name": "python3"
  },
  "language_info": {
   "codemirror_mode": {
    "name": "ipython",
    "version": 3
   },
   "file_extension": ".py",
   "mimetype": "text/x-python",
   "name": "python",
   "nbconvert_exporter": "python",
   "pygments_lexer": "ipython3",
   "version": "3.9.13"
  }
 },
 "nbformat": 4,
 "nbformat_minor": 5
}

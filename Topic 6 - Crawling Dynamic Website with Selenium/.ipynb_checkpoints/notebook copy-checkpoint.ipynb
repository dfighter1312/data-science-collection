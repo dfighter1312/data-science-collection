{
 "cells": [
  {
   "cell_type": "code",
   "execution_count": 1,
   "id": "8ebc13b5",
   "metadata": {},
   "outputs": [],
   "source": [
    "import time\n",
    "import pandas as pd\n",
    "\n",
    "from selenium import webdriver\n",
    "from selenium.webdriver.chrome.service import Service\n",
    "\n",
    "from webdriver_manager.chrome import ChromeDriverManager"
   ]
  },
  {
   "cell_type": "markdown",
   "id": "33f138e3",
   "metadata": {},
   "source": [
    "### Create driver"
   ]
  },
  {
   "cell_type": "code",
   "execution_count": 2,
   "id": "b2839935",
   "metadata": {},
   "outputs": [],
   "source": [
    "driver = webdriver.Chrome(service=Service(ChromeDriverManager().install()))"
   ]
  },
  {
   "cell_type": "code",
   "execution_count": 3,
   "id": "f78f34e3",
   "metadata": {},
   "outputs": [],
   "source": [
    "page_url = \"https://www.wunderground.com/history/weekly/vn/tan-binh/VVTS/date/2022-9-10\"\n",
    "driver.get(page_url)"
   ]
  },
  {
   "cell_type": "code",
   "execution_count": 5,
   "id": "1b364a66",
   "metadata": {},
   "outputs": [
    {
     "name": "stdout",
     "output_type": "stream",
     "text": [
      "Table name: Time\n",
      "  Sep\n",
      "0   4\n",
      "1   5\n",
      "2   6\n",
      "3   7\n",
      "4   8\n",
      "5   9\n",
      "6  10\n",
      "Table name: Temperature (°F)\n",
      "  Max   Avg Min\n",
      "0  90  82.6  77\n",
      "1  91  82.6  77\n",
      "2  90  81.8  77\n",
      "3  84  78.9  77\n",
      "4  88  81.5  77\n",
      "5  93  84.5  77\n",
      "6  93  85.5  79\n",
      "Table name: Dew Point (°F)\n",
      "  Max   Avg Min\n",
      "0  79  76.4  73\n",
      "1  79  76.0  73\n",
      "2  79  76.2  73\n",
      "3  77  75.5  73\n",
      "4  77  74.4  72\n",
      "5  79  75.8  73\n",
      "6  79  77.0  73\n",
      "Table name: Humidity (%)\n",
      "   Max   Avg Min\n",
      "0   94  82.7  66\n",
      "1   94  82.0  62\n",
      "2   94  84.6  59\n",
      "3  100  90.3  74\n",
      "4   94  80.5  62\n",
      "5   94  76.7  55\n",
      "6  100  77.1  52\n",
      "Table name: Wind Speed (mph)\n",
      "  Max  Avg Min\n",
      "0  22  7.9   0\n",
      "1  15  6.4   0\n",
      "2  17  7.0   2\n",
      "3  16  5.0   0\n",
      "4  15  8.9   2\n",
      "5  12  4.8   1\n",
      "6  13  5.3   0\n",
      "Table name: Pressure (in)\n",
      "    Max   Avg   Min\n",
      "0  29.8  29.7  29.7\n",
      "1  29.8  29.7  29.7\n",
      "2  29.8  29.7  29.6\n",
      "3  29.8  29.8  29.7\n",
      "4  29.9  29.8  29.7\n",
      "5  29.9  29.8  29.7\n",
      "6  29.8  29.8  29.7\n",
      "Table name: Precipitation (in)\n",
      "  Total\n",
      "0  0.00\n",
      "1  0.00\n",
      "2  0.00\n",
      "3  0.00\n",
      "4  0.00\n",
      "5  0.00\n",
      "6  0.00\n"
     ]
    }
   ],
   "source": [
    "from selenium.webdriver.common.by import By\n",
    "\n",
    "table = driver.find_element(By.XPATH, \"//table[@aria-labelledby='History days']\")\n",
    "\n",
    "column_names = [i.text for i in table.find_elements(By.XPATH, './thead/tr/td')]\n",
    "\n",
    "body = table.find_elements(By.XPATH, \"./tbody/tr/td/table\")\n",
    "\n",
    "output = {}\n",
    "for e, b in enumerate(body):\n",
    "    column_name = column_names[e]\n",
    "    sub_column_names = ([i.text for i in b.find_elements(By.XPATH, \"./tr[1]/td\")])\n",
    "    values = [i.text.split() for i in b.find_elements(By.XPATH, \"./tr[position() > 1]\")]\n",
    "    print(f\"Table name: {column_name}\")\n",
    "    print(pd.DataFrame(values, columns=sub_column_names))"
   ]
  }
 ],
 "metadata": {
  "kernelspec": {
   "display_name": "Python 3 (ipykernel)",
   "language": "python",
   "name": "python3"
  },
  "language_info": {
   "codemirror_mode": {
    "name": "ipython",
    "version": 3
   },
   "file_extension": ".py",
   "mimetype": "text/x-python",
   "name": "python",
   "nbconvert_exporter": "python",
   "pygments_lexer": "ipython3",
   "version": "3.9.11"
  }
 },
 "nbformat": 4,
 "nbformat_minor": 5
}

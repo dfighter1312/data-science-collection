{
 "cells": [
  {
   "cell_type": "code",
   "execution_count": 1,
   "id": "0fd809da",
   "metadata": {
    "papermill": {
     "duration": 3.811064,
     "end_time": "2023-05-13T16:16:21.004836",
     "exception": false,
     "start_time": "2023-05-13T16:16:17.193772",
     "status": "completed"
    },
    "tags": []
   },
   "outputs": [],
   "source": [
    "import pandas as pd\n",
    "import numpy as np\n",
    "import seaborn as sns\n",
    "import matplotlib.pyplot as plt\n",
    "\n",
    "from sklearn.model_selection import KFold\n",
    "from catboost import CatBoostRegressor\n",
    "from sklearn.neighbors import KNeighborsRegressor\n",
    "from sklearn.linear_model import LinearRegression\n",
    "from sklearn.ensemble import VotingRegressor\n",
    "from sklearn.ensemble import RandomForestRegressor, ExtraTreesRegressor\n",
    "\n",
    "from sklearn.metrics import mean_absolute_error\n",
    "from sklearn.preprocessing import StandardScaler, MinMaxScaler"
   ]
  },
  {
   "cell_type": "code",
   "execution_count": 2,
   "id": "59379888",
   "metadata": {
    "papermill": {
     "duration": 0.15199,
     "end_time": "2023-05-13T16:16:21.166247",
     "exception": false,
     "start_time": "2023-05-13T16:16:21.014257",
     "status": "completed"
    },
    "tags": []
   },
   "outputs": [],
   "source": [
    "train = pd.read_csv('../data/train.csv')\n",
    "train = train.drop(['id'], axis=1)"
   ]
  },
  {
   "cell_type": "code",
   "execution_count": 3,
   "id": "5fba415f",
   "metadata": {
    "papermill": {
     "duration": 0.055614,
     "end_time": "2023-05-13T16:16:21.233545",
     "exception": false,
     "start_time": "2023-05-13T16:16:21.177931",
     "status": "completed"
    },
    "tags": []
   },
   "outputs": [
    {
     "data": {
      "text/html": [
       "<div>\n",
       "<style scoped>\n",
       "    .dataframe tbody tr th:only-of-type {\n",
       "        vertical-align: middle;\n",
       "    }\n",
       "\n",
       "    .dataframe tbody tr th {\n",
       "        vertical-align: top;\n",
       "    }\n",
       "\n",
       "    .dataframe thead th {\n",
       "        text-align: right;\n",
       "    }\n",
       "</style>\n",
       "<table border=\"1\" class=\"dataframe\">\n",
       "  <thead>\n",
       "    <tr style=\"text-align: right;\">\n",
       "      <th></th>\n",
       "      <th>clonesize</th>\n",
       "      <th>honeybee</th>\n",
       "      <th>bumbles</th>\n",
       "      <th>andrena</th>\n",
       "      <th>osmia</th>\n",
       "      <th>MaxOfUpperTRange</th>\n",
       "      <th>MinOfUpperTRange</th>\n",
       "      <th>AverageOfUpperTRange</th>\n",
       "      <th>MaxOfLowerTRange</th>\n",
       "      <th>MinOfLowerTRange</th>\n",
       "      <th>AverageOfLowerTRange</th>\n",
       "      <th>RainingDays</th>\n",
       "      <th>AverageRainingDays</th>\n",
       "      <th>fruitset</th>\n",
       "      <th>fruitmass</th>\n",
       "      <th>seeds</th>\n",
       "      <th>yield</th>\n",
       "    </tr>\n",
       "  </thead>\n",
       "  <tbody>\n",
       "    <tr>\n",
       "      <th>0</th>\n",
       "      <td>25.0</td>\n",
       "      <td>0.50</td>\n",
       "      <td>0.25</td>\n",
       "      <td>0.75</td>\n",
       "      <td>0.50</td>\n",
       "      <td>69.7</td>\n",
       "      <td>42.1</td>\n",
       "      <td>58.2</td>\n",
       "      <td>50.2</td>\n",
       "      <td>24.3</td>\n",
       "      <td>41.2</td>\n",
       "      <td>24.0</td>\n",
       "      <td>0.39</td>\n",
       "      <td>0.425011</td>\n",
       "      <td>0.417545</td>\n",
       "      <td>32.460887</td>\n",
       "      <td>4476.81146</td>\n",
       "    </tr>\n",
       "    <tr>\n",
       "      <th>1</th>\n",
       "      <td>25.0</td>\n",
       "      <td>0.50</td>\n",
       "      <td>0.25</td>\n",
       "      <td>0.50</td>\n",
       "      <td>0.50</td>\n",
       "      <td>69.7</td>\n",
       "      <td>42.1</td>\n",
       "      <td>58.2</td>\n",
       "      <td>50.2</td>\n",
       "      <td>24.3</td>\n",
       "      <td>41.2</td>\n",
       "      <td>24.0</td>\n",
       "      <td>0.39</td>\n",
       "      <td>0.444908</td>\n",
       "      <td>0.422051</td>\n",
       "      <td>33.858317</td>\n",
       "      <td>5548.12201</td>\n",
       "    </tr>\n",
       "    <tr>\n",
       "      <th>2</th>\n",
       "      <td>12.5</td>\n",
       "      <td>0.25</td>\n",
       "      <td>0.25</td>\n",
       "      <td>0.63</td>\n",
       "      <td>0.63</td>\n",
       "      <td>86.0</td>\n",
       "      <td>52.0</td>\n",
       "      <td>71.9</td>\n",
       "      <td>62.0</td>\n",
       "      <td>30.0</td>\n",
       "      <td>50.8</td>\n",
       "      <td>24.0</td>\n",
       "      <td>0.39</td>\n",
       "      <td>0.552927</td>\n",
       "      <td>0.470853</td>\n",
       "      <td>38.341781</td>\n",
       "      <td>6869.77760</td>\n",
       "    </tr>\n",
       "    <tr>\n",
       "      <th>3</th>\n",
       "      <td>12.5</td>\n",
       "      <td>0.25</td>\n",
       "      <td>0.25</td>\n",
       "      <td>0.63</td>\n",
       "      <td>0.50</td>\n",
       "      <td>77.4</td>\n",
       "      <td>46.8</td>\n",
       "      <td>64.7</td>\n",
       "      <td>55.8</td>\n",
       "      <td>27.0</td>\n",
       "      <td>45.8</td>\n",
       "      <td>24.0</td>\n",
       "      <td>0.39</td>\n",
       "      <td>0.565976</td>\n",
       "      <td>0.478137</td>\n",
       "      <td>39.467561</td>\n",
       "      <td>6880.77590</td>\n",
       "    </tr>\n",
       "    <tr>\n",
       "      <th>4</th>\n",
       "      <td>25.0</td>\n",
       "      <td>0.50</td>\n",
       "      <td>0.25</td>\n",
       "      <td>0.63</td>\n",
       "      <td>0.63</td>\n",
       "      <td>77.4</td>\n",
       "      <td>46.8</td>\n",
       "      <td>64.7</td>\n",
       "      <td>55.8</td>\n",
       "      <td>27.0</td>\n",
       "      <td>45.8</td>\n",
       "      <td>24.0</td>\n",
       "      <td>0.39</td>\n",
       "      <td>0.579677</td>\n",
       "      <td>0.494165</td>\n",
       "      <td>40.484512</td>\n",
       "      <td>7479.93417</td>\n",
       "    </tr>\n",
       "  </tbody>\n",
       "</table>\n",
       "</div>"
      ],
      "text/plain": [
       "   clonesize  honeybee  bumbles  andrena  osmia  MaxOfUpperTRange  \\\n",
       "0       25.0      0.50     0.25     0.75   0.50              69.7   \n",
       "1       25.0      0.50     0.25     0.50   0.50              69.7   \n",
       "2       12.5      0.25     0.25     0.63   0.63              86.0   \n",
       "3       12.5      0.25     0.25     0.63   0.50              77.4   \n",
       "4       25.0      0.50     0.25     0.63   0.63              77.4   \n",
       "\n",
       "   MinOfUpperTRange  AverageOfUpperTRange  MaxOfLowerTRange  MinOfLowerTRange  \\\n",
       "0              42.1                  58.2              50.2              24.3   \n",
       "1              42.1                  58.2              50.2              24.3   \n",
       "2              52.0                  71.9              62.0              30.0   \n",
       "3              46.8                  64.7              55.8              27.0   \n",
       "4              46.8                  64.7              55.8              27.0   \n",
       "\n",
       "   AverageOfLowerTRange  RainingDays  AverageRainingDays  fruitset  fruitmass  \\\n",
       "0                  41.2         24.0                0.39  0.425011   0.417545   \n",
       "1                  41.2         24.0                0.39  0.444908   0.422051   \n",
       "2                  50.8         24.0                0.39  0.552927   0.470853   \n",
       "3                  45.8         24.0                0.39  0.565976   0.478137   \n",
       "4                  45.8         24.0                0.39  0.579677   0.494165   \n",
       "\n",
       "       seeds       yield  \n",
       "0  32.460887  4476.81146  \n",
       "1  33.858317  5548.12201  \n",
       "2  38.341781  6869.77760  \n",
       "3  39.467561  6880.77590  \n",
       "4  40.484512  7479.93417  "
      ]
     },
     "execution_count": 3,
     "metadata": {},
     "output_type": "execute_result"
    }
   ],
   "source": [
    "train.head()"
   ]
  },
  {
   "cell_type": "code",
   "execution_count": 4,
   "id": "61ac05fd",
   "metadata": {
    "papermill": {
     "duration": 0.021231,
     "end_time": "2023-05-13T16:16:21.264348",
     "exception": false,
     "start_time": "2023-05-13T16:16:21.243117",
     "status": "completed"
    },
    "tags": []
   },
   "outputs": [],
   "source": [
    "train[\"fruit_seed\"] = train[\"fruitset\"] * train[\"seeds\"]"
   ]
  },
  {
   "cell_type": "code",
   "execution_count": 5,
   "id": "9978797a",
   "metadata": {
    "papermill": {
     "duration": 0.061779,
     "end_time": "2023-05-13T16:16:21.584199",
     "exception": false,
     "start_time": "2023-05-13T16:16:21.522420",
     "status": "completed"
    },
    "tags": []
   },
   "outputs": [
    {
     "name": "stdout",
     "output_type": "stream",
     "text": [
      "Train duplicates: 14\n"
     ]
    }
   ],
   "source": [
    "print(\"Train duplicates:\", sum(train.drop(columns = ['yield']).duplicated()))\n",
    "train = train.drop_duplicates()"
   ]
  },
  {
   "cell_type": "markdown",
   "id": "ef5b57f8",
   "metadata": {
    "papermill": {
     "duration": 0.010004,
     "end_time": "2023-05-13T16:16:21.604922",
     "exception": false,
     "start_time": "2023-05-13T16:16:21.594918",
     "status": "completed"
    },
    "tags": []
   },
   "source": [
    "## EDA"
   ]
  },
  {
   "cell_type": "code",
   "execution_count": 6,
   "id": "97dd5128",
   "metadata": {
    "papermill": {
     "duration": 0.094153,
     "end_time": "2023-05-13T16:16:21.709384",
     "exception": false,
     "start_time": "2023-05-13T16:16:21.615231",
     "status": "completed"
    },
    "tags": []
   },
   "outputs": [
    {
     "data": {
      "text/html": [
       "<div>\n",
       "<style scoped>\n",
       "    .dataframe tbody tr th:only-of-type {\n",
       "        vertical-align: middle;\n",
       "    }\n",
       "\n",
       "    .dataframe tbody tr th {\n",
       "        vertical-align: top;\n",
       "    }\n",
       "\n",
       "    .dataframe thead th {\n",
       "        text-align: right;\n",
       "    }\n",
       "</style>\n",
       "<table border=\"1\" class=\"dataframe\">\n",
       "  <thead>\n",
       "    <tr style=\"text-align: right;\">\n",
       "      <th></th>\n",
       "      <th>count</th>\n",
       "      <th>mean</th>\n",
       "      <th>std</th>\n",
       "      <th>min</th>\n",
       "      <th>25%</th>\n",
       "      <th>50%</th>\n",
       "      <th>75%</th>\n",
       "      <th>max</th>\n",
       "    </tr>\n",
       "  </thead>\n",
       "  <tbody>\n",
       "    <tr>\n",
       "      <th>clonesize</th>\n",
       "      <td>15282.0</td>\n",
       "      <td>19.703082</td>\n",
       "      <td>6.592528</td>\n",
       "      <td>10.000000</td>\n",
       "      <td>12.500000</td>\n",
       "      <td>25.000000</td>\n",
       "      <td>25.000000</td>\n",
       "      <td>40.000000</td>\n",
       "    </tr>\n",
       "    <tr>\n",
       "      <th>honeybee</th>\n",
       "      <td>15282.0</td>\n",
       "      <td>0.389280</td>\n",
       "      <td>0.361695</td>\n",
       "      <td>0.000000</td>\n",
       "      <td>0.250000</td>\n",
       "      <td>0.500000</td>\n",
       "      <td>0.500000</td>\n",
       "      <td>18.430000</td>\n",
       "    </tr>\n",
       "    <tr>\n",
       "      <th>bumbles</th>\n",
       "      <td>15282.0</td>\n",
       "      <td>0.286768</td>\n",
       "      <td>0.059917</td>\n",
       "      <td>0.000000</td>\n",
       "      <td>0.250000</td>\n",
       "      <td>0.250000</td>\n",
       "      <td>0.380000</td>\n",
       "      <td>0.585000</td>\n",
       "    </tr>\n",
       "    <tr>\n",
       "      <th>andrena</th>\n",
       "      <td>15282.0</td>\n",
       "      <td>0.492704</td>\n",
       "      <td>0.148102</td>\n",
       "      <td>0.000000</td>\n",
       "      <td>0.380000</td>\n",
       "      <td>0.500000</td>\n",
       "      <td>0.630000</td>\n",
       "      <td>0.750000</td>\n",
       "    </tr>\n",
       "    <tr>\n",
       "      <th>osmia</th>\n",
       "      <td>15282.0</td>\n",
       "      <td>0.592373</td>\n",
       "      <td>0.139446</td>\n",
       "      <td>0.000000</td>\n",
       "      <td>0.500000</td>\n",
       "      <td>0.630000</td>\n",
       "      <td>0.750000</td>\n",
       "      <td>0.750000</td>\n",
       "    </tr>\n",
       "    <tr>\n",
       "      <th>MaxOfUpperTRange</th>\n",
       "      <td>15282.0</td>\n",
       "      <td>82.169762</td>\n",
       "      <td>9.147368</td>\n",
       "      <td>69.700000</td>\n",
       "      <td>77.400000</td>\n",
       "      <td>86.000000</td>\n",
       "      <td>86.000000</td>\n",
       "      <td>94.600000</td>\n",
       "    </tr>\n",
       "    <tr>\n",
       "      <th>MinOfUpperTRange</th>\n",
       "      <td>15282.0</td>\n",
       "      <td>49.673204</td>\n",
       "      <td>5.546810</td>\n",
       "      <td>39.000000</td>\n",
       "      <td>46.800000</td>\n",
       "      <td>52.000000</td>\n",
       "      <td>52.000000</td>\n",
       "      <td>57.200000</td>\n",
       "    </tr>\n",
       "    <tr>\n",
       "      <th>AverageOfUpperTRange</th>\n",
       "      <td>15282.0</td>\n",
       "      <td>68.656144</td>\n",
       "      <td>7.642362</td>\n",
       "      <td>58.200000</td>\n",
       "      <td>64.700000</td>\n",
       "      <td>71.900000</td>\n",
       "      <td>71.900000</td>\n",
       "      <td>79.000000</td>\n",
       "    </tr>\n",
       "    <tr>\n",
       "      <th>MaxOfLowerTRange</th>\n",
       "      <td>15282.0</td>\n",
       "      <td>59.229446</td>\n",
       "      <td>6.611121</td>\n",
       "      <td>50.200000</td>\n",
       "      <td>55.800000</td>\n",
       "      <td>62.000000</td>\n",
       "      <td>62.000000</td>\n",
       "      <td>68.200000</td>\n",
       "    </tr>\n",
       "    <tr>\n",
       "      <th>MinOfLowerTRange</th>\n",
       "      <td>15282.0</td>\n",
       "      <td>28.660509</td>\n",
       "      <td>3.195599</td>\n",
       "      <td>24.300000</td>\n",
       "      <td>27.000000</td>\n",
       "      <td>30.000000</td>\n",
       "      <td>30.000000</td>\n",
       "      <td>33.000000</td>\n",
       "    </tr>\n",
       "    <tr>\n",
       "      <th>AverageOfLowerTRange</th>\n",
       "      <td>15282.0</td>\n",
       "      <td>48.568427</td>\n",
       "      <td>5.390940</td>\n",
       "      <td>41.200000</td>\n",
       "      <td>45.800000</td>\n",
       "      <td>50.800000</td>\n",
       "      <td>50.800000</td>\n",
       "      <td>55.900000</td>\n",
       "    </tr>\n",
       "    <tr>\n",
       "      <th>RainingDays</th>\n",
       "      <td>15282.0</td>\n",
       "      <td>18.660513</td>\n",
       "      <td>11.656480</td>\n",
       "      <td>1.000000</td>\n",
       "      <td>16.000000</td>\n",
       "      <td>16.000000</td>\n",
       "      <td>24.000000</td>\n",
       "      <td>34.000000</td>\n",
       "    </tr>\n",
       "    <tr>\n",
       "      <th>AverageRainingDays</th>\n",
       "      <td>15282.0</td>\n",
       "      <td>0.324168</td>\n",
       "      <td>0.163887</td>\n",
       "      <td>0.060000</td>\n",
       "      <td>0.260000</td>\n",
       "      <td>0.260000</td>\n",
       "      <td>0.390000</td>\n",
       "      <td>0.560000</td>\n",
       "    </tr>\n",
       "    <tr>\n",
       "      <th>fruitset</th>\n",
       "      <td>15282.0</td>\n",
       "      <td>0.502753</td>\n",
       "      <td>0.074351</td>\n",
       "      <td>0.192732</td>\n",
       "      <td>0.458246</td>\n",
       "      <td>0.506473</td>\n",
       "      <td>0.560445</td>\n",
       "      <td>0.652144</td>\n",
       "    </tr>\n",
       "    <tr>\n",
       "      <th>fruitmass</th>\n",
       "      <td>15282.0</td>\n",
       "      <td>0.446555</td>\n",
       "      <td>0.037019</td>\n",
       "      <td>0.311921</td>\n",
       "      <td>0.419216</td>\n",
       "      <td>0.446570</td>\n",
       "      <td>0.474134</td>\n",
       "      <td>0.535660</td>\n",
       "    </tr>\n",
       "    <tr>\n",
       "      <th>seeds</th>\n",
       "      <td>15282.0</td>\n",
       "      <td>36.165176</td>\n",
       "      <td>4.029179</td>\n",
       "      <td>22.079199</td>\n",
       "      <td>33.232449</td>\n",
       "      <td>36.040675</td>\n",
       "      <td>39.158238</td>\n",
       "      <td>46.585105</td>\n",
       "    </tr>\n",
       "    <tr>\n",
       "      <th>yield</th>\n",
       "      <td>15282.0</td>\n",
       "      <td>6025.329057</td>\n",
       "      <td>1336.479361</td>\n",
       "      <td>1945.530610</td>\n",
       "      <td>5128.163510</td>\n",
       "      <td>6117.475900</td>\n",
       "      <td>7019.694380</td>\n",
       "      <td>8969.401840</td>\n",
       "    </tr>\n",
       "    <tr>\n",
       "      <th>fruit_seed</th>\n",
       "      <td>15282.0</td>\n",
       "      <td>18.460599</td>\n",
       "      <td>4.587874</td>\n",
       "      <td>5.680192</td>\n",
       "      <td>15.137850</td>\n",
       "      <td>18.377744</td>\n",
       "      <td>21.744327</td>\n",
       "      <td>30.239494</td>\n",
       "    </tr>\n",
       "  </tbody>\n",
       "</table>\n",
       "</div>"
      ],
      "text/plain": [
       "                        count         mean          std          min  \\\n",
       "clonesize             15282.0    19.703082     6.592528    10.000000   \n",
       "honeybee              15282.0     0.389280     0.361695     0.000000   \n",
       "bumbles               15282.0     0.286768     0.059917     0.000000   \n",
       "andrena               15282.0     0.492704     0.148102     0.000000   \n",
       "osmia                 15282.0     0.592373     0.139446     0.000000   \n",
       "MaxOfUpperTRange      15282.0    82.169762     9.147368    69.700000   \n",
       "MinOfUpperTRange      15282.0    49.673204     5.546810    39.000000   \n",
       "AverageOfUpperTRange  15282.0    68.656144     7.642362    58.200000   \n",
       "MaxOfLowerTRange      15282.0    59.229446     6.611121    50.200000   \n",
       "MinOfLowerTRange      15282.0    28.660509     3.195599    24.300000   \n",
       "AverageOfLowerTRange  15282.0    48.568427     5.390940    41.200000   \n",
       "RainingDays           15282.0    18.660513    11.656480     1.000000   \n",
       "AverageRainingDays    15282.0     0.324168     0.163887     0.060000   \n",
       "fruitset              15282.0     0.502753     0.074351     0.192732   \n",
       "fruitmass             15282.0     0.446555     0.037019     0.311921   \n",
       "seeds                 15282.0    36.165176     4.029179    22.079199   \n",
       "yield                 15282.0  6025.329057  1336.479361  1945.530610   \n",
       "fruit_seed            15282.0    18.460599     4.587874     5.680192   \n",
       "\n",
       "                              25%          50%          75%          max  \n",
       "clonesize               12.500000    25.000000    25.000000    40.000000  \n",
       "honeybee                 0.250000     0.500000     0.500000    18.430000  \n",
       "bumbles                  0.250000     0.250000     0.380000     0.585000  \n",
       "andrena                  0.380000     0.500000     0.630000     0.750000  \n",
       "osmia                    0.500000     0.630000     0.750000     0.750000  \n",
       "MaxOfUpperTRange        77.400000    86.000000    86.000000    94.600000  \n",
       "MinOfUpperTRange        46.800000    52.000000    52.000000    57.200000  \n",
       "AverageOfUpperTRange    64.700000    71.900000    71.900000    79.000000  \n",
       "MaxOfLowerTRange        55.800000    62.000000    62.000000    68.200000  \n",
       "MinOfLowerTRange        27.000000    30.000000    30.000000    33.000000  \n",
       "AverageOfLowerTRange    45.800000    50.800000    50.800000    55.900000  \n",
       "RainingDays             16.000000    16.000000    24.000000    34.000000  \n",
       "AverageRainingDays       0.260000     0.260000     0.390000     0.560000  \n",
       "fruitset                 0.458246     0.506473     0.560445     0.652144  \n",
       "fruitmass                0.419216     0.446570     0.474134     0.535660  \n",
       "seeds                   33.232449    36.040675    39.158238    46.585105  \n",
       "yield                 5128.163510  6117.475900  7019.694380  8969.401840  \n",
       "fruit_seed              15.137850    18.377744    21.744327    30.239494  "
      ]
     },
     "execution_count": 6,
     "metadata": {},
     "output_type": "execute_result"
    }
   ],
   "source": [
    "train.describe().T"
   ]
  },
  {
   "cell_type": "code",
   "execution_count": 8,
   "id": "5935fd64",
   "metadata": {
    "papermill": {
     "duration": 0.035551,
     "end_time": "2023-05-13T16:16:21.854185",
     "exception": false,
     "start_time": "2023-05-13T16:16:21.818634",
     "status": "completed"
    },
    "tags": []
   },
   "outputs": [
    {
     "name": "stdout",
     "output_type": "stream",
     "text": [
      "<class 'pandas.core.frame.DataFrame'>\n",
      "Int64Index: 15282 entries, 0 to 15288\n",
      "Data columns (total 18 columns):\n",
      " #   Column                Non-Null Count  Dtype  \n",
      "---  ------                --------------  -----  \n",
      " 0   clonesize             15282 non-null  float64\n",
      " 1   honeybee              15282 non-null  float64\n",
      " 2   bumbles               15282 non-null  float64\n",
      " 3   andrena               15282 non-null  float64\n",
      " 4   osmia                 15282 non-null  float64\n",
      " 5   MaxOfUpperTRange      15282 non-null  float64\n",
      " 6   MinOfUpperTRange      15282 non-null  float64\n",
      " 7   AverageOfUpperTRange  15282 non-null  float64\n",
      " 8   MaxOfLowerTRange      15282 non-null  float64\n",
      " 9   MinOfLowerTRange      15282 non-null  float64\n",
      " 10  AverageOfLowerTRange  15282 non-null  float64\n",
      " 11  RainingDays           15282 non-null  float64\n",
      " 12  AverageRainingDays    15282 non-null  float64\n",
      " 13  fruitset              15282 non-null  float64\n",
      " 14  fruitmass             15282 non-null  float64\n",
      " 15  seeds                 15282 non-null  float64\n",
      " 16  yield                 15282 non-null  float64\n",
      " 17  fruit_seed            15282 non-null  float64\n",
      "dtypes: float64(18)\n",
      "memory usage: 2.2 MB\n"
     ]
    }
   ],
   "source": [
    "train.info()"
   ]
  },
  {
   "cell_type": "code",
   "execution_count": 9,
   "id": "668e5295",
   "metadata": {
    "papermill": {
     "duration": 0.527725,
     "end_time": "2023-05-13T16:16:22.433111",
     "exception": false,
     "start_time": "2023-05-13T16:16:21.905386",
     "status": "completed"
    },
    "tags": []
   },
   "outputs": [
    {
     "data": {
      "text/plain": [
       "Text(0.5, 1.0, 'Yield distribution')"
      ]
     },
     "execution_count": 9,
     "metadata": {},
     "output_type": "execute_result"
    },
    {
     "data": {
      "image/png": "[encoded data removed]",
      "text/plain": [
       "<Figure size 1100x900 with 1 Axes>"
      ]
     },
     "metadata": {},
     "output_type": "display_data"
    }
   ],
   "source": [
    "f, ax = plt.subplots(figsize=(11, 9))\n",
    "sns.histplot(x=train['yield']).set_title('Yield distribution')"
   ]
  },
  {
   "cell_type": "code",
   "execution_count": 10,
   "id": "8e681968",
   "metadata": {
    "papermill": {
     "duration": 0.779713,
     "end_time": "2023-05-13T16:16:23.225186",
     "exception": false,
     "start_time": "2023-05-13T16:16:22.445473",
     "status": "completed"
    },
    "tags": []
   },
   "outputs": [
    {
     "data": {
      "text/plain": [
       "Text(0.5, 1.0, 'Correlation')"
      ]
     },
     "execution_count": 10,
     "metadata": {},
     "output_type": "execute_result"
    },
    {
     "data": {
      "image/png": "[encoded data removed]",
      "text/plain": [
       "<Figure size 1100x900 with 2 Axes>"
      ]
     },
     "metadata": {},
     "output_type": "display_data"
    }
   ],
   "source": [
    "f, ax = plt.subplots(figsize=(11, 9))\n",
    "mask = np.triu(np.ones_like(train.corr(), dtype=bool))\n",
    "sns.heatmap(train.corr(), cmap='viridis', mask=mask).set_title('Correlation')"
   ]
  },
  {
   "cell_type": "markdown",
   "id": "19dcff6f",
   "metadata": {
    "papermill": {
     "duration": 0.013472,
     "end_time": "2023-05-13T16:16:23.252259",
     "exception": false,
     "start_time": "2023-05-13T16:16:23.238787",
     "status": "completed"
    },
    "tags": []
   },
   "source": [
    "## Models"
   ]
  },
  {
   "cell_type": "code",
   "execution_count": 12,
   "id": "1d7d0d75",
   "metadata": {
    "papermill": {
     "duration": 0.037861,
     "end_time": "2023-05-13T16:16:23.303791",
     "exception": false,
     "start_time": "2023-05-13T16:16:23.265930",
     "status": "completed"
    },
    "tags": []
   },
   "outputs": [],
   "source": [
    "cv = KFold(n_splits=10, random_state=42, shuffle=True)\n",
    "X = train.copy()\n",
    "y = X.pop('yield')\n",
    "\n",
    "sc = StandardScaler()\n",
    "X = sc.fit_transform(X)\n",
    "# test = sc.transform(test)\n",
    "\n",
    "unique_targets = np.sort(y.unique())"
   ]
  },
  {
   "cell_type": "code",
   "execution_count": 13,
   "id": "c2c7094c",
   "metadata": {
    "papermill": {
     "duration": 0.025785,
     "end_time": "2023-05-13T16:16:23.343825",
     "exception": false,
     "start_time": "2023-05-13T16:16:23.318040",
     "status": "completed"
    },
    "tags": []
   },
   "outputs": [],
   "source": [
    "def find_closest_value(sorted_list, values):\n",
    "    indices = np.searchsorted(sorted_list, values, side='left')\n",
    "    closest_values = np.zeros_like(values)\n",
    "    \n",
    "    for i, index in enumerate(indices):\n",
    "        if index == 0:\n",
    "            closest_values[i] = sorted_list[0]\n",
    "        elif index == len(sorted_list):\n",
    "            closest_values[i] = sorted_list[-1]\n",
    "        else:\n",
    "            left_diff = values[i] - sorted_list[index-1]\n",
    "            right_diff = sorted_list[index] - values[i]\n",
    "            \n",
    "            if left_diff < right_diff:\n",
    "                closest_values[i] = sorted_list[index-1]\n",
    "            else:\n",
    "                closest_values[i] = sorted_list[index]\n",
    "    \n",
    "    return closest_values"
   ]
  },
  {
   "cell_type": "code",
   "execution_count": 14,
   "id": "2b9a4057",
   "metadata": {
    "papermill": {
     "duration": 0.029179,
     "end_time": "2023-05-13T16:16:23.386614",
     "exception": false,
     "start_time": "2023-05-13T16:16:23.357435",
     "status": "completed"
    },
    "tags": []
   },
   "outputs": [],
   "source": [
    "def cross_val_score(model, unique_targets=None, cv = cv, label = ''):\n",
    "    \n",
    "    X = train.copy()\n",
    "    y = X.pop('yield')\n",
    "    \n",
    "    #initiate prediction arrays and score lists\n",
    "    val_predictions = np.zeros((len(train)))\n",
    "    train_predictions = np.zeros((len(train)))\n",
    "    train_mae, val_mae = [], []\n",
    "    \n",
    "    #training model, predicting prognosis probability, and evaluating log loss\n",
    "    for fold, (train_idx, val_idx) in enumerate(cv.split(X, y)):\n",
    "        \n",
    "        model.fit(X.iloc[train_idx], y.iloc[train_idx])\n",
    "\n",
    "        train_preds = model.predict(X.iloc[train_idx])\n",
    "        val_preds = model.predict(X.iloc[val_idx])\n",
    "        \n",
    "        if unique_targets:\n",
    "            train_preds = find_closest_value(unique_targets, train_preds)\n",
    "            val_preds = find_closest_value(unique_targets, val_preds)\n",
    "                  \n",
    "        train_predictions[train_idx] += train_preds\n",
    "        val_predictions[val_idx] += val_preds\n",
    "        \n",
    "        train_score = mean_absolute_error(y.iloc[train_idx], train_preds)\n",
    "        val_score = mean_absolute_error(y.iloc[val_idx], val_preds)\n",
    "        \n",
    "        train_mae.append(train_score)\n",
    "        val_mae.append(val_score)\n",
    "    \n",
    "    print(f'Val MAE: {np.mean(val_mae):.5f} ± {np.std(val_mae):.5f} | Train MAE: {np.mean(train_mae):.5f} ± {np.std(train_mae):.5f} | {label}')\n",
    "    \n",
    "    return val_mae"
   ]
  },
  {
   "cell_type": "code",
   "execution_count": 15,
   "id": "4b51599f",
   "metadata": {
    "papermill": {
     "duration": 0.024232,
     "end_time": "2023-05-13T16:16:23.424829",
     "exception": false,
     "start_time": "2023-05-13T16:16:23.400597",
     "status": "completed"
    },
    "tags": []
   },
   "outputs": [],
   "source": [
    "rf_params = {\n",
    "    'n_estimators': 50,\n",
    "    'max_depth': 10,\n",
    "    'min_samples_leaf': 20,\n",
    "    'max_features': None,\n",
    "    'random_state': 42\n",
    "}\n",
    "\n",
    "cb_params = {\n",
    "    'n_estimators': 250,\n",
    "    'depth': 10,\n",
    "    'learning_rate': 0.09,\n",
    "    'random_strength': 0.2,\n",
    "    'grow_policy': 'Lossguide',\n",
    "    'bootstrap_type': 'Bayesian',\n",
    "    'eval_metric': 'MAE',\n",
    "    'loss_function': 'MAE',\n",
    "    'random_state': 42,\n",
    "    'silent': True\n",
    "}"
   ]
  },
  {
   "cell_type": "code",
   "execution_count": 17,
   "id": "359f9a9d",
   "metadata": {
    "papermill": {
     "duration": 0.025886,
     "end_time": "2023-05-13T16:16:23.464412",
     "exception": false,
     "start_time": "2023-05-13T16:16:23.438526",
     "status": "completed"
    },
    "tags": []
   },
   "outputs": [],
   "source": [
    "models = [\n",
    "    ('rf', RandomForestRegressor(**rf_params)),\n",
    "    ('cb', CatBoostRegressor(**cb_params)),\n",
    "]"
   ]
  },
  {
   "cell_type": "code",
   "execution_count": 18,
   "id": "f00c2759",
   "metadata": {
    "papermill": {
     "duration": 53.815235,
     "end_time": "2023-05-13T16:17:17.293554",
     "exception": false,
     "start_time": "2023-05-13T16:16:23.478319",
     "status": "completed"
    },
    "tags": []
   },
   "outputs": [
    {
     "name": "stdout",
     "output_type": "stream",
     "text": [
      "Val MAE: 343.77213 ± 9.37767 | Train MAE: 313.56838 ± 1.05562 | Ensemble\n"
     ]
    }
   ],
   "source": [
    "voter = VotingRegressor(models)\n",
    "\n",
    "_ = cross_val_score(voter, label = 'Ensemble')"
   ]
  }
 ],
 "metadata": {
  "kernelspec": {
   "display_name": "Python 3 (ipykernel)",
   "language": "python",
   "name": "python3"
  },
  "language_info": {
   "codemirror_mode": {
    "name": "ipython",
    "version": 3
   },
   "file_extension": ".py",
   "mimetype": "text/x-python",
   "name": "python",
   "nbconvert_exporter": "python",
   "pygments_lexer": "ipython3",
   "version": "3.9.16"
  },
  "papermill": {
   "default_parameters": {},
   "duration": 79.491631,
   "end_time": "2023-05-13T16:17:24.143767",
   "environment_variables": {},
   "exception": null,
   "input_path": "__notebook__.ipynb",
   "output_path": "__notebook__.ipynb",
   "parameters": {},
   "start_time": "2023-05-13T16:16:04.652136",
   "version": "2.4.0"
  }
 },
 "nbformat": 4,
 "nbformat_minor": 5
}

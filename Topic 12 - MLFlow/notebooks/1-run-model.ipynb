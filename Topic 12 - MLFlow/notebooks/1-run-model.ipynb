{
 "cells": [
  {
   "cell_type": "code",
   "execution_count": 4,
   "id": "5029743a-7a96-4b1e-ba5c-ce2466c9e74a",
   "metadata": {},
   "outputs": [
    {
     "data": {
      "text/plain": [
       "array([4288.03807908, 5991.18418324, 7160.90768667, ..., 6422.23987323,\n",
       "       4423.41272292, 7275.78092192])"
      ]
     },
     "execution_count": 4,
     "metadata": {},
     "output_type": "execute_result"
    }
   ],
   "source": [
    "import os\n",
    "os.environ['MLFLOW_TRACKING_URI'] = 'sqlite:///mlflow.db'\n",
    "\n",
    "import mlflow\n",
    "logged_model = 'runs:/56c4a92a15b845aa8c1f4b65490ca228/sk_models'\n",
    "\n",
    "# Load model as a PyFuncModel.\n",
    "loaded_model = mlflow.sklearn.load_model(logged_model)\n",
    "\n",
    "# Predict on a Pandas DataFrame.\n",
    "import pandas as pd\n",
    "\n",
    "# Reading the test data & preprocessing\n",
    "data = pd.read_csv('../data/test.csv')\n",
    "data = data.drop(['id'], axis=1)\n",
    "data[\"fruit_seed\"] = data[\"fruitset\"] * data[\"seeds\"]\n",
    "\n",
    "loaded_model.predict(pd.DataFrame(data))"
   ]
  },
  {
   "cell_type": "code",
   "execution_count": 6,
   "id": "5e089fea-5e3c-4db2-b86f-d368118e5648",
   "metadata": {},
   "outputs": [
    {
     "data": {
      "text/plain": [
       "{'clonesize': 25.0,\n",
       " 'honeybee': 0.25,\n",
       " 'bumbles': 0.25,\n",
       " 'andrena': 0.25,\n",
       " 'osmia': 0.25,\n",
       " 'MaxOfUpperTRange': 86.0,\n",
       " 'MinOfUpperTRange': 52.0,\n",
       " 'AverageOfUpperTRange': 71.9,\n",
       " 'MaxOfLowerTRange': 62.0,\n",
       " 'MinOfLowerTRange': 30.0,\n",
       " 'AverageOfLowerTRange': 50.8,\n",
       " 'RainingDays': 24.0,\n",
       " 'AverageRainingDays': 0.39,\n",
       " 'fruitset': 0.39936701,\n",
       " 'fruitmass': 0.408088064,\n",
       " 'seeds': 31.39456852,\n",
       " 'fruit_seed': 12.537954960072526}"
      ]
     },
     "execution_count": 6,
     "metadata": {},
     "output_type": "execute_result"
    }
   ],
   "source": [
    "data.iloc[0].to_dict()"
   ]
  }
 ],
 "metadata": {
  "kernelspec": {
   "display_name": "Python 3 (ipykernel)",
   "language": "python",
   "name": "python3"
  },
  "language_info": {
   "codemirror_mode": {
    "name": "ipython",
    "version": 3
   },
   "file_extension": ".py",
   "mimetype": "text/x-python",
   "name": "python",
   "nbconvert_exporter": "python",
   "pygments_lexer": "ipython3",
   "version": "3.9.16"
  }
 },
 "nbformat": 4,
 "nbformat_minor": 5
}

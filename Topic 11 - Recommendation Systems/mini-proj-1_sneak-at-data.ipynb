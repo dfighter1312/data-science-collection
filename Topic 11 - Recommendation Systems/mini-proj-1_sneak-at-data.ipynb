{
 "cells": [
  {
   "cell_type": "markdown",
   "id": "14975f19-d2a7-467b-852c-c0c9096b7aa2",
   "metadata": {},
   "source": [
    "# Building a Recommendation System Mini-Project - Part 1: A sneak at data\n",
    "\n",
    "This notebook states an introduction on the objective, and description about the data we are working on, the Netflix Prize data (which can be accessed publicly [here](https://www.kaggle.com/datasets/netflix-inc/netflix-prize-data)).\n",
    "\n",
    "## Problem Statement\n",
    "\n",
    "We are attempting to build an a-bit-above-naive recommendation system which suggests users movies that the system belives users may take interested in.\n",
    "\n",
    "## Objective\n",
    "\n",
    "The business objective is to increase the average session time per user, number of subscriptions, and number of monthly active users. Sadly, we do not have a real application here, so let us take this as a reference only but not take it too seriously.\n",
    "\n",
    "## Data\n",
    "\n",
    "### Rating table\n",
    "\n",
    "The rating table is splited into 4 files `combined_data_*.txt` where `*` varies from 1 to 4 with the following format:\n",
    "\n",
    "```\n",
    "MovieID1:\n",
    "CustomerID11,Rating11,Date11\n",
    "CustomerID12,Rating12,Date12\n",
    "```"
   ]
  },
  {
   "cell_type": "code",
   "execution_count": 1,
   "id": "3f3321dc-408e-4214-b8ac-8c98d6f634a2",
   "metadata": {},
   "outputs": [],
   "source": [
    "# Import required libraries\n",
    "import pandas as pd\n",
    "import numpy as np\n",
    "import glob"
   ]
  },
  {
   "cell_type": "code",
   "execution_count": 2,
   "id": "7432ab74-f8f0-4e34-9a4f-1dfbdf059b36",
   "metadata": {},
   "outputs": [
    {
     "data": {
      "text/plain": [
       "['archive/combined_data_2.txt',\n",
       " 'archive/combined_data_3.txt',\n",
       " 'archive/combined_data_1.txt',\n",
       " 'archive/combined_data_4.txt']"
      ]
     },
     "execution_count": 2,
     "metadata": {},
     "output_type": "execute_result"
    }
   ],
   "source": [
    "rating_files = glob.glob('archive/combined_data_*.txt')\n",
    "rating_files"
   ]
  },
  {
   "cell_type": "code",
   "execution_count": 3,
   "id": "3ecc59b2-7205-46a0-994e-79a9f3ed0cb8",
   "metadata": {},
   "outputs": [
    {
     "data": {
      "text/html": [
       "<div>\n",
       "<style scoped>\n",
       "    .dataframe tbody tr th:only-of-type {\n",
       "        vertical-align: middle;\n",
       "    }\n",
       "\n",
       "    .dataframe tbody tr th {\n",
       "        vertical-align: top;\n",
       "    }\n",
       "\n",
       "    .dataframe thead th {\n",
       "        text-align: right;\n",
       "    }\n",
       "</style>\n",
       "<table border=\"1\" class=\"dataframe\">\n",
       "  <thead>\n",
       "    <tr style=\"text-align: right;\">\n",
       "      <th></th>\n",
       "      <th>customer_id</th>\n",
       "      <th>rating</th>\n",
       "      <th>date</th>\n",
       "    </tr>\n",
       "  </thead>\n",
       "  <tbody>\n",
       "    <tr>\n",
       "      <th>0</th>\n",
       "      <td>4500:</td>\n",
       "      <td>NaN</td>\n",
       "      <td>NaT</td>\n",
       "    </tr>\n",
       "    <tr>\n",
       "      <th>1</th>\n",
       "      <td>2532865</td>\n",
       "      <td>4.0</td>\n",
       "      <td>2005-07-26</td>\n",
       "    </tr>\n",
       "    <tr>\n",
       "      <th>2</th>\n",
       "      <td>573364</td>\n",
       "      <td>3.0</td>\n",
       "      <td>2005-06-20</td>\n",
       "    </tr>\n",
       "    <tr>\n",
       "      <th>3</th>\n",
       "      <td>1696725</td>\n",
       "      <td>3.0</td>\n",
       "      <td>2004-02-27</td>\n",
       "    </tr>\n",
       "    <tr>\n",
       "      <th>4</th>\n",
       "      <td>1253431</td>\n",
       "      <td>3.0</td>\n",
       "      <td>2004-03-31</td>\n",
       "    </tr>\n",
       "  </tbody>\n",
       "</table>\n",
       "</div>"
      ],
      "text/plain": [
       "  customer_id  rating       date\n",
       "0       4500:     NaN        NaT\n",
       "1     2532865     4.0 2005-07-26\n",
       "2      573364     3.0 2005-06-20\n",
       "3     1696725     3.0 2004-02-27\n",
       "4     1253431     3.0 2004-03-31"
      ]
     },
     "execution_count": 3,
     "metadata": {},
     "output_type": "execute_result"
    }
   ],
   "source": [
    "df_rating = pd.concat([pd.read_csv(\n",
    "    filename,\n",
    "    header=None,\n",
    "    names=['customer_id', 'rating', 'date'],\n",
    "    parse_dates=['date']\n",
    ") for filename in rating_files])\n",
    "df_rating.head()"
   ]
  },
  {
   "cell_type": "markdown",
   "id": "039a0a8c-9a98-4d87-bf52-1ad549247e24",
   "metadata": {},
   "source": [
    "We would like to convert this into the below format:\n",
    "\n",
    "```\n",
    "CustomerID11,Rating11,Date11,MovieID1\n",
    "CustomerID12,Rating12,Date12,MovieID1\n",
    "```"
   ]
  },
  {
   "cell_type": "code",
   "execution_count": 4,
   "id": "c57bba72-4d76-41ee-826d-51da76b14f6e",
   "metadata": {},
   "outputs": [
    {
     "data": {
      "text/html": [
       "<div>\n",
       "<style scoped>\n",
       "    .dataframe tbody tr th:only-of-type {\n",
       "        vertical-align: middle;\n",
       "    }\n",
       "\n",
       "    .dataframe tbody tr th {\n",
       "        vertical-align: top;\n",
       "    }\n",
       "\n",
       "    .dataframe thead th {\n",
       "        text-align: right;\n",
       "    }\n",
       "</style>\n",
       "<table border=\"1\" class=\"dataframe\">\n",
       "  <thead>\n",
       "    <tr style=\"text-align: right;\">\n",
       "      <th></th>\n",
       "      <th>customer_id</th>\n",
       "      <th>rating</th>\n",
       "      <th>date</th>\n",
       "      <th>movie_id</th>\n",
       "    </tr>\n",
       "  </thead>\n",
       "  <tbody>\n",
       "    <tr>\n",
       "      <th>1</th>\n",
       "      <td>2532865</td>\n",
       "      <td>4.0</td>\n",
       "      <td>2005-07-26</td>\n",
       "      <td>4500</td>\n",
       "    </tr>\n",
       "    <tr>\n",
       "      <th>2</th>\n",
       "      <td>573364</td>\n",
       "      <td>3.0</td>\n",
       "      <td>2005-06-20</td>\n",
       "      <td>4500</td>\n",
       "    </tr>\n",
       "    <tr>\n",
       "      <th>3</th>\n",
       "      <td>1696725</td>\n",
       "      <td>3.0</td>\n",
       "      <td>2004-02-27</td>\n",
       "      <td>4500</td>\n",
       "    </tr>\n",
       "    <tr>\n",
       "      <th>4</th>\n",
       "      <td>1253431</td>\n",
       "      <td>3.0</td>\n",
       "      <td>2004-03-31</td>\n",
       "      <td>4500</td>\n",
       "    </tr>\n",
       "    <tr>\n",
       "      <th>5</th>\n",
       "      <td>1265574</td>\n",
       "      <td>2.0</td>\n",
       "      <td>2003-09-01</td>\n",
       "      <td>4500</td>\n",
       "    </tr>\n",
       "  </tbody>\n",
       "</table>\n",
       "</div>"
      ],
      "text/plain": [
       "  customer_id  rating       date movie_id\n",
       "1     2532865     4.0 2005-07-26     4500\n",
       "2      573364     3.0 2005-06-20     4500\n",
       "3     1696725     3.0 2004-02-27     4500\n",
       "4     1253431     3.0 2004-03-31     4500\n",
       "5     1265574     2.0 2003-09-01     4500"
      ]
     },
     "execution_count": 4,
     "metadata": {},
     "output_type": "execute_result"
    }
   ],
   "source": [
    "df_rating['movie_id'] = np.where(df_rating['rating'].isna(), df_rating['customer_id'], np.nan)\n",
    "df_rating['movie_id'] = df_rating['movie_id'].str.split(':').str[0]\n",
    "df_rating['movie_id'] = df_rating['movie_id'].fillna(method='ffill')\n",
    "df_rating.dropna(subset=['rating', 'date'], inplace=True)\n",
    "df_rating.head()"
   ]
  },
  {
   "cell_type": "code",
   "execution_count": 5,
   "id": "eb354f32-0513-4f91-a523-e64f01282941",
   "metadata": {},
   "outputs": [
    {
     "name": "stdout",
     "output_type": "stream",
     "text": [
      "<class 'pandas.core.frame.DataFrame'>\n",
      "Int64Index: 100480507 entries, 1 to 26851925\n",
      "Data columns (total 4 columns):\n",
      " #   Column       Dtype         \n",
      "---  ------       -----         \n",
      " 0   customer_id  object        \n",
      " 1   rating       float64       \n",
      " 2   date         datetime64[ns]\n",
      " 3   movie_id     object        \n",
      "dtypes: datetime64[ns](1), float64(1), object(2)\n",
      "memory usage: 3.7+ GB\n"
     ]
    }
   ],
   "source": [
    "df_rating.info()"
   ]
  },
  {
   "cell_type": "code",
   "execution_count": 6,
   "id": "b2c4aaf5-a14a-431d-bb9d-0e1bdaef3957",
   "metadata": {},
   "outputs": [
    {
     "name": "stdout",
     "output_type": "stream",
     "text": [
      "<class 'pandas.core.frame.DataFrame'>\n",
      "Int64Index: 100480507 entries, 1 to 26851925\n",
      "Data columns (total 4 columns):\n",
      " #   Column       Dtype         \n",
      "---  ------       -----         \n",
      " 0   customer_id  int64         \n",
      " 1   rating       float64       \n",
      " 2   date         datetime64[ns]\n",
      " 3   movie_id     int64         \n",
      "dtypes: datetime64[ns](1), float64(1), int64(2)\n",
      "memory usage: 3.7 GB\n"
     ]
    }
   ],
   "source": [
    "# Convert customer_id and movie_id to numeric columns\n",
    "df_rating = df_rating.astype({\n",
    "    'customer_id': 'int',\n",
    "    'movie_id': 'int'\n",
    "})\n",
    "df_rating.info()"
   ]
  },
  {
   "cell_type": "code",
   "execution_count": 7,
   "id": "83b9baca-e87e-4b63-b351-93cf0ae86af2",
   "metadata": {},
   "outputs": [
    {
     "data": {
      "text/plain": [
       "customer_id    0\n",
       "rating         0\n",
       "date           0\n",
       "movie_id       0\n",
       "dtype: int64"
      ]
     },
     "execution_count": 7,
     "metadata": {},
     "output_type": "execute_result"
    }
   ],
   "source": [
    "df_rating.isna().sum()"
   ]
  },
  {
   "cell_type": "markdown",
   "id": "d8c95164-2ed9-492c-9541-13a34fbe92c8",
   "metadata": {},
   "source": [
    "### Movie table\n",
    "\n",
    "The movie table is contained in `movie_titles.csv`, with format `MovieID,YearOfRelease,Title`.\n",
    "\n",
    "We detected the errorneous circumstance in the data:\n",
    "- The encoding is not UTF-8, we have tried several encoding and `latin-1` works.\n",
    "- Titles containing commas were not wrapped by quotes.\n",
    "\n",
    "Therefore, we use the below code snippet to resolve the problem."
   ]
  },
  {
   "cell_type": "code",
   "execution_count": 8,
   "id": "b4ec6b1c-e9ba-4a18-8a17-98b8daf6cce1",
   "metadata": {},
   "outputs": [],
   "source": [
    "import csv\n",
    "\n",
    "# Specify the correct encoding\n",
    "encoding = 'latin-1'  # Update this if needed\n",
    "\n",
    "# Read the CSV file using the specified encoding\n",
    "with open('archive/movie_titles.csv', 'r', encoding=encoding) as infile:\n",
    "    # Check the file's dialect to determine the delimiter\n",
    "    dialect = csv.Sniffer().sniff(infile.read(1024))\n",
    "    infile.seek(0)  # Reset the file pointer\n",
    "\n",
    "    # Modify the CSV file to enclose movie titles with double quotes\n",
    "    with open('archive/modified_movie_titles.csv', 'w', newline='', encoding=encoding) as outfile:\n",
    "        reader = csv.reader(infile, dialect)\n",
    "        writer = csv.writer(outfile, delimiter=dialect.delimiter)\n",
    "        for row in reader:\n",
    "            if len(row) > 3:\n",
    "                # Assuming the movie title column is at index 2\n",
    "                row[2] = f'\"{row[2]}{dialect.delimiter} {row[3]}\"'\n",
    "            row = row[:3]\n",
    "            writer.writerow(row)"
   ]
  },
  {
   "cell_type": "code",
   "execution_count": 9,
   "id": "50ce2231-46c8-4565-be99-979395e99aa8",
   "metadata": {},
   "outputs": [
    {
     "data": {
      "text/html": [
       "<div>\n",
       "<style scoped>\n",
       "    .dataframe tbody tr th:only-of-type {\n",
       "        vertical-align: middle;\n",
       "    }\n",
       "\n",
       "    .dataframe tbody tr th {\n",
       "        vertical-align: top;\n",
       "    }\n",
       "\n",
       "    .dataframe thead th {\n",
       "        text-align: right;\n",
       "    }\n",
       "</style>\n",
       "<table border=\"1\" class=\"dataframe\">\n",
       "  <thead>\n",
       "    <tr style=\"text-align: right;\">\n",
       "      <th></th>\n",
       "      <th>movie_id</th>\n",
       "      <th>year_of_release</th>\n",
       "      <th>title</th>\n",
       "    </tr>\n",
       "  </thead>\n",
       "  <tbody>\n",
       "    <tr>\n",
       "      <th>0</th>\n",
       "      <td>1</td>\n",
       "      <td>2003-01-01</td>\n",
       "      <td>Dinosaur Planet</td>\n",
       "    </tr>\n",
       "    <tr>\n",
       "      <th>1</th>\n",
       "      <td>2</td>\n",
       "      <td>2004-01-01</td>\n",
       "      <td>Isle of Man TT 2004 Review</td>\n",
       "    </tr>\n",
       "    <tr>\n",
       "      <th>2</th>\n",
       "      <td>3</td>\n",
       "      <td>1997-01-01</td>\n",
       "      <td>Character</td>\n",
       "    </tr>\n",
       "    <tr>\n",
       "      <th>3</th>\n",
       "      <td>4</td>\n",
       "      <td>1994-01-01</td>\n",
       "      <td>Paula Abdul's Get Up &amp; Dance</td>\n",
       "    </tr>\n",
       "    <tr>\n",
       "      <th>4</th>\n",
       "      <td>5</td>\n",
       "      <td>2004-01-01</td>\n",
       "      <td>The Rise and Fall of ECW</td>\n",
       "    </tr>\n",
       "  </tbody>\n",
       "</table>\n",
       "</div>"
      ],
      "text/plain": [
       "   movie_id year_of_release                         title\n",
       "0         1      2003-01-01               Dinosaur Planet\n",
       "1         2      2004-01-01    Isle of Man TT 2004 Review\n",
       "2         3      1997-01-01                     Character\n",
       "3         4      1994-01-01  Paula Abdul's Get Up & Dance\n",
       "4         5      2004-01-01      The Rise and Fall of ECW"
      ]
     },
     "execution_count": 9,
     "metadata": {},
     "output_type": "execute_result"
    }
   ],
   "source": [
    "df_movies = pd.read_csv(\n",
    "    'archive/modified_movie_titles.csv',\n",
    "    header=None,\n",
    "    names=['movie_id', 'year_of_release', 'title'],\n",
    "    parse_dates=['year_of_release'],\n",
    "    encoding='latin-1'\n",
    ")\n",
    "df_movies.head()"
   ]
  },
  {
   "cell_type": "code",
   "execution_count": 10,
   "id": "60362eaa-982f-4ba8-8f6c-26e76799e388",
   "metadata": {},
   "outputs": [
    {
     "name": "stdout",
     "output_type": "stream",
     "text": [
      "<class 'pandas.core.frame.DataFrame'>\n",
      "RangeIndex: 17770 entries, 0 to 17769\n",
      "Data columns (total 3 columns):\n",
      " #   Column           Non-Null Count  Dtype         \n",
      "---  ------           --------------  -----         \n",
      " 0   movie_id         17770 non-null  int64         \n",
      " 1   year_of_release  17763 non-null  datetime64[ns]\n",
      " 2   title            17770 non-null  object        \n",
      "dtypes: datetime64[ns](1), int64(1), object(1)\n",
      "memory usage: 416.6+ KB\n"
     ]
    }
   ],
   "source": [
    "df_movies.info()"
   ]
  },
  {
   "cell_type": "code",
   "execution_count": 11,
   "id": "7398e777-6199-4699-ace1-5281ae36acaa",
   "metadata": {},
   "outputs": [],
   "source": [
    "# Export processed data into a new folder\n",
    "df_rating.to_csv('processed/user_ratings.csv', index=False)\n",
    "df_movies.to_csv('processed/movies.csv', index=False)"
   ]
  }
 ],
 "metadata": {
  "kernelspec": {
   "display_name": "Python 3 (ipykernel)",
   "language": "python",
   "name": "python3"
  },
  "language_info": {
   "codemirror_mode": {
    "name": "ipython",
    "version": 3
   },
   "file_extension": ".py",
   "mimetype": "text/x-python",
   "name": "python",
   "nbconvert_exporter": "python",
   "pygments_lexer": "ipython3",
   "version": "3.9.13"
  }
 },
 "nbformat": 4,
 "nbformat_minor": 5
}
